{
 "cells": [
  {
   "cell_type": "markdown",
   "metadata": {},
   "source": [
    "Here you have a collection of guided exercises for the first class on Python. <br>\n",
    "The exercises are divided by topic, following the topics reviewed during the theory session, and for each topic you have some mandatory exercises, and other optional exercises, which you are invited to do if you still have time after the mandatory exercises. <br>\n",
    "\n",
    "Remember that you have 5 hours to solve these exercises, after which we will review the most interesting exercises together. If you don't finish all the exercises, you can work on them tonightor tomorrow. \n",
    "\n",
    "At the end of the class, we will upload the code with the solutions of the exercises so that you can review them again if needed. If you still have not finished some exercises, try to do them first by yourself, before taking a look at the solutions: you are doing these exercises for yourself, so it is always the best to do them your way first, as it is the fastest way to learn!"
   ]
  },
  {
   "cell_type": "markdown",
   "metadata": {},
   "source": [
    "## From Part 1"
   ]
  },
  {
   "cell_type": "markdown",
   "metadata": {},
   "source": [
    "**Exercise 1.1:** The cover price of a book is 24.95 EUR, but bookstores get a 40 percent discount. Shipping costs 3 EUR for the first copy and 75 cents for each additional copy. Calculate the total wholesale costs for 60 copies. "
   ]
  },
  {
   "cell_type": "code",
   "execution_count": 8,
   "metadata": {},
   "outputs": [
    {
     "name": "stdout",
     "output_type": "stream",
     "text": [
      "Total wholesale costs for 60copies:  945.4499999999999\n",
      "945.4499999999999\n"
     ]
    }
   ],
   "source": [
    "#Your Code Here\n",
    "cover_price = 24.95\n",
    "discount = 0.40\n",
    "ship_cost = 3   #for first copy\n",
    "                #for next 0.75\n",
    "\n",
    "# 60 copies\n",
    "discounted_book = cover_price - (cover_price*discount)\n",
    "total_cost = (discounted_book+0.75)*59 + discounted_book+3\n",
    "\n",
    "print (\"Total wholesale costs for 60copies:\", total_cost)\n",
    "\n",
    "\n",
    "\n"
   ]
  },
  {
   "cell_type": "markdown",
   "metadata": {},
   "source": [
    "**Exercise 1.2:** When something is wrong with your code, Python will raise errors. Often these will be \"syntax errors\" that signal that something is wrong with the form of your code (e.g., the code in the previous exercise raised a `SyntaxError`). There are also \"runtime errors\", which signal that your code was in itself formally correct, but that something went wrong during the code's execution. A good example is the `ZeroDivisionError`, which indicates that you tried to divide a number by zero (which, as you may know, is not allowed). Try to make Python raise such a `ZeroDivisionError`."
   ]
  },
  {
   "cell_type": "code",
   "execution_count": 9,
   "metadata": {},
   "outputs": [
    {
     "ename": "ZeroDivisionError",
     "evalue": "division by zero",
     "output_type": "error",
     "traceback": [
      "\u001b[0;31m---------------------------------------------------------------------------\u001b[0m",
      "\u001b[0;31mZeroDivisionError\u001b[0m                         Traceback (most recent call last)",
      "\u001b[0;32m<ipython-input-9-d5d312b4fc3c>\u001b[0m in \u001b[0;36m<module>\u001b[0;34m\u001b[0m\n\u001b[1;32m      1\u001b[0m \u001b[0;31m#Your Code Here\u001b[0m\u001b[0;34m\u001b[0m\u001b[0;34m\u001b[0m\u001b[0;34m\u001b[0m\u001b[0m\n\u001b[0;32m----> 2\u001b[0;31m \u001b[0mprint\u001b[0m\u001b[0;34m(\u001b[0m\u001b[0;36m4\u001b[0m\u001b[0;34m/\u001b[0m\u001b[0;36m0\u001b[0m\u001b[0;34m)\u001b[0m\u001b[0;34m\u001b[0m\u001b[0;34m\u001b[0m\u001b[0m\n\u001b[0m",
      "\u001b[0;31mZeroDivisionError\u001b[0m: division by zero"
     ]
    }
   ],
   "source": [
    "#Your Code Here\n",
    "print(4/0)"
   ]
  },
  {
   "cell_type": "markdown",
   "metadata": {},
   "source": [
    "**Exercise 1.3 (🌶️):** You look at the clock and see that it is currently 14.00h. You set an alarm to go off 535 hours later. At what time will the alarm go off? Write a program that prints the answer. Hint: for the best solution, you will need the modulo operator. Second hint: The answer is 21.00h, but of course, this exercise is not about the answer, but about how you get it."
   ]
  },
  {
   "cell_type": "code",
   "execution_count": 15,
   "metadata": {},
   "outputs": [
    {
     "name": "stdout",
     "output_type": "stream",
     "text": [
      "21.00 h\n"
     ]
    }
   ],
   "source": [
    "#Your Code Here\n",
    "#we have to set an alarm to go off 535 hours later\n",
    "current_time = 14.00\n",
    "after_hours = 535\n",
    "#24 hourformat change\n",
    "temp1 = after_hours % 24\n",
    "\n",
    "after_hours_alarm = current_time + temp1\n",
    "\n",
    "print(\"{:.2f}\".format(after_hours_alarm),\"h\")\n",
    "#print(\"on\",\"{:.2f}\".format(after_hours_alarm),\"h the alarm go off:\")"
   ]
  },
  {
   "cell_type": "markdown",
   "metadata": {},
   "source": [
    "## From Part 4"
   ]
  },
  {
   "cell_type": "markdown",
   "metadata": {},
   "source": [
    "**Exercise 4.1 (🌶️🌶️):** Define a function that receives a string parameter, and returns an integer indicating the count for all the letters of the alphabet that there are in the string. The expected output format is in a **dictionary** with the relevant keys and values. The capital version of a lower case letter is considered to be the same letter.\n",
    "\n",
    "This should sound quite familiar, try to do it without looking at your old code ;)\n",
    "\n",
    "**What is the challenge?**: Don't code 27 times the same line of code, learn how to do things that scale well."
   ]
  },
  {
   "cell_type": "code",
   "execution_count": 132,
   "metadata": {},
   "outputs": [
    {
     "name": "stdout",
     "output_type": "stream",
     "text": [
      "{'S': 2, 't': 1, 'r': 1, 'i': 1, 'v': 1, 'e': 1, ' ': 1, 'c': 1, 'h': 1, 'o': 2, 'l': 1}\n"
     ]
    }
   ],
   "source": [
    "def count_string_letters(input_string):\n",
    "    frequencies = {}\n",
    "    for char in input_string:\n",
    "        if char in frequencies:\n",
    "            frequencies[char] += 1\n",
    "        else:\n",
    "            frequencies[char] = 1\n",
    "    return frequencies        \n",
    "    \n",
    "# Show Output\n",
    "input_string = \"Strive School\"\n",
    "print(count_string_letters(input_string))\n"
   ]
  },
  {
   "cell_type": "markdown",
   "metadata": {},
   "source": [
    "## From Part 5"
   ]
  },
  {
   "cell_type": "code",
   "execution_count": 19,
   "metadata": {},
   "outputs": [],
   "source": [
    "\n",
    "#\"\"\"\n",
    "#Commented text like this is given as the expected answer.\n",
    "#When running the cell, you will notice it renders it.\n",
    "#\n",
    "#Can you come up with a way to keep this in the cell but making sure the print ignores it?\n",
    "#\"\"\"\n",
    "\n",
    "\n",
    "#https://www.codecademy.com/forum_questions/505ba3cfc6addb000200e33c"
   ]
  },
  {
   "cell_type": "markdown",
   "metadata": {},
   "source": [
    "**Exercise 5.1**: Create a countdown function that starts at a certain count, and counts down to zero. Instead of zero, print \"Blast off!\". Use a `for` loop. \n",
    "\n"
   ]
  },
  {
   "cell_type": "code",
   "execution_count": 38,
   "metadata": {},
   "outputs": [
    {
     "name": "stdout",
     "output_type": "stream",
     "text": [
      "20\n",
      "19\n",
      "18\n",
      "17\n",
      "16\n",
      "15\n",
      "14\n",
      "13\n",
      "12\n",
      "11\n",
      "10\n",
      "9\n",
      "8\n",
      "7\n",
      "6\n",
      "5\n",
      "4\n",
      "3\n",
      "2\n",
      "1\n",
      "Blast off!\n"
     ]
    }
   ],
   "source": [
    "\"\"\"\n",
    "20\n",
    "19\n",
    "18\n",
    "17\n",
    "16\n",
    "15\n",
    "14\n",
    "13\n",
    "12\n",
    "11\n",
    "10\n",
    "9\n",
    "8\n",
    "7\n",
    "6\n",
    "5\n",
    "4\n",
    "3\n",
    "2\n",
    "1\n",
    "Blast off!\n",
    "\"\"\"\n",
    "# Countdown\n",
    "def countdown_func(maxval = 0):\n",
    "    for counter in range(maxval,-1,-1):\n",
    "        if counter == 0:\n",
    "            print(\"Blast off!\")\n",
    "        else:\n",
    "            print(counter)\n",
    "\n",
    "#count = 20\n",
    "#countdown_func(count)"
   ]
  },
  {
   "cell_type": "markdown",
   "metadata": {},
   "source": [
    "**Exercise 5.2:** Write and test three functions that return the largest, the smallest, and the number of dividables by 3 in a given collection of numbers. Use the algorithm described earlier in the Part 5 lecture :)\n",
    "\n"
   ]
  },
  {
   "cell_type": "code",
   "execution_count": 44,
   "metadata": {
    "scrolled": true
   },
   "outputs": [
    {
     "name": "stdout",
     "output_type": "stream",
     "text": [
      "100\n",
      "2\n",
      "4\n"
     ]
    }
   ],
   "source": [
    "\"\"\"\n",
    "a = [2, 4, 6, 12, 15, 99, 100]\n",
    "100\n",
    "2\n",
    "4\n",
    "\"\"\"\n",
    "# Your functions\n",
    "def large_num(a):\n",
    "    return max(a)\n",
    "\n",
    "def small_num(a):\n",
    "    return min(a)\n",
    "    \n",
    "def dividables_three(a):\n",
    "    count = 0\n",
    "    for i in a:\n",
    "        if i%3 == 0:\n",
    "            count += 1 \n",
    "    return count\n",
    "\n",
    "a = [2, 4, 6, 12, 15, 99, 100]\n",
    "\n",
    "print(large_num(a))\n",
    "print(small_num(a))\n",
    "print(dividables_three(a))"
   ]
  },
  {
   "cell_type": "markdown",
   "metadata": {},
   "source": [
    "**Exercise 5.4 (🌶️):** \"99 bottles of beer\" is a traditional song in the United States and Canada. It is popular to sing on long trips, as it has a very repetitive format which is easy to memorize, and can take a long time to sing. The song's simple lyrics are as follows: \"99 bottles of beer on the wall, 99 bottles of beer. Take one down, pass it around, 98 bottles of beer on the wall.\" The same verse is repeated, each time with one fewer bottle. The song is completed when the singer or singers reach zero. Write a function that generates and prints all the verses of the song (though you might start a bit lower, for instance with 10 bottles). Make sure that your loop is not endless, and that you use the proper inflection for the word \"bottle\"."
   ]
  },
  {
   "cell_type": "code",
   "execution_count": 57,
   "metadata": {},
   "outputs": [
    {
     "name": "stdout",
     "output_type": "stream",
     "text": [
      "99 bottles of beer on the wall, 99 bottles of beer. Take one down, pass it around, 98 bottles of beer in the wall\n",
      "98 bottles of beer on the wall, 98 bottles of beer. Take one down, pass it around, 97 bottles of beer in the wall\n",
      "97 bottles of beer on the wall, 97 bottles of beer. Take one down, pass it around, 96 bottles of beer in the wall\n",
      "96 bottles of beer on the wall, 96 bottles of beer. Take one down, pass it around, 95 bottles of beer in the wall\n",
      "95 bottles of beer on the wall, 95 bottles of beer. Take one down, pass it around, 94 bottles of beer in the wall\n",
      "94 bottles of beer on the wall, 94 bottles of beer. Take one down, pass it around, 93 bottles of beer in the wall\n",
      "93 bottles of beer on the wall, 93 bottles of beer. Take one down, pass it around, 92 bottles of beer in the wall\n",
      "92 bottles of beer on the wall, 92 bottles of beer. Take one down, pass it around, 91 bottles of beer in the wall\n",
      "91 bottles of beer on the wall, 91 bottles of beer. Take one down, pass it around, 90 bottles of beer in the wall\n",
      "90 bottles of beer on the wall, 90 bottles of beer. Take one down, pass it around, 89 bottles of beer in the wall\n",
      "89 bottles of beer on the wall, 89 bottles of beer. Take one down, pass it around, 88 bottles of beer in the wall\n",
      "88 bottles of beer on the wall, 88 bottles of beer. Take one down, pass it around, 87 bottles of beer in the wall\n",
      "87 bottles of beer on the wall, 87 bottles of beer. Take one down, pass it around, 86 bottles of beer in the wall\n",
      "86 bottles of beer on the wall, 86 bottles of beer. Take one down, pass it around, 85 bottles of beer in the wall\n",
      "85 bottles of beer on the wall, 85 bottles of beer. Take one down, pass it around, 84 bottles of beer in the wall\n",
      "84 bottles of beer on the wall, 84 bottles of beer. Take one down, pass it around, 83 bottles of beer in the wall\n",
      "83 bottles of beer on the wall, 83 bottles of beer. Take one down, pass it around, 82 bottles of beer in the wall\n",
      "82 bottles of beer on the wall, 82 bottles of beer. Take one down, pass it around, 81 bottles of beer in the wall\n",
      "81 bottles of beer on the wall, 81 bottles of beer. Take one down, pass it around, 80 bottles of beer in the wall\n",
      "80 bottles of beer on the wall, 80 bottles of beer. Take one down, pass it around, 79 bottles of beer in the wall\n",
      "79 bottles of beer on the wall, 79 bottles of beer. Take one down, pass it around, 78 bottles of beer in the wall\n",
      "78 bottles of beer on the wall, 78 bottles of beer. Take one down, pass it around, 77 bottles of beer in the wall\n",
      "77 bottles of beer on the wall, 77 bottles of beer. Take one down, pass it around, 76 bottles of beer in the wall\n",
      "76 bottles of beer on the wall, 76 bottles of beer. Take one down, pass it around, 75 bottles of beer in the wall\n",
      "75 bottles of beer on the wall, 75 bottles of beer. Take one down, pass it around, 74 bottles of beer in the wall\n",
      "74 bottles of beer on the wall, 74 bottles of beer. Take one down, pass it around, 73 bottles of beer in the wall\n",
      "73 bottles of beer on the wall, 73 bottles of beer. Take one down, pass it around, 72 bottles of beer in the wall\n",
      "72 bottles of beer on the wall, 72 bottles of beer. Take one down, pass it around, 71 bottles of beer in the wall\n",
      "71 bottles of beer on the wall, 71 bottles of beer. Take one down, pass it around, 70 bottles of beer in the wall\n",
      "70 bottles of beer on the wall, 70 bottles of beer. Take one down, pass it around, 69 bottles of beer in the wall\n",
      "69 bottles of beer on the wall, 69 bottles of beer. Take one down, pass it around, 68 bottles of beer in the wall\n",
      "68 bottles of beer on the wall, 68 bottles of beer. Take one down, pass it around, 67 bottles of beer in the wall\n",
      "67 bottles of beer on the wall, 67 bottles of beer. Take one down, pass it around, 66 bottles of beer in the wall\n",
      "66 bottles of beer on the wall, 66 bottles of beer. Take one down, pass it around, 65 bottles of beer in the wall\n",
      "65 bottles of beer on the wall, 65 bottles of beer. Take one down, pass it around, 64 bottles of beer in the wall\n",
      "64 bottles of beer on the wall, 64 bottles of beer. Take one down, pass it around, 63 bottles of beer in the wall\n",
      "63 bottles of beer on the wall, 63 bottles of beer. Take one down, pass it around, 62 bottles of beer in the wall\n",
      "62 bottles of beer on the wall, 62 bottles of beer. Take one down, pass it around, 61 bottles of beer in the wall\n",
      "61 bottles of beer on the wall, 61 bottles of beer. Take one down, pass it around, 60 bottles of beer in the wall\n",
      "60 bottles of beer on the wall, 60 bottles of beer. Take one down, pass it around, 59 bottles of beer in the wall\n",
      "59 bottles of beer on the wall, 59 bottles of beer. Take one down, pass it around, 58 bottles of beer in the wall\n",
      "58 bottles of beer on the wall, 58 bottles of beer. Take one down, pass it around, 57 bottles of beer in the wall\n",
      "57 bottles of beer on the wall, 57 bottles of beer. Take one down, pass it around, 56 bottles of beer in the wall\n",
      "56 bottles of beer on the wall, 56 bottles of beer. Take one down, pass it around, 55 bottles of beer in the wall\n",
      "55 bottles of beer on the wall, 55 bottles of beer. Take one down, pass it around, 54 bottles of beer in the wall\n",
      "54 bottles of beer on the wall, 54 bottles of beer. Take one down, pass it around, 53 bottles of beer in the wall\n",
      "53 bottles of beer on the wall, 53 bottles of beer. Take one down, pass it around, 52 bottles of beer in the wall\n",
      "52 bottles of beer on the wall, 52 bottles of beer. Take one down, pass it around, 51 bottles of beer in the wall\n",
      "51 bottles of beer on the wall, 51 bottles of beer. Take one down, pass it around, 50 bottles of beer in the wall\n",
      "50 bottles of beer on the wall, 50 bottles of beer. Take one down, pass it around, 49 bottles of beer in the wall\n",
      "49 bottles of beer on the wall, 49 bottles of beer. Take one down, pass it around, 48 bottles of beer in the wall\n",
      "48 bottles of beer on the wall, 48 bottles of beer. Take one down, pass it around, 47 bottles of beer in the wall\n",
      "47 bottles of beer on the wall, 47 bottles of beer. Take one down, pass it around, 46 bottles of beer in the wall\n",
      "46 bottles of beer on the wall, 46 bottles of beer. Take one down, pass it around, 45 bottles of beer in the wall\n",
      "45 bottles of beer on the wall, 45 bottles of beer. Take one down, pass it around, 44 bottles of beer in the wall\n",
      "44 bottles of beer on the wall, 44 bottles of beer. Take one down, pass it around, 43 bottles of beer in the wall\n",
      "43 bottles of beer on the wall, 43 bottles of beer. Take one down, pass it around, 42 bottles of beer in the wall\n",
      "42 bottles of beer on the wall, 42 bottles of beer. Take one down, pass it around, 41 bottles of beer in the wall\n",
      "41 bottles of beer on the wall, 41 bottles of beer. Take one down, pass it around, 40 bottles of beer in the wall\n",
      "40 bottles of beer on the wall, 40 bottles of beer. Take one down, pass it around, 39 bottles of beer in the wall\n",
      "39 bottles of beer on the wall, 39 bottles of beer. Take one down, pass it around, 38 bottles of beer in the wall\n",
      "38 bottles of beer on the wall, 38 bottles of beer. Take one down, pass it around, 37 bottles of beer in the wall\n",
      "37 bottles of beer on the wall, 37 bottles of beer. Take one down, pass it around, 36 bottles of beer in the wall\n",
      "36 bottles of beer on the wall, 36 bottles of beer. Take one down, pass it around, 35 bottles of beer in the wall\n",
      "35 bottles of beer on the wall, 35 bottles of beer. Take one down, pass it around, 34 bottles of beer in the wall\n",
      "34 bottles of beer on the wall, 34 bottles of beer. Take one down, pass it around, 33 bottles of beer in the wall\n",
      "33 bottles of beer on the wall, 33 bottles of beer. Take one down, pass it around, 32 bottles of beer in the wall\n",
      "32 bottles of beer on the wall, 32 bottles of beer. Take one down, pass it around, 31 bottles of beer in the wall\n",
      "31 bottles of beer on the wall, 31 bottles of beer. Take one down, pass it around, 30 bottles of beer in the wall\n",
      "30 bottles of beer on the wall, 30 bottles of beer. Take one down, pass it around, 29 bottles of beer in the wall\n",
      "29 bottles of beer on the wall, 29 bottles of beer. Take one down, pass it around, 28 bottles of beer in the wall\n",
      "28 bottles of beer on the wall, 28 bottles of beer. Take one down, pass it around, 27 bottles of beer in the wall\n",
      "27 bottles of beer on the wall, 27 bottles of beer. Take one down, pass it around, 26 bottles of beer in the wall\n",
      "26 bottles of beer on the wall, 26 bottles of beer. Take one down, pass it around, 25 bottles of beer in the wall\n",
      "25 bottles of beer on the wall, 25 bottles of beer. Take one down, pass it around, 24 bottles of beer in the wall\n",
      "24 bottles of beer on the wall, 24 bottles of beer. Take one down, pass it around, 23 bottles of beer in the wall\n",
      "23 bottles of beer on the wall, 23 bottles of beer. Take one down, pass it around, 22 bottles of beer in the wall\n",
      "22 bottles of beer on the wall, 22 bottles of beer. Take one down, pass it around, 21 bottles of beer in the wall\n",
      "21 bottles of beer on the wall, 21 bottles of beer. Take one down, pass it around, 20 bottles of beer in the wall\n",
      "20 bottles of beer on the wall, 20 bottles of beer. Take one down, pass it around, 19 bottles of beer in the wall\n",
      "19 bottles of beer on the wall, 19 bottles of beer. Take one down, pass it around, 18 bottles of beer in the wall\n",
      "18 bottles of beer on the wall, 18 bottles of beer. Take one down, pass it around, 17 bottles of beer in the wall\n",
      "17 bottles of beer on the wall, 17 bottles of beer. Take one down, pass it around, 16 bottles of beer in the wall\n",
      "16 bottles of beer on the wall, 16 bottles of beer. Take one down, pass it around, 15 bottles of beer in the wall\n",
      "15 bottles of beer on the wall, 15 bottles of beer. Take one down, pass it around, 14 bottles of beer in the wall\n",
      "14 bottles of beer on the wall, 14 bottles of beer. Take one down, pass it around, 13 bottles of beer in the wall\n",
      "13 bottles of beer on the wall, 13 bottles of beer. Take one down, pass it around, 12 bottles of beer in the wall\n",
      "12 bottles of beer on the wall, 12 bottles of beer. Take one down, pass it around, 11 bottles of beer in the wall\n",
      "11 bottles of beer on the wall, 11 bottles of beer. Take one down, pass it around, 10 bottles of beer in the wall\n",
      "10 bottles of beer on the wall, 10 bottles of beer. Take one down, pass it around, 9 bottles of beer in the wall\n",
      "9 bottles of beer on the wall, 9 bottles of beer. Take one down, pass it around, 8 bottles of beer in the wall\n",
      "8 bottles of beer on the wall, 8 bottles of beer. Take one down, pass it around, 7 bottles of beer in the wall\n",
      "7 bottles of beer on the wall, 7 bottles of beer. Take one down, pass it around, 6 bottles of beer in the wall\n",
      "6 bottles of beer on the wall, 6 bottles of beer. Take one down, pass it around, 5 bottles of beer in the wall\n",
      "5 bottles of beer on the wall, 5 bottles of beer. Take one down, pass it around, 4 bottles of beer in the wall\n",
      "4 bottles of beer on the wall, 4 bottles of beer. Take one down, pass it around, 3 bottles of beer in the wall\n",
      "3 bottles of beer on the wall, 3 bottles of beer. Take one down, pass it around, 2 bottles of beer in the wall\n",
      "2 bottles of beer on the wall, 2 bottles of beer. Take one down, pass it around, 1 bottle of beer in the wall\n",
      "1 bottle of beer on the wall, 1 bottle of beer. Take one down, pass it around, 0 bottles of beer in the wall\n"
     ]
    }
   ],
   "source": [
    "\"\"\"\n",
    "5 bottles of beer on the wall, 5 bottles of beer. Take one down, pass it around, 4 bottles of beer in the wall\n",
    "4 bottles of beer on the wall, 4 bottles of beer. Take one down, pass it around, 3 bottles of beer in the wall\n",
    "3 bottles of beer on the wall, 3 bottles of beer. Take one down, pass it around, 2 bottles of beer in the wall\n",
    "2 bottles of beer on the wall, 2 bottles of beer. Take one down, pass it around, 1 bottle of beer in the wall\n",
    "1 bottle of beer on the wall, 1 bottle of beer. Take one down, pass it around, 0 bottles of beer in the wall\n",
    "\"\"\"\n",
    "\n",
    "# Beer song\n",
    "for i in range(0,100):\n",
    "    if i == 99:\n",
    "        print((100-i),\"bottle of beer on the wall,\",(100-i),\"bottle of beer. Take one down, pass it around,\",(99-i),\"bottles of beer in the wall\")\n",
    "    elif i == 98:\n",
    "        print((100-i),\"bottles of beer on the wall,\",(100-i),\"bottles of beer. Take one down, pass it around,\",(99-i),\"bottle of beer in the wall\")\n",
    "    else:\n",
    "        if i==97:\n",
    "            continue\n",
    "        print((99-i),\"bottles of beer on the wall,\",(99-i),\"bottles of beer. Take one down, pass it around,\",(98-i),\"bottles of beer in the wall\")"
   ]
  },
  {
   "cell_type": "markdown",
   "metadata": {},
   "source": [
    "**Exercise 5.5 (🌶️):** The Fibonacci sequence is a sequence of numbers that starts with 1, followed by 1 again. Every next number is the sum of the two previous numbers. I.e., the sequence starts with 1, 1, 2, 3, 5, 8, 13, 21,... Write a function that calculates and prints the Fibonacci sequence until the numbers get higher than a `maximum`."
   ]
  },
  {
   "cell_type": "code",
   "execution_count": 112,
   "metadata": {},
   "outputs": [
    {
     "name": "stdout",
     "output_type": "stream",
     "text": [
      "0 , 1 , 1 , 2 , 3 , 5 , 8 , 13 , 21 , "
     ]
    }
   ],
   "source": [
    "\"\"\"\n",
    "Fibonacci sequence up to 22 :\n",
    "0 , 1 , 1 , 2 , 3 , 5 , 8 , 13 , 21\n",
    "\"\"\"\n",
    "# Fibonacci\n",
    "\n",
    "def fibonacci(maximum):\n",
    "    a = 0\n",
    "    b = 1\n",
    "    sum = 0\n",
    "    count = 1\n",
    "    #print(\"Fibonacci Series: \", end = \" \")\n",
    "    while(sum < maximum):\n",
    "        print(sum, end = \" , \")\n",
    "        a = b\n",
    "        b = sum\n",
    "        sum = a + b\n",
    "maximum = 22\n",
    "fibonacci(maximum)\n",
    "\n",
    "# we could append the result to a list and remove the , in the last "
   ]
  },
  {
   "cell_type": "markdown",
   "metadata": {},
   "source": [
    "**Exercise 5.6 (🌶️🌶️):** A prime number is a positive integer that is dividable by exactly two different numbers, namely 1 and itself. The lowest (and only even) prime number is 2. The first 10 prime numbers are 2, 3, 5, 7, 11, 13, 17, 19, 23, and 29. Write a function that returns a **list off all prime numbers** below a given number.\n",
    "\n",
    "Hint: In a loop where you test the possible dividers of the number, you can conclude that the number is not prime as soon as you encounter a number other than 1 or the number itself that divides it. However, you can *only* conclude that it actually *is* prime after you have tested all possible dividers.\n",
    "\n",
    "**What is the challenge here? You have to try to optimize your code and try to make it work for the highest prime number you can encounter before you run out of memory. For low numbers you should know how to do it already**"
   ]
  },
  {
   "cell_type": "code",
   "execution_count": 120,
   "metadata": {
    "scrolled": true
   },
   "outputs": [
    {
     "name": "stdout",
     "output_type": "stream",
     "text": [
      "2\n",
      "3\n",
      "5\n",
      "7\n",
      "11\n",
      "13\n",
      "17\n",
      "19\n",
      "23\n",
      "29\n",
      "31\n",
      "37\n",
      "41\n",
      "43\n",
      "47\n",
      "53\n",
      "59\n",
      "61\n",
      "67\n",
      "71\n",
      "73\n",
      "79\n",
      "83\n",
      "89\n",
      "97\n"
     ]
    }
   ],
   "source": [
    "#Your Code Here\n",
    "\n",
    "# Python Program to find prime numbers in a range\n",
    "import math\n",
    "def is_prime(n):\n",
    "    if n <= 1:\n",
    "        return False\n",
    " \n",
    "    max_div = math.floor(math.sqrt(n))\n",
    "    for i in range(2, 1 + max_div):\n",
    "        if n % i == 0:\n",
    "            return False\n",
    "    return True\n",
    " \n",
    "\n",
    "def print_primes(given_num):\n",
    "    for n in range(1,given_num):\n",
    "        x = is_prime(n)\n",
    "        if(is_prime(n)):\n",
    "            print(n)\n",
    "given_number =100\n",
    "print_primes(given_number)"
   ]
  },
  {
   "cell_type": "markdown",
   "metadata": {},
   "source": [
    "**Exercise 5.7 (🌶️🌶️):** Write a function that prints all integers between the parameters `a` and `b` that can be written as the sum of two squares. Produce output in the form of `z = x**2 + y**2`, e.g., `58 = 3**2 + 7**2`. If a number occurs on the list with multiple *different* ways of writing it as the sum of two squares, that is acceptable. "
   ]
  },
  {
   "cell_type": "code",
   "execution_count": null,
   "metadata": {},
   "outputs": [],
   "source": [
    "\"\"\"\n",
    "2 = 1**2 + 1**2\n",
    "4 = 0**2 + 2**2\n",
    "4 = 2**2 + 0**2\n",
    "5 = 1**2 + 2**2\n",
    "5 = 2**2 + 1**2\n",
    "8 = 2**2 + 2**2\n",
    "9 = 0**2 + 3**2\n",
    "9 = 3**2 + 0**2\n",
    "\"\"\"\n",
    "\n",
    "# Sum squares\n",
    "#do not understand"
   ]
  },
  {
   "cell_type": "markdown",
   "metadata": {},
   "source": [
    "**Exercise 5.8 (🌶️):** A, B, C, and D are all different digits. The number DCBA is equal to 4 times the number ABCD. What are the digits? Note: to make ABCD and DCBA conventional numbers, neither A nor D can be zero. Use a quadruple-nested loop."
   ]
  },
  {
   "cell_type": "code",
   "execution_count": 117,
   "metadata": {},
   "outputs": [
    {
     "name": "stdout",
     "output_type": "stream",
     "text": [
      "a=2 b=1 c=7 d=8\n"
     ]
    }
   ],
   "source": [
    "\"\"\"\n",
    "A = 2\n",
    "B = 1\n",
    "C = 7\n",
    "D = 8\n",
    "\"\"\"\n",
    "# Solve 4*ABCD == DCBA\n",
    "\n",
    "for a in range(1,9):\n",
    "    for b in range(0,9):\n",
    "        for c in range(0,9):\n",
    "            for d in range(1,9):\n",
    "                if 4* (1000 * a + 100 * b + 10 * c + d) == (a + 10 * b + 100 * c + 1000 * d):\n",
    "                    print (\"a=%d b=%d c=%d d=%d\" % (a, b, c, d))\n",
    "\n"
   ]
  },
  {
   "cell_type": "markdown",
   "metadata": {},
   "source": [
    "$\\alpha^2$  ##$\\alpha^2$"
   ]
  }
 ],
 "metadata": {
  "kernelspec": {
   "display_name": "Python 3",
   "language": "python",
   "name": "python3"
  },
  "language_info": {
   "codemirror_mode": {
    "name": "ipython",
    "version": 3
   },
   "file_extension": ".py",
   "mimetype": "text/x-python",
   "name": "python",
   "nbconvert_exporter": "python",
   "pygments_lexer": "ipython3",
   "version": "3.8.5"
  }
 },
 "nbformat": 4,
 "nbformat_minor": 2
}
