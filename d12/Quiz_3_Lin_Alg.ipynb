{
 "cells": [
  {
   "cell_type": "markdown",
   "metadata": {},
   "source": [
    "## Linear Algebra Quiz #3\n",
    "\n",
    "![title](./img/3_0.jpeg)\n",
    "\n",
    "We strongly suggest working with numpy :)\n",
    "\n",
    "ok. done"
   ]
  },
  {
   "cell_type": "code",
   "execution_count": 1,
   "metadata": {},
   "outputs": [],
   "source": [
    "#Do your imports here\n",
    "import numpy as np"
   ]
  },
  {
   "cell_type": "markdown",
   "metadata": {},
   "source": [
    "![title](./img/3_2.png)\n",
    "![title](./img/3_3.png)\n",
    "Create a program that can output\n",
    "\n",
    "- What is the value of element c23​ of Matrix C where C=A x B ?\n",
    "- What is the value of element c23​ of Matrix C where C=B x A ?"
   ]
  },
  {
   "cell_type": "code",
   "execution_count": 16,
   "metadata": {},
   "outputs": [],
   "source": [
    "def matrix_solver():\n",
    "    # initializing matrices or pass it if we need to\n",
    "    x = np.array([[1, 2], [4, 5]])\n",
    "    y = np.array([[7, 8], [9, 10]])\n",
    "    \n",
    "    # using add() to add matrices\n",
    "    print (\"The element wise addition of matrix is : \")\n",
    "    print (np.add(x,y))\n",
    "    \n",
    "    # using subtract() to subtract matrices\n",
    "    print (\"The element wise subtraction of matrix is : \")\n",
    "    print (np.subtract(x,y))\n",
    "    \n",
    "    #using multiply() to multiply matrices element wise\\\n",
    "    print (\"The element wise multiplication of matrix is : \")\n",
    "    print (np.multiply(x,y))\n",
    "\n",
    "    # using \"T\" to transpose the matrix\n",
    "    print (\"The transpose of given matrix is : \")\n",
    "    print (x.T)\n",
    "    \n",
    "    # inverse\n",
    "    print (\"The inverse of given matrix is : \")\n",
    "    print (np.linalg.inv(x))\n",
    "    "
   ]
  }
 ],
 "metadata": {
  "kernelspec": {
   "display_name": "Python 3",
   "language": "python",
   "name": "python3"
  },
  "language_info": {
   "codemirror_mode": {
    "name": "ipython",
    "version": 3
   },
   "file_extension": ".py",
   "mimetype": "text/x-python",
   "name": "python",
   "nbconvert_exporter": "python",
   "pygments_lexer": "ipython3",
   "version": "3.9.2"
  }
 },
 "nbformat": 4,
 "nbformat_minor": 2
}
