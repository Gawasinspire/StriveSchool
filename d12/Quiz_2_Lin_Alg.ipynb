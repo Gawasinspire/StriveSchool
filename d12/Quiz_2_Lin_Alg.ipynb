{
 "cells": [
  {
   "cell_type": "markdown",
   "metadata": {},
   "source": [
    "## Linear Algebra Quiz #2\n",
    "\n",
    "![title](./img/2_1.jpeg)\n",
    "\n",
    "We strongly suggest working with numpy :)"
   ]
  },
  {
   "cell_type": "code",
   "execution_count": 1,
   "metadata": {},
   "outputs": [],
   "source": [
    "#Do your imports here\n",
    "import numpy as np\n",
    "import math"
   ]
  },
  {
   "cell_type": "markdown",
   "metadata": {},
   "source": [
    "![title](./img/2_2.png)\n",
    "- Which vectors below define a plane spanned by a linear combination?"
   ]
  },
  {
   "cell_type": "code",
   "execution_count": 10,
   "metadata": {},
   "outputs": [
    {
     "name": "stdout",
     "output_type": "stream",
     "text": [
      "Vectors form a plane!\n",
      "Vectors form a plane!\n"
     ]
    },
    {
     "data": {
      "text/plain": [
       "array([[-100,    2,    3],\n",
       "       [   0,   -2, -100],\n",
       "       [   8,    8,   -8]])"
      ]
     },
     "execution_count": 10,
     "metadata": {},
     "output_type": "execute_result"
    }
   ],
   "source": [
    "# could not able to understood the question completely, at the moment\n",
    "# as far as i learned the concepts of svg, eig, Stack argwhere\n",
    "# gone through ...\n",
    "# https://numpy.org/doc/stable/reference/generated/numpy.linalg.svd.html\n",
    "# https://numpy.org/doc/stable/reference/generated/numpy.linalg.eig.html\n",
    "# https://numpy.org/doc/stable/reference/generated/numpy.stack.html\n",
    "# https://numpy.org/doc/stable/reference/generated/numpy.argwhere.html\n",
    "\n",
    "def plane(a,b,c):\n",
    "    #returns false if the vectors do define a plane and returns which are those vectors if true\n",
    "    matrix = np.stack((a,b,c))\n",
    "    lambdas, V = np.linalg.eig(matrix.T)\n",
    "    e = 0.000000001\n",
    "    plane_test = abs(lambdas) > e \n",
    "    if plane_test.sum() >= 2:\n",
    "        print('Vectors form a plane!')\n",
    "        vectors = matrix[plane_test]\n",
    "        return vectors\n",
    "    else:\n",
    "        print('No plane exists')\n",
    "\n",
    "\n",
    "a = np.array([1,2,3])\n",
    "b = np.array([2,2,2])\n",
    "c = np.array([8,8,8])\n",
    "\n",
    "plane(a,b,c)\n",
    "\n",
    "a = np.array([-100,2,3])\n",
    "b = np.array([0,-2,-100])\n",
    "c = np.array([8,8,-8])\n",
    "\n",
    "plane(a,b,c)\n",
    "# where it fails logically ?"
   ]
  },
  {
   "cell_type": "code",
   "execution_count": 4,
   "metadata": {},
   "outputs": [],
   "source": [
    "def complete_plane(*pointer):\n",
    "#returns the first set of vectors to complete a plane, false otherwise\n",
    "    np_arrays = []\n",
    "    for arg in pointer:\n",
    "        np_arrays.append(arg)\n",
    "    matrix = np.stack(np_arrays)\n",
    "    rows = matrix.shape[0]\n",
    "    columns = matrix.shape[1]\n",
    "    if rows == columns:\n",
    "        lambdas, V = np.linalg.eig(matrix.T)\n",
    "        e = 0.000000001\n",
    "        plane_test = abs(lambdas) > e\n",
    "        if plane_test.sum() >= 2:\n",
    "            print('True')\n",
    "            index = np.argwhere(plane_test == True)\n",
    "            vectors = matrix[index]\n",
    "        else:\n",
    "            print('False')\n",
    "    elif rows != columns:\n",
    "        U, eigvals , d = np.linalg.svd(matrix.T)\n",
    "        e = 0.000000001\n",
    "        plane_test = abs(eigvals) > e\n",
    "        if plane_test.sum() >= 2:\n",
    "            print('True')\n",
    "            index = np.argwhere(plane_test == True)\n",
    "            vectors = matrix[index][:2]\n",
    "            return vectors\n",
    "        else:\n",
    "            print('False')\n",
    "    \n",
    "    \n",
    "    \n",
    "\n",
    "\n",
    "\n",
    "#returns the first set of vectors to complete a plane, false otherwise"
   ]
  }
 ],
 "metadata": {
  "kernelspec": {
   "display_name": "Python 3",
   "language": "python",
   "name": "python3"
  },
  "language_info": {
   "codemirror_mode": {
    "name": "ipython",
    "version": 3
   },
   "file_extension": ".py",
   "mimetype": "text/x-python",
   "name": "python",
   "nbconvert_exporter": "python",
   "pygments_lexer": "ipython3",
   "version": "3.9.2"
  }
 },
 "nbformat": 4,
 "nbformat_minor": 2
}
