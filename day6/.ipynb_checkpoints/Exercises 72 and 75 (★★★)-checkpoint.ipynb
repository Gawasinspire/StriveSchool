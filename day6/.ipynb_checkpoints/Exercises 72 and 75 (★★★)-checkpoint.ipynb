{
 "cells": [
  {
   "cell_type": "code",
   "execution_count": 2,
   "metadata": {
    "slideshow": {
     "slide_type": "slide"
    }
   },
   "outputs": [],
   "source": [
    "# Import the needed libraries\n",
    "import numpy as np"
   ]
  },
  {
   "cell_type": "markdown",
   "metadata": {},
   "source": [
    "**72. How to swap two rows of an array?** "
   ]
  },
  {
   "cell_type": "code",
   "execution_count": 3,
   "metadata": {},
   "outputs": [
    {
     "name": "stdout",
     "output_type": "stream",
     "text": [
      "[[ 0  1  2  3  4]\n",
      " [ 5  6  7  8  9]\n",
      " [10 11 12 13 14]\n",
      " [15 16 17 18 19]\n",
      " [20 21 22 23 24]]\n",
      "[[ 5  6  7  8  9]\n",
      " [ 0  1  2  3  4]\n",
      " [10 11 12 13 14]\n",
      " [15 16 17 18 19]\n",
      " [20 21 22 23 24]]\n"
     ]
    }
   ],
   "source": [
    "A = np.arange(25).reshape(5,5)\n",
    "print(A)\n",
    "A[[0,1]] = A[[1,0]]                  # say for example row 0 and 1 to swap\n",
    "print(A)\n"
   ]
  },
  {
   "cell_type": "markdown",
   "metadata": {},
   "source": [
    "**75. How to compute averages using a sliding window over an array?**"
   ]
  },
  {
   "cell_type": "code",
   "execution_count": 19,
   "metadata": {
    "scrolled": true
   },
   "outputs": [
    {
     "name": "stdout",
     "output_type": "stream",
     "text": [
      "[1. 2. 3. 4. 5. 6. 7. 8.]\n",
      "[-23.   -51.25 -31.25 -38.5  -45.25 -10.25  12.  ]\n"
     ]
    }
   ],
   "source": [
    "def moving_average(a, n=3) :\n",
    "    cum_lis = np.cumsum(a, dtype=float)        # say window =3, cumsum is cumulative sum and stored in list     \n",
    "    #print(\"cum_lis\",cum_lis)\n",
    "    #print(\"cum_lis[n:]\",cum_lis[n:])\n",
    "    #print(\"cum_lis[:-n]\",cum_lis[:-n])\n",
    "    cum_lis[n:] = cum_lis[n:] - cum_lis[:-n]   # list of upto the window level:, subtracted with next window \n",
    "    #print(\"cum_lis[n-1:]\",cum_lis[n-1:])\n",
    "    return cum_lis[n - 1:] / n\n",
    "\n",
    "ran_list1 = np.arange(10)\n",
    "ran_list2 = np.random.randint(-100,100,10)\n",
    "print(moving_average(ran_list1, n=3))\n",
    "print(moving_average(ran_list2, n=4))\n"
   ]
  },
  {
   "cell_type": "code",
   "execution_count": null,
   "metadata": {},
   "outputs": [],
   "source": []
  }
 ],
 "metadata": {
  "kernelspec": {
   "display_name": "Python 3",
   "language": "python",
   "name": "python3"
  },
  "language_info": {
   "codemirror_mode": {
    "name": "ipython",
    "version": 3
   },
   "file_extension": ".py",
   "mimetype": "text/x-python",
   "name": "python",
   "nbconvert_exporter": "python",
   "pygments_lexer": "ipython3",
   "version": "3.8.5"
  }
 },
 "nbformat": 4,
 "nbformat_minor": 5
}
