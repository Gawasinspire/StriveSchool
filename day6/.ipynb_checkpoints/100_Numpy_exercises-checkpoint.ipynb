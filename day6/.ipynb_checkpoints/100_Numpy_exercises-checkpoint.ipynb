{
 "cells": [
  {
   "cell_type": "markdown",
   "metadata": {},
   "source": [
    "# 100 numpy exercises\n",
    "\n",
    "This is a collection of exercises that have been collected in the numpy mailing list, on stack overflow and in the numpy documentation. The goal of this collection is to offer a quick reference for both old and new users but also to provide a set of exercises for those who teach.\n",
    "\n",
    "\n",
    "If you find an error or think you've a better way to solve some of them, feel free to open an issue at <https://github.com/rougier/numpy-100>"
   ]
  },
  {
   "cell_type": "markdown",
   "metadata": {},
   "source": [
    "#### 1. Import the numpy package under the name `np` (★☆☆)"
   ]
  },
  {
   "cell_type": "code",
   "execution_count": 10,
   "metadata": {},
   "outputs": [],
   "source": [
    "import numpy as np"
   ]
  },
  {
   "cell_type": "markdown",
   "metadata": {},
   "source": [
    "#### 2. Print the numpy version and the configuration (★☆☆)"
   ]
  },
  {
   "cell_type": "code",
   "execution_count": 7,
   "metadata": {},
   "outputs": [
    {
     "name": "stdout",
     "output_type": "stream",
     "text": [
      "1.19.5\n"
     ]
    }
   ],
   "source": [
    "print(np.__version__)"
   ]
  },
  {
   "cell_type": "markdown",
   "metadata": {},
   "source": [
    "#### 3. Create a null vector of size 10 (★☆☆)"
   ]
  },
  {
   "cell_type": "code",
   "execution_count": 10,
   "metadata": {},
   "outputs": [
    {
     "name": "stdout",
     "output_type": "stream",
     "text": [
      "[0. 0. 0. 0. 0. 0. 0. 0. 0. 0.]\n"
     ]
    }
   ],
   "source": [
    "import numpy as np\n",
    "x = np.zeros(10)\n",
    "print(x)"
   ]
  },
  {
   "cell_type": "markdown",
   "metadata": {},
   "source": [
    "#### 4.  How to find the memory size of any array (★☆☆)"
   ]
  },
  {
   "cell_type": "code",
   "execution_count": 11,
   "metadata": {},
   "outputs": [
    {
     "name": "stdout",
     "output_type": "stream",
     "text": [
      "96 bytes\n"
     ]
    }
   ],
   "source": [
    "n = np.zeros((1,4,3))\n",
    "print(\"%d bytes\" % (n.size * n.itemsize))"
   ]
  },
  {
   "cell_type": "markdown",
   "metadata": {},
   "source": [
    "#### 5.  How to get the documentation of the numpy add function from the command line? (★☆☆)"
   ]
  },
  {
   "cell_type": "code",
   "execution_count": 17,
   "metadata": {},
   "outputs": [
    {
     "name": "stdout",
     "output_type": "stream",
     "text": [
      "\n",
      "NumPy\n",
      "=====\n",
      "\n",
      "Provides\n",
      "  1. An array object of arbitrary homogeneous items\n",
      "  2. Fast mathematical operations over arrays\n",
      "  3. Linear Algebra, Fourier Transforms, Random Number Generation\n",
      "\n",
      "How to use the documentation\n",
      "----------------------------\n",
      "Documentation is available in two forms: docstrings provided\n",
      "with the code, and a loose standing reference guide, available from\n",
      "`the NumPy homepage <https://www.scipy.org>`_.\n",
      "\n",
      "We recommend exploring the docstrings using\n",
      "`IPython <https://ipython.org>`_, an advanced Python shell with\n",
      "TAB-completion and introspection capabilities.  See below for further\n",
      "instructions.\n",
      "\n",
      "The docstring examples assume that `numpy` has been imported as `np`::\n",
      "\n",
      "  >>> import numpy as np\n",
      "\n",
      "Code snippets are indicated by three greater-than signs::\n",
      "\n",
      "  >>> x = 42\n",
      "  >>> x = x + 1\n",
      "\n",
      "Use the built-in ``help`` function to view a function's docstring::\n",
      "\n",
      "  >>> help(np.sort)\n",
      "  ... # doctest: +SKIP\n",
      "\n",
      "For some objects, ``np.info(obj)`` may provide additional help.  This is\n",
      "particularly true if you see the line \"Help on ufunc object:\" at the top\n",
      "of the help() page.  Ufuncs are implemented in C, not Python, for speed.\n",
      "The native Python help() does not know how to view their help, but our\n",
      "np.info() function does.\n",
      "\n",
      "To search for documents containing a keyword, do::\n",
      "\n",
      "  >>> np.lookfor('keyword')\n",
      "  ... # doctest: +SKIP\n",
      "\n",
      "General-purpose documents like a glossary and help on the basic concepts\n",
      "of numpy are available under the ``doc`` sub-module::\n",
      "\n",
      "  >>> from numpy import doc\n",
      "  >>> help(doc)\n",
      "  ... # doctest: +SKIP\n",
      "\n",
      "Available subpackages\n",
      "---------------------\n",
      "doc\n",
      "    Topical documentation on broadcasting, indexing, etc.\n",
      "lib\n",
      "    Basic functions used by several sub-packages.\n",
      "random\n",
      "    Core Random Tools\n",
      "linalg\n",
      "    Core Linear Algebra Tools\n",
      "fft\n",
      "    Core FFT routines\n",
      "polynomial\n",
      "    Polynomial tools\n",
      "testing\n",
      "    NumPy testing tools\n",
      "f2py\n",
      "    Fortran to Python Interface Generator.\n",
      "distutils\n",
      "    Enhancements to distutils with support for\n",
      "    Fortran compilers support and more.\n",
      "\n",
      "Utilities\n",
      "---------\n",
      "test\n",
      "    Run numpy unittests\n",
      "show_config\n",
      "    Show numpy build configuration\n",
      "dual\n",
      "    Overwrite certain functions with high-performance Scipy tools\n",
      "matlib\n",
      "    Make everything matrices.\n",
      "__version__\n",
      "    NumPy version string\n",
      "\n",
      "Viewing documentation using IPython\n",
      "-----------------------------------\n",
      "Start IPython with the NumPy profile (``ipython -p numpy``), which will\n",
      "import `numpy` under the alias `np`.  Then, use the ``cpaste`` command to\n",
      "paste examples into the shell.  To see which functions are available in\n",
      "`numpy`, type ``np.<TAB>`` (where ``<TAB>`` refers to the TAB key), or use\n",
      "``np.*cos*?<ENTER>`` (where ``<ENTER>`` refers to the ENTER key) to narrow\n",
      "down the list.  To view the docstring for a function, use\n",
      "``np.cos?<ENTER>`` (to view the docstring) and ``np.cos??<ENTER>`` (to view\n",
      "the source code).\n",
      "\n",
      "Copies vs. in-place operation\n",
      "-----------------------------\n",
      "Most of the functions in `numpy` return a copy of the array argument\n",
      "(e.g., `np.sort`).  In-place versions of these functions are often\n",
      "available as array methods, i.e. ``x = np.array([1,2,3]); x.sort()``.\n",
      "Exceptions to this rule are documented.\n",
      "\n",
      "\n"
     ]
    }
   ],
   "source": [
    "#print(np.__doc__)\n",
    "\n",
    "def print_doc_numpy():\n",
    "    print(np.__doc__)\n",
    "\n",
    "print_doc_numpy()"
   ]
  },
  {
   "cell_type": "markdown",
   "metadata": {},
   "source": [
    "#### 6.  Create a null vector of size 10 but the fifth value which is 1 (★☆☆)"
   ]
  },
  {
   "cell_type": "code",
   "execution_count": 18,
   "metadata": {},
   "outputs": [
    {
     "name": "stdout",
     "output_type": "stream",
     "text": [
      "[0. 0. 0. 0. 0. 0. 0. 0. 0. 0.]\n",
      "[0. 0. 0. 0. 1. 0. 0. 0. 0. 0.]\n"
     ]
    }
   ],
   "source": [
    "x = np.zeros(10)\n",
    "print(x)\n",
    "x[4] = 1\n",
    "print(x)\n"
   ]
  },
  {
   "cell_type": "markdown",
   "metadata": {},
   "source": [
    "#### 7.  Create a vector with values ranging from 10 to 49 (★☆☆)"
   ]
  },
  {
   "cell_type": "code",
   "execution_count": 21,
   "metadata": {},
   "outputs": [
    {
     "name": "stdout",
     "output_type": "stream",
     "text": [
      "[10 11 12 13 14 15 16 17 18 19 20 21 22 23 24 25 26 27 28 29 30 31 32 33\n",
      " 34 35 36 37 38 39 40 41 42 43 44 45 46 47 48 49]\n"
     ]
    }
   ],
   "source": [
    "v = np.arange(10,50)\n",
    "print(v)"
   ]
  },
  {
   "cell_type": "markdown",
   "metadata": {},
   "source": [
    "#### 8.  Reverse a vector (first element becomes last) (★☆☆)"
   ]
  },
  {
   "cell_type": "code",
   "execution_count": 27,
   "metadata": {},
   "outputs": [
    {
     "name": "stdout",
     "output_type": "stream",
     "text": [
      "[9 8 7 6 5 4 3 2 1 0]\n"
     ]
    }
   ],
   "source": [
    "\n",
    "vector = np.arange(10)\n",
    "vector = vector[::-1]\n",
    "print(vector)"
   ]
  },
  {
   "cell_type": "markdown",
   "metadata": {},
   "source": [
    "#### 9.  Create a 3x3 matrix with values ranging from 0 to 8 (★☆☆)"
   ]
  },
  {
   "cell_type": "code",
   "execution_count": 29,
   "metadata": {},
   "outputs": [
    {
     "name": "stdout",
     "output_type": "stream",
     "text": [
      "[[0 1 2]\n",
      " [3 4 5]\n",
      " [6 7 8]]\n"
     ]
    }
   ],
   "source": [
    "x = np.arange(0,9).reshape(3,3)\n",
    "print(x)"
   ]
  },
  {
   "cell_type": "markdown",
   "metadata": {},
   "source": [
    "#### 10. Find indices of non-zero elements from \\[1,2,0,0,4,0\\] (★☆☆)"
   ]
  },
  {
   "cell_type": "code",
   "execution_count": 34,
   "metadata": {},
   "outputs": [
    {
     "name": "stdout",
     "output_type": "stream",
     "text": [
      "[2 3 5]\n"
     ]
    }
   ],
   "source": [
    "arr = np.array( [1,2,0,0,4,0] )\n",
    "print(np.where(arr == 0)[0])"
   ]
  },
  {
   "cell_type": "markdown",
   "metadata": {},
   "source": [
    "#### 11. Create a 3x3 identity matrix (★☆☆)"
   ]
  },
  {
   "cell_type": "code",
   "execution_count": 36,
   "metadata": {},
   "outputs": [
    {
     "name": "stdout",
     "output_type": "stream",
     "text": [
      "[[1. 0. 0.]\n",
      " [0. 1. 0.]\n",
      " [0. 0. 1.]]\n"
     ]
    }
   ],
   "source": [
    "print(np.identity(3))\n"
   ]
  },
  {
   "cell_type": "markdown",
   "metadata": {},
   "source": [
    "#### 12. Create a 3x3x3 array with random values (★☆☆)"
   ]
  },
  {
   "cell_type": "code",
   "execution_count": 37,
   "metadata": {},
   "outputs": [
    {
     "name": "stdout",
     "output_type": "stream",
     "text": [
      "[[[0.3683364  0.33930585 0.64195916]\n",
      "  [0.02524296 0.62541903 0.60087746]\n",
      "  [0.19596197 0.61805882 0.23055984]]\n",
      "\n",
      " [[0.49680974 0.93224533 0.67284699]\n",
      "  [0.00403806 0.20428694 0.75305028]\n",
      "  [0.1242747  0.53098859 0.27185701]]\n",
      "\n",
      " [[0.23095235 0.01887741 0.85657128]\n",
      "  [0.47765889 0.66278763 0.99431336]\n",
      "  [0.92469895 0.34399382 0.28661763]]]\n"
     ]
    }
   ],
   "source": [
    "x = np.random.random((3,3,3))\n",
    "print(x)\n"
   ]
  },
  {
   "cell_type": "markdown",
   "metadata": {},
   "source": [
    "#### 13. Create a 10x10 array with random values and find the minimum and maximum values (★☆☆)"
   ]
  },
  {
   "cell_type": "code",
   "execution_count": 46,
   "metadata": {},
   "outputs": [
    {
     "name": "stdout",
     "output_type": "stream",
     "text": [
      "min= 0.0038089961559872876\n",
      "max= 0.9976060555512412\n"
     ]
    }
   ],
   "source": [
    "x = np.random.random((10,10))\n",
    "#print(x)\n",
    "print(\"min=\",x.min())\n",
    "print(\"max=\",x.max())\n"
   ]
  },
  {
   "cell_type": "markdown",
   "metadata": {},
   "source": [
    "#### 14. Create a random vector of size 30 and find the mean value (★☆☆)"
   ]
  },
  {
   "cell_type": "code",
   "execution_count": 49,
   "metadata": {},
   "outputs": [
    {
     "name": "stdout",
     "output_type": "stream",
     "text": [
      "mean =  0.5655131736290567\n"
     ]
    }
   ],
   "source": [
    "x = np.random.random((30))\n",
    "#print(x)\n",
    "print(\"mean = \", x.mean())"
   ]
  },
  {
   "cell_type": "markdown",
   "metadata": {},
   "source": [
    "#### 15. Create a 2d array with 1 on the border and 0 inside (★☆☆)"
   ]
  },
  {
   "cell_type": "code",
   "execution_count": 52,
   "metadata": {},
   "outputs": [
    {
     "name": "stdout",
     "output_type": "stream",
     "text": [
      "[[1. 1. 1. 1. 1. 1. 1.]\n",
      " [1. 0. 0. 0. 0. 0. 1.]\n",
      " [1. 0. 0. 0. 0. 0. 1.]\n",
      " [1. 0. 0. 0. 0. 0. 1.]\n",
      " [1. 0. 0. 0. 0. 0. 1.]\n",
      " [1. 0. 0. 0. 0. 0. 1.]\n",
      " [1. 1. 1. 1. 1. 1. 1.]]\n"
     ]
    }
   ],
   "source": [
    "n = 7  #size\n",
    "x = np.ones((n,n))\n",
    "x[1:-1,1:-1] = 0\n",
    "print(x)"
   ]
  },
  {
   "cell_type": "markdown",
   "metadata": {},
   "source": [
    "#### 16. How to add a border (filled with 0's) around an existing array? (★☆☆)"
   ]
  },
  {
   "cell_type": "code",
   "execution_count": 56,
   "metadata": {},
   "outputs": [
    {
     "name": "stdout",
     "output_type": "stream",
     "text": [
      "[[0. 0. 0. 0. 0. 0. 0. 0. 0.]\n",
      " [0. 1. 1. 1. 1. 1. 1. 1. 0.]\n",
      " [0. 1. 0. 0. 0. 0. 0. 1. 0.]\n",
      " [0. 1. 0. 0. 0. 0. 0. 1. 0.]\n",
      " [0. 1. 0. 0. 0. 0. 0. 1. 0.]\n",
      " [0. 1. 0. 0. 0. 0. 0. 1. 0.]\n",
      " [0. 1. 0. 0. 0. 0. 0. 1. 0.]\n",
      " [0. 1. 1. 1. 1. 1. 1. 1. 0.]\n",
      " [0. 0. 0. 0. 0. 0. 0. 0. 0.]]\n"
     ]
    }
   ],
   "source": [
    "x = np.pad(x, pad_width=1, mode='constant', constant_values=0)\n",
    "print(x)"
   ]
  },
  {
   "cell_type": "markdown",
   "metadata": {},
   "source": [
    "#### 17. What is the result of the following expression? (★☆☆)"
   ]
  },
  {
   "cell_type": "markdown",
   "metadata": {},
   "source": [
    "```python\n",
    "0 * np.nan\n",
    "np.nan == np.nan\n",
    "np.inf > np.nan\n",
    "np.nan - np.nan\n",
    "np.nan in set([np.nan])\n",
    "0.3 == 3 * 0.1\n",
    "```"
   ]
  },
  {
   "cell_type": "code",
   "execution_count": 70,
   "metadata": {},
   "outputs": [
    {
     "name": "stdout",
     "output_type": "stream",
     "text": [
      "0.3\n",
      "0.30000000000000004\n"
     ]
    }
   ],
   "source": [
    "# explanation: NaN means not a number. \n",
    "\n",
    "# 0 * np.nan\n",
    "# Answer:nan \n",
    "# explanation: unknown(nan) mulitiplied with nan is unknown(nan)\n",
    "\n",
    "# np.nan == np.nan\n",
    "# Answer:False\n",
    "# Explanation:  This is because equivalence between missing \n",
    "#      or invalid values is not well defined. In practice, this behavior \n",
    "#      prevents silent bugs from creeping into your program. \n",
    "#     simply, it is by definition false.¯\\_(ツ)_/¯. \n",
    "\n",
    "# np.inf > np.nan\n",
    "# Answer: False \n",
    "# Explanation: inf - is infinity - a value that is greater than any other value. \n",
    "#          again, \" nan \" stands for Not A Number. comparing nan with a number,\n",
    "#          returns False.\n",
    "\n",
    "# np.nan - np.nan\n",
    "# Answer:nan\n",
    "# explanation: unknown(nan) subtracted with unknown(nan) is an unknown(nan)\n",
    "\n",
    "# np.nan in set([np.nan])\n",
    "# Answer: True\n",
    "# explanation: np.nan is present inside np.nan and it is unique\n",
    "\n",
    "# 0.3 == 3 * 0.1\n",
    "# Answer: False\n",
    "# Explanation: try print(0.3) and print(0.1*3) = 0.30000000000000004\n",
    "# ¯\\_(ツ)_/¯"
   ]
  },
  {
   "cell_type": "markdown",
   "metadata": {},
   "source": [
    "#### 18. Create a 5x5 matrix with values 1,2,3,4 just below the diagonal (★☆☆)"
   ]
  },
  {
   "cell_type": "code",
   "execution_count": 76,
   "metadata": {},
   "outputs": [
    {
     "name": "stdout",
     "output_type": "stream",
     "text": [
      "[[0 0 0 0 0]\n",
      " [1 0 0 0 0]\n",
      " [0 2 0 0 0]\n",
      " [0 0 3 0 0]\n",
      " [0 0 0 4 0]]\n",
      "[1 2 3 4]\n"
     ]
    }
   ],
   "source": [
    "x = np.diag(1+np.arange(4), k = -1)\n",
    "print(x)\n",
    "# print(1+np.arange(4))"
   ]
  },
  {
   "cell_type": "markdown",
   "metadata": {},
   "source": [
    "#### 19. Create a 8x8 matrix and fill it with a checkerboard pattern (★☆☆)"
   ]
  },
  {
   "cell_type": "code",
   "execution_count": 60,
   "metadata": {},
   "outputs": [
    {
     "name": "stdout",
     "output_type": "stream",
     "text": [
      "[[0 1 0 1 0 1 0 1]\n",
      " [1 0 1 0 1 0 1 0]\n",
      " [0 1 0 1 0 1 0 1]\n",
      " [1 0 1 0 1 0 1 0]\n",
      " [0 1 0 1 0 1 0 1]\n",
      " [1 0 1 0 1 0 1 0]\n",
      " [0 1 0 1 0 1 0 1]\n",
      " [1 0 1 0 1 0 1 0]]\n"
     ]
    }
   ],
   "source": [
    "x = np.zeros ((8,8), dtype=int)\n",
    "#print(x)\n",
    "x[1::2, ::2]= 1\n",
    "#print(x)\n",
    "x[::2, 1::2] = 1\n",
    "print (x)\n",
    "\n"
   ]
  },
  {
   "cell_type": "markdown",
   "metadata": {},
   "source": [
    "#### 20. Consider a (6,7,8) shape array, what is the index (x,y,z) of the 100th element?"
   ]
  },
  {
   "cell_type": "code",
   "execution_count": 85,
   "metadata": {},
   "outputs": [
    {
     "name": "stdout",
     "output_type": "stream",
     "text": [
      "(1, 5, 4)\n"
     ]
    }
   ],
   "source": [
    "# 6*7*8  =336\n",
    "print (np.unravel_index(100, (6,7,8)))\n",
    "# print (np.unravel_index(0, (6,7,8)))"
   ]
  },
  {
   "cell_type": "markdown",
   "metadata": {},
   "source": [
    "#### 21. Create a checkerboard 8x8 matrix using the tile function (★☆☆)"
   ]
  },
  {
   "cell_type": "code",
   "execution_count": 86,
   "metadata": {},
   "outputs": [
    {
     "name": "stdout",
     "output_type": "stream",
     "text": [
      "[[0 1 0 1 0 1 0 1]\n",
      " [1 0 1 0 1 0 1 0]\n",
      " [0 1 0 1 0 1 0 1]\n",
      " [1 0 1 0 1 0 1 0]\n",
      " [0 1 0 1 0 1 0 1]\n",
      " [1 0 1 0 1 0 1 0]\n",
      " [0 1 0 1 0 1 0 1]\n",
      " [1 0 1 0 1 0 1 0]]\n"
     ]
    }
   ],
   "source": [
    "array= np.array([[0,1], [1,0]])\n",
    "x = np.tile(array,(4,4))   # 16 * 4 =64, this 4 ([0,1],[1,0])\n",
    "print (x)"
   ]
  },
  {
   "cell_type": "markdown",
   "metadata": {},
   "source": [
    "#### 22. Normalize a 5x5 random matrix (★☆☆)"
   ]
  },
  {
   "cell_type": "code",
   "execution_count": 88,
   "metadata": {},
   "outputs": [
    {
     "name": "stdout",
     "output_type": "stream",
     "text": [
      "[[-0.89776242 -0.30904012 -0.32134391 -0.41404624 -0.47324848]\n",
      " [-0.92792631 -0.67352236  0.         -0.59843114 -0.67425622]\n",
      " [-0.68443082 -0.85309599 -0.66240028 -0.44347539 -0.18239689]\n",
      " [-0.63975721 -1.         -0.78645813 -0.87703793 -0.6943931 ]\n",
      " [-0.13964421 -0.90640388 -0.83772739 -0.23723487 -0.12841914]]\n"
     ]
    }
   ],
   "source": [
    "x = np.random.random((5,5))\n",
    "maximum = x.max()\n",
    "minimum = x.min()\n",
    "x= (x-maximum)/(maximum-minimum)   # normalise formuala\n",
    "print (x)\n",
    "\n"
   ]
  },
  {
   "cell_type": "markdown",
   "metadata": {},
   "source": [
    "#### 23. Create a custom dtype that describes a color as four unsigned bytes (RGBA) (★☆☆)"
   ]
  },
  {
   "cell_type": "code",
   "execution_count": 99,
   "metadata": {},
   "outputs": [
    {
     "name": "stdout",
     "output_type": "stream",
     "text": [
      "[('r', 'u1'), ('g', 'u1'), ('b', 'u1'), ('a', 'u1')]\n"
     ]
    },
    {
     "name": "stderr",
     "output_type": "stream",
     "text": [
      "<ipython-input-99-4cdb32b01e6e>:3: FutureWarning: Passing (type, 1) or '1type' as a synonym of type is deprecated; in a future version of numpy, it will be understood as (type, (1,)) / '(1,)type'.\n",
      "  color_datatype = np.dtype([(\"r\", np.ubyte, 1),\n"
     ]
    }
   ],
   "source": [
    "# help(np.dtype)\n",
    "# ubyte = unsigned bytes, dtype = datatype  \n",
    "color_datatype = np.dtype([(\"r\", np.ubyte, 1),\n",
    "                  (\"g\", np.ubyte, 1),\n",
    "                  (\"b\", np.ubyte, 1),\n",
    "                  (\"a\", np.ubyte, 1)])\n",
    "print(color_datatype)"
   ]
  },
  {
   "cell_type": "markdown",
   "metadata": {},
   "source": [
    "#### 24. Multiply a 5x3 matrix by a 3x2 matrix (real matrix product) (★☆☆)"
   ]
  },
  {
   "cell_type": "code",
   "execution_count": 103,
   "metadata": {},
   "outputs": [
    {
     "name": "stdout",
     "output_type": "stream",
     "text": [
      "[[0.52906017 0.67111381]\n",
      " [0.639937   0.78170267]\n",
      " [0.33919219 0.50439404]\n",
      " [0.77188314 0.7257678 ]\n",
      " [0.76152625 0.59018411]]\n"
     ]
    }
   ],
   "source": [
    "x = np.random.random(15).reshape((5,3))\n",
    "y = np.random.random(6).reshape((3,2))\n",
    "print(np.dot(x,y))  # this will print 5,2 matrix \n"
   ]
  },
  {
   "cell_type": "markdown",
   "metadata": {},
   "source": [
    "#### 25. Given a 1D array, negate all elements which are between 3 and 8, in place. (★☆☆)"
   ]
  },
  {
   "cell_type": "code",
   "execution_count": 108,
   "metadata": {},
   "outputs": [
    {
     "name": "stdout",
     "output_type": "stream",
     "text": [
      "[ 0  1  2 -1 -1 -1 -1 -1 -1  9]\n"
     ]
    }
   ],
   "source": [
    "x = np.arange(10)\n",
    "x[(x >= 3) & (x <= 8)] = -1\n",
    "print(x) #if the positions are little different then need to change number a bit.\n"
   ]
  },
  {
   "cell_type": "markdown",
   "metadata": {},
   "source": [
    "#### 26. What is the output of the following script? (★☆☆)"
   ]
  },
  {
   "cell_type": "markdown",
   "metadata": {},
   "source": [
    "```python\n",
    "# Author: Jake VanderPlas\n",
    "\n",
    "print(sum(range(5),-1))\n",
    "from numpy import *\n",
    "print(sum(range(5),-1))\n",
    "```"
   ]
  },
  {
   "cell_type": "code",
   "execution_count": 114,
   "metadata": {},
   "outputs": [
    {
     "name": "stdout",
     "output_type": "stream",
     "text": [
      "10\n",
      "10\n"
     ]
    }
   ],
   "source": [
    "# Answer: 9 10 \n",
    "# Explanation:  Python's sum signature starts with 0. \n",
    "#           Numpy must be redefining range, and\n",
    "#           it has different boundry rules. \n",
    "# The first line is equivalent to 0+1+2+3+4+(-1). \n",
    "# The third line is equivalent to 0+1+2+3+4 on axis=-1\n",
    "# interestingly, it happens only one time."
   ]
  },
  {
   "cell_type": "markdown",
   "metadata": {},
   "source": [
    "#### 27. Consider an integer vector Z, which of these expressions are legal? (★☆☆)"
   ]
  },
  {
   "cell_type": "markdown",
   "metadata": {},
   "source": [
    "```python\n",
    "Z**Z\n",
    "2 << Z >> 2\n",
    "Z <- Z\n",
    "1j*Z\n",
    "Z/1/1\n",
    "Z<Z>Z\n",
    "```"
   ]
  },
  {
   "cell_type": "code",
   "execution_count": 157,
   "metadata": {},
   "outputs": [
    {
     "name": "stdout",
     "output_type": "stream",
     "text": [
      "[ 1  1  4 27]\n",
      "[0 1 2 3 4 5 6 7 8 9]\n",
      "[  0   1   2   4   8  16  32  64 128 256]\n",
      "[0.+0.j 0.+1.j 0.+2.j 0.+3.j 0.+4.j 0.+5.j 0.+6.j 0.+7.j 0.+8.j 0.+9.j]\n",
      "[0. 1. 2. 3. 4. 5. 6. 7. 8. 9.]\n",
      "[False False False False False False False False False False]\n"
     ]
    }
   ],
   "source": [
    "# z power z \n",
    "Z = np.arange(4)\n",
    "print(Z**Z) # legal \n",
    "\n",
    "# bit shifting operations\n",
    "Z = np.arange(10)\n",
    "print(Z)   # shift to left by 5 bits\n",
    "           # shift to right by 5 bits\n",
    "#a = bin(0b1111 << 2)\n",
    "#print(a)\n",
    "#a = bin(0b1111 >> 2)\n",
    "#print(a)\n",
    "\n",
    "print(2 << Z >> 2)   # legal\n",
    "\n",
    "print(1j*Z)  # legal, make it as a imaginary num.\n",
    "print(Z/1/1)   # legal, it turns to float\n",
    "print(Z <- Z)   # legal\n",
    "#print(Z < Z > Z) # illegal value error  "
   ]
  },
  {
   "cell_type": "markdown",
   "metadata": {},
   "source": [
    "#### 28. What are the result of the following expressions?"
   ]
  },
  {
   "cell_type": "markdown",
   "metadata": {},
   "source": [
    "```python\n",
    "np.array(0) / np.array(0)\n",
    "np.array(0) // np.array(0)\n",
    "np.array([np.nan]).astype(int).astype(float)\n",
    "```"
   ]
  },
  {
   "cell_type": "code",
   "execution_count": 169,
   "metadata": {},
   "outputs": [
    {
     "data": {
      "text/plain": [
       "array([-9.22337204e+18])"
      ]
     },
     "execution_count": 169,
     "metadata": {},
     "output_type": "execute_result"
    }
   ],
   "source": [
    "#np.array(0) / np.array(0)\n",
    "# Ans: zero by zero -> not a number\n",
    "\n",
    "# np.array(0) // np.array(0)\n",
    "# Ans:0, floor division or integer division.\n",
    "\n",
    "# np.array([np.nan]).astype(int).astype(float)\n",
    "# Ans:array([-9.22337204e+18]) returns a long floating point number if we conveert"
   ]
  },
  {
   "cell_type": "markdown",
   "metadata": {},
   "source": [
    "#### 29. How to round away from zero a float array ? (★☆☆)"
   ]
  },
  {
   "cell_type": "code",
   "execution_count": 173,
   "metadata": {},
   "outputs": [
    {
     "name": "stdout",
     "output_type": "stream",
     "text": [
      "[0.67184953 0.84982628 0.26055381 0.11134841]\n",
      "[1. 1. 0. 0.]\n"
     ]
    }
   ],
   "source": [
    "num = np.random.random(4)\n",
    "print(num)\n",
    "print(np.round(num,0))"
   ]
  },
  {
   "cell_type": "markdown",
   "metadata": {},
   "source": [
    "#### 30. How to find common values between two arrays? (★☆☆)"
   ]
  },
  {
   "cell_type": "code",
   "execution_count": 174,
   "metadata": {},
   "outputs": [
    {
     "name": "stdout",
     "output_type": "stream",
     "text": [
      "[1 3 4]\n"
     ]
    }
   ],
   "source": [
    "ar1 = np.array([0, 1, 2, 3, 4]) \n",
    "ar2 = [1, 3, 4] \n",
    "  \n",
    "# Common values between two arrays \n",
    "print(np.intersect1d(ar1, ar2))"
   ]
  },
  {
   "cell_type": "markdown",
   "metadata": {},
   "source": [
    "#### 31. How to ignore all numpy warnings (not recommended)? (★☆☆)"
   ]
  },
  {
   "cell_type": "code",
   "execution_count": 176,
   "metadata": {},
   "outputs": [],
   "source": [
    "# np.seterr(all=\"ignore\")"
   ]
  },
  {
   "cell_type": "markdown",
   "metadata": {},
   "source": [
    "#### 32. Is the following expressions true? (★☆☆)"
   ]
  },
  {
   "cell_type": "markdown",
   "metadata": {},
   "source": [
    "```python\n",
    "np.sqrt(-1) == np.emath.sqrt(-1)\n",
    "```"
   ]
  },
  {
   "cell_type": "code",
   "execution_count": 178,
   "metadata": {},
   "outputs": [
    {
     "name": "stdout",
     "output_type": "stream",
     "text": [
      "1j\n"
     ]
    }
   ],
   "source": [
    "# nope, False\n",
    "# Explanations: \n",
    "# print(np.sqrt(-1))  --> nan\n",
    "# print(np.emath.sqrt(-1))  --> 1i   j = sqrt(-1) emath frameworks \n"
   ]
  },
  {
   "cell_type": "markdown",
   "metadata": {},
   "source": [
    "\n",
    "#### 33. How to get the dates of yesterday, today and tomorrow? (★☆☆)"
   ]
  },
  {
   "cell_type": "code",
   "execution_count": 184,
   "metadata": {},
   "outputs": [
    {
     "name": "stdout",
     "output_type": "stream",
     "text": [
      "Yestraday:  2021-03-21\n",
      "Today:  2021-03-22\n",
      "Tomorrow:  2021-03-23\n"
     ]
    }
   ],
   "source": [
    "# time delta makes to convert the convensions todo arithmetic operations on datetime\n",
    "yesterday = np.datetime64('today', 'D') - np.timedelta64(1, 'D')\n",
    "print(\"Yesterday: \",yesterday)\n",
    "today     = np.datetime64('today', 'D')\n",
    "print(\"Today: \",today)\n",
    "tomorrow  = np.datetime64('today', 'D') + np.timedelta64(1, 'D')\n",
    "print(\"Tomorrow: \",tomorrow)"
   ]
  },
  {
   "cell_type": "markdown",
   "metadata": {},
   "source": [
    "#### 34. How to get all the dates corresponding to the month of July 2016? (★★☆)"
   ]
  },
  {
   "cell_type": "code",
   "execution_count": 186,
   "metadata": {},
   "outputs": [
    {
     "name": "stdout",
     "output_type": "stream",
     "text": [
      "['2016-07-01' '2016-07-02' '2016-07-03' '2016-07-04' '2016-07-05'\n",
      " '2016-07-06' '2016-07-07' '2016-07-08' '2016-07-09' '2016-07-10'\n",
      " '2016-07-11' '2016-07-12' '2016-07-13' '2016-07-14' '2016-07-15'\n",
      " '2016-07-16' '2016-07-17' '2016-07-18' '2016-07-19' '2016-07-20'\n",
      " '2016-07-21' '2016-07-22' '2016-07-23' '2016-07-24' '2016-07-25'\n",
      " '2016-07-26' '2016-07-27' '2016-07-28' '2016-07-29' '2016-07-30'\n",
      " '2016-07-31']\n"
     ]
    }
   ],
   "source": [
    "x = np.arange('2016-07', '2016-08', dtype='datetime64[D]')\n",
    "# form staring of 07 to before starting of 08\n",
    "print(x)"
   ]
  },
  {
   "cell_type": "markdown",
   "metadata": {},
   "source": [
    "#### 35. How to compute ((A+B)\\*(-A/2)) in place (without copy)? (★★☆)"
   ]
  },
  {
   "cell_type": "code",
   "execution_count": 191,
   "metadata": {},
   "outputs": [
    {
     "name": "stdout",
     "output_type": "stream",
     "text": [
      "[1.] [2.] [3.]\n",
      "[3.]\n",
      "[0.5]\n",
      "[-0.5]\n",
      "[-1.5]\n"
     ]
    }
   ],
   "source": [
    "A = np.ones(1)*1\n",
    "B = np.ones(1)*2\n",
    "C = np.ones(1)*3 \n",
    "\n",
    "print(A,B,C)  # operations: (1+2) * (-1/2) --> -3 *0.5\n",
    "print(np.add(A,B,out=B))\n",
    "print(np.divide(A,2,out=A))\n",
    "print(np.negative(A,out=A))\n",
    "print(np.multiply(A,B,out=A))"
   ]
  },
  {
   "cell_type": "markdown",
   "metadata": {},
   "source": [
    "#### 36. Extract the integer part of a random array using 5 different methods (★★☆)"
   ]
  },
  {
   "cell_type": "code",
   "execution_count": 211,
   "metadata": {},
   "outputs": [
    {
     "name": "stdout",
     "output_type": "stream",
     "text": [
      "[ 8.28139258 -5.27876327 -4.81041917]\n",
      "[ 8 -5 -4]\n",
      "[ 8. -5. -4.]\n",
      "[ 8. -6. -5.]\n",
      "[ 9. -5. -4.]\n",
      "[0 7 7]\n"
     ]
    }
   ],
   "source": [
    "num = np.random.uniform(-10, +10, 3)  # ranges and no. of randoms\n",
    "print(num)\n",
    "#Method 1:   \n",
    "print(num.astype(np.int32))\n",
    "\n",
    "#Method 2:\n",
    "#print(type(np.trunc(num)))\n",
    "print(np.trunc(num))\n",
    "\n",
    "# Method 3:\n",
    "print(np.floor(num))\n",
    "\n",
    "# Method 4:\n",
    "print(np.ceil(num))\n",
    "\n",
    "# Method 5:\n",
    "print(random.randint(-10,10,3))"
   ]
  },
  {
   "cell_type": "markdown",
   "metadata": {},
   "source": [
    "#### 37. Create a 5x5 matrix with row values ranging from 0 to 4 (★★☆)"
   ]
  },
  {
   "cell_type": "code",
   "execution_count": 218,
   "metadata": {},
   "outputs": [
    {
     "name": "stdout",
     "output_type": "stream",
     "text": [
      "[[0. 0. 0. 0. 0.]\n",
      " [0. 0. 0. 0. 0.]\n",
      " [0. 0. 0. 0. 0.]\n",
      " [0. 0. 0. 0. 0.]\n",
      " [0. 0. 0. 0. 0.]]\n",
      "[[0. 1. 2. 3. 4.]\n",
      " [0. 1. 2. 3. 4.]\n",
      " [0. 1. 2. 3. 4.]\n",
      " [0. 1. 2. 3. 4.]\n",
      " [0. 1. 2. 3. 4.]]\n"
     ]
    }
   ],
   "source": [
    "x = np.zeros((5, 5))\n",
    "print(x)\n",
    "x += np.arange(0,5) \n",
    "\n",
    "print(x)"
   ]
  },
  {
   "cell_type": "markdown",
   "metadata": {},
   "source": [
    "#### 38. Consider a generator function that generates 10 integers and use it to build an array (★☆☆)"
   ]
  },
  {
   "cell_type": "code",
   "execution_count": 234,
   "metadata": {},
   "outputs": [
    {
     "name": "stdout",
     "output_type": "stream",
     "text": [
      "[0 1 2 3 4 5 6 7 8 9]\n"
     ]
    }
   ],
   "source": [
    "def generator_func():\n",
    "    list_1 = (a for a in range(10))\n",
    "    return list_1\n",
    "    \n",
    "print(np.fromiter(generator_func(),int))\n",
    "    "
   ]
  },
  {
   "cell_type": "markdown",
   "metadata": {},
   "source": [
    "#### 39. Create a vector of size 10 with values ranging from 0 to 1, both excluded (★★☆)"
   ]
  },
  {
   "cell_type": "code",
   "execution_count": 239,
   "metadata": {},
   "outputs": [
    {
     "name": "stdout",
     "output_type": "stream",
     "text": [
      "[0.  0.1 0.2 0.3 0.4 0.5 0.6 0.7 0.8 0.9]\n",
      "[0.37620029 0.54206162 0.2272266  0.14048979 0.29422588 0.42044656\n",
      " 0.86037227 0.92488437 0.58260405 0.52041984]\n"
     ]
    }
   ],
   "source": [
    "vector1 = np.linspace(start=0, stop=1, num=10, endpoint=False)\n",
    "vector2 = np.random.random(10)\n",
    "print(vector1)\n",
    "print(vector2)\n"
   ]
  },
  {
   "cell_type": "markdown",
   "metadata": {},
   "source": [
    "#### 40. Create a random vector of size 10 and sort it (★★☆)"
   ]
  },
  {
   "cell_type": "code",
   "execution_count": 246,
   "metadata": {},
   "outputs": [
    {
     "name": "stdout",
     "output_type": "stream",
     "text": [
      "[0.21669255 0.21693846 0.26091325 0.38707316 0.45023402 0.46307272\n",
      " 0.46880695 0.47280928 0.48334948 0.63045976]\n"
     ]
    }
   ],
   "source": [
    "vector2 = np.random.random(10)\n",
    "vector3 = np.sort(vector2)\n",
    "print(vector3)"
   ]
  },
  {
   "cell_type": "markdown",
   "metadata": {},
   "source": [
    "#### 41. How to sum a small array faster than np.sum? (★★☆)"
   ]
  },
  {
   "cell_type": "code",
   "execution_count": 263,
   "metadata": {},
   "outputs": [
    {
     "name": "stdout",
     "output_type": "stream",
     "text": [
      "timetaken for np.sum 2.056598663330078\n",
      "timetaken for normal sum 2.1164417266845703\n",
      "timetaken for np.sum 0.2727508544921875\n",
      "timetaken for normal sum 0.2353191375732422\n"
     ]
    }
   ],
   "source": [
    "import time\n",
    "x1 = np.arange(1000000)\n",
    "x2 = np.arange(100)\n",
    "\n",
    "\n",
    "begin_time = time.time()\n",
    "y1 = np.sum(x1)\n",
    "end_time = time.time()\n",
    "print(\"timetaken for np.sum\",str(1000*(end_time - begin_time)))\n",
    "\n",
    "begin_time2 = time.time()\n",
    "y2 = sum(x1)\n",
    "end_time2 = time.time()\n",
    "print(\"timetaken for normal sum\",str(1000*(end_time2 - begin_time2)))\n",
    "\n",
    "\n",
    "begin_time3 = time.time()\n",
    "y3 = np.sum(x2)\n",
    "end_time3 = time.time()\n",
    "print(\"timetaken for np.sum\",str(1000*(end_time3 - begin_time3)))\n",
    "\n",
    "begin_time4 = time.time()\n",
    "y4 = sum(x2)\n",
    "end_time4 = time.time()\n",
    "print(\"timetaken for normal sum\",str(1000*(end_time4 - begin_time4)))\n"
   ]
  },
  {
   "cell_type": "markdown",
   "metadata": {},
   "source": [
    "#### 42. Consider two random array A and B, check if they are equal (★★☆)"
   ]
  },
  {
   "cell_type": "code",
   "execution_count": 372,
   "metadata": {},
   "outputs": [
    {
     "name": "stdout",
     "output_type": "stream",
     "text": [
      "[ 80   0  28  23 -25 -27 -24 -61  72  17] \n",
      " [-15  90  56 -36 -96 -42 -87  40 -79  38]\n",
      "False\n"
     ]
    }
   ],
   "source": [
    "A = random.randint(-100,100,10)\n",
    "B = random.randint(-100,100,10)\n",
    "print(A,\"\\n\",B)\n",
    "print(np.array_equal(A, B))\n"
   ]
  },
  {
   "cell_type": "markdown",
   "metadata": {},
   "source": [
    "#### 43. Make an array immutable (read-only) (★★☆)"
   ]
  },
  {
   "cell_type": "code",
   "execution_count": 274,
   "metadata": {},
   "outputs": [],
   "source": [
    "A = random.randint(-100,100,10)\n",
    "A.flags.writeable = False\n",
    "\n",
    "#A[1] = 1   could not change value"
   ]
  },
  {
   "cell_type": "markdown",
   "metadata": {},
   "source": [
    "#### 44. Consider a random 10x2 matrix representing cartesian coordinates, convert them to polar coordinates (★★☆)"
   ]
  },
  {
   "cell_type": "code",
   "execution_count": 278,
   "metadata": {},
   "outputs": [
    {
     "name": "stdout",
     "output_type": "stream",
     "text": [
      "[[0.82174076 0.19630315]\n",
      " [0.0909344  0.35037843]\n",
      " [0.72389877 0.38213189]\n",
      " [0.50395404 0.28058738]\n",
      " [0.50777005 0.43457109]\n",
      " [0.46899936 0.38844117]\n",
      " [0.35955586 0.58678773]\n",
      " [0.38175099 0.92080781]\n",
      " [0.9196043  0.86448434]\n",
      " [0.20343851 0.76752599]]\n",
      "In polar\n",
      "[0.84486259 0.36198634 0.81856839 0.57680062 0.66834307 0.60897203\n",
      " 0.68818621 0.99680531 1.26214311 0.79402983]\n",
      "[0.23449229 1.31686672 0.48570226 0.50802738 0.70787606 0.69172122\n",
      " 1.02105246 1.1777822  0.75451268 1.31169688]\n"
     ]
    }
   ],
   "source": [
    "# np.sqrt, np.arctan2\n",
    "Rand_num = np.random.random((10, 2))\n",
    "print(Rand_num)\n",
    "\n",
    "X, Y = Rand_num[:, 0], Rand_num[:, 1]  #multiple assginment x= [:,0]all elements in col 0 is equal to x\n",
    "\n",
    "# To convert from Cartesian Coordinates (x,y) to Polar Coordinates (r,θ):\n",
    "# r = √ ( x2 + y2 )\n",
    "# θ = tan-1 ( y / x ) \n",
    "\n",
    "# Calculating radius\n",
    "radius = np.sqrt(X ** 2 + Y ** 2)  \n",
    "# Calculating angle (theta) in radian\n",
    "theta = np.arctan2(Y, X)\n",
    "print(\"In polar:\")\n",
    "print(radius)\n",
    "print(theta)"
   ]
  },
  {
   "cell_type": "markdown",
   "metadata": {},
   "source": [
    "#### 45. Create random vector of size 10 and replace the maximum value by 0 (★★☆)"
   ]
  },
  {
   "cell_type": "code",
   "execution_count": 295,
   "metadata": {},
   "outputs": [
    {
     "name": "stdout",
     "output_type": "stream",
     "text": [
      "orig\n",
      " [0.49343487 0.91607429 0.87007022 0.00423035 0.83933864 0.548661\n",
      " 0.74703844 0.73750165 0.22791073 0.44529296]\n",
      "[0.49343487 0.         0.87007022 0.00423035 0.83933864 0.548661\n",
      " 0.74703844 0.73750165 0.22791073 0.44529296]\n",
      "orig\n",
      " [ 53  81 -67 -49  23  45   5  74 -50  53]\n",
      "[ 53   0 -67 -49  23  45   5  74 -50  53]\n"
     ]
    }
   ],
   "source": [
    "x = np.random.random((10))\n",
    "print(\"orig\\n\",x)\n",
    "x[x == np.max(x)] = 0\n",
    "print(x)\n",
    "\n",
    "A = random.randint(-100,100,10)\n",
    "print(\"orig\\n\",A)\n",
    "A[A.argmax()] = 0\n",
    "print(A)"
   ]
  },
  {
   "cell_type": "markdown",
   "metadata": {},
   "source": [
    "#### 46. Create a structured array with `x` and `y` coordinates covering the \\[0,1\\]x\\[0,1\\] area (★★☆)"
   ]
  },
  {
   "cell_type": "code",
   "execution_count": 304,
   "metadata": {},
   "outputs": [
    {
     "name": "stdout",
     "output_type": "stream",
     "text": [
      "[[(0., 0.) (0., 0.)]\n",
      " [(0., 0.) (0., 0.)]]\n",
      "[[(0., 0.) (1., 0.)]\n",
      " [(0., 1.) (1., 1.)]]\n"
     ]
    }
   ],
   "source": [
    "def struc_Array(x,y):\n",
    "    A = np.zeros((x,y), [('x',float),('y',float)])\n",
    "    print(A)\n",
    "    A['x'], A['y'] = np.meshgrid(np.linspace(0,1,x),np.linspace(0,1,y))\n",
    "    print(A)\n",
    "\n",
    "struc_Array(2,2)\n"
   ]
  },
  {
   "cell_type": "markdown",
   "metadata": {},
   "source": [
    "####  47. Given two arrays, X and Y, construct the Cauchy matrix C (Cij =1/(xi - yj))"
   ]
  },
  {
   "cell_type": "code",
   "execution_count": 312,
   "metadata": {},
   "outputs": [
    {
     "name": "stdout",
     "output_type": "stream",
     "text": [
      "[0 1 2 3 4 5 6 7]\n",
      "[0.5 1.5 2.5 3.5 4.5 5.5 6.5 7.5]\n",
      "====C====\n",
      "[[-2.         -0.66666667 -0.4        -0.28571429 -0.22222222 -0.18181818\n",
      "  -0.15384615 -0.13333333]\n",
      " [ 2.         -2.         -0.66666667 -0.4        -0.28571429 -0.22222222\n",
      "  -0.18181818 -0.15384615]\n",
      " [ 0.66666667  2.         -2.         -0.66666667 -0.4        -0.28571429\n",
      "  -0.22222222 -0.18181818]\n",
      " [ 0.4         0.66666667  2.         -2.         -0.66666667 -0.4\n",
      "  -0.28571429 -0.22222222]\n",
      " [ 0.28571429  0.4         0.66666667  2.         -2.         -0.66666667\n",
      "  -0.4        -0.28571429]\n",
      " [ 0.22222222  0.28571429  0.4         0.66666667  2.         -2.\n",
      "  -0.66666667 -0.4       ]\n",
      " [ 0.18181818  0.22222222  0.28571429  0.4         0.66666667  2.\n",
      "  -2.         -0.66666667]\n",
      " [ 0.15384615  0.18181818  0.22222222  0.28571429  0.4         0.66666667\n",
      "   2.         -2.        ]]\n",
      "determinant 3638.1636371179666\n",
      "a [[-3.36442530e+05 -7.94454561e+05 -5.62210135e+04 -6.19983311e+06\n",
      "   4.27768062e+06]\n",
      " [-4.02557747e+07 -6.64963670e+07  7.37372157e+05 -7.60653327e+03\n",
      "   2.37695134e+06]\n",
      " [-6.86390264e+04 -3.38140182e+06 -3.25392781e+06 -5.41521041e+05\n",
      "   3.83853577e+06]\n",
      " [-5.38506210e+05  5.77330789e+05 -2.09627591e+06 -1.58464438e+06\n",
      "  -1.57710098e+05]\n",
      " [-2.67934133e+06 -7.94424655e+06  6.36491948e+05 -4.09651903e+06\n",
      "  -5.35117064e+03]]\n"
     ]
    }
   ],
   "source": [
    "                                   # Compute the determinant of an array.\n",
    "\n",
    "X = np.arange(8)\n",
    "Y = X + 0.5\n",
    "C = 1.0 / np.subtract.outer(X, Y)  # subtract outer produces more dimensions                           \n",
    "print(X)\n",
    "print(Y)\n",
    "print(\"====C====\")\n",
    "print(C)\n",
    "print(\"determinant\",np.linalg.det(C))    \n",
    "\n",
    "#x = np.random.random((5, 5))\n",
    "#y = np.random.random((5, 5))\n",
    "#c = 1 / (x - y)\n",
    "#c = 1 / np.subtract.outer(x, y)\n",
    "3a =np.linalg.det(c)\n",
    "#print(\"a\",a)"
   ]
  },
  {
   "cell_type": "markdown",
   "metadata": {},
   "source": [
    "#### 48. Print the minimum and maximum representable value for each numpy scalar type (★★☆)"
   ]
  },
  {
   "cell_type": "code",
   "execution_count": 320,
   "metadata": {},
   "outputs": [
    {
     "name": "stdout",
     "output_type": "stream",
     "text": [
      "min of  <class 'numpy.int8'> -128\n",
      "max of  <class 'numpy.int8'> 127\n",
      "min of  <class 'numpy.int32'> -2147483648\n",
      "max of  <class 'numpy.int32'> 2147483647\n",
      "min of  <class 'numpy.int64'> -9223372036854775808\n",
      "max of  <class 'numpy.int64'> 9223372036854775807\n",
      "min of  <class 'numpy.float32'> -3.4028235e+38\n",
      "max of  <class 'numpy.float32'> 3.4028235e+38\n",
      "eps of  <class 'numpy.float32'> 1.1920929e-07\n",
      "min of  <class 'numpy.float64'> -1.7976931348623157e+308\n",
      "max of  <class 'numpy.float64'> 1.7976931348623157e+308\n",
      "eps of  <class 'numpy.float64'> 2.220446049250313e-16\n"
     ]
    }
   ],
   "source": [
    "for dtype in [np.int8, np.int32, np.int64]:\n",
    "    print(\"min of \", dtype,  np.iinfo(dtype).min)\n",
    "    print(\"max of \", dtype, np.iinfo(dtype).max)\n",
    "    \n",
    "for dtype in [np.float32, np.float64]:\n",
    "    print(\"min of \", dtype, np.finfo(dtype).min)\n",
    "    print(\"max of \", dtype, np.finfo(dtype).max)\n",
    "    print(\"eps of \", dtype, np.finfo(dtype).eps)\n",
    "    \n",
    "    #iinfo    The equivalent for integer data types.  eps= epsilon\n",
    "\n",
    "\n"
   ]
  },
  {
   "cell_type": "markdown",
   "metadata": {},
   "source": [
    "#### 49. How to print all the values of an array? (★★☆)"
   ]
  },
  {
   "cell_type": "code",
   "execution_count": 344,
   "metadata": {},
   "outputs": [
    {
     "name": "stdout",
     "output_type": "stream",
     "text": [
      "\n",
      "Is NaN: \n",
      " [[False False False False False]\n",
      " [False False False False False]\n",
      " [False False False False False]\n",
      " [False False False False False]\n",
      " [False False False False False]]\n",
      "\n",
      "Is NaN: \n",
      " [[False False False]\n",
      " [ True False False]]\n",
      "\n",
      "c\n",
      " [[1, 2, 3], [nan, 2, 2]]\n",
      "\n",
      "c\n",
      " [[1, 2, 3], [nan, 2, 2]]\n"
     ]
    }
   ],
   "source": [
    "b = np.arange(25).reshape(5, 5) \n",
    "print(\"\\nIs NaN: \\n\", np.isnan(b)) \n",
    "c = [[1,2,3],[np.nan,2,2]] \n",
    "print(\"\\nIs NaN: \\n\", np.isnan(c)) \n",
    "np.set_printoptions(edgeitems=3,infstr='inf',linewidth=75, nanstr='nan', precision=8,suppress=False, threshold=1000, formatter=None)\n",
    "print(\"\\nc\\n\",c)"
   ]
  },
  {
   "cell_type": "markdown",
   "metadata": {},
   "source": [
    "#### 50. How to find the closest value (to a given scalar) in a vector? (★★☆)"
   ]
  },
  {
   "cell_type": "code",
   "execution_count": 371,
   "metadata": {},
   "outputs": [
    {
     "name": "stdout",
     "output_type": "stream",
     "text": [
      "v 14.665846416211913\n",
      "z [ 0  1  2  3  4  5  6  7  8  9 10 11 12 13 14 15 16 17 18 19 20 21 22 23\n",
      " 24 25 26 27 28 29 30 31 32 33 34 35 36 37 38 39 40 41 42 43 44 45 46 47\n",
      " 48 49 50 51 52 53 54 55 56 57 58 59 60 61 62 63 64 65 66 67 68 69 70 71\n",
      " 72 73 74 75 76 77 78 79 80 81 82 83 84 85 86 87 88 89 90 91 92 93 94 95\n",
      " 96 97 98 99]\n",
      "index 15\n",
      "closest value: 15\n"
     ]
    }
   ],
   "source": [
    " Z = np.arange(100)\n",
    "v = np.random.uniform(0,100)                         \n",
    "index = (np.abs(Z-v)).argmin()             #\n",
    "print(\"z\",Z)\n",
    "print(\"v\",v)\n",
    "print(\"index\",index)\n",
    "print(\"closest value:\", Z[index])\n",
    "\n"
   ]
  },
  {
   "cell_type": "markdown",
   "metadata": {},
   "source": [
    "#### 51. Create a structured array representing a position (x,y) and a color (r,g,b) (★★☆)"
   ]
  },
  {
   "cell_type": "code",
   "execution_count": 16,
   "metadata": {},
   "outputs": [
    {
     "name": "stdout",
     "output_type": "stream",
     "text": [
      "[((0., 0.), (0., 0., 0.)) ((0., 0.), (0., 0., 0.))\n",
      " ((0., 0.), (0., 0., 0.)) ((0., 0.), (0., 0., 0.))\n",
      " ((0., 0.), (0., 0., 0.)) ((0., 0.), (0., 0., 0.))\n",
      " ((0., 0.), (0., 0., 0.)) ((0., 0.), (0., 0., 0.))\n",
      " ((0., 0.), (0., 0., 0.)) ((0., 0.), (0., 0., 0.))]\n"
     ]
    },
    {
     "name": "stderr",
     "output_type": "stream",
     "text": [
      "<ipython-input-16-2e2805fed4c1>:2: FutureWarning: Passing (type, 1) or '1type' as a synonym of type is deprecated; in a future version of numpy, it will be understood as (type, (1,)) / '(1,)type'.\n",
      "  colors = np.zeros(10, [ ('position', [ ('x', float, 1),('y', float, 1)]),\n"
     ]
    }
   ],
   "source": [
    "import numpy as np\n",
    "colors = np.zeros(10, [ ('position', [ ('x', float, 1),('y', float, 1)]),\n",
    "                    ('color',    [ ('r', float, 1),('g', float, 1),('b', float, 1)])])\n",
    "print(colors)\n"
   ]
  },
  {
   "cell_type": "markdown",
   "metadata": {},
   "source": [
    "#### 52. Consider a random vector with shape (100,2) representing coordinates, find point by point distances (★★☆)"
   ]
  },
  {
   "cell_type": "code",
   "execution_count": 104,
   "metadata": {},
   "outputs": [
    {
     "name": "stdout",
     "output_type": "stream",
     "text": [
      "[[ 0.         -0.33136459 -0.84215638]\n",
      " [ 0.33136459  0.         -0.51079179]\n",
      " [ 0.84215638  0.51079179  0.        ]]\n"
     ]
    }
   ],
   "source": [
    "Z = np.random.random((3,2))\n",
    "#print(Z)\n",
    "X,Y = np.atleast_2d(Z[:,0]), np.atleast_2d(Z[:,1])  # Scalar and 1-dimensional inputs are converted to 2-dimensional arrays, \n",
    "                                                    # whilst higher-dimensional inputs are preserved\n",
    "#print(\"X-X.T\",X - X.T)\n",
    "#print(\"Y-Y.T\",Y - Y.T)                              x1,y1.      x2,y2.\n",
    "\n",
    "print(X - X.T)\n",
    "D = np.sqrt((X-X.T)**2 + (Y-Y.T)**2)                # Formula :  Distance = sqrt( (x1-x2)^2 + (y1-y2)^2 )\n",
    "#print(D)\n"
   ]
  },
  {
   "cell_type": "markdown",
   "metadata": {},
   "source": [
    "#### 53. How to convert a float (32 bits) array into an integer (32 bits) in place?"
   ]
  },
  {
   "cell_type": "code",
   "execution_count": 37,
   "metadata": {},
   "outputs": [
    {
     "name": "stdout",
     "output_type": "stream",
     "text": [
      "[18.33008734  2.41286975 98.89977976 23.30459416 52.06438488]\n",
      "[18  2 98 23 52]\n"
     ]
    }
   ],
   "source": [
    "from numpy import array\n",
    "float_data_list = np.random.random(5)*100\n",
    "print(float_data_list)\n",
    "matrice = array(float_data_list, dtype ='int32' ) # define dtype\n",
    "print(matrice)\n"
   ]
  },
  {
   "cell_type": "markdown",
   "metadata": {},
   "source": [
    "#### 54. How to read the following file? (★★☆)"
   ]
  },
  {
   "cell_type": "markdown",
   "metadata": {},
   "source": [
    "1, 2, 3, 4, 5\n",
    "6,  ,  , 7, 8\n",
    " ,  , 9,10,11"
   ]
  },
  {
   "cell_type": "code",
   "execution_count": 78,
   "metadata": {},
   "outputs": [
    {
     "name": "stdout",
     "output_type": "stream",
     "text": [
      "1 2 3 4 5\n",
      "6     7 8\n",
      "   9 10 11\n",
      "\n",
      "12345\n",
      "678\n",
      "91011\n",
      "\n",
      "1, 2, 3, 4, 5\n",
      "6,  ,  , 7, 8\n",
      ",  , 9, 10, 11\n",
      "[[False False False False False]\n",
      " [False  True  True False False]\n",
      " [ True  True False False False]]\n"
     ]
    }
   ],
   "source": [
    "## created the data first\n",
    "# echo \"1, 2, 3, 4, 5\" > missing.dat\n",
    "# echo \"6,  ,  , 7, 8\" >> missing.dat\n",
    "# echo \",  , 9, 10, 11\" >> missing.dat\n",
    "\n",
    "f = open(\"missing.dat\", \"r\")\n",
    "#print(f.read())\n",
    "strings1 = f.read() \n",
    "print(strings1.replace(',',''))\n",
    "strings2 = strings1.replace(',','').replace(' ','')\n",
    "print(strings2)\n",
    "\n",
    "\n",
    "\n",
    "#Z = np.genfromtxt(\"missing.dat\", delimiter=\",\")\n",
    "# from io import StringIO\n",
    "\n",
    "data = u\"1, 2, 3, 4, 5\\n6,  ,  , 7, 8\\n,  , 9, 10, 11\"\n",
    "print(data)\n",
    "Z = np.genfromtxt(StringIO(data), delimiter=\",\")   # genfromtxt :Load data from a text file, with missing values handled as specified.\n",
    "\n",
    "print(np.isnan(Z))"
   ]
  },
  {
   "cell_type": "markdown",
   "metadata": {},
   "source": [
    "#### 55. What is the equivalent of enumerate for numpy arrays? (★★☆)"
   ]
  },
  {
   "cell_type": "code",
   "execution_count": 81,
   "metadata": {},
   "outputs": [
    {
     "name": "stdout",
     "output_type": "stream",
     "text": [
      "(0, 0) 0\n",
      "(0, 1) 1\n",
      "(0, 2) 2\n",
      "(1, 0) 3\n",
      "(1, 1) 4\n",
      "(1, 2) 5\n",
      "(2, 0) 6\n",
      "(2, 1) 7\n",
      "(2, 2) 8\n",
      "i (0, 0) 0\n",
      "i (0, 1) 1\n",
      "i (0, 2) 2\n",
      "i (1, 0) 3\n",
      "i (1, 1) 4\n",
      "i (1, 2) 5\n",
      "i (2, 0) 6\n",
      "i (2, 1) 7\n",
      "i (2, 2) 8\n",
      "(0, 0) 1\n",
      "(0, 1) 2\n",
      "(1, 0) 3\n",
      "(1, 1) 4\n"
     ]
    }
   ],
   "source": [
    "# ndenumerate\n",
    "# we could map index with its value and vice versa\n",
    "\n",
    "Z = np.arange(9).reshape(3,3)\n",
    "for index, value in np.ndenumerate(Z):         # Multidimensional index iterator. \n",
    "    print(index, value)                        # Return an iterator yielding pairs of array coordinates and values.\n",
    "    \n",
    "for index in np.ndindex(Z.shape):              # nd.index\n",
    "    print(\"i\",index, Z[index])\n",
    "    \n",
    "a = np.array([[1, 2], [3, 4]])\n",
    "for index, x in np.ndenumerate(a):             # cool\n",
    "    print(index, x)"
   ]
  },
  {
   "cell_type": "markdown",
   "metadata": {},
   "source": [
    "\n",
    "#### 56. Generate a generic 2D Gaussian-like array (★★☆)"
   ]
  },
  {
   "cell_type": "code",
   "execution_count": 94,
   "metadata": {},
   "outputs": [
    {
     "name": "stdout",
     "output_type": "stream",
     "text": [
      "2D Gaussian array :\n",
      "\n",
      "[[0.38099952 0.46249936 0.53470798 0.58889008 0.61796004 0.61796004\n",
      "  0.58889008 0.53470798 0.46249936 0.38099952]\n",
      " [0.46249936 0.56115834 0.64842608 0.71377873 0.74877809 0.74877809\n",
      "  0.71377873 0.64842608 0.56115834 0.46249936]\n",
      " [0.53470798 0.64842608 0.74877809 0.82366453 0.86360276 0.86360276\n",
      "  0.82366453 0.74877809 0.64842608 0.53470798]\n",
      " [0.58889008 0.71377873 0.82366453 0.90516458 0.94813651 0.94813651\n",
      "  0.90516458 0.82366453 0.71377873 0.58889008]\n",
      " [0.61796004 0.74877809 0.86360276 0.94813651 0.99130819 0.99130819\n",
      "  0.94813651 0.86360276 0.74877809 0.61796004]\n",
      " [0.61796004 0.74877809 0.86360276 0.94813651 0.99130819 0.99130819\n",
      "  0.94813651 0.86360276 0.74877809 0.61796004]\n",
      " [0.58889008 0.71377873 0.82366453 0.90516458 0.94813651 0.94813651\n",
      "  0.90516458 0.82366453 0.71377873 0.58889008]\n",
      " [0.53470798 0.64842608 0.74877809 0.82366453 0.86360276 0.86360276\n",
      "  0.82366453 0.74877809 0.64842608 0.53470798]\n",
      " [0.46249936 0.56115834 0.64842608 0.71377873 0.74877809 0.74877809\n",
      "  0.71377873 0.64842608 0.56115834 0.46249936]\n",
      " [0.38099952 0.46249936 0.53470798 0.58889008 0.61796004 0.61796004\n",
      "  0.58889008 0.53470798 0.46249936 0.38099952]]\n"
     ]
    },
    {
     "data": {
      "image/png": "[encoded data removed]",
      "text/plain": [
       "<Figure size 648x432 with 1 Axes>"
      ]
     },
     "metadata": {},
     "output_type": "display_data"
    }
   ],
   "source": [
    "# 2D Gaussian-like array\n",
    "x, y = np.meshgrid(np.linspace(-1,1,10), np.linspace(-1,1,10))   # 2d and 2parameters ; linspace --> equal spaced 10 values\n",
    "dst = np.sqrt(x*x+y*y)                                           # distribution = sqrt(x^2 + y^2) \n",
    "\n",
    "sigma = 1\n",
    "mu = 0.025\n",
    "  \n",
    "# Calculating Gaussian array \n",
    "gauss = np.exp(-( (dst-mu)**2 / ( 2.0 * sigma**2 ) ) )           # Gaussian formulae : e^(-(dst-mu)^2/ (2 sigma^2)) \n",
    "\n",
    "print(\"2D Gaussian array :\\n\") \n",
    "print(gauss)\n",
    "\n",
    "#lets  plot it\n",
    "import matplotlib.pyplot as plt\n",
    "\n",
    "fig, ax = plt.subplots(figsize=(9,6))\n",
    "plt.style.use('fivethirtyeight')\n",
    "ax.plot(gauss)                    ## yeaaa\n",
    "\n",
    "ax.set_xlabel('# of Standard Deviations Outside the Mean')\n",
    "ax.set_yticklabels([])\n",
    "ax.set_title('Normal Gaussian Curve')\n",
    "\n",
    "plt.savefig('normal_curve.png', dpi=72, bbox_inches='tight')\n",
    "plt.show()\n"
   ]
  },
  {
   "cell_type": "markdown",
   "metadata": {},
   "source": [
    "#### 57. How to randomly place p elements in a 2D array? (★★☆)"
   ]
  },
  {
   "cell_type": "code",
   "execution_count": 101,
   "metadata": {},
   "outputs": [
    {
     "name": "stdout",
     "output_type": "stream",
     "text": [
      "[[0. 0. 0. 0. 0. 0. 0. 0. 0. 0.]\n",
      " [0. 0. 0. 0. 1. 0. 0. 0. 0. 0.]\n",
      " [0. 0. 0. 0. 0. 1. 0. 0. 0. 0.]\n",
      " [0. 1. 0. 0. 0. 0. 0. 0. 0. 0.]\n",
      " [0. 0. 0. 1. 0. 0. 0. 0. 0. 0.]\n",
      " [0. 0. 0. 0. 0. 0. 1. 0. 0. 0.]\n",
      " [0. 0. 0. 0. 0. 0. 0. 0. 0. 0.]\n",
      " [0. 0. 0. 0. 0. 0. 0. 0. 0. 0.]\n",
      " [0. 0. 0. 1. 0. 0. 0. 0. 0. 0.]\n",
      " [0. 0. 0. 0. 0. 0. 0. 0. 0. 0.]]\n"
     ]
    }
   ],
   "source": [
    "n = 10\n",
    "p = np.random.randint(99)            # 0 to 99 random p\n",
    "Z = np.zeros((n,n))\n",
    "np.put(Z, np.random.choice(range(n*n), p, replace=False),1)\n",
    "print (Z)\n",
    "\n"
   ]
  },
  {
   "cell_type": "markdown",
   "metadata": {},
   "source": [
    "#### 58. Subtract the mean of each row of a matrix (★★☆)"
   ]
  },
  {
   "cell_type": "code",
   "execution_count": 110,
   "metadata": {},
   "outputs": [
    {
     "data": {
      "text/plain": [
       "array([[-0.75, -1.75,  1.25,  1.25],\n",
       "       [ 1.25,  1.25, -0.75, -1.75],\n",
       "       [ 0.75, -0.25, -0.25, -0.25],\n",
       "       [ 2.25, -0.75, -0.75, -0.75]])"
      ]
     },
     "execution_count": 110,
     "metadata": {},
     "output_type": "execute_result"
    }
   ],
   "source": [
    "a = np.random.randint(5, size=(4, 4))\n",
    "Y = a - a.mean(axis=1, keepdims=True)\n",
    "Y"
   ]
  },
  {
   "cell_type": "markdown",
   "metadata": {},
   "source": [
    "#### 59. How to sort an array by the nth column? (★★☆)"
   ]
  },
  {
   "cell_type": "code",
   "execution_count": 112,
   "metadata": {},
   "outputs": [
    {
     "name": "stdout",
     "output_type": "stream",
     "text": [
      "[[ 6  3 -2  7]\n",
      " [-7  8  9 -1]\n",
      " [ 5 -3  4 -1]\n",
      " [ 2 -5  8 -7]]\n",
      "[[ 2 -5  8 -7]\n",
      " [ 5 -3  4 -1]\n",
      " [ 6  3 -2  7]\n",
      " [-7  8  9 -1]]\n",
      "[[-7  8  9 -1]\n",
      " [ 6  3 -2  7]\n",
      " [ 5 -3  4 -1]\n",
      " [ 2 -5  8 -7]]\n"
     ]
    }
   ],
   "source": [
    "Z = np.random.randint(-10,10,(4,4))\n",
    "print(Z)\n",
    "print(Z[Z[:,1].argsort()])\n",
    "# print(Z[Z[:,1].argsort()[::-1]])\n",
    " \n"
   ]
  },
  {
   "cell_type": "markdown",
   "metadata": {},
   "source": [
    "#### 60. How to tell if a given 2D array has null columns? (★★☆)"
   ]
  },
  {
   "cell_type": "code",
   "execution_count": 6,
   "metadata": {},
   "outputs": [
    {
     "name": "stdout",
     "output_type": "stream",
     "text": [
      "[False False False False False False False False False False]\n"
     ]
    }
   ],
   "source": [
    "arr = np.random.randint(0,3,(10,10))   #10*10 2d matrix\n",
    "print((~arr.any(axis=0).any()))"
   ]
  },
  {
   "cell_type": "markdown",
   "metadata": {},
   "source": [
    "#### 61. Find the nearest value from a given value in an array (★★☆)"
   ]
  },
  {
   "cell_type": "code",
   "execution_count": 11,
   "metadata": {},
   "outputs": [
    {
     "name": "stdout",
     "output_type": "stream",
     "text": [
      "[3.03605198 7.76176616 9.14907604 5.61966427 1.94976654]\n",
      "7.761766164803128\n"
     ]
    }
   ],
   "source": [
    "x = np.random.uniform(1, 12, 5)                 # uniform distribution (low, high, size)\n",
    "print(x)\n",
    "\n",
    "value = 4\n",
    "n = x.flat[np.abs(x - value).argmin()]          # A 1-D iterator over the array. x.flat[1]  returns 1th value. more significant in elements in  multidimension array\n"
   ]
  },
  {
   "cell_type": "markdown",
   "metadata": {},
   "source": [
    "#### 62. Considering two arrays with shape (1,3) and (3,1), how to compute their sum using an iterator? (★★☆)"
   ]
  },
  {
   "cell_type": "code",
   "execution_count": 57,
   "metadata": {
    "scrolled": true
   },
   "outputs": [
    {
     "name": "stdout",
     "output_type": "stream",
     "text": [
      "easy way\n",
      " [[14.1234759  12.2646279  10.88801354]\n",
      " [11.59331868  9.73447068  8.35785632]\n",
      " [14.05241726 12.19356926 10.8169549 ]]\n",
      "k\n",
      " [[14.1234759  11.59331868 14.05241726]\n",
      " [12.2646279   9.73447068 12.19356926]\n",
      " [10.88801354  8.35785632 10.8169549 ]]\n"
     ]
    }
   ],
   "source": [
    "x = np.random.uniform(1, 12, 3)   # np.random.randint(maxVal, size=(rows, columns))\n",
    "y = np.random.uniform(1, 12, 3).reshape(3,1) \n",
    "k = np.zeros((3,3))\n",
    "print(\"easy way\\n\",x+y) #\n",
    "for i in range(0,len(x)):\n",
    "    for j in range(0,len(y)):\n",
    "        k[i][j] = x[i]+y[j]\n",
    "print(\"using iteration: k\\n\",k)"
   ]
  },
  {
   "cell_type": "markdown",
   "metadata": {},
   "source": [
    "    #### 63. Create an array class that has a name attribute (★★☆)"
   ]
  },
  {
   "cell_type": "code",
   "execution_count": 27,
   "metadata": {},
   "outputs": [
    {
     "name": "stdout",
     "output_type": "stream",
     "text": [
      "Hey\n",
      "Jan\n",
      "Jon\n",
      "Antonio\n",
      "Alessio m\n"
     ]
    }
   ],
   "source": [
    "class array_class(): \n",
    "    def __init__(self, name): \n",
    "        self.name = name\n",
    "\n"
   ]
  },
  {
   "cell_type": "markdown",
   "metadata": {},
   "source": [
    "#### 64. Consider a given vector, how to add 1 to each element indexed by a second vector (be careful with repeated indices)? (★★★)"
   ]
  },
  {
   "cell_type": "code",
   "execution_count": 52,
   "metadata": {},
   "outputs": [
    {
     "name": "stdout",
     "output_type": "stream",
     "text": [
      "[6 4 4 2 8 1 2 4 9 0 4 1 4 9 0 5 7 0 5 7]\n",
      "[4. 3. 3. 1. 6. 3. 2. 3. 2. 3.]\n"
     ]
    }
   ],
   "source": [
    "ones = np.ones(10)\n",
    "rand_nums1 = np.random.randint(0,len(ones),20)\n",
    "print(rand_nums1)\n",
    "ones += np.bincount(rand_nums1, minlength=len(ones))      #In an array of +ve integers, the numpy.bincount() method \n",
    "print(ones)                                               #counts the occurrence of each element. \n",
    " \n"
   ]
  },
  {
   "cell_type": "markdown",
   "metadata": {},
   "source": [
    "#### 65. How to accumulate elements of a vector (X) to an array (F) based on an index list (I)? (★★★)"
   ]
  },
  {
   "cell_type": "code",
   "execution_count": 54,
   "metadata": {},
   "outputs": [
    {
     "name": "stdout",
     "output_type": "stream",
     "text": [
      "[0. 7. 0. 6. 5. 0. 0. 0. 0. 3.]\n"
     ]
    }
   ],
   "source": [
    "X = [1,2,3,4,5,6]\n",
    "I = [1,3,9,3,4,1]\n",
    "F = np.bincount(I,X)          #Syntax : numpy.bincount(arr, weights = None, min_len = 0)\n",
    "print(F)\n"
   ]
  },
  {
   "cell_type": "markdown",
   "metadata": {},
   "source": [
    "#### 66. Considering a (w,h,3) image of (dtype=ubyte), compute the number of unique colors (★★★)"
   ]
  },
  {
   "cell_type": "code",
   "execution_count": 57,
   "metadata": {},
   "outputs": [
    {
     "name": "stdout",
     "output_type": "stream",
     "text": [
      "[0 1]\n"
     ]
    }
   ],
   "source": [
    "#(w,h,3) image means weight, height, channel = 3 \n",
    "#(dtype=ubyte) datatype unsigned int. \n",
    "\n",
    "w,h = 16, 16\n",
    "I = np.random.randint(0,2,(h,w,3)).astype(np.ubyte)\n",
    "F = I[...,0]*256*256 + I[...,1]*256 +I[...,2]\n",
    "n = len(np.unique(F))\n",
    "print(np.unique(I))\n",
    "\n",
    "#????"
   ]
  },
  {
   "cell_type": "markdown",
   "metadata": {},
   "source": [
    "#### 67. Considering a four dimensions array, how to get sum over the last two axis at once? (★★★)"
   ]
  },
  {
   "cell_type": "code",
   "execution_count": 58,
   "metadata": {},
   "outputs": [
    {
     "name": "stdout",
     "output_type": "stream",
     "text": [
      "[[48 52 53 49]\n",
      " [45 72 66 68]\n",
      " [55 49 54 53]]\n"
     ]
    }
   ],
   "source": [
    "A = np.random.randint(0,10,(3,4,3,4))\n",
    "sum = A.reshape(A.shape[:-2] + (-1,)).sum(axis=-1)\n",
    "print(sum)\n"
   ]
  },
  {
   "cell_type": "markdown",
   "metadata": {},
   "source": [
    "#### 68. Considering a one-dimensional vector D, how to compute means of subsets of D using a vector S of same size describing subset  indices? (★★★)"
   ]
  },
  {
   "cell_type": "code",
   "execution_count": 59,
   "metadata": {},
   "outputs": [
    {
     "name": "stdout",
     "output_type": "stream",
     "text": [
      "[0.59383086 0.62030533 0.47966611 0.39895689 0.48651281 0.50177571\n",
      " 0.58021555 0.54764652 0.48275058 0.63657919]\n"
     ]
    }
   ],
   "source": [
    "D = np.random.uniform(0,1,100)\n",
    "S = np.random.randint(0,10,100)\n",
    "D_sums = np.bincount(S, weights=D)\n",
    "D_counts = np.bincount(S)\n",
    "D_means = D_sums / D_counts\n",
    "print(D_means)\n"
   ]
  },
  {
   "cell_type": "markdown",
   "metadata": {},
   "source": [
    "#### 69. How to get the diagonal of a dot product? (★★★)"
   ]
  },
  {
   "cell_type": "code",
   "execution_count": 60,
   "metadata": {},
   "outputs": [
    {
     "data": {
      "text/plain": [
       "array([16, 49, 19])"
      ]
     },
     "execution_count": 60,
     "metadata": {},
     "output_type": "execute_result"
    }
   ],
   "source": [
    "A = np.random.randint(0,10,(3,3))\n",
    "B= np.random.randint(0,10,(3,3))\n",
    "#Slow version\n",
    "\n",
    "np.diag(np.dot(A, B))\n",
    "\n",
    "# Fast version\n",
    "np.sum(A * B.T, axis=1)\n",
    "\n",
    "# Faster version\n",
    "np.einsum(\"ij,ji->i\", A, B)\n",
    "\n"
   ]
  },
  {
   "cell_type": "markdown",
   "metadata": {},
   "source": [
    "#### 70. Consider the vector \\[1, 2, 3, 4, 5\\], how to build a new vector with 3 consecutive zeros interleaved between each value? (★★★)"
   ]
  },
  {
   "cell_type": "code",
   "execution_count": 14,
   "metadata": {},
   "outputs": [
    {
     "name": "stdout",
     "output_type": "stream",
     "text": [
      "[1. 0. 0. 0. 2. 0. 0. 0. 3. 0. 0. 0. 4. 0. 0. 0. 5.]\n"
     ]
    }
   ],
   "source": [
    "Z = np.array([1,2,3,4,5])\n",
    "nz = 3\n",
    "Z0 = np.zeros(len(Z) + (len(Z)-1)*(nz))\n",
    "Z0[::nz+1] = Z\n",
    "print(Z0)\n"
   ]
  },
  {
   "cell_type": "markdown",
   "metadata": {},
   "source": [
    "#### 71. Consider an array of dimension (5,5,3), how to mulitply it by an array with dimensions (5,5)? (★★★)"
   ]
  },
  {
   "cell_type": "code",
   "execution_count": 13,
   "metadata": {},
   "outputs": [
    {
     "name": "stdout",
     "output_type": "stream",
     "text": [
      "[[[2. 2. 2.]\n",
      "  [2. 2. 2.]\n",
      "  [2. 2. 2.]\n",
      "  [2. 2. 2.]\n",
      "  [2. 2. 2.]]\n",
      "\n",
      " [[2. 2. 2.]\n",
      "  [2. 2. 2.]\n",
      "  [2. 2. 2.]\n",
      "  [2. 2. 2.]\n",
      "  [2. 2. 2.]]\n",
      "\n",
      " [[2. 2. 2.]\n",
      "  [2. 2. 2.]\n",
      "  [2. 2. 2.]\n",
      "  [2. 2. 2.]\n",
      "  [2. 2. 2.]]\n",
      "\n",
      " [[2. 2. 2.]\n",
      "  [2. 2. 2.]\n",
      "  [2. 2. 2.]\n",
      "  [2. 2. 2.]\n",
      "  [2. 2. 2.]]\n",
      "\n",
      " [[2. 2. 2.]\n",
      "  [2. 2. 2.]\n",
      "  [2. 2. 2.]\n",
      "  [2. 2. 2.]\n",
      "  [2. 2. 2.]]]\n"
     ]
    }
   ],
   "source": [
    "A = np.ones((5,5,3))\n",
    "B = 2*np.ones((5,5))\n",
    "print(A * B[:,:,None])\n"
   ]
  },
  {
   "cell_type": "markdown",
   "metadata": {},
   "source": [
    "#### 72. How to swap two rows of an array? (★★★)"
   ]
  },
  {
   "cell_type": "code",
   "execution_count": 350,
   "metadata": {},
   "outputs": [
    {
     "name": "stdout",
     "output_type": "stream",
     "text": [
      "[[ 0  1  2  3  4]\n",
      " [ 5  6  7  8  9]\n",
      " [10 11 12 13 14]\n",
      " [15 16 17 18 19]\n",
      " [20 21 22 23 24]]\n",
      "[[ 5  6  7  8  9]\n",
      " [ 0  1  2  3  4]\n",
      " [10 11 12 13 14]\n",
      " [15 16 17 18 19]\n",
      " [20 21 22 23 24]]\n"
     ]
    }
   ],
   "source": [
    "A = np.arange(25).reshape(5,5)\n",
    "print(A)\n",
    "A[[0,1]] = A[[1,0]]                  # say for example row 0 and 1 to swap\n",
    "print(A)\n"
   ]
  },
  {
   "cell_type": "markdown",
   "metadata": {},
   "source": [
    "#### 73. Consider a set of 10 triplets describing 10 triangles (with shared vertices), find the set of unique line segments composing all the  triangles (★★★)"
   ]
  },
  {
   "cell_type": "code",
   "execution_count": 15,
   "metadata": {},
   "outputs": [
    {
     "name": "stdout",
     "output_type": "stream",
     "text": [
      "[[82 14 18]\n",
      " [22 66 59]\n",
      " [88 68 59]\n",
      " [21 40 85]\n",
      " [41 46  8]\n",
      " [95 24 88]\n",
      " [88 29 25]\n",
      " [89 97  7]\n",
      " [26 60 52]\n",
      " [98 97 58]]\n",
      "[( 7, 89) ( 7, 97) ( 8, 41) ( 8, 46) (14, 18) (14, 82) (18, 82) (21, 40)\n",
      " (21, 85) (22, 59) (22, 66) (24, 88) (24, 95) (25, 29) (25, 88) (26, 52)\n",
      " (26, 60) (29, 88) (40, 85) (41, 46) (52, 60) (58, 97) (58, 98) (59, 66)\n",
      " (59, 68) (59, 88) (68, 88) (88, 95) (89, 97) (97, 98)]\n"
     ]
    }
   ],
   "source": [
    "\n",
    "faces = np.random.randint(0,100,(10,3))\n",
    "print(faces)\n",
    "F = np.roll(faces.repeat(2,axis=1),-1,axis=1)           # The numpy.roll() function rolls array elements\n",
    "                                                        # along the specified axis. Basically what happens\n",
    "                                                        # is that elements of the input array are being shifted. \n",
    "                                                        # If an element is being rolled first to last-position, \n",
    "                                                        # it is rolled back to first-position.\n",
    "                                                        # Syntax : numpy.roll(array, shift, axis = None)\n",
    "F = F.reshape(len(F)*3,2)\n",
    "F = np.sort(F,axis=1)\n",
    "G = F.view( dtype=[('p0',F.dtype),('p1',F.dtype)] )\n",
    "G = np.unique(G)\n",
    "print(G)\n"
   ]
  },
  {
   "cell_type": "markdown",
   "metadata": {},
   "source": [
    "#### 74. Given an array C that is a bincount, how to produce an array A such that np.bincount(A) == C? (★★★)"
   ]
  },
  {
   "cell_type": "code",
   "execution_count": 16,
   "metadata": {},
   "outputs": [
    {
     "name": "stdout",
     "output_type": "stream",
     "text": [
      "[0 2 1 1 2 0 1]\n",
      "[0 2 1 1 2 0 1]\n",
      "[ True  True  True  True  True  True  True]\n"
     ]
    }
   ],
   "source": [
    "C = np.bincount([1,1,2,3,4,4,6])\n",
    "A = np.repeat(np.arange(len(C)), C)\n",
    "print(np.bincount(A))\n",
    "print(C)\n",
    "print(np.bincount(A) == C)\n"
   ]
  },
  {
   "cell_type": "markdown",
   "metadata": {},
   "source": [
    "#### 75. How to compute averages using a sliding window over an array? (★★★)"
   ]
  },
  {
   "cell_type": "code",
   "execution_count": 18,
   "metadata": {},
   "outputs": [
    {
     "name": "stdout",
     "output_type": "stream",
     "text": [
      "[1. 2. 3. 4. 5. 6. 7. 8.]\n",
      "[-51.   -16.25  -9.75 -15.25 -14.   -54.25 -44.25]\n"
     ]
    }
   ],
   "source": [
    "def moving_average(a, n=3) :\n",
    "    ret = np.cumsum(a, dtype=float)             # say window =3, cumsum is cumulative sum and stored in list     \n",
    "    ret[n:] = ret[n:] - ret[:-n]                # list of upto the window level:, subtracted with next window \n",
    "    return ret[n - 1:] / n\n",
    "\n",
    "ran_list1 = np.arange(10)\n",
    "ran_list2 = np.random.randint(-100,100,10)\n",
    "print(moving_average(ran_list1, n=3))\n",
    "print(moving_average(ran_list2, n=4))\n",
    "\n"
   ]
  },
  {
   "cell_type": "markdown",
   "metadata": {},
   "source": [
    "#### 76. Consider a one-dimensional array Z, build a two-dimensional array whose first row is (Z\\[0\\],Z\\[1\\],Z\\[2\\]) and each subsequent row is  shifted by 1 (last row should be (Z\\[-3\\],Z\\[-2\\],Z\\[-1\\]) (★★★)"
   ]
  },
  {
   "cell_type": "code",
   "execution_count": 19,
   "metadata": {},
   "outputs": [
    {
     "name": "stdout",
     "output_type": "stream",
     "text": [
      "[[0 1 2]\n",
      " [1 2 3]\n",
      " [2 3 4]\n",
      " [3 4 5]\n",
      " [4 5 6]\n",
      " [5 6 7]\n",
      " [6 7 8]\n",
      " [7 8 9]]\n"
     ]
    }
   ],
   "source": [
    "def rolling(a, window):\n",
    "    shape = (a.size - window + 1, window)\n",
    "    strides = (a.itemsize, a.itemsize)\n",
    "    return np.lib.stride_tricks.as_strided(a, shape=shape, strides=strides)\n",
    "Z = np.arange(10)\n",
    "Z = rolling(Z, 3)\n",
    "print(Z)\n"
   ]
  },
  {
   "cell_type": "markdown",
   "metadata": {},
   "source": [
    "#### 77. How to negate a boolean, or to change the sign of a float inplace? (★★★)"
   ]
  },
  {
   "cell_type": "code",
   "execution_count": 20,
   "metadata": {},
   "outputs": [
    {
     "name": "stdout",
     "output_type": "stream",
     "text": [
      "original: \n",
      "[0 1 1 1 0 0 0 0 0 0 1 0 0 1 1 1 0 1 0 0 1 0 0 1 0 1 1 1 0 0 1 0 1 0 0 1 1\n",
      " 0 0 1 1 1 1 0 1 1 1 1 1 1 1 1 0 0 0 1 0 1 1 1 0 1 0 0 1 1 1 1 1 1 0 1 0 0\n",
      " 1 0 0 1 0 0 0 0 1 1 1 0 0 1 1 1 0 0 1 1 0 1 0 0 1 0]\n",
      "Negating a boolean: \n",
      "[1 0 0 0 1 1 1 1 1 1 0 1 1 0 0 0 1 0 1 1 0 1 1 0 1 0 0 0 1 1 0 1 0 1 1 0 0\n",
      " 1 1 0 0 0 0 1 0 0 0 0 0 0 0 0 1 1 1 0 1 0 0 0 1 0 1 1 0 0 0 0 0 0 1 0 1 1\n",
      " 0 1 1 0 1 1 1 1 0 0 0 1 1 0 0 0 1 1 0 0 1 0 1 1 0 1]\n",
      "original: \n",
      "[ 0.25384286 -0.95390502  0.49426955 -0.56375108  0.34596956  0.10732138\n",
      "  0.13901287  0.7202074  -0.33755245  0.57047216]\n",
      "Change the sign of float inplace: \n",
      "[-0.25384286  0.95390502 -0.49426955  0.56375108 -0.34596956 -0.10732138\n",
      " -0.13901287 -0.7202074   0.33755245 -0.57047216]\n"
     ]
    }
   ],
   "source": [
    "Z = np.random.randint(0,2,100)\n",
    "print ('original: ')\n",
    "print (Z)\n",
    "print('Negating a boolean: ')\n",
    "print(np.logical_not(Z, out=Z))              # logical_and, logical_or, logical_not, bitwise_xor are available too\n",
    "\n",
    "Z = np.random.uniform(-1.0,1.0,10)\n",
    "print ('original: ')\n",
    "print (Z)\n",
    "print ('Change the sign of float inplace: ')\n",
    "print(np.negative(Z, out=Z))\n"
   ]
  },
  {
   "cell_type": "markdown",
   "metadata": {},
   "source": [
    "\n",
    "#### 78. Consider 2 sets of points P0,P1 describing lines (2d) and a point p, how to compute distance from p to each line i  (P0\\[i\\],P1\\[i\\])? (★★★)"
   ]
  },
  {
   "cell_type": "code",
   "execution_count": 24,
   "metadata": {},
   "outputs": [
    {
     "name": "stdout",
     "output_type": "stream",
     "text": [
      "\n",
      "P0\n",
      " [[-8.47453059  6.27854054]\n",
      " [-5.61101088 -8.5916504 ]\n",
      " [-4.35687382  3.02609809]\n",
      " [-2.97735616 -7.29320361]\n",
      " [ 9.13255099  9.03818374]\n",
      " [-0.76771301  1.71078224]\n",
      " [-3.1200302   1.98507246]\n",
      " [ 1.94797735 -2.31568408]\n",
      " [ 9.05387062  7.17582625]\n",
      " [-9.2974516   8.1231725 ]] \n",
      "P1\n",
      " [[ 5.92158771 -8.7797802 ]\n",
      " [ 4.83030031 -0.69601432]\n",
      " [ 7.9701297   1.51704344]\n",
      " [-6.07560978 -4.75085688]\n",
      " [-0.16651356  3.28641027]\n",
      " [ 1.36788329 -9.62206604]\n",
      " [ 0.32261578  9.28943639]\n",
      " [-7.3644045  -1.05606088]\n",
      " [ 6.3799858  -8.76923788]\n",
      " [-5.7825447  -6.83439341]] \n",
      "p [[-6.2688634  -7.38526573]]\n",
      "Distance: [ 7.847862    1.3590281  10.56654458  2.15911957  5.86577894  7.09044194\n",
      "  1.14656833  6.12523823 12.70355169  0.59944071]\n",
      "DistanceT: 10\n"
     ]
    },
    {
     "data": {
      "text/plain": [
       "[<matplotlib.lines.Line2D at 0x7f767b6c0790>]"
      ]
     },
     "execution_count": 24,
     "metadata": {},
     "output_type": "execute_result"
    },
    {
     "data": {
      "image/png": "[encoded data removed]",
      "text/plain": [
       "<Figure size 432x288 with 1 Axes>"
      ]
     },
     "metadata": {
      "needs_background": "light"
     },
     "output_type": "display_data"
    }
   ],
   "source": [
    "#https://stackoverflow.com/questions/849211/shortest-distance-between-a-point-and-a-line-segment\n",
    "# https://www.geeksforgeeks.org/minimum-distance-from-a-point-to-the-line-segment-using-vectors\n",
    "from matplotlib import pyplot as plt\n",
    "def distance(P0, P1, p):\n",
    "    T = P1 - P0\n",
    "    L = (T**2).sum(axis=1)\n",
    "    U = -((P0[:,0]-p[...,0])*T[:,0] + (P0[:,1]-p[...,1])*T[:,1]) / L             #  ????\n",
    "    U = U.reshape(len(U),1)\n",
    "    D = P0 + U*T - p\n",
    "    return np.sqrt((D**2).sum(axis=1))\n",
    "\n",
    "\n",
    "P0 = np.random.uniform(-10,10,(10,2))\n",
    "P1 = np.random.uniform(-10,10,(10,2))\n",
    "p  = np.random.uniform(-10,10,( 1,2))\n",
    "print(\"\\nP0\\n\",P0,\"\\nP1\\n\",P1,\"\\np\",p)\n",
    "x0 = p[0][0]\n",
    "y0 = p[0][1]\n",
    "print(\"Distance:\",distance(P0, P1, p))\n",
    "print(\"DistanceT:\",len(distance(P0, P1, p)))\n",
    "plt.plot(P0[0], P0[1])\n",
    "plt.plot(P1[0], P1[1])\n",
    "plt.plot(x0, y0, \"s\")\n",
    "plt.plot(distance(P0, P1, p), \"-o\")                                              #  ¯\\_(ツ)_/¯\n"
   ]
  },
  {
   "cell_type": "code",
   "execution_count": null,
   "metadata": {},
   "outputs": [],
   "source": []
  },
  {
   "cell_type": "code",
   "execution_count": null,
   "metadata": {},
   "outputs": [],
   "source": []
  },
  {
   "cell_type": "markdown",
   "metadata": {},
   "source": [
    "#### 79. Consider 2 sets of points P0,P1 describing lines (2d) and a set of points P, how to compute distance from each point j (P\\[j\\]) to each line i (P0\\[i\\],P1\\[i\\])? (★★★)"
   ]
  },
  {
   "cell_type": "code",
   "execution_count": 25,
   "metadata": {},
   "outputs": [
    {
     "name": "stdout",
     "output_type": "stream",
     "text": [
      "[[ 0.61445836  1.66025172  7.9927872   8.49233689  2.85786652]\n",
      " [ 8.97467188  3.44979104  3.1012713   7.42479129 11.9167212 ]\n",
      " [ 0.86979416  5.47536394  8.76058427 12.77989586  5.41863914]\n",
      " [ 0.93715126  0.16445218  7.20270871  6.31697987  1.30267204]\n",
      " [ 2.32267753  5.88927395  7.19540939 11.57879795  3.83852682]]\n"
     ]
    }
   ],
   "source": [
    "P0 = np.random.uniform(-10, 10, (5,2))\n",
    "P1 = np.random.uniform(-10,10,(5,2))\n",
    "p = np.random.uniform(-10, 10, (5,2))\n",
    "print (np.array([distance(P0,P1,p_i) for p_i in p]))\n"
   ]
  },
  {
   "cell_type": "markdown",
   "metadata": {},
   "source": [
    "#### 80. Consider an arbitrary array, write a function that extract a subpart with a fixed shape and centered on a given element (pad with a `fill` value when necessary) (★★★)"
   ]
  },
  {
   "cell_type": "code",
   "execution_count": 27,
   "metadata": {},
   "outputs": [
    {
     "name": "stdout",
     "output_type": "stream",
     "text": [
      "[[2 0 5 2 8 2 4 5 6 4]\n",
      " [0 4 5 7 1 8 2 0 2 1]\n",
      " [4 4 6 1 0 6 6 7 0 7]\n",
      " [8 0 6 1 0 6 0 0 4 6]\n",
      " [0 5 6 4 3 2 1 2 2 6]\n",
      " [7 8 8 6 8 8 6 6 2 4]\n",
      " [3 3 8 8 5 9 2 6 8 0]\n",
      " [6 3 8 2 0 4 8 1 1 2]\n",
      " [9 1 9 9 7 3 3 0 9 3]\n",
      " [0 3 6 8 9 7 1 9 7 4]]\n",
      "R\n",
      " [[0 0 0 0 0]\n",
      " [0 0 0 0 0]\n",
      " [0 0 0 0 0]\n",
      " [0 0 0 0 0]\n",
      " [0 0 0 0 0]]\n",
      "\n",
      "Z\n",
      " [[2 0 5 2 8 2 4 5 6 4]\n",
      " [0 4 5 7 1 8 2 0 2 1]\n",
      " [4 4 6 1 0 6 6 7 0 7]\n",
      " [8 0 6 1 0 6 0 0 4 6]\n",
      " [0 5 6 4 3 2 1 2 2 6]\n",
      " [7 8 8 6 8 8 6 6 2 4]\n",
      " [3 3 8 8 5 9 2 6 8 0]\n",
      " [6 3 8 2 0 4 8 1 1 2]\n",
      " [9 1 9 9 7 3 3 0 9 3]\n",
      " [0 3 6 8 9 7 1 9 7 4]] \n",
      "R\n",
      " [[0 0 0 0 0]\n",
      " [0 2 0 5 2]\n",
      " [0 0 4 5 7]\n",
      " [0 4 4 6 1]\n",
      " [0 8 0 6 1]]\n"
     ]
    },
    {
     "name": "stderr",
     "output_type": "stream",
     "text": [
      "<ipython-input-27-353a81a602d2>:25: FutureWarning: Using a non-tuple sequence for multidimensional indexing is deprecated; use `arr[tuple(seq)]` instead of `arr[seq]`. In the future this will be interpreted as an array index, `arr[np.array(seq)]`, which will result either in an error or a different result.\n",
      "  R[r] = Z[z]\n"
     ]
    }
   ],
   "source": [
    "Z = np.random.randint(0,10,(10,10))\n",
    "print(Z)\n",
    "shape = (5,5)\n",
    "fill  = 0\n",
    "position = (1,1)\n",
    "\n",
    "R = np.ones(shape, dtype=Z.dtype)*fill\n",
    "print(\"R\\n\",R)\n",
    "P  = np.array(list(position)).astype(int)\n",
    "Rs = np.array(list(R.shape)).astype(int)\n",
    "Zs = np.array(list(Z.shape)).astype(int)\n",
    "\n",
    "R_start = np.zeros((len(shape),)).astype(int)\n",
    "R_stop  = np.array(list(shape)).astype(int)\n",
    "Z_start = (P-Rs//2)\n",
    "Z_stop  = (P+Rs//2)+Rs%2\n",
    "\n",
    "R_start = (R_start - np.minimum(Z_start,0)).tolist()\n",
    "Z_start = (np.maximum(Z_start,0)).tolist()\n",
    "R_stop = np.maximum(R_start, (R_stop - np.maximum(Z_stop-Zs,0))).tolist()\n",
    "Z_stop = (np.minimum(Z_stop,Zs)).tolist()\n",
    "\n",
    "r = [slice(start,stop) for start,stop in zip(R_start,R_stop)]\n",
    "z = [slice(start,stop) for start,stop in zip(Z_start,Z_stop)]\n",
    "R[r] = Z[z]\n",
    "print(\"\\nZ\\n\",Z,\"\\nR\\n\",R)\n",
    "\n",
    "  "
   ]
  },
  {
   "cell_type": "markdown",
   "metadata": {},
   "source": [
    "#### 81. Consider an array Z = \\[1,2,3,4,5,6,7,8,9,10,11,12,13,14\\], how to generate an array R = \\[\\[1,2,3,4\\], \\[2,3,4,5\\], \\[3,4,5,6\\], ..., \\[11,12,13,14\\]\\]? (★★★)"
   ]
  },
  {
   "cell_type": "code",
   "execution_count": 28,
   "metadata": {},
   "outputs": [
    {
     "name": "stdout",
     "output_type": "stream",
     "text": [
      "Z\n",
      " [ 1  2  3  4  5  6  7  8  9 10 11 12 13 14]\n",
      "\n",
      "R\n",
      " [[ 1  2  3  4]\n",
      " [ 2  3  4  5]\n",
      " [ 3  4  5  6]\n",
      " [ 4  5  6  7]\n",
      " [ 5  6  7  8]\n",
      " [ 6  7  8  9]\n",
      " [ 7  8  9 10]\n",
      " [ 8  9 10 11]\n",
      " [ 9 10 11 12]\n",
      " [10 11 12 13]\n",
      " [11 12 13 14]]\n"
     ]
    }
   ],
   "source": [
    "Z = np.arange(1,15,dtype=int)\n",
    "print(\"Z\\n\",Z)\n",
    "def rolling(a, window):\n",
    "    shape = (a.size - window + 1, window)\n",
    "    strides = (a.itemsize, a.itemsize)\n",
    "    return np.lib.stride_tricks.as_strided(a, shape=shape, strides=strides)\n",
    "R = rolling(Z, 4)\n",
    "print(\"\\nR\\n\",R)"
   ]
  },
  {
   "cell_type": "markdown",
   "metadata": {},
   "source": [
    "#### 82. Compute a matrix rank (★★★)"
   ]
  },
  {
   "cell_type": "code",
   "execution_count": 30,
   "metadata": {},
   "outputs": [
    {
     "name": "stdout",
     "output_type": "stream",
     "text": [
      "3\n"
     ]
    }
   ],
   "source": [
    "A = np.array([[6, 1, 1],\n",
    "             [4,-2,5],\n",
    "             [2,8,7]])\n",
    "print(np.linalg.matrix_rank(A)) #https://numpy.org/doc/stable/reference/generated/numpy.linalg.matrix_rank.html"
   ]
  },
  {
   "cell_type": "markdown",
   "metadata": {},
   "source": [
    "#### 83. How to find the most frequent value in an array?"
   ]
  },
  {
   "cell_type": "code",
   "execution_count": 5,
   "metadata": {},
   "outputs": [
    {
     "name": "stdout",
     "output_type": "stream",
     "text": [
      "[4 3 4 9 9 3 9 0 3 5 1 8 3 5 9 6 6 6 6 9 8 2 2 0 9 7 6 1 8 9 3 9 4 3 5 3 4\n",
      " 5 0 0 3 5 3 9 6 9 9 4 3 1]\n",
      "Most frequent value: 9\n"
     ]
    }
   ],
   "source": [
    "Z = np.random.randint(0,10,50)\n",
    "print (Z)\n",
    "print('Most frequent value:', np.bincount(Z).argmax())\n"
   ]
  },
  {
   "cell_type": "markdown",
   "metadata": {},
   "source": [
    "#### 84. Extract all the contiguous 3x3 blocks from a random 10x10 matrix (★★★)"
   ]
  },
  {
   "cell_type": "code",
   "execution_count": 11,
   "metadata": {},
   "outputs": [
    {
     "name": "stdout",
     "output_type": "stream",
     "text": [
      "Original arrays:\n",
      "[[2 0 0 1 2 4 1 2 3 2]\n",
      " [4 0 1 4 4 1 1 1 2 2]\n",
      " [0 1 0 0 1 3 1 0 2 4]\n",
      " [4 2 1 3 4 4 3 2 4 2]\n",
      " [4 3 0 0 2 4 1 2 0 2]\n",
      " [4 1 1 3 4 4 3 3 3 0]\n",
      " [1 4 4 3 1 3 0 3 0 4]\n",
      " [0 4 2 3 2 4 0 2 3 2]\n",
      " [4 1 2 0 4 1 3 1 4 2]\n",
      " [1 2 1 4 2 3 3 2 2 0]]\n",
      "\n",
      "Contiguous 3x3 blocks:\n",
      "[[[[2 0 0]\n",
      "   [4 0 1]\n",
      "   [0 1 0]]\n",
      "\n",
      "  [[0 0 1]\n",
      "   [0 1 4]\n",
      "   [1 0 0]]\n",
      "\n",
      "  [[0 1 2]\n",
      "   [1 4 4]\n",
      "   [0 0 1]]\n",
      "\n",
      "  [[1 2 4]\n",
      "   [4 4 1]\n",
      "   [0 1 3]]\n",
      "\n",
      "  [[2 4 1]\n",
      "   [4 1 1]\n",
      "   [1 3 1]]\n",
      "\n",
      "  [[4 1 2]\n",
      "   [1 1 1]\n",
      "   [3 1 0]]\n",
      "\n",
      "  [[1 2 3]\n",
      "   [1 1 2]\n",
      "   [1 0 2]]\n",
      "\n",
      "  [[2 3 2]\n",
      "   [1 2 2]\n",
      "   [0 2 4]]]\n",
      "\n",
      "\n",
      " [[[4 0 1]\n",
      "   [0 1 0]\n",
      "   [4 2 1]]\n",
      "\n",
      "  [[0 1 4]\n",
      "   [1 0 0]\n",
      "   [2 1 3]]\n",
      "\n",
      "  [[1 4 4]\n",
      "   [0 0 1]\n",
      "   [1 3 4]]\n",
      "\n",
      "  [[4 4 1]\n",
      "   [0 1 3]\n",
      "   [3 4 4]]\n",
      "\n",
      "  [[4 1 1]\n",
      "   [1 3 1]\n",
      "   [4 4 3]]\n",
      "\n",
      "  [[1 1 1]\n",
      "   [3 1 0]\n",
      "   [4 3 2]]\n",
      "\n",
      "  [[1 1 2]\n",
      "   [1 0 2]\n",
      "   [3 2 4]]\n",
      "\n",
      "  [[1 2 2]\n",
      "   [0 2 4]\n",
      "   [2 4 2]]]\n",
      "\n",
      "\n",
      " [[[0 1 0]\n",
      "   [4 2 1]\n",
      "   [4 3 0]]\n",
      "\n",
      "  [[1 0 0]\n",
      "   [2 1 3]\n",
      "   [3 0 0]]\n",
      "\n",
      "  [[0 0 1]\n",
      "   [1 3 4]\n",
      "   [0 0 2]]\n",
      "\n",
      "  [[0 1 3]\n",
      "   [3 4 4]\n",
      "   [0 2 4]]\n",
      "\n",
      "  [[1 3 1]\n",
      "   [4 4 3]\n",
      "   [2 4 1]]\n",
      "\n",
      "  [[3 1 0]\n",
      "   [4 3 2]\n",
      "   [4 1 2]]\n",
      "\n",
      "  [[1 0 2]\n",
      "   [3 2 4]\n",
      "   [1 2 0]]\n",
      "\n",
      "  [[0 2 4]\n",
      "   [2 4 2]\n",
      "   [2 0 2]]]\n",
      "\n",
      "\n",
      " [[[4 2 1]\n",
      "   [4 3 0]\n",
      "   [4 1 1]]\n",
      "\n",
      "  [[2 1 3]\n",
      "   [3 0 0]\n",
      "   [1 1 3]]\n",
      "\n",
      "  [[1 3 4]\n",
      "   [0 0 2]\n",
      "   [1 3 4]]\n",
      "\n",
      "  [[3 4 4]\n",
      "   [0 2 4]\n",
      "   [3 4 4]]\n",
      "\n",
      "  [[4 4 3]\n",
      "   [2 4 1]\n",
      "   [4 4 3]]\n",
      "\n",
      "  [[4 3 2]\n",
      "   [4 1 2]\n",
      "   [4 3 3]]\n",
      "\n",
      "  [[3 2 4]\n",
      "   [1 2 0]\n",
      "   [3 3 3]]\n",
      "\n",
      "  [[2 4 2]\n",
      "   [2 0 2]\n",
      "   [3 3 0]]]\n",
      "\n",
      "\n",
      " [[[4 3 0]\n",
      "   [4 1 1]\n",
      "   [1 4 4]]\n",
      "\n",
      "  [[3 0 0]\n",
      "   [1 1 3]\n",
      "   [4 4 3]]\n",
      "\n",
      "  [[0 0 2]\n",
      "   [1 3 4]\n",
      "   [4 3 1]]\n",
      "\n",
      "  [[0 2 4]\n",
      "   [3 4 4]\n",
      "   [3 1 3]]\n",
      "\n",
      "  [[2 4 1]\n",
      "   [4 4 3]\n",
      "   [1 3 0]]\n",
      "\n",
      "  [[4 1 2]\n",
      "   [4 3 3]\n",
      "   [3 0 3]]\n",
      "\n",
      "  [[1 2 0]\n",
      "   [3 3 3]\n",
      "   [0 3 0]]\n",
      "\n",
      "  [[2 0 2]\n",
      "   [3 3 0]\n",
      "   [3 0 4]]]\n",
      "\n",
      "\n",
      " [[[4 1 1]\n",
      "   [1 4 4]\n",
      "   [0 4 2]]\n",
      "\n",
      "  [[1 1 3]\n",
      "   [4 4 3]\n",
      "   [4 2 3]]\n",
      "\n",
      "  [[1 3 4]\n",
      "   [4 3 1]\n",
      "   [2 3 2]]\n",
      "\n",
      "  [[3 4 4]\n",
      "   [3 1 3]\n",
      "   [3 2 4]]\n",
      "\n",
      "  [[4 4 3]\n",
      "   [1 3 0]\n",
      "   [2 4 0]]\n",
      "\n",
      "  [[4 3 3]\n",
      "   [3 0 3]\n",
      "   [4 0 2]]\n",
      "\n",
      "  [[3 3 3]\n",
      "   [0 3 0]\n",
      "   [0 2 3]]\n",
      "\n",
      "  [[3 3 0]\n",
      "   [3 0 4]\n",
      "   [2 3 2]]]\n",
      "\n",
      "\n",
      " [[[1 4 4]\n",
      "   [0 4 2]\n",
      "   [4 1 2]]\n",
      "\n",
      "  [[4 4 3]\n",
      "   [4 2 3]\n",
      "   [1 2 0]]\n",
      "\n",
      "  [[4 3 1]\n",
      "   [2 3 2]\n",
      "   [2 0 4]]\n",
      "\n",
      "  [[3 1 3]\n",
      "   [3 2 4]\n",
      "   [0 4 1]]\n",
      "\n",
      "  [[1 3 0]\n",
      "   [2 4 0]\n",
      "   [4 1 3]]\n",
      "\n",
      "  [[3 0 3]\n",
      "   [4 0 2]\n",
      "   [1 3 1]]\n",
      "\n",
      "  [[0 3 0]\n",
      "   [0 2 3]\n",
      "   [3 1 4]]\n",
      "\n",
      "  [[3 0 4]\n",
      "   [2 3 2]\n",
      "   [1 4 2]]]\n",
      "\n",
      "\n",
      " [[[0 4 2]\n",
      "   [4 1 2]\n",
      "   [1 2 1]]\n",
      "\n",
      "  [[4 2 3]\n",
      "   [1 2 0]\n",
      "   [2 1 4]]\n",
      "\n",
      "  [[2 3 2]\n",
      "   [2 0 4]\n",
      "   [1 4 2]]\n",
      "\n",
      "  [[3 2 4]\n",
      "   [0 4 1]\n",
      "   [4 2 3]]\n",
      "\n",
      "  [[2 4 0]\n",
      "   [4 1 3]\n",
      "   [2 3 3]]\n",
      "\n",
      "  [[4 0 2]\n",
      "   [1 3 1]\n",
      "   [3 3 2]]\n",
      "\n",
      "  [[0 2 3]\n",
      "   [3 1 4]\n",
      "   [3 2 2]]\n",
      "\n",
      "  [[2 3 2]\n",
      "   [1 4 2]\n",
      "   [2 2 0]]]]\n"
     ]
    }
   ],
   "source": [
    "# https://stackoverflow.com/questions/26998223/what-is-the-difference-between-contiguous-and-non-contiguous-arrays\n",
    "arra1 = np.random.randint(0,5,(10,10))\n",
    "print(\"Original arrays:\")\n",
    "print(arra1)\n",
    "n = 3\n",
    "i = 1 + (arra1.shape[0]-3)\n",
    "j = 1 + (arra1.shape[1]-3)\n",
    "result = np.lib.stride_tricks.as_strided(arra1, shape=(i, j, n, n), strides = arra1.strides + arra1.strides)\n",
    "print(\"\\nContiguous 3x3 blocks:\")\n",
    "print(result)"
   ]
  },
  {
   "cell_type": "markdown",
   "metadata": {},
   "source": [
    "#### 85. Create a 2D array subclass such that Z\\[i,j\\] == Z\\[j,i\\] (★★★)"
   ]
  },
  {
   "cell_type": "code",
   "execution_count": 20,
   "metadata": {},
   "outputs": [
    {
     "name": "stdout",
     "output_type": "stream",
     "text": [
      "[[0 1 3 0 8]\n",
      " [7 9 3 7 3]\n",
      " [4 8 8 4 2]\n",
      " [5 0 6 8 1]\n",
      " [7 6 3 9 4]]\n",
      "[[ 0  8  7  5 15]\n",
      " [ 8  9 11  7  9]\n",
      " [ 7 11  8 10  5]\n",
      " [ 5  7 10  8 10]\n",
      " [15  9  5 10  4]]\n"
     ]
    }
   ],
   "source": [
    "class Symetric(np.ndarray):\n",
    "    def __setitem__(self, i,j, value):\n",
    "        super(Symetric, self).__setitem__((i,j), value)\n",
    "        super(Symetric, self).__setitem__((j,i), value)\n",
    "\n",
    "def symetric(Z):\n",
    "    return np.asarray(Z + Z.T - np.diag(Z.diagonal())).view(Symetric)\n",
    "\n",
    "rand_a = np.random.randint(0,10,(5,5))\n",
    "print(rand_a)\n",
    "S = symetric(rand_a)\n",
    "print(S)\n"
   ]
  },
  {
   "cell_type": "markdown",
   "metadata": {},
   "source": [
    "#### 86. Consider a set of p matrices with shape (n,n) and a set of p vectors with shape (n,1). How to compute the sum of of the p matrix products at once? (result has shape (n,1)) (★★★)"
   ]
  },
  {
   "cell_type": "code",
   "execution_count": 23,
   "metadata": {},
   "outputs": [
    {
     "name": "stdout",
     "output_type": "stream",
     "text": [
      "[[5.]\n",
      " [5.]\n",
      " [5.]\n",
      " [5.]\n",
      " [5.]]\n"
     ]
    }
   ],
   "source": [
    "# https://stackoverflow.com/questions/41870228/understanding-tensordot\n",
    "# https://numpy.org/doc/stable/reference/generated/numpy.tensordot.html\n",
    "\n",
    "p, n = 1, 5\n",
    "M = np.ones((p,n,n))\n",
    "V = np.ones((p,n,1))\n",
    "S = np.tensordot(M, V, axes=[[0, 2], [0, 1]])\n",
    "print(S)\n"
   ]
  },
  {
   "cell_type": "markdown",
   "metadata": {},
   "source": [
    "#### 87. Consider a 16x16 array, how to get the block-sum (block size is 4x4)? (★★★)"
   ]
  },
  {
   "cell_type": "code",
   "execution_count": 53,
   "metadata": {},
   "outputs": [
    {
     "name": "stdout",
     "output_type": "stream",
     "text": [
      "input array\n",
      "[[1. 1. 1. 1. 1. 1. 1. 1. 1. 1. 1. 1. 1. 1. 1. 1.]\n",
      " [1. 1. 1. 1. 1. 1. 1. 1. 1. 1. 1. 1. 1. 1. 1. 1.]\n",
      " [1. 1. 1. 1. 1. 1. 1. 1. 1. 1. 1. 1. 1. 1. 1. 1.]\n",
      " [1. 1. 1. 1. 1. 1. 1. 1. 1. 1. 1. 1. 1. 1. 1. 1.]\n",
      " [1. 1. 1. 1. 1. 1. 1. 1. 1. 1. 1. 1. 1. 1. 1. 1.]\n",
      " [1. 1. 1. 1. 1. 1. 1. 1. 1. 1. 1. 1. 1. 1. 1. 1.]\n",
      " [1. 1. 1. 1. 1. 1. 1. 1. 1. 1. 1. 1. 1. 1. 1. 1.]\n",
      " [1. 1. 1. 1. 1. 1. 1. 1. 1. 1. 1. 1. 1. 1. 1. 1.]\n",
      " [1. 1. 1. 1. 1. 1. 1. 1. 1. 1. 1. 1. 1. 1. 1. 1.]\n",
      " [1. 1. 1. 1. 1. 1. 1. 1. 1. 1. 1. 1. 1. 1. 1. 1.]\n",
      " [1. 1. 1. 1. 1. 1. 1. 1. 1. 1. 1. 1. 1. 1. 1. 1.]\n",
      " [1. 1. 1. 1. 1. 1. 1. 1. 1. 1. 1. 1. 1. 1. 1. 1.]\n",
      " [1. 1. 1. 1. 1. 1. 1. 1. 1. 1. 1. 1. 1. 1. 1. 1.]\n",
      " [1. 1. 1. 1. 1. 1. 1. 1. 1. 1. 1. 1. 1. 1. 1. 1.]\n",
      " [1. 1. 1. 1. 1. 1. 1. 1. 1. 1. 1. 1. 1. 1. 1. 1.]\n",
      " [1. 1. 1. 1. 1. 1. 1. 1. 1. 1. 1. 1. 1. 1. 1. 1.]]\n",
      "block sum\n",
      "[[16. 16. 16. 16.]\n",
      " [16. 16. 16. 16.]\n",
      " [16. 16. 16. 16.]\n",
      " [16. 16. 16. 16.]]\n"
     ]
    }
   ],
   "source": [
    "Z = np.ones((16,16))\n",
    "k = 4\n",
    "S = np.add.reduceat(np.add.reduceat(Z, np.arange(0, Z.shape[0], k), axis=0),\n",
    "                                       np.arange(0, Z.shape[1], k), axis=1)\n",
    "print ('input array')\n",
    "print (Z)\n",
    "print ('block sum')\n",
    "print (S)\n",
    "\n"
   ]
  },
  {
   "cell_type": "markdown",
   "metadata": {},
   "source": [
    "#### 88. How to implement the Game of Life using numpy arrays? (★★★)"
   ]
  },
  {
   "cell_type": "code",
   "execution_count": 54,
   "metadata": {},
   "outputs": [
    {
     "name": "stdout",
     "output_type": "stream",
     "text": [
      "[[0 0 0 ... 0 0 0]\n",
      " [0 0 0 ... 0 0 0]\n",
      " [0 1 1 ... 0 0 0]\n",
      " ...\n",
      " [0 0 0 ... 1 0 0]\n",
      " [0 0 1 ... 1 0 0]\n",
      " [0 0 0 ... 0 0 0]]\n",
      "[[0 0 0 ... 0 0 0]\n",
      " [0 0 0 ... 0 0 0]\n",
      " [0 0 0 ... 0 0 0]\n",
      " ...\n",
      " [0 0 0 ... 1 0 0]\n",
      " [0 0 0 ... 1 0 0]\n",
      " [0 0 0 ... 0 0 0]]\n",
      "[[0 0 0 ... 0 0 0]\n",
      " [0 0 0 ... 0 0 0]\n",
      " [0 0 0 ... 0 0 0]\n",
      " ...\n",
      " [0 0 0 ... 1 0 0]\n",
      " [0 0 0 ... 1 0 0]\n",
      " [0 0 0 ... 0 0 0]]\n",
      "[[0 0 0 ... 0 0 0]\n",
      " [0 0 0 ... 0 0 0]\n",
      " [0 0 0 ... 0 0 0]\n",
      " ...\n",
      " [0 0 0 ... 1 0 0]\n",
      " [0 0 0 ... 0 0 0]\n",
      " [0 0 0 ... 0 0 0]]\n",
      "[[0 0 0 ... 0 0 0]\n",
      " [0 0 0 ... 0 0 0]\n",
      " [0 0 0 ... 1 0 0]\n",
      " ...\n",
      " [0 0 0 ... 1 0 0]\n",
      " [0 0 0 ... 0 0 0]\n",
      " [0 0 0 ... 0 0 0]]\n",
      "[[0 0 0 ... 0 0 0]\n",
      " [0 0 0 ... 0 0 0]\n",
      " [0 0 0 ... 1 0 0]\n",
      " ...\n",
      " [0 0 0 ... 1 0 0]\n",
      " [0 0 0 ... 0 0 0]\n",
      " [0 0 0 ... 0 0 0]]\n",
      "[[0 0 0 ... 0 0 0]\n",
      " [0 0 0 ... 1 0 0]\n",
      " [0 0 0 ... 1 0 0]\n",
      " ...\n",
      " [0 0 0 ... 1 0 0]\n",
      " [0 0 0 ... 1 0 0]\n",
      " [0 0 0 ... 0 0 0]]\n",
      "[[0 0 0 ... 0 0 0]\n",
      " [0 0 0 ... 0 0 0]\n",
      " [0 0 0 ... 1 1 0]\n",
      " ...\n",
      " [0 0 0 ... 0 1 0]\n",
      " [0 0 0 ... 1 0 0]\n",
      " [0 0 0 ... 0 0 0]]\n",
      "[[0 0 0 ... 0 0 0]\n",
      " [0 0 0 ... 0 0 0]\n",
      " [0 0 0 ... 1 1 0]\n",
      " ...\n",
      " [0 0 0 ... 1 1 0]\n",
      " [0 0 0 ... 0 0 0]\n",
      " [0 0 0 ... 0 0 0]]\n",
      "[[0 0 0 ... 0 0 0]\n",
      " [0 0 0 ... 0 0 0]\n",
      " [0 0 0 ... 1 1 0]\n",
      " ...\n",
      " [0 0 0 ... 0 1 0]\n",
      " [0 0 0 ... 1 0 0]\n",
      " [0 0 0 ... 0 0 0]]\n",
      "[[0 0 0 ... 0 0 0]\n",
      " [0 0 0 ... 0 0 0]\n",
      " [0 0 0 ... 1 1 0]\n",
      " ...\n",
      " [0 0 0 ... 1 0 0]\n",
      " [0 0 0 ... 1 0 0]\n",
      " [0 0 0 ... 0 0 0]]\n",
      "[[0 0 0 ... 0 0 0]\n",
      " [0 0 0 ... 0 0 0]\n",
      " [0 0 0 ... 1 1 0]\n",
      " ...\n",
      " [0 0 0 ... 1 1 0]\n",
      " [0 0 0 ... 1 0 0]\n",
      " [0 0 0 ... 0 0 0]]\n",
      "[[0 0 0 ... 0 0 0]\n",
      " [0 0 0 ... 0 0 0]\n",
      " [0 0 0 ... 1 1 0]\n",
      " ...\n",
      " [0 0 0 ... 0 1 0]\n",
      " [0 0 0 ... 0 1 0]\n",
      " [0 0 0 ... 0 0 0]]\n",
      "[[0 0 0 ... 0 0 0]\n",
      " [0 0 0 ... 0 0 0]\n",
      " [0 0 0 ... 1 1 0]\n",
      " ...\n",
      " [0 0 0 ... 0 0 0]\n",
      " [0 0 0 ... 0 0 0]\n",
      " [0 0 0 ... 0 0 0]]\n",
      "[[0 0 0 ... 0 0 0]\n",
      " [0 0 0 ... 0 0 0]\n",
      " [0 0 0 ... 1 1 0]\n",
      " ...\n",
      " [0 0 0 ... 0 0 0]\n",
      " [0 0 0 ... 0 0 0]\n",
      " [0 0 0 ... 0 0 0]]\n",
      "[[0 0 0 ... 0 0 0]\n",
      " [0 0 0 ... 0 0 0]\n",
      " [0 0 0 ... 1 1 0]\n",
      " ...\n",
      " [0 0 0 ... 0 0 0]\n",
      " [0 0 0 ... 0 0 0]\n",
      " [0 0 0 ... 0 0 0]]\n",
      "[[0 0 0 ... 0 0 0]\n",
      " [0 0 0 ... 0 0 0]\n",
      " [0 0 0 ... 1 1 0]\n",
      " ...\n",
      " [0 0 0 ... 0 0 0]\n",
      " [0 0 0 ... 0 0 0]\n",
      " [0 0 0 ... 0 0 0]]\n",
      "[[0 0 0 ... 0 0 0]\n",
      " [0 0 0 ... 0 0 0]\n",
      " [0 0 0 ... 1 1 0]\n",
      " ...\n",
      " [0 0 0 ... 0 0 0]\n",
      " [0 0 0 ... 0 0 0]\n",
      " [0 0 0 ... 0 0 0]]\n",
      "[[0 0 0 ... 0 0 0]\n",
      " [0 0 0 ... 0 0 0]\n",
      " [0 0 0 ... 1 1 0]\n",
      " ...\n",
      " [0 0 0 ... 0 0 0]\n",
      " [0 0 0 ... 0 0 0]\n",
      " [0 0 0 ... 0 0 0]]\n",
      "[[0 0 0 ... 0 0 0]\n",
      " [0 0 0 ... 0 0 0]\n",
      " [0 0 0 ... 1 1 0]\n",
      " ...\n",
      " [0 0 0 ... 0 0 0]\n",
      " [0 0 0 ... 0 0 0]\n",
      " [0 0 0 ... 0 0 0]]\n",
      "[[0 0 0 ... 0 0 0]\n",
      " [0 0 0 ... 0 0 0]\n",
      " [0 0 0 ... 1 1 0]\n",
      " ...\n",
      " [0 0 0 ... 0 0 0]\n",
      " [0 0 0 ... 0 0 0]\n",
      " [0 0 0 ... 0 0 0]]\n",
      "[[0 0 0 ... 0 0 0]\n",
      " [0 0 0 ... 0 0 0]\n",
      " [0 0 0 ... 1 1 0]\n",
      " ...\n",
      " [0 0 0 ... 0 0 0]\n",
      " [0 0 0 ... 0 0 0]\n",
      " [0 0 0 ... 0 0 0]]\n",
      "[[0 0 0 ... 0 0 0]\n",
      " [0 0 0 ... 0 0 0]\n",
      " [0 0 0 ... 1 1 0]\n",
      " ...\n",
      " [0 0 0 ... 0 0 0]\n",
      " [0 0 0 ... 0 0 0]\n",
      " [0 0 0 ... 0 0 0]]\n",
      "[[0 0 0 ... 0 0 0]\n",
      " [0 0 0 ... 0 0 0]\n",
      " [0 0 0 ... 1 1 0]\n",
      " ...\n",
      " [0 0 0 ... 0 0 0]\n",
      " [0 0 0 ... 0 0 0]\n",
      " [0 0 0 ... 0 0 0]]\n",
      "[[0 0 0 ... 0 0 0]\n",
      " [0 0 0 ... 0 0 0]\n",
      " [0 0 0 ... 1 1 0]\n",
      " ...\n",
      " [0 0 0 ... 0 0 0]\n",
      " [0 0 0 ... 0 0 0]\n",
      " [0 0 0 ... 0 0 0]]\n",
      "[[0 0 0 ... 0 0 0]\n",
      " [0 0 0 ... 0 0 0]\n",
      " [0 0 0 ... 1 1 0]\n",
      " ...\n",
      " [0 0 0 ... 0 0 0]\n",
      " [0 0 0 ... 0 0 0]\n",
      " [0 0 0 ... 0 0 0]]\n",
      "[[0 0 0 ... 0 0 0]\n",
      " [0 0 0 ... 0 0 0]\n",
      " [0 0 0 ... 1 1 0]\n",
      " ...\n",
      " [0 0 0 ... 0 0 0]\n",
      " [0 0 0 ... 0 0 0]\n",
      " [0 0 0 ... 0 0 0]]\n",
      "[[0 0 0 ... 0 0 0]\n",
      " [0 0 0 ... 0 0 0]\n",
      " [0 0 0 ... 1 1 0]\n",
      " ...\n",
      " [0 0 0 ... 0 0 0]\n",
      " [0 0 0 ... 0 0 0]\n",
      " [0 0 0 ... 0 0 0]]\n",
      "[[0 0 0 ... 0 0 0]\n",
      " [0 0 0 ... 0 0 0]\n",
      " [0 0 0 ... 1 1 0]\n",
      " ...\n",
      " [0 0 0 ... 0 0 0]\n",
      " [0 0 0 ... 0 0 0]\n",
      " [0 0 0 ... 0 0 0]]\n",
      "[[0 0 0 ... 0 0 0]\n",
      " [0 0 0 ... 0 0 0]\n",
      " [0 0 0 ... 1 1 0]\n",
      " ...\n",
      " [0 0 0 ... 0 0 0]\n",
      " [0 0 0 ... 0 0 0]\n",
      " [0 0 0 ... 0 0 0]]\n",
      "[[0 0 0 ... 0 0 0]\n",
      " [0 0 0 ... 0 0 0]\n",
      " [0 0 0 ... 1 1 0]\n",
      " ...\n",
      " [0 0 0 ... 0 0 0]\n",
      " [0 0 0 ... 0 0 0]\n",
      " [0 0 0 ... 0 0 0]]\n",
      "[[0 0 0 ... 0 0 0]\n",
      " [0 0 0 ... 0 0 0]\n",
      " [0 0 0 ... 1 1 0]\n",
      " ...\n",
      " [0 0 0 ... 0 0 0]\n",
      " [0 0 0 ... 0 0 0]\n",
      " [0 0 0 ... 0 0 0]]\n",
      "[[0 0 0 ... 0 0 0]\n",
      " [0 0 0 ... 0 0 0]\n",
      " [0 0 0 ... 1 1 0]\n",
      " ...\n",
      " [0 0 0 ... 0 0 0]\n",
      " [0 0 0 ... 0 0 0]\n",
      " [0 0 0 ... 0 0 0]]\n",
      "[[0 0 0 ... 0 0 0]\n",
      " [0 0 0 ... 0 0 0]\n",
      " [0 0 0 ... 1 1 0]\n",
      " ...\n",
      " [0 0 0 ... 0 0 0]\n",
      " [0 0 0 ... 0 0 0]\n",
      " [0 0 0 ... 0 0 0]]\n",
      "[[0 0 0 ... 0 0 0]\n",
      " [0 0 0 ... 0 0 0]\n",
      " [0 0 0 ... 1 1 0]\n",
      " ...\n",
      " [0 0 0 ... 0 0 0]\n",
      " [0 0 0 ... 0 0 0]\n",
      " [0 0 0 ... 0 0 0]]\n",
      "[[0 0 0 ... 0 0 0]\n",
      " [0 0 0 ... 0 0 0]\n",
      " [0 0 0 ... 1 1 0]\n",
      " ...\n",
      " [0 0 0 ... 0 0 0]\n",
      " [0 0 0 ... 0 0 0]\n",
      " [0 0 0 ... 0 0 0]]\n",
      "[[0 0 0 ... 0 0 0]\n",
      " [0 0 0 ... 0 0 0]\n",
      " [0 0 0 ... 1 1 0]\n",
      " ...\n",
      " [0 0 0 ... 0 0 0]\n",
      " [0 0 0 ... 0 0 0]\n",
      " [0 0 0 ... 0 0 0]]\n",
      "[[0 0 0 ... 0 0 0]\n",
      " [0 0 0 ... 0 0 0]\n",
      " [0 0 0 ... 1 1 0]\n",
      " ...\n",
      " [0 0 0 ... 0 0 0]\n",
      " [0 0 0 ... 0 0 0]\n",
      " [0 0 0 ... 0 0 0]]\n",
      "[[0 0 0 ... 0 0 0]\n",
      " [0 0 0 ... 0 0 0]\n",
      " [0 0 0 ... 1 1 0]\n",
      " ...\n",
      " [0 0 0 ... 0 0 0]\n",
      " [0 0 0 ... 0 0 0]\n",
      " [0 0 0 ... 0 0 0]]\n",
      "[[0 0 0 ... 0 0 0]\n",
      " [0 0 0 ... 0 0 0]\n",
      " [0 0 0 ... 1 1 0]\n",
      " ...\n",
      " [0 0 0 ... 0 0 0]\n",
      " [0 0 0 ... 0 0 0]\n",
      " [0 0 0 ... 0 0 0]]\n",
      "[[0 0 0 ... 0 0 0]\n",
      " [0 0 0 ... 0 0 0]\n",
      " [0 0 0 ... 1 1 0]\n",
      " ...\n",
      " [0 0 0 ... 0 0 0]\n",
      " [0 0 0 ... 0 0 0]\n",
      " [0 0 0 ... 0 0 0]]\n",
      "[[0 0 0 ... 0 0 0]\n",
      " [0 0 0 ... 0 0 0]\n",
      " [0 0 0 ... 1 1 0]\n",
      " ...\n",
      " [0 0 0 ... 0 0 0]\n",
      " [0 0 0 ... 0 0 0]\n",
      " [0 0 0 ... 0 0 0]]\n",
      "[[0 0 0 ... 0 0 0]\n",
      " [0 0 0 ... 0 0 0]\n",
      " [0 0 0 ... 1 1 0]\n",
      " ...\n",
      " [0 0 0 ... 0 0 0]\n",
      " [0 0 0 ... 0 0 0]\n",
      " [0 0 0 ... 0 0 0]]\n",
      "[[0 0 0 ... 0 0 0]\n",
      " [0 0 0 ... 0 0 0]\n",
      " [0 0 0 ... 1 1 0]\n",
      " ...\n",
      " [0 0 0 ... 0 0 0]\n",
      " [0 0 0 ... 0 0 0]\n",
      " [0 0 0 ... 0 0 0]]\n",
      "[[0 0 0 ... 0 0 0]\n",
      " [0 0 0 ... 0 0 0]\n",
      " [0 0 0 ... 1 1 0]\n",
      " ...\n",
      " [0 0 0 ... 0 0 0]\n",
      " [0 0 0 ... 0 0 0]\n",
      " [0 0 0 ... 0 0 0]]\n",
      "[[0 0 0 ... 0 0 0]\n",
      " [0 0 0 ... 0 0 0]\n",
      " [0 0 0 ... 1 1 0]\n",
      " ...\n",
      " [0 0 0 ... 0 0 0]\n",
      " [0 0 0 ... 0 0 0]\n",
      " [0 0 0 ... 0 0 0]]\n",
      "[[0 0 0 ... 0 0 0]\n",
      " [0 0 0 ... 0 0 0]\n",
      " [0 0 0 ... 1 1 0]\n",
      " ...\n",
      " [0 0 0 ... 0 0 0]\n",
      " [0 0 0 ... 0 0 0]\n",
      " [0 0 0 ... 0 0 0]]\n",
      "[[0 0 0 ... 0 0 0]\n",
      " [0 0 0 ... 0 0 0]\n",
      " [0 0 0 ... 1 1 0]\n",
      " ...\n",
      " [0 0 0 ... 0 0 0]\n",
      " [0 0 0 ... 0 0 0]\n",
      " [0 0 0 ... 0 0 0]]\n",
      "[[0 0 0 ... 0 0 0]\n",
      " [0 0 0 ... 0 0 0]\n",
      " [0 0 0 ... 1 1 0]\n",
      " ...\n",
      " [0 0 0 ... 0 0 0]\n",
      " [0 0 0 ... 0 0 0]\n",
      " [0 0 0 ... 0 0 0]]\n",
      "[[0 0 0 ... 0 0 0]\n",
      " [0 0 0 ... 0 0 0]\n",
      " [0 0 0 ... 1 1 0]\n",
      " ...\n",
      " [0 0 0 ... 0 0 0]\n",
      " [0 0 0 ... 0 0 0]\n",
      " [0 0 0 ... 0 0 0]]\n",
      "[[0 0 0 ... 0 0 0]\n",
      " [0 0 0 ... 0 0 0]\n",
      " [0 0 0 ... 1 1 0]\n",
      " ...\n",
      " [0 0 0 ... 0 0 0]\n",
      " [0 0 0 ... 0 0 0]\n",
      " [0 0 0 ... 0 0 0]]\n",
      "[[0 0 0 ... 0 0 0]\n",
      " [0 0 0 ... 0 0 0]\n",
      " [0 0 0 ... 1 1 0]\n",
      " ...\n",
      " [0 0 0 ... 0 0 0]\n",
      " [0 0 0 ... 0 0 0]\n",
      " [0 0 0 ... 0 0 0]]\n",
      "[[0 0 0 ... 0 0 0]\n",
      " [0 0 0 ... 0 0 0]\n",
      " [0 0 0 ... 1 1 0]\n",
      " ...\n",
      " [0 0 0 ... 0 0 0]\n",
      " [0 0 0 ... 0 0 0]\n",
      " [0 0 0 ... 0 0 0]]\n",
      "[[0 0 0 ... 0 0 0]\n",
      " [0 0 0 ... 0 0 0]\n",
      " [0 0 0 ... 1 1 0]\n",
      " ...\n",
      " [0 0 0 ... 0 0 0]\n",
      " [0 0 0 ... 0 0 0]\n",
      " [0 0 0 ... 0 0 0]]\n",
      "[[0 0 0 ... 0 0 0]\n",
      " [0 0 0 ... 0 0 0]\n",
      " [0 0 0 ... 1 1 0]\n",
      " ...\n",
      " [0 0 0 ... 0 0 0]\n",
      " [0 0 0 ... 0 0 0]\n",
      " [0 0 0 ... 0 0 0]]\n",
      "[[0 0 0 ... 0 0 0]\n",
      " [0 0 0 ... 0 0 0]\n",
      " [0 0 0 ... 1 1 0]\n",
      " ...\n",
      " [0 0 0 ... 0 0 0]\n",
      " [0 0 0 ... 0 0 0]\n",
      " [0 0 0 ... 0 0 0]]\n",
      "[[0 0 0 ... 0 0 0]\n",
      " [0 0 0 ... 0 0 0]\n",
      " [0 0 0 ... 1 1 0]\n",
      " ...\n",
      " [0 0 0 ... 0 0 0]\n",
      " [0 0 0 ... 0 0 0]\n",
      " [0 0 0 ... 0 0 0]]\n",
      "[[0 0 0 ... 0 0 0]\n",
      " [0 0 0 ... 0 0 0]\n",
      " [0 0 0 ... 1 1 0]\n",
      " ...\n",
      " [0 0 0 ... 0 0 0]\n",
      " [0 0 0 ... 0 0 0]\n",
      " [0 0 0 ... 0 0 0]]\n",
      "[[0 0 0 ... 0 0 0]\n",
      " [0 0 0 ... 0 0 0]\n",
      " [0 0 0 ... 1 1 0]\n",
      " ...\n",
      " [0 0 0 ... 0 0 0]\n",
      " [0 0 0 ... 0 0 0]\n",
      " [0 0 0 ... 0 0 0]]\n",
      "[[0 0 0 ... 0 0 0]\n",
      " [0 0 0 ... 0 0 0]\n",
      " [0 0 0 ... 1 1 0]\n",
      " ...\n",
      " [0 0 0 ... 0 0 0]\n",
      " [0 0 0 ... 0 0 0]\n",
      " [0 0 0 ... 0 0 0]]\n",
      "[[0 0 0 ... 0 0 0]\n",
      " [0 0 0 ... 0 0 0]\n",
      " [0 0 0 ... 1 1 0]\n",
      " ...\n",
      " [0 0 0 ... 0 0 0]\n",
      " [0 0 0 ... 0 0 0]\n",
      " [0 0 0 ... 0 0 0]]\n",
      "[[0 0 0 ... 0 0 0]\n",
      " [0 0 0 ... 0 0 0]\n",
      " [0 0 0 ... 1 1 0]\n",
      " ...\n",
      " [0 0 0 ... 0 0 0]\n",
      " [0 0 0 ... 0 0 0]\n",
      " [0 0 0 ... 0 0 0]]\n",
      "[[0 0 0 ... 0 0 0]\n",
      " [0 0 0 ... 0 0 0]\n",
      " [0 0 0 ... 1 1 0]\n",
      " ...\n",
      " [0 0 0 ... 0 0 0]\n",
      " [0 0 0 ... 0 0 0]\n",
      " [0 0 0 ... 0 0 0]]\n",
      "[[0 0 0 ... 0 0 0]\n",
      " [0 0 0 ... 0 0 0]\n",
      " [0 0 0 ... 1 1 0]\n",
      " ...\n",
      " [0 0 0 ... 0 0 0]\n",
      " [0 0 0 ... 0 0 0]\n",
      " [0 0 0 ... 0 0 0]]\n",
      "[[0 0 0 ... 0 0 0]\n",
      " [0 0 0 ... 0 0 0]\n",
      " [0 0 0 ... 1 1 0]\n",
      " ...\n",
      " [0 0 0 ... 0 0 0]\n",
      " [0 0 0 ... 0 0 0]\n",
      " [0 0 0 ... 0 0 0]]\n",
      "[[0 0 0 ... 0 0 0]\n",
      " [0 0 0 ... 0 0 0]\n",
      " [0 0 0 ... 1 1 0]\n",
      " ...\n",
      " [0 0 0 ... 0 0 0]\n",
      " [0 0 0 ... 0 0 0]\n",
      " [0 0 0 ... 0 0 0]]\n",
      "[[0 0 0 ... 0 0 0]\n",
      " [0 0 0 ... 0 0 0]\n",
      " [0 0 0 ... 1 1 0]\n",
      " ...\n",
      " [0 0 0 ... 0 0 0]\n",
      " [0 0 0 ... 0 0 0]\n",
      " [0 0 0 ... 0 0 0]]\n",
      "[[0 0 0 ... 0 0 0]\n",
      " [0 0 0 ... 0 0 0]\n",
      " [0 0 0 ... 1 1 0]\n",
      " ...\n",
      " [0 0 0 ... 0 0 0]\n",
      " [0 0 0 ... 0 0 0]\n",
      " [0 0 0 ... 0 0 0]]\n",
      "[[0 0 0 ... 0 0 0]\n",
      " [0 0 0 ... 0 0 0]\n",
      " [0 0 0 ... 1 1 0]\n",
      " ...\n",
      " [0 0 0 ... 0 0 0]\n",
      " [0 0 0 ... 0 0 0]\n",
      " [0 0 0 ... 0 0 0]]\n",
      "[[0 0 0 ... 0 0 0]\n",
      " [0 0 0 ... 0 0 0]\n",
      " [0 0 0 ... 1 1 0]\n",
      " ...\n",
      " [0 0 0 ... 0 0 0]\n",
      " [0 0 0 ... 0 0 0]\n",
      " [0 0 0 ... 0 0 0]]\n",
      "[[0 0 0 ... 0 0 0]\n",
      " [0 0 0 ... 0 0 0]\n",
      " [0 0 0 ... 1 1 0]\n",
      " ...\n",
      " [0 0 0 ... 0 0 0]\n",
      " [0 0 0 ... 0 0 0]\n",
      " [0 0 0 ... 0 0 0]]\n",
      "[[0 0 0 ... 0 0 0]\n",
      " [0 0 0 ... 1 0 0]\n",
      " [0 0 0 ... 0 1 0]\n",
      " ...\n",
      " [0 0 0 ... 0 0 0]\n",
      " [0 0 0 ... 0 0 0]\n",
      " [0 0 0 ... 0 0 0]]\n",
      "[[0 0 0 ... 0 0 0]\n",
      " [0 0 0 ... 1 0 0]\n",
      " [0 0 0 ... 0 1 0]\n",
      " ...\n",
      " [0 0 0 ... 0 0 0]\n",
      " [0 0 0 ... 0 0 0]\n",
      " [0 0 0 ... 0 0 0]]\n",
      "[[0 0 0 ... 0 0 0]\n",
      " [0 0 0 ... 0 0 0]\n",
      " [0 0 0 ... 1 1 0]\n",
      " ...\n",
      " [0 0 0 ... 0 0 0]\n",
      " [0 0 0 ... 0 0 0]\n",
      " [0 0 0 ... 0 0 0]]\n",
      "[[0 0 0 ... 0 0 0]\n",
      " [0 0 0 ... 0 0 0]\n",
      " [0 0 0 ... 1 1 0]\n",
      " ...\n",
      " [0 0 0 ... 0 0 0]\n",
      " [0 0 0 ... 0 0 0]\n",
      " [0 0 0 ... 0 0 0]]\n",
      "[[0 0 0 ... 0 0 0]\n",
      " [0 0 0 ... 0 0 0]\n",
      " [0 0 0 ... 0 0 0]\n",
      " ...\n",
      " [0 0 0 ... 0 0 0]\n",
      " [0 0 0 ... 0 0 0]\n",
      " [0 0 0 ... 0 0 0]]\n",
      "[[0 0 0 ... 0 0 0]\n",
      " [0 0 0 ... 0 0 0]\n",
      " [0 0 0 ... 0 0 0]\n",
      " ...\n",
      " [0 0 0 ... 0 0 0]\n",
      " [0 0 0 ... 0 0 0]\n",
      " [0 0 0 ... 0 0 0]]\n",
      "[[0 0 0 ... 0 0 0]\n",
      " [0 0 0 ... 0 0 0]\n",
      " [0 0 0 ... 0 0 0]\n",
      " ...\n",
      " [0 0 0 ... 0 0 0]\n",
      " [0 0 0 ... 0 0 0]\n",
      " [0 0 0 ... 0 0 0]]\n",
      "[[0 0 0 ... 0 0 0]\n",
      " [0 0 0 ... 0 0 0]\n",
      " [0 0 0 ... 0 0 0]\n",
      " ...\n",
      " [0 0 0 ... 0 0 0]\n",
      " [0 0 0 ... 0 0 0]\n",
      " [0 0 0 ... 0 0 0]]\n",
      "[[0 0 0 ... 0 0 0]\n",
      " [0 0 0 ... 0 0 0]\n",
      " [0 0 0 ... 0 0 0]\n",
      " ...\n",
      " [0 0 0 ... 0 0 0]\n",
      " [0 0 0 ... 0 0 0]\n",
      " [0 0 0 ... 0 0 0]]\n",
      "[[0 0 0 ... 0 0 0]\n",
      " [0 0 0 ... 0 0 0]\n",
      " [0 0 0 ... 0 0 0]\n",
      " ...\n",
      " [0 0 0 ... 0 0 0]\n",
      " [0 0 0 ... 0 0 0]\n",
      " [0 0 0 ... 0 0 0]]\n",
      "[[0 0 0 ... 0 0 0]\n",
      " [0 0 0 ... 0 0 0]\n",
      " [0 0 0 ... 0 0 0]\n",
      " ...\n",
      " [0 0 0 ... 0 0 0]\n",
      " [0 0 0 ... 0 0 0]\n",
      " [0 0 0 ... 0 0 0]]\n",
      "[[0 0 0 ... 0 0 0]\n",
      " [0 0 0 ... 0 0 0]\n",
      " [0 0 0 ... 0 0 0]\n",
      " ...\n",
      " [0 0 0 ... 0 0 0]\n",
      " [0 0 0 ... 0 0 0]\n",
      " [0 0 0 ... 0 0 0]]\n",
      "[[0 0 0 ... 0 0 0]\n",
      " [0 0 0 ... 0 0 0]\n",
      " [0 0 0 ... 0 0 0]\n",
      " ...\n",
      " [0 0 0 ... 0 0 0]\n",
      " [0 0 0 ... 0 0 0]\n",
      " [0 0 0 ... 0 0 0]]\n",
      "[[0 0 0 ... 0 0 0]\n",
      " [0 0 0 ... 0 0 0]\n",
      " [0 0 0 ... 0 0 0]\n",
      " ...\n",
      " [0 0 0 ... 0 0 0]\n",
      " [0 0 0 ... 0 0 0]\n",
      " [0 0 0 ... 0 0 0]]\n",
      "[[0 0 0 ... 0 0 0]\n",
      " [0 0 0 ... 0 0 0]\n",
      " [0 0 0 ... 1 0 0]\n",
      " ...\n",
      " [0 0 0 ... 0 0 0]\n",
      " [0 0 0 ... 0 0 0]\n",
      " [0 0 0 ... 0 0 0]]\n",
      "[[0 0 0 ... 0 0 0]\n",
      " [0 0 0 ... 0 0 0]\n",
      " [0 0 0 ... 1 0 0]\n",
      " ...\n",
      " [0 0 0 ... 0 0 0]\n",
      " [0 0 0 ... 0 0 0]\n",
      " [0 0 0 ... 0 0 0]]\n",
      "[[0 0 0 ... 0 0 0]\n",
      " [0 0 0 ... 0 0 0]\n",
      " [0 0 0 ... 1 1 0]\n",
      " ...\n",
      " [0 0 0 ... 0 0 0]\n",
      " [0 0 0 ... 0 0 0]\n",
      " [0 0 0 ... 0 0 0]]\n",
      "[[0 0 0 ... 0 0 0]\n",
      " [0 0 0 ... 1 0 0]\n",
      " [0 0 0 ... 1 1 0]\n",
      " ...\n",
      " [0 0 0 ... 0 0 0]\n",
      " [0 0 0 ... 0 0 0]\n",
      " [0 0 0 ... 0 0 0]]\n",
      "[[0 0 0 ... 0 0 0]\n",
      " [0 0 0 ... 1 1 0]\n",
      " [0 0 0 ... 1 1 0]\n",
      " ...\n",
      " [0 0 0 ... 0 0 0]\n",
      " [0 0 0 ... 0 0 0]\n",
      " [0 0 0 ... 0 0 0]]\n",
      "[[0 0 0 ... 0 0 0]\n",
      " [0 0 0 ... 1 1 0]\n",
      " [0 0 0 ... 0 1 0]\n",
      " ...\n",
      " [0 0 0 ... 0 0 0]\n",
      " [0 0 0 ... 0 0 0]\n",
      " [0 0 0 ... 0 0 0]]\n",
      "[[0 0 0 ... 0 0 0]\n",
      " [0 0 0 ... 1 1 0]\n",
      " [0 0 0 ... 0 1 0]\n",
      " ...\n",
      " [0 0 0 ... 0 0 0]\n",
      " [0 0 0 ... 0 0 0]\n",
      " [0 0 0 ... 0 0 0]]\n",
      "[[0 0 0 ... 0 0 0]\n",
      " [0 0 0 ... 1 1 0]\n",
      " [0 0 0 ... 0 1 0]\n",
      " ...\n",
      " [0 0 0 ... 0 0 0]\n",
      " [0 0 0 ... 0 0 0]\n",
      " [0 0 0 ... 0 0 0]]\n",
      "[[0 0 0 ... 0 0 0]\n",
      " [0 0 0 ... 1 1 0]\n",
      " [0 0 0 ... 0 1 0]\n",
      " ...\n",
      " [0 0 0 ... 0 0 0]\n",
      " [0 0 0 ... 0 0 0]\n",
      " [0 0 0 ... 0 0 0]]\n",
      "[[0 0 0 ... 0 0 0]\n",
      " [0 0 0 ... 1 1 0]\n",
      " [0 0 0 ... 0 1 0]\n",
      " ...\n",
      " [0 0 0 ... 0 0 0]\n",
      " [0 0 0 ... 0 0 0]\n",
      " [0 0 0 ... 0 0 0]]\n",
      "[[0 0 0 ... 0 0 0]\n",
      " [0 0 0 ... 0 1 0]\n",
      " [0 0 0 ... 0 1 0]\n",
      " ...\n",
      " [0 0 0 ... 0 0 0]\n",
      " [0 0 0 ... 0 0 0]\n",
      " [0 0 0 ... 0 0 0]]\n",
      "[[0 0 0 ... 0 0 0]\n",
      " [0 0 0 ... 1 0 0]\n",
      " [0 0 0 ... 1 0 0]\n",
      " ...\n",
      " [0 0 0 ... 0 0 0]\n",
      " [0 0 0 ... 0 0 0]\n",
      " [0 0 0 ... 0 0 0]]\n",
      "[[0 0 0 ... 0 0 0]\n",
      " [0 0 0 ... 0 0 0]\n",
      " [0 0 0 ... 0 0 0]\n",
      " ...\n",
      " [0 0 0 ... 0 0 0]\n",
      " [0 0 0 ... 0 0 0]\n",
      " [0 0 0 ... 0 0 0]]\n",
      "[[0 0 0 ... 0 0 0]\n",
      " [0 0 0 ... 0 0 0]\n",
      " [0 0 0 ... 0 0 0]\n",
      " ...\n",
      " [0 0 0 ... 0 0 0]\n",
      " [0 0 0 ... 0 0 0]\n",
      " [0 0 0 ... 0 0 0]]\n",
      "[[0 0 0 ... 0 0 0]\n",
      " [0 0 0 ... 0 0 0]\n",
      " [0 0 0 ... 0 0 0]\n",
      " ...\n",
      " [0 0 0 ... 0 0 0]\n",
      " [0 0 0 ... 0 0 0]\n",
      " [0 0 0 ... 0 0 0]]\n"
     ]
    }
   ],
   "source": [
    "import sys\n",
    "import time\n",
    "\n",
    "# credits to Nicolas Rougier\n",
    "\n",
    "# https://www.jpytr.com/post/game_of_life/\n",
    "def iterate(Z):\n",
    "    # Count neighbours\n",
    "    N = (Z[0:-2,0:-2] + Z[0:-2,1:-1] + Z[0:-2,2:] +\n",
    "         Z[1:-1,0:-2]                + Z[1:-1,2:] +\n",
    "         Z[2:  ,0:-2] + Z[2:  ,1:-1] + Z[2:  ,2:])\n",
    "\n",
    "    # Apply rules\n",
    "    birth = (N==3) & (Z[1:-1,1:-1]==0)\n",
    "    survive = ((N==2) | (N==3)) & (Z[1:-1,1:-1]==1)\n",
    "    Z[...] = 0\n",
    "    Z[1:-1,1:-1][birth | survive] = 1\n",
    "    return Z\n",
    "\n",
    "Z = np.random.randint(0,2,(50,50))\n",
    "#print(Z)\n",
    "for i in range(100):\n",
    "    Z = iterate(Z)\n",
    "    #print(Z)\n",
    "    \n",
    "# how to iterate and print into same place for making it like animation "
   ]
  },
  {
   "cell_type": "markdown",
   "metadata": {},
   "source": [
    "#### 89. How to get the n largest values of an array (★★★)"
   ]
  },
  {
   "cell_type": "code",
   "execution_count": 64,
   "metadata": {},
   "outputs": [
    {
     "name": "stdout",
     "output_type": "stream",
     "text": [
      "[9995 9996 9997 9998 9999]\n"
     ]
    }
   ],
   "source": [
    "Z = np.arange(10000)\n",
    "np.random.shuffle(Z)\n",
    "n = 5\n",
    "\n",
    "print (Z[np.argsort(Z)[-n:]])\n"
   ]
  },
  {
   "cell_type": "markdown",
   "metadata": {},
   "source": [
    "#### 90. Given an arbitrary number of vectors, build the cartesian product (every combinations of every item) (★★★)"
   ]
  },
  {
   "cell_type": "code",
   "execution_count": 5,
   "metadata": {
    "scrolled": true
   },
   "outputs": [
    {
     "name": "stdout",
     "output_type": "stream",
     "text": [
      "[[3 4 6]\n",
      " [3 4 7]\n",
      " [3 7 6]\n",
      " [3 7 7]\n",
      " [2 4 6]\n",
      " [2 4 7]\n",
      " [2 7 6]\n",
      " [2 7 7]\n",
      " [3 4 6]\n",
      " [3 4 7]\n",
      " [3 7 6]\n",
      " [3 7 7]]\n"
     ]
    }
   ],
   "source": [
    "def cartesian(arrays):\n",
    "    arrays = [np.asarray(a) for a in arrays]\n",
    "    shape = (len(x) for x in arrays)\n",
    "\n",
    "    ix = np.indices(shape, dtype=int)\n",
    "    ix = ix.reshape(len(arrays), -1).T\n",
    "\n",
    "    for n, arr in enumerate(arrays):\n",
    "        ix[:, n] = arrays[n][ix[:, n]]\n",
    "\n",
    "    return ix\n",
    "\n",
    "print (cartesian(([3, 2, 3], [4, 7], [6, 7])))"
   ]
  },
  {
   "cell_type": "markdown",
   "metadata": {},
   "source": [
    "#### 91. How to create a record array from a regular array? (★★★)"
   ]
  },
  {
   "cell_type": "code",
   "execution_count": 7,
   "metadata": {},
   "outputs": [
    {
     "data": {
      "text/plain": [
       "rec.array([(b'Hello', 2.5, 3), (b'World', 3.6, 2)],\n",
       "          dtype=[('col1', 'S8'), ('col2', '<f8'), ('col3', '<i8')])"
      ]
     },
     "execution_count": 7,
     "metadata": {},
     "output_type": "execute_result"
    }
   ],
   "source": [
    "Z = np.array([(\"Hello\", 2.5, 3),\n",
    "              (\"World\", 3.6, 2)])\n",
    "R = np.core.records.fromarrays(Z.T,\n",
    "                               names='col1, col2, col3',\n",
    "                               formats = 'S8, f8, i8')\n",
    "\n",
    "R\n"
   ]
  },
  {
   "cell_type": "markdown",
   "metadata": {},
   "source": [
    "#### 92. Consider a large vector Z, compute Z to the power of 3 using 3 different methods (★★★)"
   ]
  },
  {
   "cell_type": "code",
   "execution_count": 25,
   "metadata": {},
   "outputs": [
    {
     "name": "stdout",
     "output_type": "stream",
     "text": [
      "0.19229356200048642\n",
      "0.12523198700000648\n",
      "0.112701828000354\n"
     ]
    }
   ],
   "source": [
    "import timeit\n",
    "import_module = \"import random\"\n",
    "testcode1 = ''' \n",
    "def method1(x): \n",
    "    return np.power(x,3)\n",
    "'''\n",
    "testcode2 = ''' \n",
    "def method1(x): \n",
    "    return (x*x*x)\n",
    "'''\n",
    "testcode3 = ''' \n",
    "def method1(x): \n",
    "    return np.power(x,3)\n",
    "'''\n",
    "x = np.random.rand(1000)\n",
    "\n",
    "print(timeit.timeit(stmt=testcode1, setup=import_module))\n",
    "print(timeit.timeit(stmt=testcode2, setup=import_module))\n",
    "print(timeit.timeit(stmt=testcode3, setup=import_module))\n",
    "\n",
    "\n"
   ]
  },
  {
   "cell_type": "markdown",
   "metadata": {},
   "source": [
    "#### 93. Consider two arrays A and B of shape (8,3) and (2,2). How to find rows of A that contain elements of each row of B regardless of the order of the elements in B? (★★★)"
   ]
  },
  {
   "cell_type": "code",
   "execution_count": 29,
   "metadata": {},
   "outputs": [
    {
     "name": "stdout",
     "output_type": "stream",
     "text": [
      "[0 2 5 6 7]\n"
     ]
    }
   ],
   "source": [
    "\n",
    "A = np.random.randint(0,5,(8,3))\n",
    "B = np.random.randint(0,5,(2,2))\n",
    "\n",
    "C = (A[..., np.newaxis, np.newaxis] == B)\n",
    "rows = (C.sum(axis=(1,2,3)) >= B.shape[1]).nonzero()[0]\n",
    "print(rows)\n",
    "\n",
    "# Thanks to Gabe Schwartz\n"
   ]
  },
  {
   "cell_type": "markdown",
   "metadata": {},
   "source": [
    "#### 94. Considering a 10x3 matrix, extract rows with unequal values (e.g. \\[2,2,3\\]) (★★★)"
   ]
  },
  {
   "cell_type": "code",
   "execution_count": 30,
   "metadata": {},
   "outputs": [
    {
     "name": "stdout",
     "output_type": "stream",
     "text": [
      "[[4 0 1]\n",
      " [1 4 1]\n",
      " [1 0 2]\n",
      " [0 0 2]\n",
      " [3 2 1]\n",
      " [1 2 0]\n",
      " [1 3 1]\n",
      " [2 1 1]\n",
      " [2 3 3]\n",
      " [2 3 4]]\n",
      "[[4 0 1]\n",
      " [1 4 1]\n",
      " [1 0 2]\n",
      " [0 0 2]\n",
      " [3 2 1]\n",
      " [1 2 0]\n",
      " [1 3 1]\n",
      " [2 1 1]\n",
      " [2 3 3]\n",
      " [2 3 4]]\n"
     ]
    }
   ],
   "source": [
    "Z = np.random.randint(0,5,(10,3))\n",
    "E = np.logical_and.reduce(Z[:,1:] == Z[:,:-1], axis=1)\n",
    "U = Z[~E]\n",
    "print(Z)\n",
    "print(U)"
   ]
  },
  {
   "cell_type": "markdown",
   "metadata": {},
   "source": [
    "#### 95. Convert a vector of ints into a matrix binary representation (★★★)"
   ]
  },
  {
   "cell_type": "code",
   "execution_count": 33,
   "metadata": {},
   "outputs": [
    {
     "name": "stdout",
     "output_type": "stream",
     "text": [
      "[[0 0 0 0 0 0 0 0]\n",
      " [0 0 0 0 0 0 0 1]\n",
      " [0 0 0 0 0 0 1 0]\n",
      " [0 0 0 0 0 0 1 1]\n",
      " [0 0 0 0 1 1 1 1]\n",
      " [0 0 0 1 0 0 0 0]\n",
      " [0 0 1 0 0 0 0 0]\n",
      " [0 1 0 0 0 0 0 0]\n",
      " [1 0 0 0 0 0 0 0]]\n"
     ]
    }
   ],
   "source": [
    "I = np.array([0, 1, 2, 3, 15, 16, 32, 64, 128])\n",
    "B = ((I.reshape(-1,1) & (2**np.arange(8))) != 0).astype(int)\n",
    "#print(B)\n",
    "print(B[:,::-1])\n"
   ]
  },
  {
   "cell_type": "markdown",
   "metadata": {},
   "source": [
    "#### 96. Given a two dimensional array, how to extract unique rows? (★★★)"
   ]
  },
  {
   "cell_type": "code",
   "execution_count": 42,
   "metadata": {},
   "outputs": [
    {
     "name": "stdout",
     "output_type": "stream",
     "text": [
      "[[0 0 0]\n",
      " [0 0 1]\n",
      " [1 0 0]\n",
      " [1 0 1]\n",
      " [1 1 0]\n",
      " [1 1 1]]\n"
     ]
    }
   ],
   "source": [
    "Z = np.random.randint(0,2,(6,3))\n",
    "T = np.ascontiguousarray(Z).view(np.dtype((np.void, Z.dtype.itemsize * Z.shape[1])))\n",
    "bl, idx = np.unique(T, return_index=True)\n",
    "uZ = Z[idx]\n",
    "print(uZ)\n"
   ]
  },
  {
   "cell_type": "markdown",
   "metadata": {},
   "source": [
    "#### 97. Considering 2 vectors A & B, write the einsum equivalent of inner, outer, sum, and mul function (★★★)"
   ]
  },
  {
   "cell_type": "code",
   "execution_count": 43,
   "metadata": {},
   "outputs": [
    {
     "name": "stdout",
     "output_type": "stream",
     "text": [
      "[[ 1  2  3]\n",
      " [ 2  4  6]\n",
      " [ 5 10 15]]\n",
      "[[0 1 0 1 1 0 1 1 1]\n",
      " [0 1 0 1 1 0 1 1 1]\n",
      " [0 1 0 1 1 0 1 1 1]\n",
      " [0 2 0 2 2 0 2 2 2]\n",
      " [0 2 0 2 2 0 2 2 2]\n",
      " [0 2 0 2 2 0 2 2 2]\n",
      " [0 5 0 5 5 0 5 5 5]\n",
      " [0 5 0 5 5 0 5 5 5]\n",
      " [0 5 0 5 5 0 5 5 5]]\n",
      "24\n",
      "[[ 2  3  1]\n",
      " [ 4  6  2]\n",
      " [10 15  5]]\n"
     ]
    }
   ],
   "source": [
    "# https://ajcr.net/Basic-guide-to-einsum/\n",
    "\n",
    "A = np.array([[1, 1, 1],\n",
    "              [2, 2, 2],\n",
    "              [5, 5, 5]])\n",
    "\n",
    "B = np.array([[0, 1, 0],\n",
    "              [1, 1, 0],\n",
    "              [1, 1, 1]])\n",
    "\n",
    "#print (A)              \n",
    "\n",
    "print(np.inner(A, B))  # inner\n",
    "print(np.outer(A, B))  # outer \n",
    "print(np.sum(A))       # sum\n",
    "\n",
    "print(np.einsum(\"ij, jk -> ik\", A, B))    #mul\n",
    "\n",
    "#np.einsum('ii->', A)       # np.sum(A)\n",
    "#np.einsum('i,i->i', A, B) # A * B\n",
    "#np.einsum('i,i', A, B)    # np.inner(A, B)\n",
    "#np.einsum('...i,j', A, B)    # np.outer(A, B)          # not working not working "
   ]
  },
  {
   "cell_type": "markdown",
   "metadata": {},
   "source": [
    "#### 98. Considering a path described by two vectors (X,Y), how to sample it using equidistant samples (★★★)?"
   ]
  },
  {
   "cell_type": "code",
   "execution_count": 50,
   "metadata": {},
   "outputs": [
    {
     "data": {
      "text/plain": [
       "[<matplotlib.lines.Line2D at 0x7fa3a1325790>]"
      ]
     },
     "execution_count": 50,
     "metadata": {},
     "output_type": "execute_result"
    },
    {
     "data": {
      "image/png": "[encoded data removed]",
      "text/plain": [
       "<Figure size 432x288 with 1 Axes>"
      ]
     },
     "metadata": {
      "needs_background": "light"
     },
     "output_type": "display_data"
    }
   ],
   "source": [
    "import matplotlib.pyplot as plt\n",
    "\n",
    "phi = np.arange(0, 10*np.pi, 0.1)\n",
    "a = 1\n",
    "x = a*phi*np.cos(phi)\n",
    "y = a*phi*np.sin(phi)\n",
    "\n",
    "dr = (np.diff(x)**2 + np.diff(y)**2)**.5 # segment lengths\n",
    "r = np.zeros_like(x)\n",
    "r[1:] = np.cumsum(dr)                # integrate path\n",
    "r_int = np.linspace(0, r.max(), 200) # regular spaced path\n",
    "x_int = np.interp(r_int, r, x)       # integrate path\n",
    "y_int = np.interp(r_int, r, y)\n",
    "\n",
    "# plt.plot(x_int, y_int)"
   ]
  },
  {
   "cell_type": "markdown",
   "metadata": {},
   "source": [
    "#### 99. Given an integer n and a 2D array X, select from X the rows which can be interpreted as draws from a multinomial distribution with n degrees, i.e., the rows which only contain integers and which sum to n. (★★★)"
   ]
  },
  {
   "cell_type": "code",
   "execution_count": 52,
   "metadata": {},
   "outputs": [
    {
     "name": "stdout",
     "output_type": "stream",
     "text": [
      "[ True  True False]\n",
      "[[2. 0. 1. 1.]]\n"
     ]
    }
   ],
   "source": [
    "X = np.asarray([[1.0, 0.0, 3.0, 8.0], [2.0, 0.0, 1.0, 1.0], [1.5, 2.5, 1.0, 0.0]])\n",
    "n = 4\n",
    "M = np.logical_and.reduce(np.mod(X,1)==0, axis = -1)\n",
    "print(M)\n",
    "M &= (X.sum(axis = -1) == n)\n",
    "print(X[M])\n",
    "\n",
    "# https://numpy.org/doc/stable/reference/generated/numpy.mod.html\n",
    "# https://numpy.org/doc/stable/reference/generated/numpy.logical_and.html\n",
    "# https://numpy.org/doc/stable/reference/generated/numpy.ufunc.reduce.html"
   ]
  },
  {
   "cell_type": "markdown",
   "metadata": {},
   "source": [
    "#### 100. Compute bootstrapped 95% confidence intervals for the mean of a 1D array X (i.e., resample the elements of an array with replacement N times, compute the mean of each sample, and then compute percentiles over the means). (★★★)"
   ]
  },
  {
   "cell_type": "code",
   "execution_count": 54,
   "metadata": {},
   "outputs": [
    {
     "name": "stdout",
     "output_type": "stream",
     "text": [
      "[  0.           0.09950042   0.19601332   0.28660095   0.3684244\n",
      "   0.43879128   0.49520137   0.53538953   0.55736537   0.55944897\n",
      "   0.54030231   0.49895573   0.43482931   0.34774848   0.237954\n",
      "   0.1061058   -0.04671924  -0.21903564  -0.40896377  -0.61425018\n",
      "  -0.83229367  -1.06017682  -1.29470246  -1.53243485  -1.76974492\n",
      "  -2.00285904  -2.22791076  -2.44099478  -2.63822255  -2.81577868\n",
      "  -2.96997749  -3.09731897  -3.19454328  -3.25868324  -3.28711385\n",
      "  -3.27759841  -3.2283303   -3.13797012  -3.00567731  -2.83113599\n",
      "  -2.61457448  -2.35677818  -2.05909545  -1.72343644  -1.35226463\n",
      "  -0.9485811   -0.51590162  -0.05822672   0.41999512   0.91391061\n",
      "   1.41831093   1.92768649   2.43628669   2.93818398   3.42734153\n",
      "   3.89768376   4.34316892   4.75786287   5.1360132    5.47212274\n",
      "   5.76102172   5.99793747   6.178561     6.29910941   6.35638348\n",
      "   6.34781957   6.27153511   6.12636709   5.91190293   5.62850319\n",
      "   5.27731578   4.86028133   4.38012946   3.84036588   3.24525022\n",
      "   2.59976488   1.9095748    1.18097874   0.42085228  -0.36341679\n",
      "  -1.16400027  -1.97270765  -2.78106986  -3.58042781  -4.36202469\n",
      "  -5.11710117  -5.83699241  -6.51322582  -7.13761852  -7.70237336\n",
      "  -8.20017236  -8.62426658  -8.96856132  -9.22769553  -9.3971146\n",
      "  -9.47313548  -9.45300342  -9.33493933  -9.11817747  -8.80299241\n",
      "  -8.39071529  -7.88373862  -7.28550965  -6.6005121   -5.83423628\n",
      "  -4.99313774  -4.08458482  -3.11679531  -2.09876299  -1.04017448\n",
      "   0.04868268   1.1570199    2.27365447   3.38712238   4.48579588\n",
      "   5.55800473   6.59215971   7.57687716   8.50110325   9.35423652\n",
      "  10.1262475   10.80779395  11.39033046  11.8662112   12.22878455\n",
      "  12.47247849  12.59287578  12.58677787  12.45225684  12.18869449\n",
      "  11.79680816  11.27866268  10.63766824   9.878564     9.00738732\n",
      "   8.03142895   6.9591743    5.80023126   4.56524532   3.26580248\n",
      "   1.91432105   0.52393323  -0.89164247  -2.31823644  -3.74136993\n",
      "  -5.14640187  -6.51867941  -7.84369048  -9.10721675 -10.29548549\n",
      " -11.39531869 -12.39427773 -13.28080214 -14.04434094 -14.67547492\n",
      " -15.16602867 -15.50917095 -15.69950221 -15.73312822 -15.60771894\n",
      " -15.32255169 -14.87853808 -14.27823434 -13.52583451 -12.62714655\n",
      " -11.58955145 -10.42194539  -9.13466558  -7.73940027  -6.24908366\n",
      "  -4.67777675  -3.04053512  -1.35326495   0.36743138   2.10441864\n",
      "   3.84019936   5.55709009   7.23740149   8.86362041  10.41859212\n",
      "  11.88570075  13.24904611  14.49361496  15.6054449   16.57177917\n",
      "  17.38121053  18.02381279  18.49125831  18.7769203   18.87595858\n",
      "  18.78538775  18.50412697  18.03303066  17.3748994   16.53447108\n",
      "  15.51839191  14.33516747  12.99509423  11.51017187   9.89399732\n",
      "   8.16164124   6.32950824   4.41518203   2.43725688   0.4151572\n",
      "  -1.63105313  -3.6808699   -5.713554    -7.70834118  -9.64465412\n",
      " -11.50231446 -13.26175272 -14.9042139  -16.41195663 -17.76844373\n",
      " -18.95852214 -19.96859034 -20.78675129 -21.40294938 -21.80908968\n",
      " -21.99913818 -21.96920183 -21.71758737 -21.24483813 -20.55374833\n",
      " -19.6493544  -18.53890336 -17.23179826 -15.73952118 -14.07553421\n",
      " -12.25515947 -10.29543901  -8.21497601  -6.03375864  -3.77296837\n",
      "  -1.45477441   0.89788356   3.2615224    5.6123499    7.92650424\n",
      "  10.18029618  12.35045135  14.41435043  16.35026444  18.13758293\n",
      "  19.7570326   21.19088398  22.42314406  23.43973275  24.2286412\n",
      "  24.7800703   25.08654775  25.14302233  24.94693422  24.49826054\n",
      "  23.79953536  22.85584389  21.67479057  20.26644137  18.64324051\n",
      "  16.81990238  14.81327959  12.64220817  10.32733155   7.89090473\n",
      "   5.35658069   2.74918094   0.09445254  -2.58118617  -5.25090838\n",
      "  -7.88774784 -10.46487118 -12.95585091 -15.33493623 -17.57731893\n",
      " -19.65939164 -21.55899571 -23.25565617 -24.7308012  -25.96796395\n",
      " -26.95296426 -27.67406854 -28.12212595 -28.2906792  -28.17604893\n",
      " -27.77739036 -27.09672162 -26.13892326 -24.91170863 -23.42556536\n",
      " -21.69366836 -19.73176483 -17.55803252 -15.19291234 -12.6589169\n",
      "  -9.98041672  -7.18340625  -4.29525175  -1.34442375   1.63978364\n",
      "   4.6275435    7.58879418  10.49354182  13.31216405  16.01571198\n",
      "  18.57620727  20.96693136  23.16270375  25.14014653  26.87793233\n",
      "  28.35701309  29.56082725  30.47548299  31.08991568  31.39601771]\n",
      "[[42 17 72 ...  1 81 25]\n",
      " [ 0 59 25 ... 71  8  5]\n",
      " [98 40 22 ... 40 57  6]\n",
      " ...\n",
      " [63 40  3 ... 30 83  1]\n",
      " [66 33 34 ...  4 22 51]\n",
      " [36 19 92 ... 31  7 16]]\n",
      "[-2.17232960e-01  2.46092915e-02 -2.04300446e-01 -1.10573293e-01\n",
      "  3.40123980e-02  1.65179228e-01 -1.80214016e-01 -2.65248666e-01\n",
      " -6.60860242e-02 -3.38027671e-01 -6.75205504e-02  3.02563863e-02\n",
      " -7.53207820e-02 -5.12226397e-02 -1.84072863e-01 -3.34818791e-02\n",
      "  2.16656026e-02 -1.99921923e-02 -2.39071510e-01 -1.19717510e-01\n",
      " -3.68870099e-01 -2.82126948e-01 -4.07447634e-02 -1.93441604e-01\n",
      " -1.21472783e-01 -1.98539236e-02 -1.28534779e-02 -1.27651809e-01\n",
      " -2.11892778e-01  2.95145400e-02 -9.11163810e-02 -2.89731328e-01\n",
      "  1.43855571e-03 -5.71156255e-02 -4.38414554e-02 -1.50747986e-01\n",
      "  1.21365136e-01 -6.83779298e-02  2.78860718e-02 -1.00158569e-01\n",
      " -2.28446706e-01  1.11942164e-02 -3.04675057e-02 -1.08241341e-01\n",
      " -2.41491432e-01 -1.41736369e-01 -4.18174099e-02 -9.48439618e-02\n",
      " -8.36865998e-03 -2.83405965e-01 -5.84039491e-03 -2.59007311e-01\n",
      "  6.55419205e-02 -1.08231904e-01 -1.01413975e-01  7.12519885e-03\n",
      " -1.21346393e-01 -1.32645213e-01 -1.05975407e-02 -1.09837006e-01\n",
      " -1.93042358e-01 -1.71587363e-02 -2.60506627e-01 -2.73726766e-01\n",
      " -1.39655271e-01 -6.17178541e-02 -2.21912486e-01 -1.37747602e-01\n",
      "  1.50007059e-02  8.41201986e-02 -1.04548051e-01 -3.51166830e-02\n",
      " -1.12851366e-01 -2.67265301e-01 -2.02241073e-01  9.66263042e-02\n",
      " -8.22676273e-02  2.30308478e-02 -9.95009939e-02 -6.24774717e-02\n",
      " -1.69344300e-01  1.62455960e-01 -5.40180193e-02 -1.48027591e-01\n",
      " -1.38826255e-01 -2.55743066e-01  1.44485765e-02 -1.94326475e-01\n",
      " -1.66826261e-01 -1.71606198e-01 -2.01806411e-01 -1.07269127e-01\n",
      " -1.71488836e-01 -6.58138689e-02 -9.99512124e-04 -1.16476832e-01\n",
      "  1.42185444e-01 -2.36858190e-01 -1.85093664e-01 -1.23272493e-01\n",
      " -3.25480750e-02 -3.81851221e-02 -8.32786741e-02 -1.74146039e-01\n",
      " -1.57263314e-01 -1.74540515e-02 -1.51779444e-01 -6.62317902e-02\n",
      " -3.08053502e-01 -1.54138225e-01 -1.03390626e-01 -9.65042374e-02\n",
      " -8.91843863e-02 -2.60312310e-01 -5.12143316e-03 -3.34293583e-02\n",
      " -1.22357601e-01 -8.91852938e-02 -2.65390726e-01 -2.48278425e-01\n",
      " -1.85861761e-01 -9.74778304e-02 -9.63939728e-02  8.86018620e-03\n",
      " -3.74799983e-02 -2.07954663e-01 -1.08684039e-01 -1.18995701e-01\n",
      " -2.12928396e-01  1.09993868e-02  2.90546222e-02 -6.50549010e-02\n",
      " -5.89643171e-02 -1.64446322e-01 -1.29820190e-01 -8.47944872e-02\n",
      " -2.44970297e-01 -1.12669493e-01 -1.13856409e-01 -1.65692411e-01\n",
      " -1.79091543e-01  6.50570483e-02 -1.02848010e-01 -1.27607367e-01\n",
      " -6.50961215e-02 -3.11211746e-01 -7.51083445e-02  1.07435673e-01\n",
      " -2.52906283e-01 -1.88682786e-01 -1.01418000e-01 -2.10593277e-02\n",
      " -3.50825605e-02 -3.25287330e-02 -1.10297040e-01 -2.64107817e-01\n",
      " -1.39135285e-01  8.53915684e-02 -4.39442620e-02  1.21477269e-01\n",
      " -1.75114213e-01 -1.54204261e-01 -2.24047287e-01  1.74693406e-02\n",
      " -1.20996588e-01 -6.45651715e-02 -1.29698413e-01 -6.07382246e-02\n",
      " -2.56076231e-01 -5.78915971e-02 -2.91323042e-02  9.32362008e-02\n",
      "  3.48250451e-02 -1.45088026e-01 -6.38568033e-02 -2.04846682e-01\n",
      " -5.30065055e-02 -3.24784661e-01 -1.10009545e-01 -9.63184608e-02\n",
      " -1.84587749e-01  7.59752510e-02 -2.18952544e-01 -8.00454415e-02\n",
      "  1.45423926e-01 -1.78511853e-01 -5.72776265e-02 -2.29920298e-01\n",
      " -8.34046863e-02 -9.50207439e-02 -3.03405455e-01  1.05983781e-01\n",
      " -1.42150770e-01 -1.57905207e-01  4.80545921e-02 -2.24723409e-01\n",
      " -7.68915051e-02 -3.49611928e-02 -2.20041793e-01 -1.77076010e-01\n",
      " -8.24824616e-02  8.28546807e-02  2.43919937e-01 -1.65726766e-01\n",
      "  2.36663751e-02  5.56552062e-02 -1.23973674e-01  6.85309768e-02\n",
      " -5.00619604e-02 -1.13633416e-01 -8.98786123e-02  1.70402197e-01\n",
      " -3.17988744e-01 -1.65176611e-01  1.38846312e-01 -2.40296536e-01\n",
      " -1.96063059e-01 -2.19755415e-01 -1.96269986e-02 -2.11719325e-01\n",
      "  7.04616402e-02 -1.10818022e-01  1.67531973e-02 -2.67262559e-01\n",
      " -2.81334683e-01 -1.85659626e-01 -1.75439075e-01 -1.63966629e-01\n",
      "  1.55729226e-02  6.50503872e-02 -7.39337074e-02 -5.24956346e-02\n",
      "  5.13853879e-02 -3.58315407e-03  6.93287471e-03 -9.79874941e-03\n",
      "  2.72326859e-01 -3.56826900e-02 -2.74220501e-01 -2.11734806e-01\n",
      "  6.73143605e-02 -2.87329529e-01 -2.17556454e-02 -2.14644020e-01\n",
      " -2.81297324e-01 -4.66451624e-02  1.44651658e-01 -2.04703534e-01\n",
      " -1.18300930e-01  7.34350077e-03 -1.25677971e-01 -1.68162481e-01\n",
      " -2.23444598e-02 -1.62171344e-01 -2.13144706e-01 -1.87026404e-01\n",
      " -1.28559264e-04 -8.39857029e-02 -2.13464803e-01 -6.83770218e-02\n",
      " -1.10147256e-01 -2.23004274e-02 -7.23723676e-02 -6.47411517e-02\n",
      " -1.29546889e-01  7.53854023e-02 -2.29102479e-01 -3.82783889e-02\n",
      " -1.23846564e-01 -3.04580712e-01 -1.53683601e-02 -1.13151394e-01\n",
      " -1.67874429e-01 -1.79367926e-02 -6.13071552e-02 -3.52217028e-03\n",
      " -8.40131425e-02 -2.54379054e-01 -1.87657192e-01 -9.92737307e-02\n",
      " -1.46603874e-01 -1.47679677e-01 -1.55040484e-01 -1.71333595e-02\n",
      " -2.31351899e-01 -7.06332561e-02 -4.96388860e-02 -1.60468729e-01\n",
      " -1.06727493e-01 -1.88600883e-01 -5.36302000e-02 -1.47271493e-01\n",
      " -2.24791942e-01 -1.24276100e-01 -1.13042189e-01  7.08152847e-03\n",
      " -1.68647950e-01  2.12743598e-03 -4.72412270e-03  2.22949656e-02\n",
      " -1.14710870e-01 -1.68843140e-01 -3.16134785e-01 -9.60835759e-02\n",
      "  9.00491105e-03 -3.52687524e-02 -7.88738788e-02 -9.13261146e-02\n",
      " -6.01674083e-02 -2.73582428e-02 -6.01584334e-04 -1.52306160e-01\n",
      "  1.07094984e-01 -5.14414737e-02 -1.74867925e-01  2.72621512e-02\n",
      " -4.21283202e-02  4.56945303e-02 -1.09086271e-01  2.55909678e-02\n",
      " -2.79187170e-02  7.25109705e-03 -1.88177983e-01 -1.71926562e-01\n",
      " -3.39258913e-02  1.67051082e-01 -2.36691993e-01 -1.36907785e-01\n",
      " -4.20494325e-01  7.06961327e-03 -1.07645124e-02 -1.60568675e-01\n",
      " -1.17410827e-01 -1.99247684e-01 -8.16683420e-02 -1.29615135e-02\n",
      " -1.74254053e-01  1.29000479e-01 -1.93761973e-01 -1.78681316e-01\n",
      " -3.93362456e-02  1.35242660e-01 -3.55913765e-01 -7.56927420e-02\n",
      " -8.21396567e-02 -2.15020101e-01  2.52649717e-02 -7.97932519e-02\n",
      " -9.62274118e-02 -2.04548266e-01 -9.42435933e-02 -4.95163226e-02\n",
      " -2.64121549e-01 -1.12548898e-01 -1.88145635e-01 -7.24865359e-02\n",
      " -2.58194919e-01 -3.88438647e-02 -1.67404547e-01 -1.50646688e-01\n",
      " -1.63681765e-02 -1.10078040e-01 -1.02715922e-01  6.27827696e-02\n",
      " -1.47900107e-01 -1.00807777e-01 -1.26539757e-01 -2.11126044e-01\n",
      " -2.92619406e-01 -4.08332927e-02 -5.40806337e-02 -2.41976813e-01\n",
      "  1.83349922e-02 -1.11381557e-02 -2.43302631e-03 -2.45876454e-01\n",
      " -1.12132385e-01 -3.31273707e-02 -1.57077176e-02  2.87494121e-02\n",
      "  4.08649586e-02  1.19365867e-01 -4.33309722e-02 -7.40838589e-02\n",
      " -1.14616609e-01 -1.02388153e-01 -1.05928990e-01 -4.62787507e-02\n",
      "  9.23619651e-02 -2.31148424e-01 -1.14370072e-01 -2.39459768e-01\n",
      " -1.09970332e-01 -1.28826141e-01 -6.77451126e-02 -1.97304184e-01\n",
      " -3.57360413e-01 -4.33649187e-02 -1.85376272e-01 -1.95923051e-01\n",
      " -8.97697120e-02  8.86235497e-03 -7.06685987e-02 -8.11341358e-02\n",
      " -1.16910921e-01 -1.36707539e-01  1.72337873e-02 -1.06510322e-01\n",
      " -9.55219150e-02  1.55454189e-03 -4.57346058e-02 -9.57055833e-02\n",
      " -2.38283575e-02 -1.61990922e-01 -1.21076831e-01 -5.45990505e-02\n",
      " -2.25415495e-02 -1.48497239e-01 -8.70312023e-02 -6.86673805e-02\n",
      " -5.33143176e-02 -1.93624886e-01  2.67059770e-02  1.02835620e-01\n",
      " -7.14593214e-02 -1.43613958e-01 -1.47565745e-01 -3.94447969e-01\n",
      " -9.59628159e-02 -1.63057483e-01 -1.80971682e-01 -1.74300142e-01\n",
      " -2.24467991e-01 -5.56266054e-02 -2.82844539e-01 -3.27814039e-02\n",
      " -2.20900517e-01 -1.54926821e-01  1.27272494e-01 -7.45375933e-02\n",
      " -5.01300610e-02  2.07264998e-02 -3.15251415e-02 -1.92071110e-01\n",
      " -1.02846363e-01 -1.32574301e-01 -1.73271530e-02 -1.14302878e-01\n",
      " -2.69723076e-02 -1.53848474e-01  5.80252353e-02 -1.06083341e-01\n",
      " -1.84612973e-01 -2.52434076e-01 -1.84367222e-01 -6.35121161e-02\n",
      " -2.46972044e-01 -1.19536743e-01  9.43033925e-03 -8.58849263e-02\n",
      " -2.64589532e-01 -8.49061304e-02  3.60693825e-02 -2.74278921e-01\n",
      " -1.57918878e-01 -9.29207086e-02 -2.33143602e-01 -2.36974100e-01\n",
      " -2.24223028e-01 -1.55737305e-01  7.04314501e-02 -7.29725006e-02\n",
      " -5.40519066e-02 -1.97274176e-01 -8.58859907e-02 -9.96665110e-02\n",
      " -1.00642034e-01 -2.03769205e-01 -2.10346356e-01 -1.22856113e-01\n",
      " -2.48867216e-01 -2.64544533e-01 -4.21692268e-02 -1.67834785e-01\n",
      " -1.37141879e-01 -5.55245692e-03 -9.88950583e-03 -2.69370805e-03\n",
      " -2.33031684e-01  8.91446055e-02 -3.21168075e-01 -7.48168069e-02\n",
      " -5.80513144e-02 -2.19998367e-01 -1.14361153e-02  5.16661735e-02\n",
      "  1.76385195e-02 -2.24186355e-01  8.85028947e-02 -5.54841321e-02\n",
      " -2.49883985e-01 -3.97119345e-02  1.08860531e-02  4.51756918e-02\n",
      " -2.45710641e-01 -1.07094276e-01 -2.70405943e-01 -1.52834280e-01\n",
      " -8.11260307e-02 -6.85286007e-02  1.05812444e-02  6.35189531e-02\n",
      " -1.00818945e-01  5.41006149e-02  8.72278442e-02  3.19452704e-03\n",
      " -7.68111525e-02 -1.49588870e-01 -1.30977448e-01 -9.11355958e-02\n",
      " -1.85461570e-01 -9.69438432e-02 -1.56393075e-01 -1.68140349e-01\n",
      " -6.39880475e-02 -1.37230661e-01 -1.15883029e-01 -3.95982824e-01\n",
      "  1.42811166e-01 -1.64335414e-01  3.63606337e-02 -7.20323225e-02\n",
      " -1.17483355e-01 -8.33476249e-02 -1.14242845e-01 -3.04435782e-01\n",
      "  1.50127343e-01 -3.16252191e-02 -1.85175267e-01 -7.12935456e-02\n",
      " -1.66109585e-01 -8.84819823e-02 -2.52359690e-01 -5.97979715e-02\n",
      "  2.41541545e-03 -8.61909209e-02 -8.92361837e-02 -1.68787418e-01\n",
      " -9.81865272e-02 -9.48048376e-02 -1.65013792e-01 -3.05732563e-01\n",
      " -1.28984057e-01 -2.72620055e-01 -2.51582985e-01 -2.68591811e-01\n",
      "  2.15557079e-01 -1.45357121e-01 -9.15022400e-02  3.70944125e-02\n",
      " -8.36621236e-02 -4.33166373e-02 -2.52859594e-01  7.76840882e-02\n",
      " -2.43188029e-01  2.50441917e-01 -9.71634419e-03 -1.50440026e-01\n",
      " -1.70091916e-01 -4.74472017e-02 -7.38747779e-02 -2.03100283e-01\n",
      " -1.77701323e-01 -5.71873714e-02 -3.19050387e-01 -1.99728349e-01\n",
      "  3.00170408e-02 -6.46029813e-02 -3.42493149e-02 -3.21512957e-01\n",
      " -1.20475752e-01 -1.33097558e-01 -1.25101981e-02 -5.40072612e-02\n",
      " -4.62659515e-02 -9.62083575e-02 -8.46694619e-02 -2.32571521e-01\n",
      " -9.15940890e-04  1.99834305e-02 -1.78537079e-01 -1.20667621e-01\n",
      " -1.11822457e-01 -1.17797914e-01 -2.78480128e-01  6.25706956e-03\n",
      "  1.93799945e-02 -5.43059653e-02 -9.00537183e-02 -3.41099783e-01\n",
      " -1.40003908e-01 -1.79218940e-01 -8.14735485e-02 -9.58415278e-02\n",
      " -1.55859387e-01 -1.72358637e-01  3.07746817e-02  1.08074948e-01\n",
      " -2.47433924e-04 -3.37857774e-01 -2.57616668e-01  6.55821546e-02\n",
      " -7.05160017e-03 -2.92690092e-01 -1.99830830e-01 -3.16287186e-01\n",
      " -1.42216186e-01 -2.42304623e-01 -5.19275161e-02 -2.13937620e-02\n",
      "  4.78936857e-03 -1.43571099e-01 -4.30045089e-02  3.49481616e-02\n",
      " -8.78119518e-02 -1.21970357e-02 -1.66011680e-02 -1.83071862e-01\n",
      " -2.11944014e-02 -9.79169930e-02 -1.63877076e-01 -9.69676855e-02\n",
      " -2.41658989e-01 -2.53850771e-01  8.73011569e-02 -3.20753060e-02\n",
      " -2.68957370e-02 -1.40747499e-01 -1.39958062e-02 -9.59732802e-02\n",
      " -1.75181136e-01 -5.19509173e-02  4.64256218e-02 -1.44251416e-01\n",
      " -6.07990697e-02 -1.12950924e-01 -1.90785718e-01 -2.44238308e-01\n",
      "  7.91468509e-02 -1.09519584e-01  9.84222448e-03  1.12038285e-01\n",
      " -2.48395947e-01 -3.14392344e-02 -1.79642633e-01 -7.30898039e-03\n",
      " -1.66158055e-01  5.11998115e-02 -2.02671069e-01 -1.95387654e-01\n",
      " -4.68732248e-02 -6.11722062e-02 -2.64223968e-01 -2.13261366e-01\n",
      " -1.54223644e-01 -5.35976694e-02 -3.34731014e-01  5.05475350e-03\n",
      " -9.66492179e-02 -3.51240280e-01 -3.39537317e-02 -2.19233367e-01\n",
      " -1.53696029e-01 -9.40051717e-02 -1.13411558e-01 -1.41702975e-01\n",
      " -1.69825762e-01  1.43915479e-02 -8.08527672e-02 -1.49705791e-01\n",
      " -8.89293451e-02 -1.15126898e-01 -1.85160511e-01 -1.82181782e-01\n",
      " -9.25748284e-02 -6.78792647e-02 -1.97480690e-01 -2.58371409e-01\n",
      " -1.73977189e-02 -1.25978920e-01 -1.80394782e-01 -1.76381469e-01\n",
      " -1.12397726e-01 -9.77057007e-02 -4.90303204e-02 -1.56466810e-01\n",
      " -1.91209522e-01 -9.83724978e-02 -4.52704196e-02 -1.39166319e-01\n",
      " -1.08033944e-01 -1.80192285e-01 -1.07606426e-01 -3.58721254e-05\n",
      " -7.04636641e-02 -1.14705344e-01  3.19542431e-02  1.09226092e-01\n",
      " -2.35012554e-01 -6.34611504e-02 -1.02468942e-02 -9.75513186e-02\n",
      " -6.52323285e-02  4.97546728e-02  5.83544114e-02 -4.18910232e-02\n",
      " -1.90574019e-01 -1.98299868e-01 -1.61697108e-01 -1.78435872e-01\n",
      " -1.78731006e-02 -2.09688116e-01 -2.12701007e-02  2.41456686e-02\n",
      " -9.28121524e-02 -1.17748815e-01 -1.94655385e-01 -1.72595809e-01\n",
      " -1.93337855e-01 -1.30961950e-01 -1.67920181e-01 -2.09480902e-02\n",
      " -4.26094217e-02 -1.99742164e-01 -7.96525295e-02 -1.71763293e-01\n",
      " -7.35113053e-02 -4.37291820e-02  3.92936719e-02 -1.74990522e-01\n",
      " -4.02796110e-02  1.09558483e-02 -1.37601765e-01 -1.70805901e-01\n",
      " -1.79363402e-01 -6.74683813e-03  8.23140568e-03 -1.80740075e-01\n",
      " -3.67234032e-01 -3.86030285e-02 -1.24693569e-01 -1.39316155e-01\n",
      " -6.61538094e-02 -3.48488499e-01  1.20660875e-03 -1.06947734e-01\n",
      " -7.31346441e-02 -1.27056949e-01 -1.33327169e-01 -5.78128772e-02\n",
      " -9.67629860e-02 -8.36590393e-02  1.28876541e-01 -3.30294155e-01\n",
      " -7.70721115e-02 -1.33751008e-01 -5.77685977e-02  2.53595546e-02\n",
      " -1.28755163e-01  9.25007859e-02 -2.31329450e-01 -5.98560993e-02\n",
      "  4.40125363e-02 -2.66845971e-02 -9.38936948e-03 -1.44256171e-01\n",
      " -1.77365735e-01 -3.98650077e-02 -1.81608646e-01 -9.12375597e-02\n",
      " -1.68414786e-01 -6.55261214e-02 -2.05005173e-01 -4.58504756e-03\n",
      " -4.81030957e-02  2.53818706e-02 -2.06088550e-01 -2.42225179e-01\n",
      " -4.92618727e-02 -1.26571781e-01 -9.53414177e-02 -3.70094715e-01\n",
      "  1.37914053e-01 -4.04516046e-02 -2.45122691e-01 -5.39323991e-02\n",
      "  4.03981515e-02 -1.75299035e-01 -1.36250265e-01 -2.30974214e-01\n",
      " -1.68599634e-01 -8.73194452e-02 -1.32718968e-01 -1.78066564e-01\n",
      " -9.03473862e-02 -9.01266539e-02 -1.79691003e-01 -1.58336995e-01\n",
      "  3.74993874e-02 -1.19451825e-01 -1.36697782e-01 -1.94155987e-01\n",
      " -3.77554406e-02 -1.23131772e-01  4.03937117e-02 -1.30246877e-01\n",
      " -1.33904120e-01  4.88388831e-02 -5.52057133e-02 -1.72926122e-01\n",
      " -1.00449255e-01 -2.67997416e-01  1.21376468e-01 -1.67016064e-01\n",
      " -7.45208378e-02  3.90653599e-02 -1.16387348e-01 -1.32277805e-01\n",
      " -1.99322930e-01 -3.84581100e-02 -1.57277721e-01 -2.30461828e-01\n",
      " -8.78131319e-02 -3.44160598e-02 -2.03994735e-01 -1.89342417e-01\n",
      " -2.33223076e-01 -1.96039358e-02  2.48625632e-02 -1.39120749e-01\n",
      "  7.19037773e-02 -8.01261144e-02 -1.18661702e-01 -1.38113846e-01\n",
      " -4.70721696e-03 -2.42213245e-01 -1.53186189e-01 -1.17796698e-01\n",
      " -2.23288310e-01 -2.16413677e-02 -2.30064791e-01  1.63156239e-02\n",
      " -5.43313564e-02 -2.02852854e-01 -1.07721537e-01 -8.91318060e-02\n",
      "  2.42814394e-02 -1.16245564e-01 -4.43724942e-02  1.55488628e-01\n",
      " -2.12495325e-01 -1.11757092e-01 -8.09650705e-02 -2.99620490e-02\n",
      " -1.74357034e-02  4.23958694e-02 -1.28309696e-01 -1.38668771e-01\n",
      " -5.26665894e-02 -6.06083003e-02 -1.28815127e-01 -1.51500826e-02\n",
      "  1.05837359e-02 -2.06976389e-01  3.11088145e-02  1.08499972e-01\n",
      " -4.08212947e-02 -1.35227736e-01  4.09701633e-04  5.28213725e-02\n",
      " -2.40390056e-01 -6.44598638e-02 -9.27529148e-02  2.84413411e-02\n",
      " -1.02110816e-01  5.77706405e-02 -1.21525372e-01  6.75896861e-02\n",
      " -9.33174002e-02 -6.14128073e-02 -3.86653155e-01 -6.63027065e-02\n",
      " -7.38139529e-03 -1.12842309e-02 -9.82008105e-02 -6.26230680e-02\n",
      "  1.51958041e-02 -5.23323954e-02 -6.03750595e-02 -1.13167320e-01\n",
      " -2.08113709e-01 -8.17280910e-02  6.27622795e-02  4.97903358e-02\n",
      " -4.23761320e-02 -7.81247585e-02 -1.00015271e-01 -1.31598514e-01\n",
      " -3.67787839e-02 -9.06812492e-02 -2.60226103e-01 -2.40415510e-02\n",
      " -1.18466877e-01  8.21043646e-02  1.02701845e-01 -2.46038285e-01\n",
      " -3.56460812e-02 -1.75229454e-01 -3.17276810e-01 -4.71869513e-02\n",
      " -2.04841589e-01 -1.02264000e-01 -1.50130120e-01  7.20731090e-02\n",
      " -1.38744102e-01  6.03772098e-02  8.44234247e-02 -5.27777497e-02\n",
      " -1.54504451e-01 -1.21919312e-01  5.21970914e-02 -1.11278702e-01\n",
      "  3.44132931e-03 -1.71485747e-01 -1.55478816e-01 -7.72387762e-02\n",
      " -1.06540342e-01 -6.82279380e-02 -1.39000513e-01  4.06718342e-02\n",
      " -7.18338849e-02 -1.87252066e-01 -1.20824325e-01 -1.04447044e-01\n",
      " -1.00784676e-01 -2.30573632e-01 -1.90003146e-01 -2.93414220e-01\n",
      " -1.90774080e-01 -1.05892124e-01 -1.43398929e-01  1.13278442e-01\n",
      " -5.74955842e-02 -2.18315971e-01 -1.42906549e-01 -7.33301928e-02\n",
      " -1.57239724e-01 -2.89985283e-01 -1.33429782e-01  1.33906443e-02\n",
      " -1.40600063e-01 -2.17519390e-01 -2.14990613e-01 -7.70823072e-02\n",
      "  6.44588863e-02 -1.45592096e-01 -2.92357220e-01 -1.25713624e-01\n",
      " -1.63269870e-01 -1.54115114e-02 -2.07235017e-01 -1.68689194e-01\n",
      "  7.05740307e-02 -1.84648671e-01 -1.40444250e-01 -1.04088925e-01\n",
      " -1.28702224e-01 -1.56464421e-02 -1.82776535e-02 -4.50678339e-02\n",
      "  1.40771442e-01 -2.32113173e-01 -2.33702155e-01 -1.14101111e-01\n",
      " -8.21582725e-02  8.18054500e-02 -1.09722784e-01 -1.64501332e-01\n",
      "  8.31836272e-02  9.17591274e-02 -1.08617330e-01 -1.93768180e-01\n",
      " -6.13076438e-03 -2.50162614e-01  1.38719724e-02 -1.14706355e-01\n",
      "  2.70029384e-02 -6.37227850e-02  1.89649603e-01 -1.72744055e-01]\n",
      "[-0.30813246  0.11941585]\n"
     ]
    }
   ],
   "source": [
    "X = np.random.randn(100) \n",
    "print(x)\n",
    "N = 1000\n",
    "idx = np.random.randint(0, X.size, (N, X.size)) \n",
    "print(idx) \n",
    "means = X[idx].mean(axis = 1) \n",
    "print(means) \n",
    "confint = np.percentile(means, [2.5, 97.5]) \n",
    "print(confint)\n",
    "\n",
    "#https://numpy.org/doc/stable/reference/generated/numpy.percentile.html"
   ]
  }
 ],
 "metadata": {
  "kernelspec": {
   "display_name": "Python 3",
   "language": "python",
   "name": "python3"
  },
  "language_info": {
   "codemirror_mode": {
    "name": "ipython",
    "version": 3
   },
   "file_extension": ".py",
   "mimetype": "text/x-python",
   "name": "python",
   "nbconvert_exporter": "python",
   "pygments_lexer": "ipython3",
   "version": "3.9.2"
  }
 },
 "nbformat": 4,
 "nbformat_minor": 1
}
