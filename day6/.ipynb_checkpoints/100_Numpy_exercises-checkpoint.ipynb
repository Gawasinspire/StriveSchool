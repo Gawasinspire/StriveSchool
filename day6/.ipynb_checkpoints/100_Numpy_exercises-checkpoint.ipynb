{
 "cells": [
  {
   "cell_type": "markdown",
   "metadata": {},
   "source": [
    "# 100 numpy exercises\n",
    "\n",
    "This is a collection of exercises that have been collected in the numpy mailing list, on stack overflow and in the numpy documentation. The goal of this collection is to offer a quick reference for both old and new users but also to provide a set of exercises for those who teach.\n",
    "\n",
    "\n",
    "If you find an error or think you've a better way to solve some of them, feel free to open an issue at <https://github.com/rougier/numpy-100>"
   ]
  },
  {
   "cell_type": "markdown",
   "metadata": {},
   "source": [
    "#### 1. Import the numpy package under the name `np` (★☆☆)"
   ]
  },
  {
   "cell_type": "code",
   "execution_count": 22,
   "metadata": {},
   "outputs": [],
   "source": [
    "import numpy as np"
   ]
  },
  {
   "cell_type": "markdown",
   "metadata": {},
   "source": [
    "#### 2. Print the numpy version and the configuration (★☆☆)"
   ]
  },
  {
   "cell_type": "code",
   "execution_count": 7,
   "metadata": {},
   "outputs": [
    {
     "name": "stdout",
     "output_type": "stream",
     "text": [
      "1.19.5\n"
     ]
    }
   ],
   "source": [
    "print(np.__version__)"
   ]
  },
  {
   "cell_type": "markdown",
   "metadata": {},
   "source": [
    "#### 3. Create a null vector of size 10 (★☆☆)"
   ]
  },
  {
   "cell_type": "code",
   "execution_count": 10,
   "metadata": {},
   "outputs": [
    {
     "name": "stdout",
     "output_type": "stream",
     "text": [
      "[0. 0. 0. 0. 0. 0. 0. 0. 0. 0.]\n"
     ]
    }
   ],
   "source": [
    "import numpy as np\n",
    "x = np.zeros(10)\n",
    "print(x)"
   ]
  },
  {
   "cell_type": "markdown",
   "metadata": {},
   "source": [
    "#### 4.  How to find the memory size of any array (★☆☆)"
   ]
  },
  {
   "cell_type": "code",
   "execution_count": 11,
   "metadata": {},
   "outputs": [
    {
     "name": "stdout",
     "output_type": "stream",
     "text": [
      "96 bytes\n"
     ]
    }
   ],
   "source": [
    "n = np.zeros((1,4,3))\n",
    "print(\"%d bytes\" % (n.size * n.itemsize))"
   ]
  },
  {
   "cell_type": "markdown",
   "metadata": {},
   "source": [
    "#### 5.  How to get the documentation of the numpy add function from the command line? (★☆☆)"
   ]
  },
  {
   "cell_type": "code",
   "execution_count": 17,
   "metadata": {},
   "outputs": [
    {
     "name": "stdout",
     "output_type": "stream",
     "text": [
      "\n",
      "NumPy\n",
      "=====\n",
      "\n",
      "Provides\n",
      "  1. An array object of arbitrary homogeneous items\n",
      "  2. Fast mathematical operations over arrays\n",
      "  3. Linear Algebra, Fourier Transforms, Random Number Generation\n",
      "\n",
      "How to use the documentation\n",
      "----------------------------\n",
      "Documentation is available in two forms: docstrings provided\n",
      "with the code, and a loose standing reference guide, available from\n",
      "`the NumPy homepage <https://www.scipy.org>`_.\n",
      "\n",
      "We recommend exploring the docstrings using\n",
      "`IPython <https://ipython.org>`_, an advanced Python shell with\n",
      "TAB-completion and introspection capabilities.  See below for further\n",
      "instructions.\n",
      "\n",
      "The docstring examples assume that `numpy` has been imported as `np`::\n",
      "\n",
      "  >>> import numpy as np\n",
      "\n",
      "Code snippets are indicated by three greater-than signs::\n",
      "\n",
      "  >>> x = 42\n",
      "  >>> x = x + 1\n",
      "\n",
      "Use the built-in ``help`` function to view a function's docstring::\n",
      "\n",
      "  >>> help(np.sort)\n",
      "  ... # doctest: +SKIP\n",
      "\n",
      "For some objects, ``np.info(obj)`` may provide additional help.  This is\n",
      "particularly true if you see the line \"Help on ufunc object:\" at the top\n",
      "of the help() page.  Ufuncs are implemented in C, not Python, for speed.\n",
      "The native Python help() does not know how to view their help, but our\n",
      "np.info() function does.\n",
      "\n",
      "To search for documents containing a keyword, do::\n",
      "\n",
      "  >>> np.lookfor('keyword')\n",
      "  ... # doctest: +SKIP\n",
      "\n",
      "General-purpose documents like a glossary and help on the basic concepts\n",
      "of numpy are available under the ``doc`` sub-module::\n",
      "\n",
      "  >>> from numpy import doc\n",
      "  >>> help(doc)\n",
      "  ... # doctest: +SKIP\n",
      "\n",
      "Available subpackages\n",
      "---------------------\n",
      "doc\n",
      "    Topical documentation on broadcasting, indexing, etc.\n",
      "lib\n",
      "    Basic functions used by several sub-packages.\n",
      "random\n",
      "    Core Random Tools\n",
      "linalg\n",
      "    Core Linear Algebra Tools\n",
      "fft\n",
      "    Core FFT routines\n",
      "polynomial\n",
      "    Polynomial tools\n",
      "testing\n",
      "    NumPy testing tools\n",
      "f2py\n",
      "    Fortran to Python Interface Generator.\n",
      "distutils\n",
      "    Enhancements to distutils with support for\n",
      "    Fortran compilers support and more.\n",
      "\n",
      "Utilities\n",
      "---------\n",
      "test\n",
      "    Run numpy unittests\n",
      "show_config\n",
      "    Show numpy build configuration\n",
      "dual\n",
      "    Overwrite certain functions with high-performance Scipy tools\n",
      "matlib\n",
      "    Make everything matrices.\n",
      "__version__\n",
      "    NumPy version string\n",
      "\n",
      "Viewing documentation using IPython\n",
      "-----------------------------------\n",
      "Start IPython with the NumPy profile (``ipython -p numpy``), which will\n",
      "import `numpy` under the alias `np`.  Then, use the ``cpaste`` command to\n",
      "paste examples into the shell.  To see which functions are available in\n",
      "`numpy`, type ``np.<TAB>`` (where ``<TAB>`` refers to the TAB key), or use\n",
      "``np.*cos*?<ENTER>`` (where ``<ENTER>`` refers to the ENTER key) to narrow\n",
      "down the list.  To view the docstring for a function, use\n",
      "``np.cos?<ENTER>`` (to view the docstring) and ``np.cos??<ENTER>`` (to view\n",
      "the source code).\n",
      "\n",
      "Copies vs. in-place operation\n",
      "-----------------------------\n",
      "Most of the functions in `numpy` return a copy of the array argument\n",
      "(e.g., `np.sort`).  In-place versions of these functions are often\n",
      "available as array methods, i.e. ``x = np.array([1,2,3]); x.sort()``.\n",
      "Exceptions to this rule are documented.\n",
      "\n",
      "\n"
     ]
    }
   ],
   "source": [
    "#print(np.__doc__)\n",
    "\n",
    "def print_doc_numpy():\n",
    "    print(np.__doc__)\n",
    "\n",
    "print_doc_numpy()"
   ]
  },
  {
   "cell_type": "markdown",
   "metadata": {},
   "source": [
    "#### 6.  Create a null vector of size 10 but the fifth value which is 1 (★☆☆)"
   ]
  },
  {
   "cell_type": "code",
   "execution_count": 18,
   "metadata": {},
   "outputs": [
    {
     "name": "stdout",
     "output_type": "stream",
     "text": [
      "[0. 0. 0. 0. 0. 0. 0. 0. 0. 0.]\n",
      "[0. 0. 0. 0. 1. 0. 0. 0. 0. 0.]\n"
     ]
    }
   ],
   "source": [
    "x = np.zeros(10)\n",
    "print(x)\n",
    "x[4] = 1\n",
    "print(x)\n"
   ]
  },
  {
   "cell_type": "markdown",
   "metadata": {},
   "source": [
    "#### 7.  Create a vector with values ranging from 10 to 49 (★☆☆)"
   ]
  },
  {
   "cell_type": "code",
   "execution_count": 21,
   "metadata": {},
   "outputs": [
    {
     "name": "stdout",
     "output_type": "stream",
     "text": [
      "[10 11 12 13 14 15 16 17 18 19 20 21 22 23 24 25 26 27 28 29 30 31 32 33\n",
      " 34 35 36 37 38 39 40 41 42 43 44 45 46 47 48 49]\n"
     ]
    }
   ],
   "source": [
    "v = np.arange(10,50)\n",
    "print(v)"
   ]
  },
  {
   "cell_type": "markdown",
   "metadata": {},
   "source": [
    "#### 8.  Reverse a vector (first element becomes last) (★☆☆)"
   ]
  },
  {
   "cell_type": "code",
   "execution_count": 27,
   "metadata": {},
   "outputs": [
    {
     "name": "stdout",
     "output_type": "stream",
     "text": [
      "[9 8 7 6 5 4 3 2 1 0]\n"
     ]
    }
   ],
   "source": [
    "\n",
    "vector = np.arange(10)\n",
    "vector = vector[::-1]\n",
    "print(vector)"
   ]
  },
  {
   "cell_type": "markdown",
   "metadata": {},
   "source": [
    "#### 9.  Create a 3x3 matrix with values ranging from 0 to 8 (★☆☆)"
   ]
  },
  {
   "cell_type": "code",
   "execution_count": 29,
   "metadata": {},
   "outputs": [
    {
     "name": "stdout",
     "output_type": "stream",
     "text": [
      "[[0 1 2]\n",
      " [3 4 5]\n",
      " [6 7 8]]\n"
     ]
    }
   ],
   "source": [
    "x = np.arange(0,9).reshape(3,3)\n",
    "print(x)"
   ]
  },
  {
   "cell_type": "markdown",
   "metadata": {},
   "source": [
    "#### 10. Find indices of non-zero elements from \\[1,2,0,0,4,0\\] (★☆☆)"
   ]
  },
  {
   "cell_type": "code",
   "execution_count": 34,
   "metadata": {},
   "outputs": [
    {
     "name": "stdout",
     "output_type": "stream",
     "text": [
      "[2 3 5]\n"
     ]
    }
   ],
   "source": [
    "arr = np.array( [1,2,0,0,4,0] )\n",
    "print(np.where(arr == 0)[0])"
   ]
  },
  {
   "cell_type": "markdown",
   "metadata": {},
   "source": [
    "#### 11. Create a 3x3 identity matrix (★☆☆)"
   ]
  },
  {
   "cell_type": "code",
   "execution_count": 36,
   "metadata": {},
   "outputs": [
    {
     "name": "stdout",
     "output_type": "stream",
     "text": [
      "[[1. 0. 0.]\n",
      " [0. 1. 0.]\n",
      " [0. 0. 1.]]\n"
     ]
    }
   ],
   "source": [
    "print(np.identity(3))\n"
   ]
  },
  {
   "cell_type": "markdown",
   "metadata": {},
   "source": [
    "#### 12. Create a 3x3x3 array with random values (★☆☆)"
   ]
  },
  {
   "cell_type": "code",
   "execution_count": 37,
   "metadata": {},
   "outputs": [
    {
     "name": "stdout",
     "output_type": "stream",
     "text": [
      "[[[0.3683364  0.33930585 0.64195916]\n",
      "  [0.02524296 0.62541903 0.60087746]\n",
      "  [0.19596197 0.61805882 0.23055984]]\n",
      "\n",
      " [[0.49680974 0.93224533 0.67284699]\n",
      "  [0.00403806 0.20428694 0.75305028]\n",
      "  [0.1242747  0.53098859 0.27185701]]\n",
      "\n",
      " [[0.23095235 0.01887741 0.85657128]\n",
      "  [0.47765889 0.66278763 0.99431336]\n",
      "  [0.92469895 0.34399382 0.28661763]]]\n"
     ]
    }
   ],
   "source": [
    "x = np.random.random((3,3,3))\n",
    "print(x)\n"
   ]
  },
  {
   "cell_type": "markdown",
   "metadata": {},
   "source": [
    "#### 13. Create a 10x10 array with random values and find the minimum and maximum values (★☆☆)"
   ]
  },
  {
   "cell_type": "code",
   "execution_count": 46,
   "metadata": {},
   "outputs": [
    {
     "name": "stdout",
     "output_type": "stream",
     "text": [
      "min= 0.0038089961559872876\n",
      "max= 0.9976060555512412\n"
     ]
    }
   ],
   "source": [
    "x = np.random.random((10,10))\n",
    "#print(x)\n",
    "print(\"min=\",x.min())\n",
    "print(\"max=\",x.max())\n"
   ]
  },
  {
   "cell_type": "markdown",
   "metadata": {},
   "source": [
    "#### 14. Create a random vector of size 30 and find the mean value (★☆☆)"
   ]
  },
  {
   "cell_type": "code",
   "execution_count": 49,
   "metadata": {},
   "outputs": [
    {
     "name": "stdout",
     "output_type": "stream",
     "text": [
      "mean =  0.5655131736290567\n"
     ]
    }
   ],
   "source": [
    "x = np.random.random((30))\n",
    "#print(x)\n",
    "print(\"mean = \", x.mean())"
   ]
  },
  {
   "cell_type": "markdown",
   "metadata": {},
   "source": [
    "#### 15. Create a 2d array with 1 on the border and 0 inside (★☆☆)"
   ]
  },
  {
   "cell_type": "code",
   "execution_count": 52,
   "metadata": {},
   "outputs": [
    {
     "name": "stdout",
     "output_type": "stream",
     "text": [
      "[[1. 1. 1. 1. 1. 1. 1.]\n",
      " [1. 0. 0. 0. 0. 0. 1.]\n",
      " [1. 0. 0. 0. 0. 0. 1.]\n",
      " [1. 0. 0. 0. 0. 0. 1.]\n",
      " [1. 0. 0. 0. 0. 0. 1.]\n",
      " [1. 0. 0. 0. 0. 0. 1.]\n",
      " [1. 1. 1. 1. 1. 1. 1.]]\n"
     ]
    }
   ],
   "source": [
    "n = 7  #size\n",
    "x = np.ones((n,n))\n",
    "x[1:-1,1:-1] = 0\n",
    "print(x)"
   ]
  },
  {
   "cell_type": "markdown",
   "metadata": {},
   "source": [
    "#### 16. How to add a border (filled with 0's) around an existing array? (★☆☆)"
   ]
  },
  {
   "cell_type": "code",
   "execution_count": 56,
   "metadata": {},
   "outputs": [
    {
     "name": "stdout",
     "output_type": "stream",
     "text": [
      "[[0. 0. 0. 0. 0. 0. 0. 0. 0.]\n",
      " [0. 1. 1. 1. 1. 1. 1. 1. 0.]\n",
      " [0. 1. 0. 0. 0. 0. 0. 1. 0.]\n",
      " [0. 1. 0. 0. 0. 0. 0. 1. 0.]\n",
      " [0. 1. 0. 0. 0. 0. 0. 1. 0.]\n",
      " [0. 1. 0. 0. 0. 0. 0. 1. 0.]\n",
      " [0. 1. 0. 0. 0. 0. 0. 1. 0.]\n",
      " [0. 1. 1. 1. 1. 1. 1. 1. 0.]\n",
      " [0. 0. 0. 0. 0. 0. 0. 0. 0.]]\n"
     ]
    }
   ],
   "source": [
    "x = np.pad(x, pad_width=1, mode='constant', constant_values=0)\n",
    "print(x)"
   ]
  },
  {
   "cell_type": "markdown",
   "metadata": {},
   "source": [
    "#### 17. What is the result of the following expression? (★☆☆)"
   ]
  },
  {
   "cell_type": "markdown",
   "metadata": {},
   "source": [
    "```python\n",
    "0 * np.nan\n",
    "np.nan == np.nan\n",
    "np.inf > np.nan\n",
    "np.nan - np.nan\n",
    "np.nan in set([np.nan])\n",
    "0.3 == 3 * 0.1\n",
    "```"
   ]
  },
  {
   "cell_type": "code",
   "execution_count": 70,
   "metadata": {},
   "outputs": [
    {
     "name": "stdout",
     "output_type": "stream",
     "text": [
      "0.3\n",
      "0.30000000000000004\n"
     ]
    }
   ],
   "source": [
    "# explanation: NaN means not a number. \n",
    "\n",
    "# 0 * np.nan\n",
    "# Answer:nan \n",
    "# explanation: unknown(nan) mulitiplied with nan is unknown(nan)\n",
    "\n",
    "# np.nan == np.nan\n",
    "# Answer:False\n",
    "# Explanation:  This is because equivalence between missing \n",
    "#      or invalid values is not well defined. In practice, this behavior \n",
    "#      prevents silent bugs from creeping into your program. \n",
    "#     simply, it is by definition false.¯\\_(ツ)_/¯. \n",
    "\n",
    "# np.inf > np.nan\n",
    "# Answer: False \n",
    "# Explanation: inf - is infinity - a value that is greater than any other value. \n",
    "#          again, \" nan \" stands for Not A Number. comparing nan with a number,\n",
    "#          returns False.\n",
    "\n",
    "# np.nan - np.nan\n",
    "# Answer:nan\n",
    "# explanation: unknown(nan) subtracted with unknown(nan) is an unknown(nan)\n",
    "\n",
    "# np.nan in set([np.nan])\n",
    "# Answer: True\n",
    "# explanation: np.nan is present inside np.nan and it is unique\n",
    "\n",
    "# 0.3 == 3 * 0.1\n",
    "# Answer: False\n",
    "# Explanation: try print(0.3) and print(0.1*3) = 0.30000000000000004\n",
    "# ¯\\_(ツ)_/¯"
   ]
  },
  {
   "cell_type": "markdown",
   "metadata": {},
   "source": [
    "#### 18. Create a 5x5 matrix with values 1,2,3,4 just below the diagonal (★☆☆)"
   ]
  },
  {
   "cell_type": "code",
   "execution_count": 76,
   "metadata": {},
   "outputs": [
    {
     "name": "stdout",
     "output_type": "stream",
     "text": [
      "[[0 0 0 0 0]\n",
      " [1 0 0 0 0]\n",
      " [0 2 0 0 0]\n",
      " [0 0 3 0 0]\n",
      " [0 0 0 4 0]]\n",
      "[1 2 3 4]\n"
     ]
    }
   ],
   "source": [
    "x = np.diag(1+np.arange(4), k = -1)\n",
    "print(x)\n",
    "# print(1+np.arange(4))"
   ]
  },
  {
   "cell_type": "markdown",
   "metadata": {},
   "source": [
    "#### 19. Create a 8x8 matrix and fill it with a checkerboard pattern (★☆☆)"
   ]
  },
  {
   "cell_type": "code",
   "execution_count": 80,
   "metadata": {},
   "outputs": [
    {
     "name": "stdout",
     "output_type": "stream",
     "text": [
      "[[0 1 0 1 0 1 0 1]\n",
      " [1 0 1 0 1 0 1 0]\n",
      " [0 1 0 1 0 1 0 1]\n",
      " [1 0 1 0 1 0 1 0]\n",
      " [0 1 0 1 0 1 0 1]\n",
      " [1 0 1 0 1 0 1 0]\n",
      " [0 1 0 1 0 1 0 1]\n",
      " [1 0 1 0 1 0 1 0]]\n"
     ]
    }
   ],
   "source": [
    "x = np.zeros ((8,8), dtype=int)\n",
    "x[1::2, ::2]= 1\n",
    "x[::2, 1::2] = 1\n",
    "print (x)\n",
    "\n"
   ]
  },
  {
   "cell_type": "markdown",
   "metadata": {},
   "source": [
    "#### 20. Consider a (6,7,8) shape array, what is the index (x,y,z) of the 100th element?"
   ]
  },
  {
   "cell_type": "code",
   "execution_count": 85,
   "metadata": {},
   "outputs": [
    {
     "name": "stdout",
     "output_type": "stream",
     "text": [
      "(1, 5, 4)\n"
     ]
    }
   ],
   "source": [
    "# 6*7*8  =336\n",
    "print (np.unravel_index(100, (6,7,8)))\n",
    "# print (np.unravel_index(0, (6,7,8)))"
   ]
  },
  {
   "cell_type": "markdown",
   "metadata": {},
   "source": [
    "#### 21. Create a checkerboard 8x8 matrix using the tile function (★☆☆)"
   ]
  },
  {
   "cell_type": "code",
   "execution_count": 86,
   "metadata": {},
   "outputs": [
    {
     "name": "stdout",
     "output_type": "stream",
     "text": [
      "[[0 1 0 1 0 1 0 1]\n",
      " [1 0 1 0 1 0 1 0]\n",
      " [0 1 0 1 0 1 0 1]\n",
      " [1 0 1 0 1 0 1 0]\n",
      " [0 1 0 1 0 1 0 1]\n",
      " [1 0 1 0 1 0 1 0]\n",
      " [0 1 0 1 0 1 0 1]\n",
      " [1 0 1 0 1 0 1 0]]\n"
     ]
    }
   ],
   "source": [
    "array= np.array([[0,1], [1,0]])\n",
    "x = np.tile(array,(4,4))   # 16 * 4 =64, this 4 ([0,1],[1,0])\n",
    "print (x)"
   ]
  },
  {
   "cell_type": "markdown",
   "metadata": {},
   "source": [
    "#### 22. Normalize a 5x5 random matrix (★☆☆)"
   ]
  },
  {
   "cell_type": "code",
   "execution_count": 88,
   "metadata": {},
   "outputs": [
    {
     "name": "stdout",
     "output_type": "stream",
     "text": [
      "[[-0.89776242 -0.30904012 -0.32134391 -0.41404624 -0.47324848]\n",
      " [-0.92792631 -0.67352236  0.         -0.59843114 -0.67425622]\n",
      " [-0.68443082 -0.85309599 -0.66240028 -0.44347539 -0.18239689]\n",
      " [-0.63975721 -1.         -0.78645813 -0.87703793 -0.6943931 ]\n",
      " [-0.13964421 -0.90640388 -0.83772739 -0.23723487 -0.12841914]]\n"
     ]
    }
   ],
   "source": [
    "x = np.random.random((5,5))\n",
    "maximum = x.max()\n",
    "minimum = x.min()\n",
    "x= (x-maximum)/(maximum-minimum)   # normalise formuala\n",
    "print (x)\n",
    "\n"
   ]
  },
  {
   "cell_type": "markdown",
   "metadata": {},
   "source": [
    "#### 23. Create a custom dtype that describes a color as four unsigned bytes (RGBA) (★☆☆)"
   ]
  },
  {
   "cell_type": "code",
   "execution_count": 99,
   "metadata": {},
   "outputs": [
    {
     "name": "stdout",
     "output_type": "stream",
     "text": [
      "[('r', 'u1'), ('g', 'u1'), ('b', 'u1'), ('a', 'u1')]\n"
     ]
    },
    {
     "name": "stderr",
     "output_type": "stream",
     "text": [
      "<ipython-input-99-4cdb32b01e6e>:3: FutureWarning: Passing (type, 1) or '1type' as a synonym of type is deprecated; in a future version of numpy, it will be understood as (type, (1,)) / '(1,)type'.\n",
      "  color_datatype = np.dtype([(\"r\", np.ubyte, 1),\n"
     ]
    }
   ],
   "source": [
    "# help(np.dtype)\n",
    "# ubyte = unsigned bytes, dtype = datatype  \n",
    "color_datatype = np.dtype([(\"r\", np.ubyte, 1),\n",
    "                  (\"g\", np.ubyte, 1),\n",
    "                  (\"b\", np.ubyte, 1),\n",
    "                  (\"a\", np.ubyte, 1)])\n",
    "print(color_datatype)"
   ]
  },
  {
   "cell_type": "markdown",
   "metadata": {},
   "source": [
    "#### 24. Multiply a 5x3 matrix by a 3x2 matrix (real matrix product) (★☆☆)"
   ]
  },
  {
   "cell_type": "code",
   "execution_count": 103,
   "metadata": {},
   "outputs": [
    {
     "name": "stdout",
     "output_type": "stream",
     "text": [
      "[[0.52906017 0.67111381]\n",
      " [0.639937   0.78170267]\n",
      " [0.33919219 0.50439404]\n",
      " [0.77188314 0.7257678 ]\n",
      " [0.76152625 0.59018411]]\n"
     ]
    }
   ],
   "source": [
    "x = np.random.random(15).reshape((5,3))\n",
    "y = np.random.random(6).reshape((3,2))\n",
    "print(np.dot(x,y))  # this will print 5,2 matrix \n"
   ]
  },
  {
   "cell_type": "markdown",
   "metadata": {},
   "source": [
    "#### 25. Given a 1D array, negate all elements which are between 3 and 8, in place. (★☆☆)"
   ]
  },
  {
   "cell_type": "code",
   "execution_count": 108,
   "metadata": {},
   "outputs": [
    {
     "name": "stdout",
     "output_type": "stream",
     "text": [
      "[ 0  1  2 -1 -1 -1 -1 -1 -1  9]\n"
     ]
    }
   ],
   "source": [
    "x = np.arange(10)\n",
    "x[(x >= 3) & (x <= 8)] = -1\n",
    "print(x) #if the positions are little different then need to change number a bit.\n"
   ]
  },
  {
   "cell_type": "markdown",
   "metadata": {},
   "source": [
    "#### 26. What is the output of the following script? (★☆☆)"
   ]
  },
  {
   "cell_type": "markdown",
   "metadata": {},
   "source": [
    "```python\n",
    "# Author: Jake VanderPlas\n",
    "\n",
    "print(sum(range(5),-1))\n",
    "from numpy import *\n",
    "print(sum(range(5),-1))\n",
    "```"
   ]
  },
  {
   "cell_type": "code",
   "execution_count": 114,
   "metadata": {},
   "outputs": [
    {
     "name": "stdout",
     "output_type": "stream",
     "text": [
      "10\n",
      "10\n"
     ]
    }
   ],
   "source": [
    "# Answer: 9 10 \n",
    "# Explanation:  Python's sum signature starts with 0. \n",
    "#           Numpy must be redefining range, and\n",
    "#           it has different boundry rules. \n",
    "# The first line is equivalent to 0+1+2+3+4+(-1). \n",
    "# The third line is equivalent to 0+1+2+3+4 on axis=-1\n",
    "# interestingly, it happens only one time."
   ]
  },
  {
   "cell_type": "markdown",
   "metadata": {},
   "source": [
    "#### 27. Consider an integer vector Z, which of these expressions are legal? (★☆☆)"
   ]
  },
  {
   "cell_type": "markdown",
   "metadata": {},
   "source": [
    "```python\n",
    "Z**Z\n",
    "2 << Z >> 2\n",
    "Z <- Z\n",
    "1j*Z\n",
    "Z/1/1\n",
    "Z<Z>Z\n",
    "```"
   ]
  },
  {
   "cell_type": "code",
   "execution_count": 157,
   "metadata": {},
   "outputs": [
    {
     "name": "stdout",
     "output_type": "stream",
     "text": [
      "[ 1  1  4 27]\n",
      "[0 1 2 3 4 5 6 7 8 9]\n",
      "[  0   1   2   4   8  16  32  64 128 256]\n",
      "[0.+0.j 0.+1.j 0.+2.j 0.+3.j 0.+4.j 0.+5.j 0.+6.j 0.+7.j 0.+8.j 0.+9.j]\n",
      "[0. 1. 2. 3. 4. 5. 6. 7. 8. 9.]\n",
      "[False False False False False False False False False False]\n"
     ]
    }
   ],
   "source": [
    "# z power z \n",
    "Z = np.arange(4)\n",
    "print(Z**Z) # legal \n",
    "\n",
    "# bit shifting operations\n",
    "Z = np.arange(10)\n",
    "print(Z)   # shift to left by 5 bits\n",
    "           # shift to right by 5 bits\n",
    "#a = bin(0b1111 << 2)\n",
    "#print(a)\n",
    "#a = bin(0b1111 >> 2)\n",
    "#print(a)\n",
    "\n",
    "print(2 << Z >> 2)   # legal\n",
    "\n",
    "print(1j*Z)  # legal, make it as a imaginary num.\n",
    "print(Z/1/1)   # legal, it turns to float\n",
    "print(Z <- Z)   # legal\n",
    "#print(Z < Z > Z) # illegal value error  "
   ]
  },
  {
   "cell_type": "markdown",
   "metadata": {},
   "source": [
    "#### 28. What are the result of the following expressions?"
   ]
  },
  {
   "cell_type": "markdown",
   "metadata": {},
   "source": [
    "```python\n",
    "np.array(0) / np.array(0)\n",
    "np.array(0) // np.array(0)\n",
    "np.array([np.nan]).astype(int).astype(float)\n",
    "```"
   ]
  },
  {
   "cell_type": "code",
   "execution_count": 169,
   "metadata": {},
   "outputs": [
    {
     "data": {
      "text/plain": [
       "array([-9.22337204e+18])"
      ]
     },
     "execution_count": 169,
     "metadata": {},
     "output_type": "execute_result"
    }
   ],
   "source": [
    "#np.array(0) / np.array(0)\n",
    "# Ans: zero by zero -> not a number\n",
    "\n",
    "# np.array(0) // np.array(0)\n",
    "# Ans:0, floor division or integer division.\n",
    "\n",
    "# np.array([np.nan]).astype(int).astype(float)\n",
    "# Ans:array([-9.22337204e+18]) returns a long floating point number if we conveert"
   ]
  },
  {
   "cell_type": "markdown",
   "metadata": {},
   "source": [
    "#### 29. How to round away from zero a float array ? (★☆☆)"
   ]
  },
  {
   "cell_type": "code",
   "execution_count": 173,
   "metadata": {},
   "outputs": [
    {
     "name": "stdout",
     "output_type": "stream",
     "text": [
      "[0.67184953 0.84982628 0.26055381 0.11134841]\n",
      "[1. 1. 0. 0.]\n"
     ]
    }
   ],
   "source": [
    "num = np.random.random(4)\n",
    "print(num)\n",
    "print(np.round(num,0))"
   ]
  },
  {
   "cell_type": "markdown",
   "metadata": {},
   "source": [
    "#### 30. How to find common values between two arrays? (★☆☆)"
   ]
  },
  {
   "cell_type": "code",
   "execution_count": 174,
   "metadata": {},
   "outputs": [
    {
     "name": "stdout",
     "output_type": "stream",
     "text": [
      "[1 3 4]\n"
     ]
    }
   ],
   "source": [
    "ar1 = np.array([0, 1, 2, 3, 4]) \n",
    "ar2 = [1, 3, 4] \n",
    "  \n",
    "# Common values between two arrays \n",
    "print(np.intersect1d(ar1, ar2))"
   ]
  },
  {
   "cell_type": "markdown",
   "metadata": {},
   "source": [
    "#### 31. How to ignore all numpy warnings (not recommended)? (★☆☆)"
   ]
  },
  {
   "cell_type": "code",
   "execution_count": 176,
   "metadata": {},
   "outputs": [],
   "source": [
    "# np.seterr(all=\"ignore\")"
   ]
  },
  {
   "cell_type": "markdown",
   "metadata": {},
   "source": [
    "#### 32. Is the following expressions true? (★☆☆)"
   ]
  },
  {
   "cell_type": "markdown",
   "metadata": {},
   "source": [
    "```python\n",
    "np.sqrt(-1) == np.emath.sqrt(-1)\n",
    "```"
   ]
  },
  {
   "cell_type": "code",
   "execution_count": 178,
   "metadata": {},
   "outputs": [
    {
     "name": "stdout",
     "output_type": "stream",
     "text": [
      "1j\n"
     ]
    }
   ],
   "source": [
    "# nope, False\n",
    "# Explanations: \n",
    "# print(np.sqrt(-1))  --> nan\n",
    "# print(np.emath.sqrt(-1))  --> 1i   j = sqrt(-1) emath frameworks \n"
   ]
  },
  {
   "cell_type": "markdown",
   "metadata": {},
   "source": [
    "\n",
    "#### 33. How to get the dates of yesterday, today and tomorrow? (★☆☆)"
   ]
  },
  {
   "cell_type": "code",
   "execution_count": 184,
   "metadata": {},
   "outputs": [
    {
     "name": "stdout",
     "output_type": "stream",
     "text": [
      "Yestraday:  2021-03-21\n",
      "Today:  2021-03-22\n",
      "Tomorrow:  2021-03-23\n"
     ]
    }
   ],
   "source": [
    "# time delta makes to convert the convensions todo arithmetic operations on datetime\n",
    "yesterday = np.datetime64('today', 'D') - np.timedelta64(1, 'D')\n",
    "print(\"Yesterday: \",yesterday)\n",
    "today     = np.datetime64('today', 'D')\n",
    "print(\"Today: \",today)\n",
    "tomorrow  = np.datetime64('today', 'D') + np.timedelta64(1, 'D')\n",
    "print(\"Tomorrow: \",tomorrow)"
   ]
  },
  {
   "cell_type": "markdown",
   "metadata": {},
   "source": [
    "#### 34. How to get all the dates corresponding to the month of July 2016? (★★☆)"
   ]
  },
  {
   "cell_type": "code",
   "execution_count": 186,
   "metadata": {},
   "outputs": [
    {
     "name": "stdout",
     "output_type": "stream",
     "text": [
      "['2016-07-01' '2016-07-02' '2016-07-03' '2016-07-04' '2016-07-05'\n",
      " '2016-07-06' '2016-07-07' '2016-07-08' '2016-07-09' '2016-07-10'\n",
      " '2016-07-11' '2016-07-12' '2016-07-13' '2016-07-14' '2016-07-15'\n",
      " '2016-07-16' '2016-07-17' '2016-07-18' '2016-07-19' '2016-07-20'\n",
      " '2016-07-21' '2016-07-22' '2016-07-23' '2016-07-24' '2016-07-25'\n",
      " '2016-07-26' '2016-07-27' '2016-07-28' '2016-07-29' '2016-07-30'\n",
      " '2016-07-31']\n"
     ]
    }
   ],
   "source": [
    "x = np.arange('2016-07', '2016-08', dtype='datetime64[D]')\n",
    "# form staring of 07 to before starting of 08\n",
    "print(x)"
   ]
  },
  {
   "cell_type": "markdown",
   "metadata": {},
   "source": [
    "#### 35. How to compute ((A+B)\\*(-A/2)) in place (without copy)? (★★☆)"
   ]
  },
  {
   "cell_type": "code",
   "execution_count": 191,
   "metadata": {},
   "outputs": [
    {
     "name": "stdout",
     "output_type": "stream",
     "text": [
      "[1.] [2.] [3.]\n",
      "[3.]\n",
      "[0.5]\n",
      "[-0.5]\n",
      "[-1.5]\n"
     ]
    }
   ],
   "source": [
    "A = np.ones(1)*1\n",
    "B = np.ones(1)*2\n",
    "C = np.ones(1)*3 \n",
    "\n",
    "print(A,B,C)  # operations: (1+2) * (-1/2) --> -3 *0.5\n",
    "print(np.add(A,B,out=B))\n",
    "print(np.divide(A,2,out=A))\n",
    "print(np.negative(A,out=A))\n",
    "print(np.multiply(A,B,out=A))"
   ]
  },
  {
   "cell_type": "markdown",
   "metadata": {},
   "source": [
    "#### 36. Extract the integer part of a random array using 5 different methods (★★☆)"
   ]
  },
  {
   "cell_type": "code",
   "execution_count": 211,
   "metadata": {},
   "outputs": [
    {
     "name": "stdout",
     "output_type": "stream",
     "text": [
      "[ 8.28139258 -5.27876327 -4.81041917]\n",
      "[ 8 -5 -4]\n",
      "[ 8. -5. -4.]\n",
      "[ 8. -6. -5.]\n",
      "[ 9. -5. -4.]\n",
      "[0 7 7]\n"
     ]
    }
   ],
   "source": [
    "num = np.random.uniform(-10, +10, 3)  # ranges and no. of randoms\n",
    "print(num)\n",
    "#Method 1:   \n",
    "print(num.astype(np.int32))\n",
    "\n",
    "#Method 2:\n",
    "#print(type(np.trunc(num)))\n",
    "print(np.trunc(num))\n",
    "\n",
    "# Method 3:\n",
    "print(np.floor(num))\n",
    "\n",
    "# Method 4:\n",
    "print(np.ceil(num))\n",
    "\n",
    "# Method 5:\n",
    "print(random.randint(-10,10,3))"
   ]
  },
  {
   "cell_type": "markdown",
   "metadata": {},
   "source": [
    "#### 37. Create a 5x5 matrix with row values ranging from 0 to 4 (★★☆)"
   ]
  },
  {
   "cell_type": "code",
   "execution_count": 218,
   "metadata": {},
   "outputs": [
    {
     "name": "stdout",
     "output_type": "stream",
     "text": [
      "[[0. 0. 0. 0. 0.]\n",
      " [0. 0. 0. 0. 0.]\n",
      " [0. 0. 0. 0. 0.]\n",
      " [0. 0. 0. 0. 0.]\n",
      " [0. 0. 0. 0. 0.]]\n",
      "[[0. 1. 2. 3. 4.]\n",
      " [0. 1. 2. 3. 4.]\n",
      " [0. 1. 2. 3. 4.]\n",
      " [0. 1. 2. 3. 4.]\n",
      " [0. 1. 2. 3. 4.]]\n"
     ]
    }
   ],
   "source": [
    "x = np.zeros((5, 5))\n",
    "print(x)\n",
    "x += np.arange(0,5) \n",
    "\n",
    "print(x)"
   ]
  },
  {
   "cell_type": "markdown",
   "metadata": {},
   "source": [
    "#### 38. Consider a generator function that generates 10 integers and use it to build an array (★☆☆)"
   ]
  },
  {
   "cell_type": "code",
   "execution_count": 234,
   "metadata": {},
   "outputs": [
    {
     "name": "stdout",
     "output_type": "stream",
     "text": [
      "[0 1 2 3 4 5 6 7 8 9]\n"
     ]
    }
   ],
   "source": [
    "def generator_func():\n",
    "    list_1 = (a for a in range(10))\n",
    "    return list_1\n",
    "    \n",
    "print(np.fromiter(generator_func(),int))\n",
    "    "
   ]
  },
  {
   "cell_type": "markdown",
   "metadata": {},
   "source": [
    "#### 39. Create a vector of size 10 with values ranging from 0 to 1, both excluded (★★☆)"
   ]
  },
  {
   "cell_type": "code",
   "execution_count": 239,
   "metadata": {},
   "outputs": [
    {
     "name": "stdout",
     "output_type": "stream",
     "text": [
      "[0.  0.1 0.2 0.3 0.4 0.5 0.6 0.7 0.8 0.9]\n",
      "[0.37620029 0.54206162 0.2272266  0.14048979 0.29422588 0.42044656\n",
      " 0.86037227 0.92488437 0.58260405 0.52041984]\n"
     ]
    }
   ],
   "source": [
    "vector1 = np.linspace(start=0, stop=1, num=10, endpoint=False)\n",
    "vector2 = np.random.random(10)\n",
    "print(vector1)\n",
    "print(vector2)\n"
   ]
  },
  {
   "cell_type": "markdown",
   "metadata": {},
   "source": [
    "#### 40. Create a random vector of size 10 and sort it (★★☆)"
   ]
  },
  {
   "cell_type": "code",
   "execution_count": 246,
   "metadata": {},
   "outputs": [
    {
     "name": "stdout",
     "output_type": "stream",
     "text": [
      "[0.21669255 0.21693846 0.26091325 0.38707316 0.45023402 0.46307272\n",
      " 0.46880695 0.47280928 0.48334948 0.63045976]\n"
     ]
    }
   ],
   "source": [
    "vector2 = np.random.random(10)\n",
    "vector3 = np.sort(vector2)\n",
    "print(vector3)"
   ]
  },
  {
   "cell_type": "markdown",
   "metadata": {},
   "source": [
    "#### 41. How to sum a small array faster than np.sum? (★★☆)"
   ]
  },
  {
   "cell_type": "code",
   "execution_count": 263,
   "metadata": {},
   "outputs": [
    {
     "name": "stdout",
     "output_type": "stream",
     "text": [
      "timetaken for np.sum 2.056598663330078\n",
      "timetaken for normal sum 2.1164417266845703\n",
      "timetaken for np.sum 0.2727508544921875\n",
      "timetaken for normal sum 0.2353191375732422\n"
     ]
    }
   ],
   "source": [
    "import time\n",
    "x1 = np.arange(1000000)\n",
    "x2 = np.arange(100)\n",
    "\n",
    "\n",
    "begin_time = time.time()\n",
    "y1 = np.sum(x1)\n",
    "end_time = time.time()\n",
    "print(\"timetaken for np.sum\",str(1000*(end_time - begin_time)))\n",
    "\n",
    "begin_time2 = time.time()\n",
    "y2 = sum(x1)\n",
    "end_time2 = time.time()\n",
    "print(\"timetaken for normal sum\",str(1000*(end_time2 - begin_time2)))\n",
    "\n",
    "\n",
    "begin_time3 = time.time()\n",
    "y3 = np.sum(x2)\n",
    "end_time3 = time.time()\n",
    "print(\"timetaken for np.sum\",str(1000*(end_time3 - begin_time3)))\n",
    "\n",
    "begin_time4 = time.time()\n",
    "y4 = sum(x2)\n",
    "end_time4 = time.time()\n",
    "print(\"timetaken for normal sum\",str(1000*(end_time4 - begin_time4)))\n"
   ]
  },
  {
   "cell_type": "markdown",
   "metadata": {},
   "source": [
    "#### 42. Consider two random array A and B, check if they are equal (★★☆)"
   ]
  },
  {
   "cell_type": "code",
   "execution_count": 372,
   "metadata": {},
   "outputs": [
    {
     "name": "stdout",
     "output_type": "stream",
     "text": [
      "[ 80   0  28  23 -25 -27 -24 -61  72  17] \n",
      " [-15  90  56 -36 -96 -42 -87  40 -79  38]\n",
      "False\n"
     ]
    }
   ],
   "source": [
    "A = random.randint(-100,100,10)\n",
    "B = random.randint(-100,100,10)\n",
    "print(A,\"\\n\",B)\n",
    "print(np.array_equal(A, B))\n"
   ]
  },
  {
   "cell_type": "markdown",
   "metadata": {},
   "source": [
    "#### 43. Make an array immutable (read-only) (★★☆)"
   ]
  },
  {
   "cell_type": "code",
   "execution_count": 274,
   "metadata": {},
   "outputs": [],
   "source": [
    "A = random.randint(-100,100,10)\n",
    "A.flags.writeable = False\n",
    "\n",
    "#A[1] = 1   could not change value"
   ]
  },
  {
   "cell_type": "markdown",
   "metadata": {},
   "source": [
    "#### 44. Consider a random 10x2 matrix representing cartesian coordinates, convert them to polar coordinates (★★☆)"
   ]
  },
  {
   "cell_type": "code",
   "execution_count": 278,
   "metadata": {},
   "outputs": [
    {
     "name": "stdout",
     "output_type": "stream",
     "text": [
      "[[0.82174076 0.19630315]\n",
      " [0.0909344  0.35037843]\n",
      " [0.72389877 0.38213189]\n",
      " [0.50395404 0.28058738]\n",
      " [0.50777005 0.43457109]\n",
      " [0.46899936 0.38844117]\n",
      " [0.35955586 0.58678773]\n",
      " [0.38175099 0.92080781]\n",
      " [0.9196043  0.86448434]\n",
      " [0.20343851 0.76752599]]\n",
      "In polar\n",
      "[0.84486259 0.36198634 0.81856839 0.57680062 0.66834307 0.60897203\n",
      " 0.68818621 0.99680531 1.26214311 0.79402983]\n",
      "[0.23449229 1.31686672 0.48570226 0.50802738 0.70787606 0.69172122\n",
      " 1.02105246 1.1777822  0.75451268 1.31169688]\n"
     ]
    }
   ],
   "source": [
    "# np.sqrt, np.arctan2\n",
    "Rand_num = np.random.random((10, 2))\n",
    "print(Rand_num)\n",
    "\n",
    "X, Y = Rand_num[:, 0], Rand_num[:, 1]  #multiple assginment x= [:,0]all elements in col 0 is equal to x\n",
    "\n",
    "# To convert from Cartesian Coordinates (x,y) to Polar Coordinates (r,θ):\n",
    "# r = √ ( x2 + y2 )\n",
    "# θ = tan-1 ( y / x ) \n",
    "\n",
    "# Calculating radius\n",
    "radius = np.sqrt(X ** 2 + Y ** 2)  \n",
    "# Calculating angle (theta) in radian\n",
    "theta = np.arctan2(Y, X)\n",
    "print(\"In polar:\")\n",
    "print(radius)\n",
    "print(theta)"
   ]
  },
  {
   "cell_type": "markdown",
   "metadata": {},
   "source": [
    "#### 45. Create random vector of size 10 and replace the maximum value by 0 (★★☆)"
   ]
  },
  {
   "cell_type": "code",
   "execution_count": 295,
   "metadata": {},
   "outputs": [
    {
     "name": "stdout",
     "output_type": "stream",
     "text": [
      "orig\n",
      " [0.49343487 0.91607429 0.87007022 0.00423035 0.83933864 0.548661\n",
      " 0.74703844 0.73750165 0.22791073 0.44529296]\n",
      "[0.49343487 0.         0.87007022 0.00423035 0.83933864 0.548661\n",
      " 0.74703844 0.73750165 0.22791073 0.44529296]\n",
      "orig\n",
      " [ 53  81 -67 -49  23  45   5  74 -50  53]\n",
      "[ 53   0 -67 -49  23  45   5  74 -50  53]\n"
     ]
    }
   ],
   "source": [
    "x = np.random.random((10))\n",
    "print(\"orig\\n\",x)\n",
    "x[x == np.max(x)] = 0\n",
    "print(x)\n",
    "\n",
    "A = random.randint(-100,100,10)\n",
    "print(\"orig\\n\",A)\n",
    "A[A.argmax()] = 0\n",
    "print(A)"
   ]
  },
  {
   "cell_type": "markdown",
   "metadata": {},
   "source": [
    "#### 46. Create a structured array with `x` and `y` coordinates covering the \\[0,1\\]x\\[0,1\\] area (★★☆)"
   ]
  },
  {
   "cell_type": "code",
   "execution_count": 304,
   "metadata": {},
   "outputs": [
    {
     "name": "stdout",
     "output_type": "stream",
     "text": [
      "[[(0., 0.) (0., 0.)]\n",
      " [(0., 0.) (0., 0.)]]\n",
      "[[(0., 0.) (1., 0.)]\n",
      " [(0., 1.) (1., 1.)]]\n"
     ]
    }
   ],
   "source": [
    "def struc_Array(x,y):\n",
    "    A = np.zeros((x,y), [('x',float),('y',float)])\n",
    "    print(A)\n",
    "    A['x'], A['y'] = np.meshgrid(np.linspace(0,1,x),np.linspace(0,1,y))\n",
    "    print(A)\n",
    "\n",
    "struc_Array(2,2)\n"
   ]
  },
  {
   "cell_type": "markdown",
   "metadata": {},
   "source": [
    "####  47. Given two arrays, X and Y, construct the Cauchy matrix C (Cij =1/(xi - yj))"
   ]
  },
  {
   "cell_type": "code",
   "execution_count": 312,
   "metadata": {},
   "outputs": [
    {
     "name": "stdout",
     "output_type": "stream",
     "text": [
      "[0 1 2 3 4 5 6 7]\n",
      "[0.5 1.5 2.5 3.5 4.5 5.5 6.5 7.5]\n",
      "====C====\n",
      "[[-2.         -0.66666667 -0.4        -0.28571429 -0.22222222 -0.18181818\n",
      "  -0.15384615 -0.13333333]\n",
      " [ 2.         -2.         -0.66666667 -0.4        -0.28571429 -0.22222222\n",
      "  -0.18181818 -0.15384615]\n",
      " [ 0.66666667  2.         -2.         -0.66666667 -0.4        -0.28571429\n",
      "  -0.22222222 -0.18181818]\n",
      " [ 0.4         0.66666667  2.         -2.         -0.66666667 -0.4\n",
      "  -0.28571429 -0.22222222]\n",
      " [ 0.28571429  0.4         0.66666667  2.         -2.         -0.66666667\n",
      "  -0.4        -0.28571429]\n",
      " [ 0.22222222  0.28571429  0.4         0.66666667  2.         -2.\n",
      "  -0.66666667 -0.4       ]\n",
      " [ 0.18181818  0.22222222  0.28571429  0.4         0.66666667  2.\n",
      "  -2.         -0.66666667]\n",
      " [ 0.15384615  0.18181818  0.22222222  0.28571429  0.4         0.66666667\n",
      "   2.         -2.        ]]\n",
      "determinant 3638.1636371179666\n",
      "a [[-3.36442530e+05 -7.94454561e+05 -5.62210135e+04 -6.19983311e+06\n",
      "   4.27768062e+06]\n",
      " [-4.02557747e+07 -6.64963670e+07  7.37372157e+05 -7.60653327e+03\n",
      "   2.37695134e+06]\n",
      " [-6.86390264e+04 -3.38140182e+06 -3.25392781e+06 -5.41521041e+05\n",
      "   3.83853577e+06]\n",
      " [-5.38506210e+05  5.77330789e+05 -2.09627591e+06 -1.58464438e+06\n",
      "  -1.57710098e+05]\n",
      " [-2.67934133e+06 -7.94424655e+06  6.36491948e+05 -4.09651903e+06\n",
      "  -5.35117064e+03]]\n"
     ]
    }
   ],
   "source": [
    "                                   # Compute the determinant of an array.\n",
    "\n",
    "X = np.arange(8)\n",
    "Y = X + 0.5\n",
    "C = 1.0 / np.subtract.outer(X, Y)  # subtract outer produces more dimensions                           \n",
    "print(X)\n",
    "print(Y)\n",
    "print(\"====C====\")\n",
    "print(C)\n",
    "print(\"determinant\",np.linalg.det(C))    \n",
    "\n",
    "#x = np.random.random((5, 5))\n",
    "#y = np.random.random((5, 5))\n",
    "#c = 1 / (x - y)\n",
    "#c = 1 / np.subtract.outer(x, y)\n",
    "3a =np.linalg.det(c)\n",
    "#print(\"a\",a)"
   ]
  },
  {
   "cell_type": "markdown",
   "metadata": {},
   "source": [
    "#### 48. Print the minimum and maximum representable value for each numpy scalar type (★★☆)"
   ]
  },
  {
   "cell_type": "code",
   "execution_count": 320,
   "metadata": {},
   "outputs": [
    {
     "name": "stdout",
     "output_type": "stream",
     "text": [
      "min of  <class 'numpy.int8'> -128\n",
      "max of  <class 'numpy.int8'> 127\n",
      "min of  <class 'numpy.int32'> -2147483648\n",
      "max of  <class 'numpy.int32'> 2147483647\n",
      "min of  <class 'numpy.int64'> -9223372036854775808\n",
      "max of  <class 'numpy.int64'> 9223372036854775807\n",
      "min of  <class 'numpy.float32'> -3.4028235e+38\n",
      "max of  <class 'numpy.float32'> 3.4028235e+38\n",
      "eps of  <class 'numpy.float32'> 1.1920929e-07\n",
      "min of  <class 'numpy.float64'> -1.7976931348623157e+308\n",
      "max of  <class 'numpy.float64'> 1.7976931348623157e+308\n",
      "eps of  <class 'numpy.float64'> 2.220446049250313e-16\n"
     ]
    }
   ],
   "source": [
    "for dtype in [np.int8, np.int32, np.int64]:\n",
    "    print(\"min of \", dtype,  np.iinfo(dtype).min)\n",
    "    print(\"max of \", dtype, np.iinfo(dtype).max)\n",
    "    \n",
    "for dtype in [np.float32, np.float64]:\n",
    "    print(\"min of \", dtype, np.finfo(dtype).min)\n",
    "    print(\"max of \", dtype, np.finfo(dtype).max)\n",
    "    print(\"eps of \", dtype, np.finfo(dtype).eps)\n",
    "    \n",
    "    #iinfo    The equivalent for integer data types.  eps= epsilon\n",
    "\n",
    "\n"
   ]
  },
  {
   "cell_type": "markdown",
   "metadata": {},
   "source": [
    "#### 49. How to print all the values of an array? (★★☆)"
   ]
  },
  {
   "cell_type": "code",
   "execution_count": 344,
   "metadata": {},
   "outputs": [
    {
     "name": "stdout",
     "output_type": "stream",
     "text": [
      "\n",
      "Is NaN: \n",
      " [[False False False False False]\n",
      " [False False False False False]\n",
      " [False False False False False]\n",
      " [False False False False False]\n",
      " [False False False False False]]\n",
      "\n",
      "Is NaN: \n",
      " [[False False False]\n",
      " [ True False False]]\n",
      "\n",
      "c\n",
      " [[1, 2, 3], [nan, 2, 2]]\n",
      "\n",
      "c\n",
      " [[1, 2, 3], [nan, 2, 2]]\n"
     ]
    }
   ],
   "source": [
    "b = np.arange(25).reshape(5, 5) \n",
    "print(\"\\nIs NaN: \\n\", np.isnan(b)) \n",
    "c = [[1,2,3],[np.nan,2,2]] \n",
    "print(\"\\nIs NaN: \\n\", np.isnan(c)) \n",
    "np.set_printoptions(edgeitems=3,infstr='inf',linewidth=75, nanstr='nan', precision=8,suppress=False, threshold=1000, formatter=None)\n",
    "print(\"\\nc\\n\",c)"
   ]
  },
  {
   "cell_type": "markdown",
   "metadata": {},
   "source": [
    "#### 50. How to find the closest value (to a given scalar) in a vector? (★★☆)"
   ]
  },
  {
   "cell_type": "code",
   "execution_count": 371,
   "metadata": {},
   "outputs": [
    {
     "name": "stdout",
     "output_type": "stream",
     "text": [
      "v 14.665846416211913\n",
      "z [ 0  1  2  3  4  5  6  7  8  9 10 11 12 13 14 15 16 17 18 19 20 21 22 23\n",
      " 24 25 26 27 28 29 30 31 32 33 34 35 36 37 38 39 40 41 42 43 44 45 46 47\n",
      " 48 49 50 51 52 53 54 55 56 57 58 59 60 61 62 63 64 65 66 67 68 69 70 71\n",
      " 72 73 74 75 76 77 78 79 80 81 82 83 84 85 86 87 88 89 90 91 92 93 94 95\n",
      " 96 97 98 99]\n",
      "index 15\n",
      "closest value: 15\n"
     ]
    }
   ],
   "source": [
    " Z = np.arange(100)\n",
    "v = np.random.uniform(0,100)                         \n",
    "index = (np.abs(Z-v)).argmin()             #\n",
    "print(\"z\",Z)\n",
    "print(\"v\",v)\n",
    "print(\"index\",index)\n",
    "print(\"closest value:\", Z[index])\n",
    "\n"
   ]
  },
  {
   "cell_type": "markdown",
   "metadata": {},
   "source": [
    "#### 51. Create a structured array representing a position (x,y) and a color (r,g,b) (★★☆)"
   ]
  },
  {
   "cell_type": "code",
   "execution_count": 16,
   "metadata": {},
   "outputs": [
    {
     "name": "stdout",
     "output_type": "stream",
     "text": [
      "[((0., 0.), (0., 0., 0.)) ((0., 0.), (0., 0., 0.))\n",
      " ((0., 0.), (0., 0., 0.)) ((0., 0.), (0., 0., 0.))\n",
      " ((0., 0.), (0., 0., 0.)) ((0., 0.), (0., 0., 0.))\n",
      " ((0., 0.), (0., 0., 0.)) ((0., 0.), (0., 0., 0.))\n",
      " ((0., 0.), (0., 0., 0.)) ((0., 0.), (0., 0., 0.))]\n"
     ]
    },
    {
     "name": "stderr",
     "output_type": "stream",
     "text": [
      "<ipython-input-16-2e2805fed4c1>:2: FutureWarning: Passing (type, 1) or '1type' as a synonym of type is deprecated; in a future version of numpy, it will be understood as (type, (1,)) / '(1,)type'.\n",
      "  colors = np.zeros(10, [ ('position', [ ('x', float, 1),('y', float, 1)]),\n"
     ]
    }
   ],
   "source": [
    "import numpy as np\n",
    "colors = np.zeros(10, [ ('position', [ ('x', float, 1),('y', float, 1)]),\n",
    "                    ('color',    [ ('r', float, 1),('g', float, 1),('b', float, 1)])])\n",
    "print(colors)\n"
   ]
  },
  {
   "cell_type": "markdown",
   "metadata": {},
   "source": [
    "#### 52. Consider a random vector with shape (100,2) representing coordinates, find point by point distances (★★☆)"
   ]
  },
  {
   "cell_type": "code",
   "execution_count": 104,
   "metadata": {},
   "outputs": [
    {
     "name": "stdout",
     "output_type": "stream",
     "text": [
      "[[ 0.         -0.33136459 -0.84215638]\n",
      " [ 0.33136459  0.         -0.51079179]\n",
      " [ 0.84215638  0.51079179  0.        ]]\n"
     ]
    }
   ],
   "source": [
    "Z = np.random.random((3,2))\n",
    "#print(Z)\n",
    "X,Y = np.atleast_2d(Z[:,0]), np.atleast_2d(Z[:,1])  # Scalar and 1-dimensional inputs are converted to 2-dimensional arrays, \n",
    "                                                    # whilst higher-dimensional inputs are preserved\n",
    "#print(\"X-X.T\",X - X.T)\n",
    "#print(\"Y-Y.T\",Y - Y.T)                              x1,y1.      x2,y2.\n",
    "\n",
    "print(X - X.T)\n",
    "D = np.sqrt((X-X.T)**2 + (Y-Y.T)**2)                # Formula :  Distance = sqrt( (x1-x2)^2 + (y1-y2)^2 )\n",
    "#print(D)\n"
   ]
  },
  {
   "cell_type": "markdown",
   "metadata": {},
   "source": [
    "#### 53. How to convert a float (32 bits) array into an integer (32 bits) in place?"
   ]
  },
  {
   "cell_type": "code",
   "execution_count": 37,
   "metadata": {},
   "outputs": [
    {
     "name": "stdout",
     "output_type": "stream",
     "text": [
      "[18.33008734  2.41286975 98.89977976 23.30459416 52.06438488]\n",
      "[18  2 98 23 52]\n"
     ]
    }
   ],
   "source": [
    "from numpy import array\n",
    "float_data_list = np.random.random(5)*100\n",
    "print(float_data_list)\n",
    "matrice = array(float_data_list, dtype ='int32' ) # define dtype\n",
    "print(matrice)\n"
   ]
  },
  {
   "cell_type": "markdown",
   "metadata": {},
   "source": [
    "#### 54. How to read the following file? (★★☆)"
   ]
  },
  {
   "cell_type": "markdown",
   "metadata": {},
   "source": [
    "1, 2, 3, 4, 5\n",
    "6,  ,  , 7, 8\n",
    " ,  , 9,10,11"
   ]
  },
  {
   "cell_type": "code",
   "execution_count": 78,
   "metadata": {},
   "outputs": [
    {
     "name": "stdout",
     "output_type": "stream",
     "text": [
      "1 2 3 4 5\n",
      "6     7 8\n",
      "   9 10 11\n",
      "\n",
      "12345\n",
      "678\n",
      "91011\n",
      "\n",
      "1, 2, 3, 4, 5\n",
      "6,  ,  , 7, 8\n",
      ",  , 9, 10, 11\n",
      "[[False False False False False]\n",
      " [False  True  True False False]\n",
      " [ True  True False False False]]\n"
     ]
    }
   ],
   "source": [
    "## created the data first\n",
    "# echo \"1, 2, 3, 4, 5\" > missing.dat\n",
    "# echo \"6,  ,  , 7, 8\" >> missing.dat\n",
    "# echo \",  , 9, 10, 11\" >> missing.dat\n",
    "\n",
    "f = open(\"missing.dat\", \"r\")\n",
    "#print(f.read())\n",
    "strings1 = f.read() \n",
    "print(strings1.replace(',',''))\n",
    "strings2 = strings1.replace(',','').replace(' ','')\n",
    "print(strings2)\n",
    "\n",
    "\n",
    "\n",
    "#Z = np.genfromtxt(\"missing.dat\", delimiter=\",\")\n",
    "# from io import StringIO\n",
    "\n",
    "data = u\"1, 2, 3, 4, 5\\n6,  ,  , 7, 8\\n,  , 9, 10, 11\"\n",
    "print(data)\n",
    "Z = np.genfromtxt(StringIO(data), delimiter=\",\")   # genfromtxt :Load data from a text file, with missing values handled as specified.\n",
    "\n",
    "print(np.isnan(Z))"
   ]
  },
  {
   "cell_type": "markdown",
   "metadata": {},
   "source": [
    "#### 55. What is the equivalent of enumerate for numpy arrays? (★★☆)"
   ]
  },
  {
   "cell_type": "code",
   "execution_count": 81,
   "metadata": {},
   "outputs": [
    {
     "name": "stdout",
     "output_type": "stream",
     "text": [
      "(0, 0) 0\n",
      "(0, 1) 1\n",
      "(0, 2) 2\n",
      "(1, 0) 3\n",
      "(1, 1) 4\n",
      "(1, 2) 5\n",
      "(2, 0) 6\n",
      "(2, 1) 7\n",
      "(2, 2) 8\n",
      "i (0, 0) 0\n",
      "i (0, 1) 1\n",
      "i (0, 2) 2\n",
      "i (1, 0) 3\n",
      "i (1, 1) 4\n",
      "i (1, 2) 5\n",
      "i (2, 0) 6\n",
      "i (2, 1) 7\n",
      "i (2, 2) 8\n",
      "(0, 0) 1\n",
      "(0, 1) 2\n",
      "(1, 0) 3\n",
      "(1, 1) 4\n"
     ]
    }
   ],
   "source": [
    "# ndenumerate\n",
    "# we could map index with its value and vice versa\n",
    "\n",
    "Z = np.arange(9).reshape(3,3)\n",
    "for index, value in np.ndenumerate(Z):         # Multidimensional index iterator. \n",
    "    print(index, value)                        # Return an iterator yielding pairs of array coordinates and values.\n",
    "    \n",
    "for index in np.ndindex(Z.shape):              # nd.index\n",
    "    print(\"i\",index, Z[index])\n",
    "    \n",
    "a = np.array([[1, 2], [3, 4]])\n",
    "for index, x in np.ndenumerate(a):             # cool\n",
    "    print(index, x)"
   ]
  },
  {
   "cell_type": "markdown",
   "metadata": {},
   "source": [
    "\n",
    "#### 56. Generate a generic 2D Gaussian-like array (★★☆)"
   ]
  },
  {
   "cell_type": "code",
   "execution_count": 94,
   "metadata": {},
   "outputs": [
    {
     "name": "stdout",
     "output_type": "stream",
     "text": [
      "2D Gaussian array :\n",
      "\n",
      "[[0.38099952 0.46249936 0.53470798 0.58889008 0.61796004 0.61796004\n",
      "  0.58889008 0.53470798 0.46249936 0.38099952]\n",
      " [0.46249936 0.56115834 0.64842608 0.71377873 0.74877809 0.74877809\n",
      "  0.71377873 0.64842608 0.56115834 0.46249936]\n",
      " [0.53470798 0.64842608 0.74877809 0.82366453 0.86360276 0.86360276\n",
      "  0.82366453 0.74877809 0.64842608 0.53470798]\n",
      " [0.58889008 0.71377873 0.82366453 0.90516458 0.94813651 0.94813651\n",
      "  0.90516458 0.82366453 0.71377873 0.58889008]\n",
      " [0.61796004 0.74877809 0.86360276 0.94813651 0.99130819 0.99130819\n",
      "  0.94813651 0.86360276 0.74877809 0.61796004]\n",
      " [0.61796004 0.74877809 0.86360276 0.94813651 0.99130819 0.99130819\n",
      "  0.94813651 0.86360276 0.74877809 0.61796004]\n",
      " [0.58889008 0.71377873 0.82366453 0.90516458 0.94813651 0.94813651\n",
      "  0.90516458 0.82366453 0.71377873 0.58889008]\n",
      " [0.53470798 0.64842608 0.74877809 0.82366453 0.86360276 0.86360276\n",
      "  0.82366453 0.74877809 0.64842608 0.53470798]\n",
      " [0.46249936 0.56115834 0.64842608 0.71377873 0.74877809 0.74877809\n",
      "  0.71377873 0.64842608 0.56115834 0.46249936]\n",
      " [0.38099952 0.46249936 0.53470798 0.58889008 0.61796004 0.61796004\n",
      "  0.58889008 0.53470798 0.46249936 0.38099952]]\n"
     ]
    },
    {
     "data": {
      "image/png": "[encoded data removed]",
      "text/plain": [
       "<Figure size 648x432 with 1 Axes>"
      ]
     },
     "metadata": {},
     "output_type": "display_data"
    }
   ],
   "source": [
    "# 2D Gaussian-like array\n",
    "x, y = np.meshgrid(np.linspace(-1,1,10), np.linspace(-1,1,10))   # 2d and 2parameters ; linspace --> equal spaced 10 values\n",
    "dst = np.sqrt(x*x+y*y)                                           # distribution = sqrt(x^2 + y^2) \n",
    "\n",
    "sigma = 1\n",
    "mu = 0.025\n",
    "  \n",
    "# Calculating Gaussian array \n",
    "gauss = np.exp(-( (dst-mu)**2 / ( 2.0 * sigma**2 ) ) )           # Gaussian formulae : e^(-(dst-mu)^2/ (2 sigma^2)) \n",
    "\n",
    "print(\"2D Gaussian array :\\n\") \n",
    "print(gauss)\n",
    "\n",
    "#lets  plot it\n",
    "import matplotlib.pyplot as plt\n",
    "\n",
    "fig, ax = plt.subplots(figsize=(9,6))\n",
    "plt.style.use('fivethirtyeight')\n",
    "ax.plot(gauss)                    ## yeaaa\n",
    "\n",
    "ax.set_xlabel('# of Standard Deviations Outside the Mean')\n",
    "ax.set_yticklabels([])\n",
    "ax.set_title('Normal Gaussian Curve')\n",
    "\n",
    "plt.savefig('normal_curve.png', dpi=72, bbox_inches='tight')\n",
    "plt.show()\n"
   ]
  },
  {
   "cell_type": "markdown",
   "metadata": {},
   "source": [
    "#### 57. How to randomly place p elements in a 2D array? (★★☆)"
   ]
  },
  {
   "cell_type": "code",
   "execution_count": 101,
   "metadata": {},
   "outputs": [
    {
     "name": "stdout",
     "output_type": "stream",
     "text": [
      "[[0. 0. 0. 0. 0. 0. 0. 0. 0. 0.]\n",
      " [0. 0. 0. 0. 1. 0. 0. 0. 0. 0.]\n",
      " [0. 0. 0. 0. 0. 1. 0. 0. 0. 0.]\n",
      " [0. 1. 0. 0. 0. 0. 0. 0. 0. 0.]\n",
      " [0. 0. 0. 1. 0. 0. 0. 0. 0. 0.]\n",
      " [0. 0. 0. 0. 0. 0. 1. 0. 0. 0.]\n",
      " [0. 0. 0. 0. 0. 0. 0. 0. 0. 0.]\n",
      " [0. 0. 0. 0. 0. 0. 0. 0. 0. 0.]\n",
      " [0. 0. 0. 1. 0. 0. 0. 0. 0. 0.]\n",
      " [0. 0. 0. 0. 0. 0. 0. 0. 0. 0.]]\n"
     ]
    }
   ],
   "source": [
    "n = 10\n",
    "p = np.random.randint(99)            # 0 to 99 random p\n",
    "Z = np.zeros((n,n))\n",
    "np.put(Z, np.random.choice(range(n*n), p, replace=False),1)\n",
    "print (Z)\n",
    "\n"
   ]
  },
  {
   "cell_type": "markdown",
   "metadata": {},
   "source": [
    "#### 58. Subtract the mean of each row of a matrix (★★☆)"
   ]
  },
  {
   "cell_type": "code",
   "execution_count": 110,
   "metadata": {},
   "outputs": [
    {
     "data": {
      "text/plain": [
       "array([[-0.75, -1.75,  1.25,  1.25],\n",
       "       [ 1.25,  1.25, -0.75, -1.75],\n",
       "       [ 0.75, -0.25, -0.25, -0.25],\n",
       "       [ 2.25, -0.75, -0.75, -0.75]])"
      ]
     },
     "execution_count": 110,
     "metadata": {},
     "output_type": "execute_result"
    }
   ],
   "source": [
    "a = np.random.randint(5, size=(4, 4))\n",
    "Y = a - a.mean(axis=1, keepdims=True)\n",
    "Y"
   ]
  },
  {
   "cell_type": "markdown",
   "metadata": {},
   "source": [
    "#### 59. How to sort an array by the nth column? (★★☆)"
   ]
  },
  {
   "cell_type": "code",
   "execution_count": 112,
   "metadata": {},
   "outputs": [
    {
     "name": "stdout",
     "output_type": "stream",
     "text": [
      "[[ 6  3 -2  7]\n",
      " [-7  8  9 -1]\n",
      " [ 5 -3  4 -1]\n",
      " [ 2 -5  8 -7]]\n",
      "[[ 2 -5  8 -7]\n",
      " [ 5 -3  4 -1]\n",
      " [ 6  3 -2  7]\n",
      " [-7  8  9 -1]]\n",
      "[[-7  8  9 -1]\n",
      " [ 6  3 -2  7]\n",
      " [ 5 -3  4 -1]\n",
      " [ 2 -5  8 -7]]\n"
     ]
    }
   ],
   "source": [
    "Z = np.random.randint(-10,10,(4,4))\n",
    "print(Z)\n",
    "print(Z[Z[:,1].argsort()])\n",
    "# print(Z[Z[:,1].argsort()[::-1]])\n",
    " \n"
   ]
  },
  {
   "cell_type": "markdown",
   "metadata": {},
   "source": [
    "#### 60. How to tell if a given 2D array has null columns? (★★☆)"
   ]
  },
  {
   "cell_type": "code",
   "execution_count": 6,
   "metadata": {},
   "outputs": [
    {
     "name": "stdout",
     "output_type": "stream",
     "text": [
      "[False False False False False False False False False False]\n"
     ]
    }
   ],
   "source": [
    "arr = np.random.randint(0,3,(10,10))   #10*10 2d matrix\n",
    "print((~arr.any(axis=0).any()))"
   ]
  },
  {
   "cell_type": "markdown",
   "metadata": {},
   "source": [
    "#### 61. Find the nearest value from a given value in an array (★★☆)"
   ]
  },
  {
   "cell_type": "code",
   "execution_count": 11,
   "metadata": {},
   "outputs": [
    {
     "name": "stdout",
     "output_type": "stream",
     "text": [
      "[3.03605198 7.76176616 9.14907604 5.61966427 1.94976654]\n",
      "7.761766164803128\n"
     ]
    }
   ],
   "source": [
    "x = np.random.uniform(1, 12, 5)                 # uniform distribution (low, high, size)\n",
    "print(x)\n",
    "\n",
    "value = 4\n",
    "n = x.flat[np.abs(x - value).argmin()]          # A 1-D iterator over the array. x.flat[1]  returns 1th value. more significant in elements in  multidimension array\n"
   ]
  },
  {
   "cell_type": "markdown",
   "metadata": {},
   "source": [
    "#### 62. Considering two arrays with shape (1,3) and (3,1), how to compute their sum using an iterator? (★★☆)"
   ]
  },
  {
   "cell_type": "code",
   "execution_count": 57,
   "metadata": {
    "scrolled": true
   },
   "outputs": [
    {
     "name": "stdout",
     "output_type": "stream",
     "text": [
      "easy way\n",
      " [[14.1234759  12.2646279  10.88801354]\n",
      " [11.59331868  9.73447068  8.35785632]\n",
      " [14.05241726 12.19356926 10.8169549 ]]\n",
      "k\n",
      " [[14.1234759  11.59331868 14.05241726]\n",
      " [12.2646279   9.73447068 12.19356926]\n",
      " [10.88801354  8.35785632 10.8169549 ]]\n"
     ]
    }
   ],
   "source": [
    "x = np.random.uniform(1, 12, 3)   # np.random.randint(maxVal, size=(rows, columns))\n",
    "y = np.random.uniform(1, 12, 3).reshape(3,1) \n",
    "k = np.zeros((3,3))\n",
    "print(\"easy way\\n\",x+y) #\n",
    "for i in range(0,len(x)):\n",
    "    for j in range(0,len(y)):\n",
    "        k[i][j] = x[i]+y[j]\n",
    "print(\"using iteration: k\\n\",k)"
   ]
  },
  {
   "cell_type": "markdown",
   "metadata": {},
   "source": [
    "    #### 63. Create an array class that has a name attribute (★★☆)"
   ]
  },
  {
   "cell_type": "code",
   "execution_count": 27,
   "metadata": {},
   "outputs": [
    {
     "name": "stdout",
     "output_type": "stream",
     "text": [
      "Hey\n",
      "Jan\n",
      "Jon\n",
      "Antonio\n",
      "Alessio m\n"
     ]
    }
   ],
   "source": [
    "class array_class(): \n",
    "    def __init__(self, name): \n",
    "        self.name = name\n",
    "\n"
   ]
  },
  {
   "cell_type": "markdown",
   "metadata": {},
   "source": [
    "#### 64. Consider a given vector, how to add 1 to each element indexed by a second vector (be careful with repeated indices)? (★★★)"
   ]
  },
  {
   "cell_type": "code",
   "execution_count": 52,
   "metadata": {},
   "outputs": [
    {
     "name": "stdout",
     "output_type": "stream",
     "text": [
      "[6 4 4 2 8 1 2 4 9 0 4 1 4 9 0 5 7 0 5 7]\n",
      "[4. 3. 3. 1. 6. 3. 2. 3. 2. 3.]\n"
     ]
    }
   ],
   "source": [
    "ones = np.ones(10)\n",
    "rand_nums1 = np.random.randint(0,len(ones),20)\n",
    "print(rand_nums1)\n",
    "ones += np.bincount(rand_nums1, minlength=len(ones))      #In an array of +ve integers, the numpy.bincount() method \n",
    "print(ones)                                               #counts the occurrence of each element. \n",
    " \n"
   ]
  },
  {
   "cell_type": "markdown",
   "metadata": {},
   "source": [
    "#### 65. How to accumulate elements of a vector (X) to an array (F) based on an index list (I)? (★★★)"
   ]
  },
  {
   "cell_type": "code",
   "execution_count": 54,
   "metadata": {},
   "outputs": [
    {
     "name": "stdout",
     "output_type": "stream",
     "text": [
      "[0. 7. 0. 6. 5. 0. 0. 0. 0. 3.]\n"
     ]
    }
   ],
   "source": [
    "X = [1,2,3,4,5,6]\n",
    "I = [1,3,9,3,4,1]\n",
    "F = np.bincount(I,X)          #Syntax : numpy.bincount(arr, weights = None, min_len = 0)\n",
    "print(F)\n"
   ]
  },
  {
   "cell_type": "markdown",
   "metadata": {},
   "source": [
    "#### 66. Considering a (w,h,3) image of (dtype=ubyte), compute the number of unique colors (★★★)"
   ]
  },
  {
   "cell_type": "code",
   "execution_count": 57,
   "metadata": {},
   "outputs": [
    {
     "name": "stdout",
     "output_type": "stream",
     "text": [
      "[0 1]\n"
     ]
    }
   ],
   "source": [
    "#(w,h,3) image means weight, height, channel = 3 \n",
    "#(dtype=ubyte) datatype unsigned int. \n",
    "\n",
    "w,h = 16, 16\n",
    "I = np.random.randint(0,2,(h,w,3)).astype(np.ubyte)\n",
    "F = I[...,0]*256*256 + I[...,1]*256 +I[...,2]\n",
    "n = len(np.unique(F))\n",
    "print(np.unique(I))\n",
    "\n",
    "#????"
   ]
  },
  {
   "cell_type": "markdown",
   "metadata": {},
   "source": [
    "#### 67. Considering a four dimensions array, how to get sum over the last two axis at once? (★★★)"
   ]
  },
  {
   "cell_type": "code",
   "execution_count": 58,
   "metadata": {},
   "outputs": [
    {
     "name": "stdout",
     "output_type": "stream",
     "text": [
      "[[48 52 53 49]\n",
      " [45 72 66 68]\n",
      " [55 49 54 53]]\n"
     ]
    }
   ],
   "source": [
    "A = np.random.randint(0,10,(3,4,3,4))\n",
    "sum = A.reshape(A.shape[:-2] + (-1,)).sum(axis=-1)\n",
    "print(sum)\n"
   ]
  },
  {
   "cell_type": "markdown",
   "metadata": {},
   "source": [
    "#### 68. Considering a one-dimensional vector D, how to compute means of subsets of D using a vector S of same size describing subset  indices? (★★★)"
   ]
  },
  {
   "cell_type": "code",
   "execution_count": 59,
   "metadata": {},
   "outputs": [
    {
     "name": "stdout",
     "output_type": "stream",
     "text": [
      "[0.59383086 0.62030533 0.47966611 0.39895689 0.48651281 0.50177571\n",
      " 0.58021555 0.54764652 0.48275058 0.63657919]\n"
     ]
    }
   ],
   "source": [
    "D = np.random.uniform(0,1,100)\n",
    "S = np.random.randint(0,10,100)\n",
    "D_sums = np.bincount(S, weights=D)\n",
    "D_counts = np.bincount(S)\n",
    "D_means = D_sums / D_counts\n",
    "print(D_means)\n"
   ]
  },
  {
   "cell_type": "markdown",
   "metadata": {},
   "source": [
    "#### 69. How to get the diagonal of a dot product? (★★★)"
   ]
  },
  {
   "cell_type": "code",
   "execution_count": 60,
   "metadata": {},
   "outputs": [
    {
     "data": {
      "text/plain": [
       "array([16, 49, 19])"
      ]
     },
     "execution_count": 60,
     "metadata": {},
     "output_type": "execute_result"
    }
   ],
   "source": [
    "A = np.random.randint(0,10,(3,3))\n",
    "B= np.random.randint(0,10,(3,3))\n",
    "#Slow version\n",
    "\n",
    "np.diag(np.dot(A, B))\n",
    "\n",
    "# Fast version\n",
    "np.sum(A * B.T, axis=1)\n",
    "\n",
    "# Faster version\n",
    "np.einsum(\"ij,ji->i\", A, B)\n",
    "\n"
   ]
  },
  {
   "cell_type": "markdown",
   "metadata": {},
   "source": [
    "#### 70. Consider the vector \\[1, 2, 3, 4, 5\\], how to build a new vector with 3 consecutive zeros interleaved between each value? (★★★)"
   ]
  },
  {
   "cell_type": "code",
   "execution_count": 14,
   "metadata": {},
   "outputs": [
    {
     "name": "stdout",
     "output_type": "stream",
     "text": [
      "[1. 0. 0. 0. 2. 0. 0. 0. 3. 0. 0. 0. 4. 0. 0. 0. 5.]\n"
     ]
    }
   ],
   "source": [
    "Z = np.array([1,2,3,4,5])\n",
    "nz = 3\n",
    "Z0 = np.zeros(len(Z) + (len(Z)-1)*(nz))\n",
    "Z0[::nz+1] = Z\n",
    "print(Z0)\n"
   ]
  },
  {
   "cell_type": "markdown",
   "metadata": {},
   "source": [
    "#### 71. Consider an array of dimension (5,5,3), how to mulitply it by an array with dimensions (5,5)? (★★★)"
   ]
  },
  {
   "cell_type": "code",
   "execution_count": 13,
   "metadata": {},
   "outputs": [
    {
     "name": "stdout",
     "output_type": "stream",
     "text": [
      "[[[2. 2. 2.]\n",
      "  [2. 2. 2.]\n",
      "  [2. 2. 2.]\n",
      "  [2. 2. 2.]\n",
      "  [2. 2. 2.]]\n",
      "\n",
      " [[2. 2. 2.]\n",
      "  [2. 2. 2.]\n",
      "  [2. 2. 2.]\n",
      "  [2. 2. 2.]\n",
      "  [2. 2. 2.]]\n",
      "\n",
      " [[2. 2. 2.]\n",
      "  [2. 2. 2.]\n",
      "  [2. 2. 2.]\n",
      "  [2. 2. 2.]\n",
      "  [2. 2. 2.]]\n",
      "\n",
      " [[2. 2. 2.]\n",
      "  [2. 2. 2.]\n",
      "  [2. 2. 2.]\n",
      "  [2. 2. 2.]\n",
      "  [2. 2. 2.]]\n",
      "\n",
      " [[2. 2. 2.]\n",
      "  [2. 2. 2.]\n",
      "  [2. 2. 2.]\n",
      "  [2. 2. 2.]\n",
      "  [2. 2. 2.]]]\n"
     ]
    }
   ],
   "source": [
    "A = np.ones((5,5,3))\n",
    "B = 2*np.ones((5,5))\n",
    "print(A * B[:,:,None])\n"
   ]
  },
  {
   "cell_type": "markdown",
   "metadata": {},
   "source": [
    "#### 72. How to swap two rows of an array? (★★★)"
   ]
  },
  {
   "cell_type": "code",
   "execution_count": 350,
   "metadata": {},
   "outputs": [
    {
     "name": "stdout",
     "output_type": "stream",
     "text": [
      "[[ 0  1  2  3  4]\n",
      " [ 5  6  7  8  9]\n",
      " [10 11 12 13 14]\n",
      " [15 16 17 18 19]\n",
      " [20 21 22 23 24]]\n",
      "[[ 5  6  7  8  9]\n",
      " [ 0  1  2  3  4]\n",
      " [10 11 12 13 14]\n",
      " [15 16 17 18 19]\n",
      " [20 21 22 23 24]]\n"
     ]
    }
   ],
   "source": [
    "A = np.arange(25).reshape(5,5)\n",
    "print(A)\n",
    "A[[0,1]] = A[[1,0]]                  # say for example row 0 and 1 to swap\n",
    "print(A)\n"
   ]
  },
  {
   "cell_type": "markdown",
   "metadata": {},
   "source": [
    "#### 73. Consider a set of 10 triplets describing 10 triangles (with shared vertices), find the set of unique line segments composing all the  triangles (★★★)"
   ]
  },
  {
   "cell_type": "code",
   "execution_count": 15,
   "metadata": {},
   "outputs": [
    {
     "name": "stdout",
     "output_type": "stream",
     "text": [
      "[[82 14 18]\n",
      " [22 66 59]\n",
      " [88 68 59]\n",
      " [21 40 85]\n",
      " [41 46  8]\n",
      " [95 24 88]\n",
      " [88 29 25]\n",
      " [89 97  7]\n",
      " [26 60 52]\n",
      " [98 97 58]]\n",
      "[( 7, 89) ( 7, 97) ( 8, 41) ( 8, 46) (14, 18) (14, 82) (18, 82) (21, 40)\n",
      " (21, 85) (22, 59) (22, 66) (24, 88) (24, 95) (25, 29) (25, 88) (26, 52)\n",
      " (26, 60) (29, 88) (40, 85) (41, 46) (52, 60) (58, 97) (58, 98) (59, 66)\n",
      " (59, 68) (59, 88) (68, 88) (88, 95) (89, 97) (97, 98)]\n"
     ]
    }
   ],
   "source": [
    "\n",
    "faces = np.random.randint(0,100,(10,3))\n",
    "print(faces)\n",
    "F = np.roll(faces.repeat(2,axis=1),-1,axis=1)           # The numpy.roll() function rolls array elements\n",
    "                                                        # along the specified axis. Basically what happens\n",
    "                                                        # is that elements of the input array are being shifted. \n",
    "                                                        # If an element is being rolled first to last-position, \n",
    "                                                        # it is rolled back to first-position.\n",
    "                                                        # Syntax : numpy.roll(array, shift, axis = None)\n",
    "F = F.reshape(len(F)*3,2)\n",
    "F = np.sort(F,axis=1)\n",
    "G = F.view( dtype=[('p0',F.dtype),('p1',F.dtype)] )\n",
    "G = np.unique(G)\n",
    "print(G)\n"
   ]
  },
  {
   "cell_type": "markdown",
   "metadata": {},
   "source": [
    "#### 74. Given an array C that is a bincount, how to produce an array A such that np.bincount(A) == C? (★★★)"
   ]
  },
  {
   "cell_type": "code",
   "execution_count": 16,
   "metadata": {},
   "outputs": [
    {
     "name": "stdout",
     "output_type": "stream",
     "text": [
      "[0 2 1 1 2 0 1]\n",
      "[0 2 1 1 2 0 1]\n",
      "[ True  True  True  True  True  True  True]\n"
     ]
    }
   ],
   "source": [
    "C = np.bincount([1,1,2,3,4,4,6])\n",
    "A = np.repeat(np.arange(len(C)), C)\n",
    "print(np.bincount(A))\n",
    "print(C)\n",
    "print(np.bincount(A) == C)\n"
   ]
  },
  {
   "cell_type": "markdown",
   "metadata": {},
   "source": [
    "#### 75. How to compute averages using a sliding window over an array? (★★★)"
   ]
  },
  {
   "cell_type": "code",
   "execution_count": 18,
   "metadata": {},
   "outputs": [
    {
     "name": "stdout",
     "output_type": "stream",
     "text": [
      "[1. 2. 3. 4. 5. 6. 7. 8.]\n",
      "[-51.   -16.25  -9.75 -15.25 -14.   -54.25 -44.25]\n"
     ]
    }
   ],
   "source": [
    "def moving_average(a, n=3) :\n",
    "    ret = np.cumsum(a, dtype=float)             # say window =3, cumsum is cumulative sum and stored in list     \n",
    "    ret[n:] = ret[n:] - ret[:-n]                # list of upto the window level:, subtracted with next window \n",
    "    return ret[n - 1:] / n\n",
    "\n",
    "ran_list1 = np.arange(10)\n",
    "ran_list2 = np.random.randint(-100,100,10)\n",
    "print(moving_average(ran_list1, n=3))\n",
    "print(moving_average(ran_list2, n=4))\n",
    "\n"
   ]
  },
  {
   "cell_type": "markdown",
   "metadata": {},
   "source": [
    "#### 76. Consider a one-dimensional array Z, build a two-dimensional array whose first row is (Z\\[0\\],Z\\[1\\],Z\\[2\\]) and each subsequent row is  shifted by 1 (last row should be (Z\\[-3\\],Z\\[-2\\],Z\\[-1\\]) (★★★)"
   ]
  },
  {
   "cell_type": "code",
   "execution_count": 19,
   "metadata": {},
   "outputs": [
    {
     "name": "stdout",
     "output_type": "stream",
     "text": [
      "[[0 1 2]\n",
      " [1 2 3]\n",
      " [2 3 4]\n",
      " [3 4 5]\n",
      " [4 5 6]\n",
      " [5 6 7]\n",
      " [6 7 8]\n",
      " [7 8 9]]\n"
     ]
    }
   ],
   "source": [
    "def rolling(a, window):\n",
    "    shape = (a.size - window + 1, window)\n",
    "    strides = (a.itemsize, a.itemsize)\n",
    "    return np.lib.stride_tricks.as_strided(a, shape=shape, strides=strides)\n",
    "Z = np.arange(10)\n",
    "Z = rolling(Z, 3)\n",
    "print(Z)\n"
   ]
  },
  {
   "cell_type": "markdown",
   "metadata": {},
   "source": [
    "#### 77. How to negate a boolean, or to change the sign of a float inplace? (★★★)"
   ]
  },
  {
   "cell_type": "code",
   "execution_count": 20,
   "metadata": {},
   "outputs": [
    {
     "name": "stdout",
     "output_type": "stream",
     "text": [
      "original: \n",
      "[0 1 1 1 0 0 0 0 0 0 1 0 0 1 1 1 0 1 0 0 1 0 0 1 0 1 1 1 0 0 1 0 1 0 0 1 1\n",
      " 0 0 1 1 1 1 0 1 1 1 1 1 1 1 1 0 0 0 1 0 1 1 1 0 1 0 0 1 1 1 1 1 1 0 1 0 0\n",
      " 1 0 0 1 0 0 0 0 1 1 1 0 0 1 1 1 0 0 1 1 0 1 0 0 1 0]\n",
      "Negating a boolean: \n",
      "[1 0 0 0 1 1 1 1 1 1 0 1 1 0 0 0 1 0 1 1 0 1 1 0 1 0 0 0 1 1 0 1 0 1 1 0 0\n",
      " 1 1 0 0 0 0 1 0 0 0 0 0 0 0 0 1 1 1 0 1 0 0 0 1 0 1 1 0 0 0 0 0 0 1 0 1 1\n",
      " 0 1 1 0 1 1 1 1 0 0 0 1 1 0 0 0 1 1 0 0 1 0 1 1 0 1]\n",
      "original: \n",
      "[ 0.25384286 -0.95390502  0.49426955 -0.56375108  0.34596956  0.10732138\n",
      "  0.13901287  0.7202074  -0.33755245  0.57047216]\n",
      "Change the sign of float inplace: \n",
      "[-0.25384286  0.95390502 -0.49426955  0.56375108 -0.34596956 -0.10732138\n",
      " -0.13901287 -0.7202074   0.33755245 -0.57047216]\n"
     ]
    }
   ],
   "source": [
    "Z = np.random.randint(0,2,100)\n",
    "print ('original: ')\n",
    "print (Z)\n",
    "print('Negating a boolean: ')\n",
    "print(np.logical_not(Z, out=Z))              # logical_and, logical_or, logical_not, bitwise_xor are available too\n",
    "\n",
    "Z = np.random.uniform(-1.0,1.0,10)\n",
    "print ('original: ')\n",
    "print (Z)\n",
    "print ('Change the sign of float inplace: ')\n",
    "print(np.negative(Z, out=Z))\n"
   ]
  },
  {
   "cell_type": "markdown",
   "metadata": {},
   "source": [
    "\n",
    "#### 78. Consider 2 sets of points P0,P1 describing lines (2d) and a point p, how to compute distance from p to each line i  (P0\\[i\\],P1\\[i\\])? (★★★)"
   ]
  },
  {
   "cell_type": "code",
   "execution_count": 24,
   "metadata": {},
   "outputs": [
    {
     "name": "stdout",
     "output_type": "stream",
     "text": [
      "\n",
      "P0\n",
      " [[-8.47453059  6.27854054]\n",
      " [-5.61101088 -8.5916504 ]\n",
      " [-4.35687382  3.02609809]\n",
      " [-2.97735616 -7.29320361]\n",
      " [ 9.13255099  9.03818374]\n",
      " [-0.76771301  1.71078224]\n",
      " [-3.1200302   1.98507246]\n",
      " [ 1.94797735 -2.31568408]\n",
      " [ 9.05387062  7.17582625]\n",
      " [-9.2974516   8.1231725 ]] \n",
      "P1\n",
      " [[ 5.92158771 -8.7797802 ]\n",
      " [ 4.83030031 -0.69601432]\n",
      " [ 7.9701297   1.51704344]\n",
      " [-6.07560978 -4.75085688]\n",
      " [-0.16651356  3.28641027]\n",
      " [ 1.36788329 -9.62206604]\n",
      " [ 0.32261578  9.28943639]\n",
      " [-7.3644045  -1.05606088]\n",
      " [ 6.3799858  -8.76923788]\n",
      " [-5.7825447  -6.83439341]] \n",
      "p [[-6.2688634  -7.38526573]]\n",
      "Distance: [ 7.847862    1.3590281  10.56654458  2.15911957  5.86577894  7.09044194\n",
      "  1.14656833  6.12523823 12.70355169  0.59944071]\n",
      "DistanceT: 10\n"
     ]
    },
    {
     "data": {
      "text/plain": [
       "[<matplotlib.lines.Line2D at 0x7f767b6c0790>]"
      ]
     },
     "execution_count": 24,
     "metadata": {},
     "output_type": "execute_result"
    },
    {
     "data": {
      "image/png": "[encoded data removed]",
      "text/plain": [
       "<Figure size 432x288 with 1 Axes>"
      ]
     },
     "metadata": {
      "needs_background": "light"
     },
     "output_type": "display_data"
    }
   ],
   "source": [
    "#https://stackoverflow.com/questions/849211/shortest-distance-between-a-point-and-a-line-segment\n",
    "# https://www.geeksforgeeks.org/minimum-distance-from-a-point-to-the-line-segment-using-vectors\n",
    "from matplotlib import pyplot as plt\n",
    "def distance(P0, P1, p):\n",
    "    T = P1 - P0\n",
    "    L = (T**2).sum(axis=1)\n",
    "    U = -((P0[:,0]-p[...,0])*T[:,0] + (P0[:,1]-p[...,1])*T[:,1]) / L             #  ????\n",
    "    U = U.reshape(len(U),1)\n",
    "    D = P0 + U*T - p\n",
    "    return np.sqrt((D**2).sum(axis=1))\n",
    "\n",
    "\n",
    "P0 = np.random.uniform(-10,10,(10,2))\n",
    "P1 = np.random.uniform(-10,10,(10,2))\n",
    "p  = np.random.uniform(-10,10,( 1,2))\n",
    "print(\"\\nP0\\n\",P0,\"\\nP1\\n\",P1,\"\\np\",p)\n",
    "x0 = p[0][0]\n",
    "y0 = p[0][1]\n",
    "print(\"Distance:\",distance(P0, P1, p))\n",
    "print(\"DistanceT:\",len(distance(P0, P1, p)))\n",
    "plt.plot(P0[0], P0[1])\n",
    "plt.plot(P1[0], P1[1])\n",
    "plt.plot(x0, y0, \"s\")\n",
    "plt.plot(distance(P0, P1, p), \"-o\")                                              #  ¯\\_(ツ)_/¯\n"
   ]
  },
  {
   "cell_type": "code",
   "execution_count": null,
   "metadata": {},
   "outputs": [],
   "source": []
  },
  {
   "cell_type": "code",
   "execution_count": null,
   "metadata": {},
   "outputs": [],
   "source": []
  },
  {
   "cell_type": "markdown",
   "metadata": {},
   "source": [
    "#### 79. Consider 2 sets of points P0,P1 describing lines (2d) and a set of points P, how to compute distance from each point j (P\\[j\\]) to each line i (P0\\[i\\],P1\\[i\\])? (★★★)"
   ]
  },
  {
   "cell_type": "code",
   "execution_count": 25,
   "metadata": {},
   "outputs": [
    {
     "name": "stdout",
     "output_type": "stream",
     "text": [
      "[[ 0.61445836  1.66025172  7.9927872   8.49233689  2.85786652]\n",
      " [ 8.97467188  3.44979104  3.1012713   7.42479129 11.9167212 ]\n",
      " [ 0.86979416  5.47536394  8.76058427 12.77989586  5.41863914]\n",
      " [ 0.93715126  0.16445218  7.20270871  6.31697987  1.30267204]\n",
      " [ 2.32267753  5.88927395  7.19540939 11.57879795  3.83852682]]\n"
     ]
    }
   ],
   "source": [
    "P0 = np.random.uniform(-10, 10, (5,2))\n",
    "P1 = np.random.uniform(-10,10,(5,2))\n",
    "p = np.random.uniform(-10, 10, (5,2))\n",
    "print (np.array([distance(P0,P1,p_i) for p_i in p]))\n"
   ]
  },
  {
   "cell_type": "markdown",
   "metadata": {},
   "source": [
    "#### 80. Consider an arbitrary array, write a function that extract a subpart with a fixed shape and centered on a given element (pad with a `fill` value when necessary) (★★★)"
   ]
  },
  {
   "cell_type": "code",
   "execution_count": 27,
   "metadata": {},
   "outputs": [
    {
     "name": "stdout",
     "output_type": "stream",
     "text": [
      "[[2 0 5 2 8 2 4 5 6 4]\n",
      " [0 4 5 7 1 8 2 0 2 1]\n",
      " [4 4 6 1 0 6 6 7 0 7]\n",
      " [8 0 6 1 0 6 0 0 4 6]\n",
      " [0 5 6 4 3 2 1 2 2 6]\n",
      " [7 8 8 6 8 8 6 6 2 4]\n",
      " [3 3 8 8 5 9 2 6 8 0]\n",
      " [6 3 8 2 0 4 8 1 1 2]\n",
      " [9 1 9 9 7 3 3 0 9 3]\n",
      " [0 3 6 8 9 7 1 9 7 4]]\n",
      "R\n",
      " [[0 0 0 0 0]\n",
      " [0 0 0 0 0]\n",
      " [0 0 0 0 0]\n",
      " [0 0 0 0 0]\n",
      " [0 0 0 0 0]]\n",
      "\n",
      "Z\n",
      " [[2 0 5 2 8 2 4 5 6 4]\n",
      " [0 4 5 7 1 8 2 0 2 1]\n",
      " [4 4 6 1 0 6 6 7 0 7]\n",
      " [8 0 6 1 0 6 0 0 4 6]\n",
      " [0 5 6 4 3 2 1 2 2 6]\n",
      " [7 8 8 6 8 8 6 6 2 4]\n",
      " [3 3 8 8 5 9 2 6 8 0]\n",
      " [6 3 8 2 0 4 8 1 1 2]\n",
      " [9 1 9 9 7 3 3 0 9 3]\n",
      " [0 3 6 8 9 7 1 9 7 4]] \n",
      "R\n",
      " [[0 0 0 0 0]\n",
      " [0 2 0 5 2]\n",
      " [0 0 4 5 7]\n",
      " [0 4 4 6 1]\n",
      " [0 8 0 6 1]]\n"
     ]
    },
    {
     "name": "stderr",
     "output_type": "stream",
     "text": [
      "<ipython-input-27-353a81a602d2>:25: FutureWarning: Using a non-tuple sequence for multidimensional indexing is deprecated; use `arr[tuple(seq)]` instead of `arr[seq]`. In the future this will be interpreted as an array index, `arr[np.array(seq)]`, which will result either in an error or a different result.\n",
      "  R[r] = Z[z]\n"
     ]
    }
   ],
   "source": [
    "Z = np.random.randint(0,10,(10,10))\n",
    "print(Z)\n",
    "shape = (5,5)\n",
    "fill  = 0\n",
    "position = (1,1)\n",
    "\n",
    "R = np.ones(shape, dtype=Z.dtype)*fill\n",
    "print(\"R\\n\",R)\n",
    "P  = np.array(list(position)).astype(int)\n",
    "Rs = np.array(list(R.shape)).astype(int)\n",
    "Zs = np.array(list(Z.shape)).astype(int)\n",
    "\n",
    "R_start = np.zeros((len(shape),)).astype(int)\n",
    "R_stop  = np.array(list(shape)).astype(int)\n",
    "Z_start = (P-Rs//2)\n",
    "Z_stop  = (P+Rs//2)+Rs%2\n",
    "\n",
    "R_start = (R_start - np.minimum(Z_start,0)).tolist()\n",
    "Z_start = (np.maximum(Z_start,0)).tolist()\n",
    "R_stop = np.maximum(R_start, (R_stop - np.maximum(Z_stop-Zs,0))).tolist()\n",
    "Z_stop = (np.minimum(Z_stop,Zs)).tolist()\n",
    "\n",
    "r = [slice(start,stop) for start,stop in zip(R_start,R_stop)]\n",
    "z = [slice(start,stop) for start,stop in zip(Z_start,Z_stop)]\n",
    "R[r] = Z[z]\n",
    "print(\"\\nZ\\n\",Z,\"\\nR\\n\",R)\n",
    "\n",
    "  "
   ]
  },
  {
   "cell_type": "markdown",
   "metadata": {},
   "source": [
    "#### 81. Consider an array Z = \\[1,2,3,4,5,6,7,8,9,10,11,12,13,14\\], how to generate an array R = \\[\\[1,2,3,4\\], \\[2,3,4,5\\], \\[3,4,5,6\\], ..., \\[11,12,13,14\\]\\]? (★★★)"
   ]
  },
  {
   "cell_type": "code",
   "execution_count": 28,
   "metadata": {},
   "outputs": [
    {
     "name": "stdout",
     "output_type": "stream",
     "text": [
      "Z\n",
      " [ 1  2  3  4  5  6  7  8  9 10 11 12 13 14]\n",
      "\n",
      "R\n",
      " [[ 1  2  3  4]\n",
      " [ 2  3  4  5]\n",
      " [ 3  4  5  6]\n",
      " [ 4  5  6  7]\n",
      " [ 5  6  7  8]\n",
      " [ 6  7  8  9]\n",
      " [ 7  8  9 10]\n",
      " [ 8  9 10 11]\n",
      " [ 9 10 11 12]\n",
      " [10 11 12 13]\n",
      " [11 12 13 14]]\n"
     ]
    }
   ],
   "source": [
    "Z = np.arange(1,15,dtype=int)\n",
    "print(\"Z\\n\",Z)\n",
    "def rolling(a, window):\n",
    "    shape = (a.size - window + 1, window)\n",
    "    strides = (a.itemsize, a.itemsize)\n",
    "    return np.lib.stride_tricks.as_strided(a, shape=shape, strides=strides)\n",
    "R = rolling(Z, 4)\n",
    "print(\"\\nR\\n\",R)"
   ]
  },
  {
   "cell_type": "markdown",
   "metadata": {},
   "source": [
    "#### 82. Compute a matrix rank (★★★)"
   ]
  },
  {
   "cell_type": "code",
   "execution_count": 30,
   "metadata": {},
   "outputs": [
    {
     "name": "stdout",
     "output_type": "stream",
     "text": [
      "3\n"
     ]
    }
   ],
   "source": [
    "A = np.array([[6, 1, 1],\n",
    "             [4,-2,5],\n",
    "             [2,8,7]])\n",
    "print(np.linalg.matrix_rank(A))"
   ]
  },
  {
   "cell_type": "markdown",
   "metadata": {},
   "source": [
    "#### 83. How to find the most frequent value in an array?"
   ]
  },
  {
   "cell_type": "code",
   "execution_count": null,
   "metadata": {},
   "outputs": [],
   "source": []
  },
  {
   "cell_type": "markdown",
   "metadata": {},
   "source": [
    "#### 84. Extract all the contiguous 3x3 blocks from a random 10x10 matrix (★★★)"
   ]
  },
  {
   "cell_type": "code",
   "execution_count": null,
   "metadata": {},
   "outputs": [],
   "source": []
  },
  {
   "cell_type": "markdown",
   "metadata": {},
   "source": [
    "#### 85. Create a 2D array subclass such that Z\\[i,j\\] == Z\\[j,i\\] (★★★)"
   ]
  },
  {
   "cell_type": "code",
   "execution_count": null,
   "metadata": {},
   "outputs": [],
   "source": []
  },
  {
   "cell_type": "markdown",
   "metadata": {},
   "source": [
    "#### 86. Consider a set of p matrices wich shape (n,n) and a set of p vectors with shape (n,1). How to compute the sum of of the p matrix products at once? (result has shape (n,1)) (★★★)"
   ]
  },
  {
   "cell_type": "code",
   "execution_count": null,
   "metadata": {},
   "outputs": [],
   "source": []
  },
  {
   "cell_type": "markdown",
   "metadata": {},
   "source": [
    "#### 87. Consider a 16x16 array, how to get the block-sum (block size is 4x4)? (★★★)"
   ]
  },
  {
   "cell_type": "code",
   "execution_count": null,
   "metadata": {},
   "outputs": [],
   "source": []
  },
  {
   "cell_type": "markdown",
   "metadata": {},
   "source": [
    "#### 88. How to implement the Game of Life using numpy arrays? (★★★)"
   ]
  },
  {
   "cell_type": "code",
   "execution_count": null,
   "metadata": {},
   "outputs": [],
   "source": []
  },
  {
   "cell_type": "markdown",
   "metadata": {},
   "source": [
    "#### 89. How to get the n largest values of an array (★★★)"
   ]
  },
  {
   "cell_type": "code",
   "execution_count": null,
   "metadata": {},
   "outputs": [],
   "source": []
  },
  {
   "cell_type": "markdown",
   "metadata": {},
   "source": [
    "#### 90. Given an arbitrary number of vectors, build the cartesian product (every combinations of every item) (★★★)"
   ]
  },
  {
   "cell_type": "code",
   "execution_count": null,
   "metadata": {
    "scrolled": true
   },
   "outputs": [],
   "source": []
  },
  {
   "cell_type": "markdown",
   "metadata": {},
   "source": [
    "#### 91. How to create a record array from a regular array? (★★★)"
   ]
  },
  {
   "cell_type": "code",
   "execution_count": null,
   "metadata": {},
   "outputs": [],
   "source": []
  },
  {
   "cell_type": "markdown",
   "metadata": {},
   "source": [
    "#### 92. Consider a large vector Z, compute Z to the power of 3 using 3 different methods (★★★)"
   ]
  },
  {
   "cell_type": "code",
   "execution_count": null,
   "metadata": {},
   "outputs": [],
   "source": []
  },
  {
   "cell_type": "markdown",
   "metadata": {},
   "source": [
    "#### 93. Consider two arrays A and B of shape (8,3) and (2,2). How to find rows of A that contain elements of each row of B regardless of the order of the elements in B? (★★★)"
   ]
  },
  {
   "cell_type": "code",
   "execution_count": null,
   "metadata": {},
   "outputs": [],
   "source": []
  },
  {
   "cell_type": "markdown",
   "metadata": {},
   "source": [
    "#### 94. Considering a 10x3 matrix, extract rows with unequal values (e.g. \\[2,2,3\\]) (★★★)"
   ]
  },
  {
   "cell_type": "code",
   "execution_count": null,
   "metadata": {},
   "outputs": [],
   "source": []
  },
  {
   "cell_type": "markdown",
   "metadata": {},
   "source": [
    "#### 95. Convert a vector of ints into a matrix binary representation (★★★)"
   ]
  },
  {
   "cell_type": "code",
   "execution_count": null,
   "metadata": {},
   "outputs": [],
   "source": []
  },
  {
   "cell_type": "markdown",
   "metadata": {},
   "source": [
    "#### 96. Given a two dimensional array, how to extract unique rows? (★★★)"
   ]
  },
  {
   "cell_type": "code",
   "execution_count": null,
   "metadata": {},
   "outputs": [],
   "source": []
  },
  {
   "cell_type": "markdown",
   "metadata": {},
   "source": [
    "#### 97. Considering 2 vectors A & B, write the einsum equivalent of inner, outer, sum, and mul function (★★★)"
   ]
  },
  {
   "cell_type": "code",
   "execution_count": null,
   "metadata": {},
   "outputs": [],
   "source": []
  },
  {
   "cell_type": "markdown",
   "metadata": {},
   "source": [
    "#### 98. Considering a path described by two vectors (X,Y), how to sample it using equidistant samples (★★★)?"
   ]
  },
  {
   "cell_type": "code",
   "execution_count": null,
   "metadata": {
    "collapsed": true
   },
   "outputs": [],
   "source": []
  },
  {
   "cell_type": "markdown",
   "metadata": {},
   "source": [
    "#### 99. Given an integer n and a 2D array X, select from X the rows which can be interpreted as draws from a multinomial distribution with n degrees, i.e., the rows which only contain integers and which sum to n. (★★★)"
   ]
  },
  {
   "cell_type": "code",
   "execution_count": null,
   "metadata": {},
   "outputs": [],
   "source": []
  },
  {
   "cell_type": "markdown",
   "metadata": {},
   "source": [
    "#### 100. Compute bootstrapped 95% confidence intervals for the mean of a 1D array X (i.e., resample the elements of an array with replacement N times, compute the mean of each sample, and then compute percentiles over the means). (★★★)"
   ]
  },
  {
   "cell_type": "code",
   "execution_count": null,
   "metadata": {},
   "outputs": [],
   "source": []
  }
 ],
 "metadata": {
  "kernelspec": {
   "display_name": "Python 3",
   "language": "python",
   "name": "python3"
  },
  "language_info": {
   "codemirror_mode": {
    "name": "ipython",
    "version": 3
   },
   "file_extension": ".py",
   "mimetype": "text/x-python",
   "name": "python",
   "nbconvert_exporter": "python",
   "pygments_lexer": "ipython3",
   "version": "3.8.5"
  }
 },
 "nbformat": 4,
 "nbformat_minor": 1
}
