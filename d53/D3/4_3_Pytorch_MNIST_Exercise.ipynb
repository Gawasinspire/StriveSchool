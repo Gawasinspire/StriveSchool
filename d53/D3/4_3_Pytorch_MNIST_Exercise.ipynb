{
  "nbformat": 4,
  "nbformat_minor": 0,
  "metadata": {
    "kernelspec": {
      "display_name": "Python 3",
      "language": "python",
      "name": "python3"
    },
    "language_info": {
      "codemirror_mode": {
        "name": "ipython",
        "version": 3
      },
      "file_extension": ".py",
      "mimetype": "text/x-python",
      "name": "python",
      "nbconvert_exporter": "python",
      "pygments_lexer": "ipython3",
      "version": "3.9.1"
    },
    "varInspector": {
      "cols": {
        "lenName": 16,
        "lenType": 16,
        "lenVar": 40
      },
      "kernels_config": {
        "python": {
          "delete_cmd_postfix": "",
          "delete_cmd_prefix": "del ",
          "library": "var_list.py",
          "varRefreshCmd": "print(var_dic_list())"
        },
        "r": {
          "delete_cmd_postfix": ") ",
          "delete_cmd_prefix": "rm(",
          "library": "var_list.r",
          "varRefreshCmd": "cat(var_dic_list()) "
        }
      },
      "types_to_exclude": [
        "module",
        "function",
        "builtin_function_or_method",
        "instance",
        "_Feature"
      ],
      "window_display": false
    },
    "colab": {
      "name": "4.3 Pytorch MNIST - Exercise.ipynb",
      "provenance": []
    }
  },
  "cells": [
    {
      "cell_type": "markdown",
      "metadata": {
        "id": "lBsAIDUCblTx"
      },
      "source": [
        "<div style=\"background:#222222; color:#ffffff; padding:20px\">\n",
        "    <h2 align=\"center\">Deep Learning Fundamentals</h2>\n",
        "    <h2 align=\"center\" style=\"color:#01ff84\">Multiclass Classification: MNIST</h2>\n",
        "<div>"
      ]
    },
    {
      "cell_type": "markdown",
      "metadata": {
        "id": "q9mYyoIDblUB"
      },
      "source": [
        "## Imports"
      ]
    },
    {
      "cell_type": "code",
      "metadata": {
        "ExecuteTime": {
          "end_time": "2021-05-26T22:26:36.081105Z",
          "start_time": "2021-05-26T22:26:35.040138Z"
        },
        "id": "chdioGGPblUE"
      },
      "source": [
        "%matplotlib inline\n",
        "%config InlineBackend.figure_format = 'retina'\n",
        "\n",
        "from collections import OrderedDict\n",
        "\n",
        "import numpy as np\n",
        "import matplotlib.pyplot as plt\n",
        "import time\n",
        "\n",
        "import torch\n",
        "from torch import nn\n",
        "from torch import optim\n",
        "import torch.nn.functional as F\n",
        "\n",
        "from torchvision import datasets, transforms"
      ],
      "execution_count": 12,
      "outputs": []
    },
    {
      "cell_type": "markdown",
      "metadata": {
        "id": "8vB5keISblUJ"
      },
      "source": [
        "## Auxliary plotting function"
      ]
    },
    {
      "cell_type": "code",
      "metadata": {
        "ExecuteTime": {
          "end_time": "2021-05-26T22:26:37.473177Z",
          "start_time": "2021-05-26T22:26:37.465910Z"
        },
        "id": "Z0Ioi9iyblUL"
      },
      "source": [
        "# https://discuss.pytorch.org/t/view-classify-in-module-helper/30279/6\n",
        "\n",
        "def view_classify(img, ps):\n",
        "\n",
        "    ps = ps.data.numpy().squeeze()\n",
        "\n",
        "    fig, (ax1, ax2) = plt.subplots(figsize=(6,9), ncols=2)\n",
        "    ax1.imshow(img.resize_(1, 28, 28).numpy().squeeze())\n",
        "    ax1.axis('off')\n",
        "    ax2.barh(np.arange(10), ps)\n",
        "    ax2.set_aspect(0.1)\n",
        "    ax2.set_yticks(np.arange(10))\n",
        "    ax2.set_yticklabels(np.arange(10))\n",
        "    ax2.set_title('Class Probability')\n",
        "    ax2.set_xlim(0, 1.1)"
      ],
      "execution_count": 13,
      "outputs": []
    },
    {
      "cell_type": "markdown",
      "metadata": {
        "id": "NOHz4OgJblUO"
      },
      "source": [
        "# Load MNIST Dataset\n",
        "First up, we need to get our dataset. This is provided through the `torchvision` package. The code below will download the MNIST dataset, then create training and test datasets for us. Don't worry too much about the details here, you'll learn more about this later."
      ]
    },
    {
      "cell_type": "code",
      "metadata": {
        "ExecuteTime": {
          "end_time": "2021-05-26T22:26:38.402766Z",
          "start_time": "2021-05-26T22:26:38.298968Z"
        },
        "id": "PBowuGI1blUQ"
      },
      "source": [
        "# Define a transform to normalize the data (Preprocessing)\n",
        "transform = transforms.Compose([transforms.ToTensor(), transforms.Normalize((0.5), (0.5)) ])\n",
        "\n",
        "# Download and load the training data\n",
        "trainset    = datasets.MNIST('MNIST_data/', download=True, train=True, transform=transform)\n",
        "trainloader = torch.utils.data.DataLoader(trainset, batch_size=16, shuffle=True)\n",
        "\n",
        "# Download and load the test data\n",
        "testset    = datasets.MNIST('MNIST_data/', download=True, train=False, transform=transform)\n",
        "testloader = torch.utils.data.DataLoader(testset, batch_size=16, shuffle=True)"
      ],
      "execution_count": 14,
      "outputs": []
    },
    {
      "cell_type": "code",
      "metadata": {
        "ExecuteTime": {
          "end_time": "2021-05-26T22:26:38.632988Z",
          "start_time": "2021-05-26T22:26:38.477558Z"
        },
        "id": "IBF5S57zblUS"
      },
      "source": [
        "dataiter = iter(trainloader)\n",
        "images, labels = dataiter.next()"
      ],
      "execution_count": 15,
      "outputs": []
    },
    {
      "cell_type": "markdown",
      "metadata": {
        "id": "RlYu3mt2blUU"
      },
      "source": [
        "We have the training data loaded into `trainloader` and we make that an iterator with `iter(trainloader)`. We'd use this to loop through the dataset for training, but here I'm just grabbing the first batch so we can check out the data. We can see below that `images` is just a tensor with size (64, 1, 28, 28). So, 64 images per batch, 1 color channel, and 28x28 images."
      ]
    },
    {
      "cell_type": "code",
      "metadata": {
        "ExecuteTime": {
          "end_time": "2021-05-26T22:26:39.407000Z",
          "start_time": "2021-05-26T22:26:39.265256Z"
        },
        "colab": {
          "base_uri": "https://localhost:8080/",
          "height": 265
        },
        "id": "1kd9fw7wblUY",
        "outputId": "3587f98b-a5a8-4725-dbc3-d1a6100aa439"
      },
      "source": [
        "plt.imshow(images[1].numpy().squeeze(), cmap='Greys_r');"
      ],
      "execution_count": 16,
      "outputs": [
        {
          "output_type": "display_data",
          "data": {
            "image/png": "[encoded data removed]",
            "text/plain": [
              "<Figure size 432x288 with 1 Axes>"
            ]
          },
          "metadata": {
            "tags": [],
            "image/png": {
              "width": 251,
              "height": 248
            },
            "needs_background": "light"
          }
        }
      ]
    },
    {
      "cell_type": "markdown",
      "metadata": {
        "id": "BPvFFPWfblUf"
      },
      "source": [
        "## Building networks with PyTorch\n",
        "\n",
        "Here I'll use PyTorch to build a simple feedfoward network to classify the MNIST images. That is, the network will receive a digit image as input and predict the digit in the image.\n",
        "\n",
        "<img src=\"assets/mlp_mnist.png\" width=600px>\n",
        "\n",
        "To build a neural network with PyTorch, you use the `torch.nn` module. The network itself is a class inheriting from `torch.nn.Module`. You define each of the operations separately, like `nn.Linear(784, 128)` for a fully connected linear layer with 784 inputs and 128 units.\n",
        "\n",
        "The class needs to include a `forward` method that implements the forward pass through the network. In this method, you pass some input tensor `x` through each of the operations you defined earlier. The `torch.nn` module also has functional equivalents for things like ReLUs in `torch.nn.functional`. This module is usually imported as `F`. Then to use a ReLU activation on some layer (which is just a tensor), you'd do `F.relu(x)`. Below are a few different commonly used activation functions.\n",
        "\n",
        "<img src=\"assets/activation.png\" width=700px>\n",
        "\n",
        "So, for this network, I'll build it with three fully connected layers, then a softmax output for predicting classes. The softmax function is similar to the sigmoid in that it squashes inputs between 0 and 1, but it's also normalized so that all the values sum to one like a proper probability distribution."
      ]
    },
    {
      "cell_type": "code",
      "metadata": {
        "ExecuteTime": {
          "end_time": "2021-05-26T22:26:39.961531Z",
          "start_time": "2021-05-26T22:26:39.946776Z"
        },
        "colab": {
          "base_uri": "https://localhost:8080/"
        },
        "id": "Z2j7gR4nblUi",
        "outputId": "24aea9ec-ca77-44bb-a12c-029513c561c0"
      },
      "source": [
        "class Network(nn.Module):\n",
        "    \n",
        "    # Defining the layers, 128, 64, 10 units each\n",
        "    def __init__(self):\n",
        "        super().__init__()\n",
        "        self.fc1 = nn.Linear(784, 32)\n",
        "        self.fc2 = nn.Linear(32, 16)\n",
        "        self.fc3 = nn.Linear(16, 10)\n",
        "        \n",
        "    # Forward pass through the network, returns the output logits\n",
        "    def forward(self, x):\n",
        "        x = self.fc1(x)\n",
        "        x = F.relu(x)\n",
        "        x = self.fc2(x)\n",
        "        x = F.relu(x)\n",
        "        x = self.fc3(x)\n",
        "        x = F.softmax(x, dim=1)\n",
        "        return x\n",
        "\n",
        "model = Network()\n",
        "model"
      ],
      "execution_count": 17,
      "outputs": [
        {
          "output_type": "execute_result",
          "data": {
            "text/plain": [
              "Network(\n",
              "  (fc1): Linear(in_features=784, out_features=32, bias=True)\n",
              "  (fc2): Linear(in_features=32, out_features=16, bias=True)\n",
              "  (fc3): Linear(in_features=16, out_features=10, bias=True)\n",
              ")"
            ]
          },
          "metadata": {
            "tags": []
          },
          "execution_count": 17
        }
      ]
    },
    {
      "cell_type": "markdown",
      "metadata": {
        "id": "5iDi0_l6blUj"
      },
      "source": [
        "Why the input features are 784? Because the input images have size 28 pixels x 28 pixels for a total of 784 features. Since a Multilayer perceptron accepts only flatten inputs, we need to flatten a 28x28 grid into a 784 array."
      ]
    },
    {
      "cell_type": "markdown",
      "metadata": {
        "id": "oxIYk_0_blUk"
      },
      "source": [
        "### Sequential API\n",
        "PyTorch provides a convenient way to build networks like this where a tensor is passed sequentially through operations, `nn.Sequential` ([documentation](https://pytorch.org/docs/master/nn.html#torch.nn.Sequential)). Using this to build the equivalent network:"
      ]
    },
    {
      "cell_type": "code",
      "metadata": {
        "ExecuteTime": {
          "end_time": "2021-05-26T22:26:41.213448Z",
          "start_time": "2021-05-26T22:26:41.205216Z"
        },
        "colab": {
          "base_uri": "https://localhost:8080/"
        },
        "id": "njqI-yBxblUm",
        "outputId": "fd10d4a1-7ff2-40a6-ea74-65b3968a0e6a"
      },
      "source": [
        "# Hyperparameters for our network\n",
        "input_size   = 784\n",
        "hidden_sizes = [4, 4]\n",
        "output_size   = 10\n",
        "\n",
        "# Build a feed-forward network\n",
        "model = nn.Sequential(nn.Linear(input_size, hidden_sizes[0]),\n",
        "                      nn.ReLU(),\n",
        "                      nn.Linear(hidden_sizes[0], hidden_sizes[1]),\n",
        "                      nn.ReLU(),\n",
        "                      nn.Linear(hidden_sizes[1], output_size),\n",
        "                      nn.Softmax(dim=1))\n",
        "print(model)"
      ],
      "execution_count": 18,
      "outputs": [
        {
          "output_type": "stream",
          "text": [
            "Sequential(\n",
            "  (0): Linear(in_features=784, out_features=4, bias=True)\n",
            "  (1): ReLU()\n",
            "  (2): Linear(in_features=4, out_features=4, bias=True)\n",
            "  (3): ReLU()\n",
            "  (4): Linear(in_features=4, out_features=10, bias=True)\n",
            "  (5): Softmax(dim=1)\n",
            ")\n"
          ],
          "name": "stdout"
        }
      ]
    },
    {
      "cell_type": "markdown",
      "metadata": {
        "id": "lF0znn4mblUo"
      },
      "source": [
        "You can also pass in an `OrderedDict` to name the individual layers and operations. Note that a dictionary keys must be unique, so _each operation must have a different name_."
      ]
    },
    {
      "cell_type": "code",
      "metadata": {
        "ExecuteTime": {
          "end_time": "2021-05-26T22:26:42.300216Z",
          "start_time": "2021-05-26T22:26:42.289009Z"
        },
        "colab": {
          "base_uri": "https://localhost:8080/"
        },
        "id": "ZNPwB9PoblUo",
        "outputId": "257d8786-d118-451f-f193-aebcffeabab1"
      },
      "source": [
        "model = nn.Sequential(OrderedDict([\n",
        "          ('fc1',   nn.Linear(input_size, hidden_sizes[0])),\n",
        "          ('relu1', nn.ReLU()),\n",
        "          ('fc2',   nn.Linear(hidden_sizes[0], hidden_sizes[1])),\n",
        "          ('relu2', nn.ReLU()),\n",
        "          ('output', nn.Linear(hidden_sizes[1], output_size)),\n",
        "          ('softmax', nn.Softmax(dim=1))]))\n",
        "model"
      ],
      "execution_count": 19,
      "outputs": [
        {
          "output_type": "execute_result",
          "data": {
            "text/plain": [
              "Sequential(\n",
              "  (fc1): Linear(in_features=784, out_features=4, bias=True)\n",
              "  (relu1): ReLU()\n",
              "  (fc2): Linear(in_features=4, out_features=4, bias=True)\n",
              "  (relu2): ReLU()\n",
              "  (output): Linear(in_features=4, out_features=10, bias=True)\n",
              "  (softmax): Softmax(dim=1)\n",
              ")"
            ]
          },
          "metadata": {
            "tags": []
          },
          "execution_count": 19
        }
      ]
    },
    {
      "cell_type": "markdown",
      "metadata": {
        "id": "-Rx4SCNSblUq"
      },
      "source": [
        "### Initializing weights and biases\n",
        "\n",
        "The weights and such are automatically initialized for you, but it's possible to customize how they are initialized. The weights and biases are tensors attached to the layer you defined, you can get them with `model.fc1.weight` for instance."
      ]
    },
    {
      "cell_type": "code",
      "metadata": {
        "ExecuteTime": {
          "end_time": "2021-05-26T22:26:42.972699Z",
          "start_time": "2021-05-26T22:26:42.963913Z"
        },
        "colab": {
          "base_uri": "https://localhost:8080/"
        },
        "id": "iP4FH_IublUr",
        "outputId": "108f7131-e8c4-48a5-e40f-037368a55525"
      },
      "source": [
        "print(model.fc1.weight)\n",
        "print(model.fc1.bias)"
      ],
      "execution_count": 20,
      "outputs": [
        {
          "output_type": "stream",
          "text": [
            "Parameter containing:\n",
            "tensor([[ 0.0116,  0.0184, -0.0048,  ..., -0.0095,  0.0056, -0.0269],\n",
            "        [-0.0114,  0.0094, -0.0284,  ...,  0.0098, -0.0118,  0.0039],\n",
            "        [-0.0340, -0.0223, -0.0178,  ...,  0.0327,  0.0216,  0.0220],\n",
            "        [-0.0238,  0.0209,  0.0100,  ...,  0.0319, -0.0103,  0.0199]],\n",
            "       requires_grad=True)\n",
            "Parameter containing:\n",
            "tensor([ 0.0062, -0.0010, -0.0092,  0.0078], requires_grad=True)\n"
          ],
          "name": "stdout"
        }
      ]
    },
    {
      "cell_type": "markdown",
      "metadata": {
        "id": "0eMZmLzwblUr"
      },
      "source": [
        "For custom initialization, we want to modify these tensors in place. These are actually autograd *Variables*, so we need to get back the actual tensors with `model.fc1.weight.data`. Once we have the tensors, we can fill them with zeros (for biases) or random normal values."
      ]
    },
    {
      "cell_type": "code",
      "metadata": {
        "ExecuteTime": {
          "end_time": "2021-05-26T22:26:43.889729Z",
          "start_time": "2021-05-26T22:26:43.883940Z"
        },
        "colab": {
          "base_uri": "https://localhost:8080/"
        },
        "id": "NIv-4dWWblUs",
        "outputId": "2d3d7ecd-bbce-4c9d-cc2e-cdbf06d691c0"
      },
      "source": [
        "# Set biases to all zeros\n",
        "model.fc1.bias.data.fill_(0)"
      ],
      "execution_count": 21,
      "outputs": [
        {
          "output_type": "execute_result",
          "data": {
            "text/plain": [
              "tensor([0., 0., 0., 0.])"
            ]
          },
          "metadata": {
            "tags": []
          },
          "execution_count": 21
        }
      ]
    },
    {
      "cell_type": "code",
      "metadata": {
        "ExecuteTime": {
          "end_time": "2021-05-26T22:26:44.084097Z",
          "start_time": "2021-05-26T22:26:44.076738Z"
        },
        "colab": {
          "base_uri": "https://localhost:8080/"
        },
        "id": "8blDD33NblUt",
        "outputId": "acbd0cef-640d-49a8-d72d-b255e3729f5d"
      },
      "source": [
        "# sample from random normal with standard dev = 0.01\n",
        "model.fc1.weight.data.normal_(std=0.01)"
      ],
      "execution_count": 22,
      "outputs": [
        {
          "output_type": "execute_result",
          "data": {
            "text/plain": [
              "tensor([[ 0.0151,  0.0076, -0.0002,  ..., -0.0024, -0.0006, -0.0019],\n",
              "        [ 0.0005,  0.0024, -0.0101,  ...,  0.0040, -0.0061, -0.0100],\n",
              "        [-0.0072, -0.0167, -0.0167,  ..., -0.0087,  0.0097,  0.0083],\n",
              "        [-0.0085,  0.0112, -0.0043,  ...,  0.0006,  0.0108, -0.0128]])"
            ]
          },
          "metadata": {
            "tags": []
          },
          "execution_count": 22
        }
      ]
    },
    {
      "cell_type": "markdown",
      "metadata": {
        "id": "W95A7fgDblUu"
      },
      "source": [
        "### STEP 1: Forward pass\n",
        "\n",
        "Now that we have a network, let's see what happens when we pass in an image. This is called the forward pass. We're going to convert the image data into a tensor, then pass it through the operations defined by the network architecture."
      ]
    },
    {
      "cell_type": "code",
      "metadata": {
        "ExecuteTime": {
          "end_time": "2021-05-26T22:26:44.506324Z",
          "start_time": "2021-05-26T22:26:44.491847Z"
        },
        "id": "m8YSoB6oblUv"
      },
      "source": [
        "# Grab some data \n",
        "dataiter = iter(trainloader)\n",
        "images, labels = dataiter.next()"
      ],
      "execution_count": 23,
      "outputs": []
    },
    {
      "cell_type": "code",
      "metadata": {
        "ExecuteTime": {
          "end_time": "2021-05-26T22:26:44.596541Z",
          "start_time": "2021-05-26T22:26:44.594169Z"
        },
        "colab": {
          "base_uri": "https://localhost:8080/"
        },
        "id": "sQOHTOmxblUv",
        "outputId": "be212f44-fa5b-428c-a3d6-986f50bda22b"
      },
      "source": [
        "images.shape"
      ],
      "execution_count": 24,
      "outputs": [
        {
          "output_type": "execute_result",
          "data": {
            "text/plain": [
              "torch.Size([16, 1, 28, 28])"
            ]
          },
          "metadata": {
            "tags": []
          },
          "execution_count": 24
        }
      ]
    },
    {
      "cell_type": "code",
      "metadata": {
        "ExecuteTime": {
          "end_time": "2021-05-26T22:26:44.851894Z",
          "start_time": "2021-05-26T22:26:44.845888Z"
        },
        "colab": {
          "base_uri": "https://localhost:8080/"
        },
        "id": "9t3z_DkoblUx",
        "outputId": "04c16084-aa97-4837-bc7f-f8cc8c06d250"
      },
      "source": [
        "model"
      ],
      "execution_count": 25,
      "outputs": [
        {
          "output_type": "execute_result",
          "data": {
            "text/plain": [
              "Sequential(\n",
              "  (fc1): Linear(in_features=784, out_features=4, bias=True)\n",
              "  (relu1): ReLU()\n",
              "  (fc2): Linear(in_features=4, out_features=4, bias=True)\n",
              "  (relu2): ReLU()\n",
              "  (output): Linear(in_features=4, out_features=10, bias=True)\n",
              "  (softmax): Softmax(dim=1)\n",
              ")"
            ]
          },
          "metadata": {
            "tags": []
          },
          "execution_count": 25
        }
      ]
    },
    {
      "cell_type": "code",
      "metadata": {
        "ExecuteTime": {
          "end_time": "2021-05-26T22:26:46.121246Z",
          "start_time": "2021-05-26T22:26:46.112022Z"
        },
        "colab": {
          "base_uri": "https://localhost:8080/"
        },
        "id": "lFXXjDF2blUx",
        "outputId": "b0d57b32-e30f-447b-a216-014daecbe7c6"
      },
      "source": [
        "# Resize images into a 1D vector, new shape is (batch size, color channels, image pixels) \n",
        "images.resize_(images.shape[0], 1, 784)\n",
        "# or images.resize_(images.shape[0], 1, 784) to not automatically get batch size"
      ],
      "execution_count": 26,
      "outputs": [
        {
          "output_type": "execute_result",
          "data": {
            "text/plain": [
              "tensor([[[-1., -1., -1.,  ..., -1., -1., -1.]],\n",
              "\n",
              "        [[-1., -1., -1.,  ..., -1., -1., -1.]],\n",
              "\n",
              "        [[-1., -1., -1.,  ..., -1., -1., -1.]],\n",
              "\n",
              "        ...,\n",
              "\n",
              "        [[-1., -1., -1.,  ..., -1., -1., -1.]],\n",
              "\n",
              "        [[-1., -1., -1.,  ..., -1., -1., -1.]],\n",
              "\n",
              "        [[-1., -1., -1.,  ..., -1., -1., -1.]]])"
            ]
          },
          "metadata": {
            "tags": []
          },
          "execution_count": 26
        }
      ]
    },
    {
      "cell_type": "code",
      "metadata": {
        "ExecuteTime": {
          "end_time": "2021-05-26T22:26:46.519895Z",
          "start_time": "2021-05-26T22:26:46.514137Z"
        },
        "colab": {
          "base_uri": "https://localhost:8080/"
        },
        "id": "iiW-9oHjblUz",
        "outputId": "4a4ee27c-9f08-4941-c2c4-6b97c29889b0"
      },
      "source": [
        "img_idx = 0\n",
        "images[img_idx,:].shape"
      ],
      "execution_count": 27,
      "outputs": [
        {
          "output_type": "execute_result",
          "data": {
            "text/plain": [
              "torch.Size([1, 784])"
            ]
          },
          "metadata": {
            "tags": []
          },
          "execution_count": 27
        }
      ]
    },
    {
      "cell_type": "code",
      "metadata": {
        "ExecuteTime": {
          "end_time": "2021-05-26T22:26:47.945952Z",
          "start_time": "2021-05-26T22:26:47.888846Z"
        },
        "id": "uVrzqcxjblU0"
      },
      "source": [
        "# Forward pass through the network\n",
        "img_idx = 0\n",
        "ps = model(images[img_idx,:])"
      ],
      "execution_count": 28,
      "outputs": []
    },
    {
      "cell_type": "code",
      "metadata": {
        "ExecuteTime": {
          "end_time": "2021-05-26T22:26:50.561845Z",
          "start_time": "2021-05-26T22:26:50.411449Z"
        },
        "colab": {
          "base_uri": "https://localhost:8080/",
          "height": 212
        },
        "id": "HYqobAxYblU1",
        "outputId": "6fd81a9f-58dd-4357-bc33-3f4abae0c20f"
      },
      "source": [
        "img = images[img_idx]\n",
        "view_classify(img.view(1, 28, 28), ps)"
      ],
      "execution_count": 29,
      "outputs": [
        {
          "output_type": "display_data",
          "data": {
            "image/png": "[encoded data removed]",
            "text/plain": [
              "<Figure size 432x648 with 2 Axes>"
            ]
          },
          "metadata": {
            "tags": [],
            "image/png": {
              "width": 349,
              "height": 195
            },
            "needs_background": "light"
          }
        }
      ]
    },
    {
      "cell_type": "markdown",
      "metadata": {
        "id": "Zj4vyFfoblU2"
      },
      "source": [
        "As you can see above, our network has basically no idea what this digit is. It's because we haven't trained it yet, all the weights are random!"
      ]
    },
    {
      "cell_type": "markdown",
      "metadata": {
        "id": "CDtyoEtRblU3"
      },
      "source": [
        "# Training Neural Networks\n",
        "\n",
        "The network we built isn't so smart, it doesn't know anything about our handwritten digits. Neural networks with non-linear activations work like universal function approximators. There is some function that maps your input to the output. For example, images of handwritten digits to class probabilities. The power of neural networks is that we can train them to approximate this function, and basically any function given enough data and compute time.\n",
        "\n",
        "<img src=\"assets/function_approx.png\" width=500px>\n",
        "\n",
        "At first the network is naive, it doesn't know the function mapping the inputs to the outputs. We train the network by showing it examples of real data, then adjusting the network parameters such that it approximates this function.\n",
        "\n",
        "To find these parameters, we need to know how poorly the network is predicting the real outputs. For this we calculate a **loss function** (also called the cost), a measure of our prediction error. For example, the mean squared loss is often used in regression and binary classification problems\n",
        "\n",
        "$$\n",
        "\\ell = \\frac{1}{2n}\\sum_i^n{\\left(y_i - \\hat{y}_i\\right)^2}\n",
        "$$\n",
        "\n",
        "where $n$ is the number of training examples, $y_i$ are the true labels, and $\\hat{y}_i$ are the predicted labels.\n",
        "\n",
        "By minimizing this loss with respect to the network parameters, we can find configurations where the loss is at a minimum and the network is able to predict the correct labels with high accuracy. We find this minimum using a process called **gradient descent**. The gradient is the slope of the loss function and points in the direction of fastest change. To get to the minimum in the least amount of time, we then want to follow the gradient (downwards). You can think of this like descending a mountain by following the steepest slope to the base.\n",
        "\n",
        "<img src='assets/gradient_descent.png' width=350px>"
      ]
    },
    {
      "cell_type": "markdown",
      "metadata": {
        "id": "C1cU6J7kblU5"
      },
      "source": [
        "## Backpropagation\n",
        "\n",
        "For single layer networks, gradient descent is simple to implement. However, it's more complicated for deeper, multilayer neural networks like the one we've built. Complicated enough that it took about 30 years before researchers figured out how to train multilayer networks, although it's straightforward once you learn about it. \n",
        "\n",
        "This is done through **backpropagation** which is really just an application of the chain rule from calculus. It's easiest to understand if we convert a two layer network into a graph representation.\n",
        "\n",
        "<img src='assets/w1_backprop_graph.png' width=400px>\n",
        "\n",
        "In the forward pass through the network, our data and operations go from right to left here. To train the weights with gradient descent, we propagate the gradient of the cost backwards through the network. Mathematically, this is really just calculating the gradient of the loss with respect to the weights using the chain rule.\n",
        "\n",
        "$$\n",
        "\\frac{\\partial \\ell}{\\partial w_1} = \\frac{\\partial l_1}{\\partial w_1} \\frac{\\partial s}{\\partial l_1} \\frac{\\partial l_2}{\\partial s} \\frac{\\partial \\ell}{\\partial l_2}\n",
        "$$\n",
        "\n",
        "We update our weights using this gradient with some learning rate $\\alpha$. \n",
        "\n",
        "$$\n",
        "w^\\prime = w - \\alpha \\frac{\\partial \\ell}{\\partial w}\n",
        "$$\n",
        "\n",
        "The learning rate is set such that the weight update steps are small enough that the iterative method settles in a minimum.\n",
        "\n",
        "The first thing we need to do for training is define our loss function. In PyTorch, you'll usually see this as `criterion`. Here we're using softmax output, so we want to use `criterion = nn.CrossEntropyLoss()` as our loss. Later when training, you use `loss = criterion(output, targets)` to calculate the actual loss.\n",
        "\n",
        "We also need to define the optimizer we're using, SGD or Adam, or something along those lines. Here I'll just use SGD with `torch.optim.SGD`, passing in the network parameters and the learning rate."
      ]
    },
    {
      "cell_type": "markdown",
      "metadata": {
        "id": "feTlPw4hblU6"
      },
      "source": [
        "## Autograd\n",
        "\n",
        "Torch provides a module, `autograd`, for automatically calculating the gradient of tensors. It does this by keeping track of operations performed on tensors. To make sure PyTorch keeps track of operations on a tensor and calculates the gradients, you need to set `requires_grad` on a tensor. You can do this at creation with the `requires_grad` keyword, or at any time with `x.requires_grad_(True)`.\n",
        "\n",
        "You can turn off gradients for a block of code with the `torch.no_grad()` content:\n",
        "```python\n",
        "x = torch.zeros(1, requires_grad=True)\n",
        ">>> with torch.no_grad():\n",
        "...     y = x * 2\n",
        ">>> y.requires_grad\n",
        "False\n",
        "```\n",
        "\n",
        "Also, you can turn on or off gradients altogether with `torch.set_grad_enabled(True|False)`.\n",
        "\n",
        "The gradients are computed with respect to some variable `z` with `z.backward()`. This does a backward pass through the operations that created `z`."
      ]
    },
    {
      "cell_type": "code",
      "metadata": {
        "ExecuteTime": {
          "end_time": "2021-05-26T22:26:52.867509Z",
          "start_time": "2021-05-26T22:26:52.860629Z"
        },
        "colab": {
          "base_uri": "https://localhost:8080/"
        },
        "id": "LcK-9mz2blU8",
        "outputId": "9bb97f00-acc4-4e62-d529-7019d419b028"
      },
      "source": [
        "x = torch.randn(2,2, requires_grad=True)\n",
        "print(x)"
      ],
      "execution_count": 30,
      "outputs": [
        {
          "output_type": "stream",
          "text": [
            "tensor([[-0.9084,  0.0693],\n",
            "        [ 2.3417, -0.9669]], requires_grad=True)\n"
          ],
          "name": "stdout"
        }
      ]
    },
    {
      "cell_type": "code",
      "metadata": {
        "ExecuteTime": {
          "end_time": "2021-05-26T22:26:53.383436Z",
          "start_time": "2021-05-26T22:26:53.375536Z"
        },
        "colab": {
          "base_uri": "https://localhost:8080/"
        },
        "id": "5hgYD_NeblU9",
        "outputId": "35d17300-78fa-4e91-fc1d-600dcc16be18"
      },
      "source": [
        "y = x**2\n",
        "print(y)"
      ],
      "execution_count": 31,
      "outputs": [
        {
          "output_type": "stream",
          "text": [
            "tensor([[8.2513e-01, 4.8009e-03],\n",
            "        [5.4834e+00, 9.3494e-01]], grad_fn=<PowBackward0>)\n"
          ],
          "name": "stdout"
        }
      ]
    },
    {
      "cell_type": "markdown",
      "metadata": {
        "id": "UqUHexRMblU_"
      },
      "source": [
        "Below we can see the operation that created `y`, a power operation `PowBackward0`."
      ]
    },
    {
      "cell_type": "code",
      "metadata": {
        "ExecuteTime": {
          "end_time": "2021-05-26T22:26:53.870654Z",
          "start_time": "2021-05-26T22:26:53.867424Z"
        },
        "colab": {
          "base_uri": "https://localhost:8080/"
        },
        "id": "XyT5QpD8blU_",
        "outputId": "46b23887-ce0e-4238-87c6-7da7296fbe12"
      },
      "source": [
        "## grad_fn shows the function that generated this variable\n",
        "print(y.grad_fn)"
      ],
      "execution_count": 32,
      "outputs": [
        {
          "output_type": "stream",
          "text": [
            "<PowBackward0 object at 0x7fcc91d04790>\n"
          ],
          "name": "stdout"
        }
      ]
    },
    {
      "cell_type": "markdown",
      "metadata": {
        "id": "N7EUoyJjblVA"
      },
      "source": [
        "The autgrad module keeps track of these operations and knows how to calculate the gradient for each one. In this way, it's able to calculate the gradients for a chain of operations, with respect to any one tensor. Let's reduce the tensor `y` to a scalar value, the mean."
      ]
    },
    {
      "cell_type": "code",
      "metadata": {
        "ExecuteTime": {
          "end_time": "2021-05-26T22:26:54.831912Z",
          "start_time": "2021-05-26T22:26:54.824631Z"
        },
        "colab": {
          "base_uri": "https://localhost:8080/"
        },
        "id": "0PQZoI8WblVB",
        "outputId": "90abdbeb-a0dd-455c-9dd9-8b0b33de10fd"
      },
      "source": [
        "z = y.mean()\n",
        "print(z)"
      ],
      "execution_count": 33,
      "outputs": [
        {
          "output_type": "stream",
          "text": [
            "tensor(1.8121, grad_fn=<MeanBackward0>)\n"
          ],
          "name": "stdout"
        }
      ]
    },
    {
      "cell_type": "markdown",
      "metadata": {
        "id": "42jBIsbhblVX"
      },
      "source": [
        "You can check the gradients for `x` and `y` but they are empty currently."
      ]
    },
    {
      "cell_type": "code",
      "metadata": {
        "ExecuteTime": {
          "end_time": "2021-05-26T22:26:55.546143Z",
          "start_time": "2021-05-26T22:26:55.541213Z"
        },
        "colab": {
          "base_uri": "https://localhost:8080/"
        },
        "id": "9wVyYlmiblVZ",
        "outputId": "d5ed9e88-74b2-4149-df4f-eb0e72c956c0"
      },
      "source": [
        "print(x.grad)"
      ],
      "execution_count": 34,
      "outputs": [
        {
          "output_type": "stream",
          "text": [
            "None\n"
          ],
          "name": "stdout"
        }
      ]
    },
    {
      "cell_type": "markdown",
      "metadata": {
        "id": "Jjh-PPKGblVZ"
      },
      "source": [
        "To calculate the gradients, you need to run the `.backward` method on a Variable, `z` for example. This will calculate the gradient for `z` with respect to `x`\n",
        "\n",
        "$$\n",
        "\\frac{\\partial z}{\\partial x} = \\frac{\\partial}{\\partial x}\\left[\\frac{1}{n}\\sum_i^n x_i^2\\right] = \\frac{x}{2}\n",
        "$$"
      ]
    },
    {
      "cell_type": "code",
      "metadata": {
        "ExecuteTime": {
          "end_time": "2021-05-26T22:26:56.607560Z",
          "start_time": "2021-05-26T22:26:56.594993Z"
        },
        "colab": {
          "base_uri": "https://localhost:8080/"
        },
        "id": "-rNw8uEjblVa",
        "outputId": "25a77565-644d-4631-e05e-2892dac1d1d3"
      },
      "source": [
        "z.backward()\n",
        "print(x.grad)\n",
        "print(x/2)"
      ],
      "execution_count": 35,
      "outputs": [
        {
          "output_type": "stream",
          "text": [
            "tensor([[-0.4542,  0.0346],\n",
            "        [ 1.1708, -0.4835]])\n",
            "tensor([[-0.4542,  0.0346],\n",
            "        [ 1.1708, -0.4835]], grad_fn=<DivBackward0>)\n"
          ],
          "name": "stdout"
        }
      ]
    },
    {
      "cell_type": "markdown",
      "metadata": {
        "id": "NnE6No7rblVb"
      },
      "source": [
        "These gradients calculations are particularly useful for neural networks. For training we need the gradients of the weights with respect to the cost. With PyTorch, we run data forward through the network to calculate the cost, then, go backwards to calculate the gradients with respect to the cost. Once we have the gradients we can make a gradient descent step. "
      ]
    },
    {
      "cell_type": "markdown",
      "metadata": {
        "id": "sRme2iv_blVb"
      },
      "source": [
        "I'll build a network with `nn.Sequential` here. Only difference from the last part is I'm not actually using softmax on the output, but instead just using the raw output from the last layer. This is because the output from softmax is a probability distribution. Often, the output will have values really close to zero or really close to one. Due to [inaccuracies with representing numbers as floating points](https://docs.python.org/3/tutorial/floatingpoint.html), computations with a softmax output can lose accuracy and become unstable. To get around this, we'll use the raw output, called the **logits**, to calculate the loss."
      ]
    },
    {
      "cell_type": "code",
      "metadata": {
        "ExecuteTime": {
          "end_time": "2021-05-26T22:26:56.944759Z",
          "start_time": "2021-05-26T22:26:56.936939Z"
        },
        "id": "btR7gsbwblVc"
      },
      "source": [
        "# Hyperparameters for our network\n",
        "input_size   = 784\n",
        "hidden_sizes = [128, 64]\n",
        "output_size  = 10\n",
        "\n",
        "# Build a feed-forward network\n",
        "model = nn.Sequential(OrderedDict([\n",
        "          ('fc1', nn.Linear(input_size, hidden_sizes[0])),\n",
        "          ('relu1', nn.ReLU()),\n",
        "          ('fc2', nn.Linear(hidden_sizes[0], hidden_sizes[1])),\n",
        "          ('relu2', nn.ReLU()),\n",
        "          ('logits', nn.Linear(hidden_sizes[1], output_size))]))"
      ],
      "execution_count": 36,
      "outputs": []
    },
    {
      "cell_type": "markdown",
      "metadata": {
        "id": "x5soV9PublVd"
      },
      "source": [
        "## Training the network!\n",
        "\n",
        "The first thing we need to do for training is define our loss function. In PyTorch, you'll usually see this as `criterion`. Here we're using softmax output, so we want to use `criterion = nn.CrossEntropyLoss()` as our loss. Later when training, you use `loss = criterion(output, targets)` to calculate the actual loss.\n",
        "\n",
        "We also need to define the optimizer we're using, SGD or Adam, or something along those lines. Here I'll just use SGD with `torch.optim.SGD`, passing in the network parameters and the learning rate."
      ]
    },
    {
      "cell_type": "code",
      "metadata": {
        "ExecuteTime": {
          "end_time": "2021-05-26T22:26:57.317614Z",
          "start_time": "2021-05-26T22:26:57.313022Z"
        },
        "id": "Vnz1TuXYblVe"
      },
      "source": [
        "criterion = nn.CrossEntropyLoss()\n",
        "optimizer = optim.SGD(model.parameters(), lr=0.01)"
      ],
      "execution_count": 37,
      "outputs": []
    },
    {
      "cell_type": "markdown",
      "metadata": {
        "id": "EhdxWOGdblVf"
      },
      "source": [
        "First, let's consider just one learning step before looping through all the data. The general process with PyTorch:\n",
        "\n",
        "* Make a forward pass through the network to get the logits \n",
        "* Use the logits to calculate the loss\n",
        "* Perform a backward pass through the network with `loss.backward()` to calculate the gradients\n",
        "* Take a step with the optimizer to update the weights\n",
        "\n",
        "Below I'll go through one training step and print out the weights and gradients so you can see how it changes."
      ]
    },
    {
      "cell_type": "code",
      "metadata": {
        "ExecuteTime": {
          "end_time": "2021-05-26T22:27:07.408433Z",
          "start_time": "2021-05-26T22:27:07.373358Z"
        },
        "colab": {
          "base_uri": "https://localhost:8080/"
        },
        "id": "w_XSsxizblVg",
        "outputId": "e3ca9b51-2cdd-4558-980b-4cdd5c854bd4"
      },
      "source": [
        "print('Initial weights - ', model.fc1.weight)\n",
        "\n",
        "images, labels = next(iter(trainloader))\n",
        "images.resize_(16, 784)\n",
        "\n",
        "# Clear the gradients, do this because gradients are accumulated\n",
        "optimizer.zero_grad()\n",
        "\n",
        "# Forward pass, then backward pass, then update weights\n",
        "output = model.forward(images)\n",
        "loss = criterion(output, labels)\n",
        "loss.backward()\n",
        "print('Gradient -', model.fc1.weight.grad)\n",
        "optimizer.step()"
      ],
      "execution_count": 38,
      "outputs": [
        {
          "output_type": "stream",
          "text": [
            "Initial weights -  Parameter containing:\n",
            "tensor([[ 0.0163,  0.0356,  0.0086,  ...,  0.0125, -0.0271, -0.0273],\n",
            "        [-0.0163,  0.0202, -0.0135,  ..., -0.0226,  0.0132,  0.0139],\n",
            "        [ 0.0056, -0.0139, -0.0338,  ..., -0.0345, -0.0020,  0.0038],\n",
            "        ...,\n",
            "        [-0.0066, -0.0108, -0.0068,  ..., -0.0268,  0.0067,  0.0044],\n",
            "        [-0.0276,  0.0029,  0.0002,  ..., -0.0177, -0.0102, -0.0054],\n",
            "        [ 0.0279, -0.0253,  0.0230,  ...,  0.0094,  0.0296,  0.0043]],\n",
            "       requires_grad=True)\n",
            "Gradient - tensor([[ 0.0004,  0.0004,  0.0004,  ...,  0.0004,  0.0004,  0.0004],\n",
            "        [ 0.0000,  0.0000,  0.0000,  ...,  0.0000,  0.0000,  0.0000],\n",
            "        [-0.0030, -0.0030, -0.0030,  ..., -0.0030, -0.0030, -0.0030],\n",
            "        ...,\n",
            "        [-0.0021, -0.0021, -0.0021,  ..., -0.0021, -0.0021, -0.0021],\n",
            "        [-0.0050, -0.0050, -0.0050,  ..., -0.0050, -0.0050, -0.0050],\n",
            "        [ 0.0028,  0.0028,  0.0028,  ...,  0.0028,  0.0028,  0.0028]])\n"
          ],
          "name": "stdout"
        }
      ]
    },
    {
      "cell_type": "code",
      "metadata": {
        "ExecuteTime": {
          "end_time": "2021-05-26T22:27:07.915247Z",
          "start_time": "2021-05-26T22:27:07.908155Z"
        },
        "colab": {
          "base_uri": "https://localhost:8080/"
        },
        "id": "m49USheFblVg",
        "outputId": "5ee75446-dc46-4c3e-ddaa-236bafd65bd0"
      },
      "source": [
        "print('Updated weights - ', model.fc1.weight)"
      ],
      "execution_count": 39,
      "outputs": [
        {
          "output_type": "stream",
          "text": [
            "Updated weights -  Parameter containing:\n",
            "tensor([[ 0.0163,  0.0356,  0.0086,  ...,  0.0125, -0.0272, -0.0273],\n",
            "        [-0.0163,  0.0202, -0.0135,  ..., -0.0226,  0.0132,  0.0139],\n",
            "        [ 0.0056, -0.0138, -0.0338,  ..., -0.0345, -0.0020,  0.0038],\n",
            "        ...,\n",
            "        [-0.0066, -0.0108, -0.0068,  ..., -0.0268,  0.0068,  0.0044],\n",
            "        [-0.0275,  0.0030,  0.0003,  ..., -0.0177, -0.0102, -0.0053],\n",
            "        [ 0.0279, -0.0254,  0.0230,  ...,  0.0094,  0.0295,  0.0043]],\n",
            "       requires_grad=True)\n"
          ],
          "name": "stdout"
        }
      ]
    },
    {
      "cell_type": "markdown",
      "metadata": {
        "id": "1xnm69vEblVh"
      },
      "source": [
        "### Training for real\n",
        "\n",
        "Now we'll put this algorithm into a loop so we can go through all the images. This is fairly straightforward. We'll loop through the mini-batches in our dataset, pass the data through the network to calculate the losses, get the gradients, then run the optimizer."
      ]
    },
    {
      "cell_type": "code",
      "metadata": {
        "ExecuteTime": {
          "end_time": "2021-05-26T22:27:08.816179Z",
          "start_time": "2021-05-26T22:27:08.812807Z"
        },
        "id": "LZIhuRUsblVi"
      },
      "source": [
        "optimizer = optim.SGD(model.parameters(), lr=0.003)"
      ],
      "execution_count": 40,
      "outputs": []
    },
    {
      "cell_type": "code",
      "metadata": {
        "ExecuteTime": {
          "end_time": "2021-05-26T22:27:36.083537Z",
          "start_time": "2021-05-26T22:27:09.280769Z"
        },
        "colab": {
          "base_uri": "https://localhost:8080/"
        },
        "id": "CQnXnobSblVj",
        "outputId": "c9d41be7-14b9-445e-f70d-1bd18c7176d5"
      },
      "source": [
        "epochs = 3\n",
        "print_every = 40\n",
        "\n",
        "for e in range(epochs):\n",
        "    running_loss = 0\n",
        "    print(f\"Epoch: {e+1}/{epochs}\")\n",
        "\n",
        "    for i, (images, labels) in enumerate(iter(trainloader)):\n",
        "\n",
        "        # Flatten MNIST images into a 784 long vector\n",
        "        images.resize_(images.size()[0], 784)\n",
        "        \n",
        "        optimizer.zero_grad()\n",
        "        \n",
        "        output = model.forward(images)   # 1) Forward pass\n",
        "        loss = criterion(output, labels) # 2) Compute loss\n",
        "        loss.backward()                  # 3) Backward pass\n",
        "        optimizer.step()                 # 4) Update model\n",
        "        \n",
        "        running_loss += loss.item()\n",
        "        \n",
        "        if i % print_every == 0:\n",
        "            print(f\"\\tIteration: {i}\\t Loss: {running_loss/print_every:.4f}\")\n",
        "            running_loss = 0"
      ],
      "execution_count": 41,
      "outputs": [
        {
          "output_type": "stream",
          "text": [
            "Epoch: 1/3\n",
            "\tIteration: 0\t Loss: 0.0578\n",
            "\tIteration: 40\t Loss: 2.3035\n",
            "\tIteration: 80\t Loss: 2.2860\n",
            "\tIteration: 120\t Loss: 2.2656\n",
            "\tIteration: 160\t Loss: 2.2378\n",
            "\tIteration: 200\t Loss: 2.2149\n",
            "\tIteration: 240\t Loss: 2.2063\n",
            "\tIteration: 280\t Loss: 2.1723\n",
            "\tIteration: 320\t Loss: 2.1539\n",
            "\tIteration: 360\t Loss: 2.1281\n",
            "\tIteration: 400\t Loss: 2.0709\n",
            "\tIteration: 440\t Loss: 2.0212\n",
            "\tIteration: 480\t Loss: 1.9900\n",
            "\tIteration: 520\t Loss: 1.9236\n",
            "\tIteration: 560\t Loss: 1.8959\n",
            "\tIteration: 600\t Loss: 1.8025\n",
            "\tIteration: 640\t Loss: 1.7605\n",
            "\tIteration: 680\t Loss: 1.6964\n",
            "\tIteration: 720\t Loss: 1.6258\n",
            "\tIteration: 760\t Loss: 1.5435\n",
            "\tIteration: 800\t Loss: 1.5099\n",
            "\tIteration: 840\t Loss: 1.4534\n",
            "\tIteration: 880\t Loss: 1.3429\n",
            "\tIteration: 920\t Loss: 1.2626\n",
            "\tIteration: 960\t Loss: 1.2500\n",
            "\tIteration: 1000\t Loss: 1.1732\n",
            "\tIteration: 1040\t Loss: 1.1065\n",
            "\tIteration: 1080\t Loss: 1.0579\n",
            "\tIteration: 1120\t Loss: 1.0389\n",
            "\tIteration: 1160\t Loss: 0.9738\n",
            "\tIteration: 1200\t Loss: 0.9374\n",
            "\tIteration: 1240\t Loss: 0.9818\n",
            "\tIteration: 1280\t Loss: 0.8870\n",
            "\tIteration: 1320\t Loss: 0.8851\n",
            "\tIteration: 1360\t Loss: 0.8236\n",
            "\tIteration: 1400\t Loss: 0.8410\n",
            "\tIteration: 1440\t Loss: 0.8005\n",
            "\tIteration: 1480\t Loss: 0.7564\n",
            "\tIteration: 1520\t Loss: 0.7800\n",
            "\tIteration: 1560\t Loss: 0.7432\n",
            "\tIteration: 1600\t Loss: 0.7026\n",
            "\tIteration: 1640\t Loss: 0.7512\n",
            "\tIteration: 1680\t Loss: 0.6500\n",
            "\tIteration: 1720\t Loss: 0.6958\n",
            "\tIteration: 1760\t Loss: 0.6285\n",
            "\tIteration: 1800\t Loss: 0.6093\n",
            "\tIteration: 1840\t Loss: 0.6334\n",
            "\tIteration: 1880\t Loss: 0.6428\n",
            "\tIteration: 1920\t Loss: 0.6278\n",
            "\tIteration: 1960\t Loss: 0.5850\n",
            "\tIteration: 2000\t Loss: 0.5380\n",
            "\tIteration: 2040\t Loss: 0.6005\n",
            "\tIteration: 2080\t Loss: 0.5543\n",
            "\tIteration: 2120\t Loss: 0.5733\n",
            "\tIteration: 2160\t Loss: 0.5232\n",
            "\tIteration: 2200\t Loss: 0.5362\n",
            "\tIteration: 2240\t Loss: 0.5911\n",
            "\tIteration: 2280\t Loss: 0.5589\n",
            "\tIteration: 2320\t Loss: 0.4921\n",
            "\tIteration: 2360\t Loss: 0.5330\n",
            "\tIteration: 2400\t Loss: 0.4987\n",
            "\tIteration: 2440\t Loss: 0.5427\n",
            "\tIteration: 2480\t Loss: 0.5056\n",
            "\tIteration: 2520\t Loss: 0.4639\n",
            "\tIteration: 2560\t Loss: 0.5030\n",
            "\tIteration: 2600\t Loss: 0.4629\n",
            "\tIteration: 2640\t Loss: 0.4967\n",
            "\tIteration: 2680\t Loss: 0.4843\n",
            "\tIteration: 2720\t Loss: 0.4656\n",
            "\tIteration: 2760\t Loss: 0.5000\n",
            "\tIteration: 2800\t Loss: 0.4752\n",
            "\tIteration: 2840\t Loss: 0.4889\n",
            "\tIteration: 2880\t Loss: 0.5324\n",
            "\tIteration: 2920\t Loss: 0.5122\n",
            "\tIteration: 2960\t Loss: 0.4492\n",
            "\tIteration: 3000\t Loss: 0.4178\n",
            "\tIteration: 3040\t Loss: 0.3943\n",
            "\tIteration: 3080\t Loss: 0.4537\n",
            "\tIteration: 3120\t Loss: 0.4863\n",
            "\tIteration: 3160\t Loss: 0.4595\n",
            "\tIteration: 3200\t Loss: 0.4720\n",
            "\tIteration: 3240\t Loss: 0.4165\n",
            "\tIteration: 3280\t Loss: 0.4128\n",
            "\tIteration: 3320\t Loss: 0.4095\n",
            "\tIteration: 3360\t Loss: 0.4489\n",
            "\tIteration: 3400\t Loss: 0.4650\n",
            "\tIteration: 3440\t Loss: 0.4873\n",
            "\tIteration: 3480\t Loss: 0.4643\n",
            "\tIteration: 3520\t Loss: 0.4307\n",
            "\tIteration: 3560\t Loss: 0.4139\n",
            "\tIteration: 3600\t Loss: 0.5075\n",
            "\tIteration: 3640\t Loss: 0.3708\n",
            "\tIteration: 3680\t Loss: 0.4720\n",
            "\tIteration: 3720\t Loss: 0.5240\n",
            "Epoch: 2/3\n",
            "\tIteration: 0\t Loss: 0.0129\n",
            "\tIteration: 40\t Loss: 0.3927\n",
            "\tIteration: 80\t Loss: 0.4344\n",
            "\tIteration: 120\t Loss: 0.3875\n",
            "\tIteration: 160\t Loss: 0.4451\n",
            "\tIteration: 200\t Loss: 0.4133\n",
            "\tIteration: 240\t Loss: 0.4208\n",
            "\tIteration: 280\t Loss: 0.3926\n",
            "\tIteration: 320\t Loss: 0.3904\n",
            "\tIteration: 360\t Loss: 0.4244\n",
            "\tIteration: 400\t Loss: 0.4370\n",
            "\tIteration: 440\t Loss: 0.3709\n",
            "\tIteration: 480\t Loss: 0.4112\n",
            "\tIteration: 520\t Loss: 0.3865\n",
            "\tIteration: 560\t Loss: 0.3510\n",
            "\tIteration: 600\t Loss: 0.3461\n",
            "\tIteration: 640\t Loss: 0.4096\n",
            "\tIteration: 680\t Loss: 0.3801\n",
            "\tIteration: 720\t Loss: 0.3361\n",
            "\tIteration: 760\t Loss: 0.3649\n",
            "\tIteration: 800\t Loss: 0.3891\n",
            "\tIteration: 840\t Loss: 0.3892\n",
            "\tIteration: 880\t Loss: 0.4042\n",
            "\tIteration: 920\t Loss: 0.4134\n",
            "\tIteration: 960\t Loss: 0.4323\n",
            "\tIteration: 1000\t Loss: 0.4142\n",
            "\tIteration: 1040\t Loss: 0.3898\n",
            "\tIteration: 1080\t Loss: 0.3908\n",
            "\tIteration: 1120\t Loss: 0.3338\n",
            "\tIteration: 1160\t Loss: 0.3146\n",
            "\tIteration: 1200\t Loss: 0.3172\n",
            "\tIteration: 1240\t Loss: 0.3041\n",
            "\tIteration: 1280\t Loss: 0.3159\n",
            "\tIteration: 1320\t Loss: 0.3133\n",
            "\tIteration: 1360\t Loss: 0.3253\n",
            "\tIteration: 1400\t Loss: 0.3605\n",
            "\tIteration: 1440\t Loss: 0.3600\n",
            "\tIteration: 1480\t Loss: 0.3383\n",
            "\tIteration: 1520\t Loss: 0.3428\n",
            "\tIteration: 1560\t Loss: 0.3593\n",
            "\tIteration: 1600\t Loss: 0.3231\n",
            "\tIteration: 1640\t Loss: 0.3793\n",
            "\tIteration: 1680\t Loss: 0.4788\n",
            "\tIteration: 1720\t Loss: 0.3596\n",
            "\tIteration: 1760\t Loss: 0.3565\n",
            "\tIteration: 1800\t Loss: 0.3666\n",
            "\tIteration: 1840\t Loss: 0.3189\n",
            "\tIteration: 1880\t Loss: 0.3399\n",
            "\tIteration: 1920\t Loss: 0.4281\n",
            "\tIteration: 1960\t Loss: 0.3625\n",
            "\tIteration: 2000\t Loss: 0.3329\n",
            "\tIteration: 2040\t Loss: 0.3475\n",
            "\tIteration: 2080\t Loss: 0.3215\n",
            "\tIteration: 2120\t Loss: 0.3574\n",
            "\tIteration: 2160\t Loss: 0.3040\n",
            "\tIteration: 2200\t Loss: 0.3614\n",
            "\tIteration: 2240\t Loss: 0.4345\n",
            "\tIteration: 2280\t Loss: 0.3587\n",
            "\tIteration: 2320\t Loss: 0.3398\n",
            "\tIteration: 2360\t Loss: 0.3699\n",
            "\tIteration: 2400\t Loss: 0.3789\n",
            "\tIteration: 2440\t Loss: 0.3078\n",
            "\tIteration: 2480\t Loss: 0.3094\n",
            "\tIteration: 2520\t Loss: 0.2853\n",
            "\tIteration: 2560\t Loss: 0.3469\n",
            "\tIteration: 2600\t Loss: 0.3538\n",
            "\tIteration: 2640\t Loss: 0.3645\n",
            "\tIteration: 2680\t Loss: 0.3320\n",
            "\tIteration: 2720\t Loss: 0.3166\n",
            "\tIteration: 2760\t Loss: 0.3236\n",
            "\tIteration: 2800\t Loss: 0.3333\n",
            "\tIteration: 2840\t Loss: 0.4187\n",
            "\tIteration: 2880\t Loss: 0.3180\n",
            "\tIteration: 2920\t Loss: 0.3169\n",
            "\tIteration: 2960\t Loss: 0.2872\n",
            "\tIteration: 3000\t Loss: 0.3236\n",
            "\tIteration: 3040\t Loss: 0.3415\n",
            "\tIteration: 3080\t Loss: 0.3583\n",
            "\tIteration: 3120\t Loss: 0.3032\n",
            "\tIteration: 3160\t Loss: 0.3821\n",
            "\tIteration: 3200\t Loss: 0.3128\n",
            "\tIteration: 3240\t Loss: 0.3686\n",
            "\tIteration: 3280\t Loss: 0.3956\n",
            "\tIteration: 3320\t Loss: 0.3393\n",
            "\tIteration: 3360\t Loss: 0.3468\n",
            "\tIteration: 3400\t Loss: 0.3878\n",
            "\tIteration: 3440\t Loss: 0.3755\n",
            "\tIteration: 3480\t Loss: 0.3537\n",
            "\tIteration: 3520\t Loss: 0.2995\n",
            "\tIteration: 3560\t Loss: 0.3619\n",
            "\tIteration: 3600\t Loss: 0.2790\n",
            "\tIteration: 3640\t Loss: 0.3479\n",
            "\tIteration: 3680\t Loss: 0.3427\n",
            "\tIteration: 3720\t Loss: 0.2719\n",
            "Epoch: 3/3\n",
            "\tIteration: 0\t Loss: 0.0030\n",
            "\tIteration: 40\t Loss: 0.3176\n",
            "\tIteration: 80\t Loss: 0.3093\n",
            "\tIteration: 120\t Loss: 0.3377\n",
            "\tIteration: 160\t Loss: 0.3587\n",
            "\tIteration: 200\t Loss: 0.2834\n",
            "\tIteration: 240\t Loss: 0.3174\n",
            "\tIteration: 280\t Loss: 0.3352\n",
            "\tIteration: 320\t Loss: 0.3685\n",
            "\tIteration: 360\t Loss: 0.3401\n",
            "\tIteration: 400\t Loss: 0.3378\n",
            "\tIteration: 440\t Loss: 0.3494\n",
            "\tIteration: 480\t Loss: 0.3708\n",
            "\tIteration: 520\t Loss: 0.2675\n",
            "\tIteration: 560\t Loss: 0.2845\n",
            "\tIteration: 600\t Loss: 0.2787\n",
            "\tIteration: 640\t Loss: 0.2866\n",
            "\tIteration: 680\t Loss: 0.3654\n",
            "\tIteration: 720\t Loss: 0.3356\n",
            "\tIteration: 760\t Loss: 0.3429\n",
            "\tIteration: 800\t Loss: 0.3738\n",
            "\tIteration: 840\t Loss: 0.2760\n",
            "\tIteration: 880\t Loss: 0.2759\n",
            "\tIteration: 920\t Loss: 0.3817\n",
            "\tIteration: 960\t Loss: 0.3421\n",
            "\tIteration: 1000\t Loss: 0.2983\n",
            "\tIteration: 1040\t Loss: 0.2831\n",
            "\tIteration: 1080\t Loss: 0.3065\n",
            "\tIteration: 1120\t Loss: 0.3408\n",
            "\tIteration: 1160\t Loss: 0.2567\n",
            "\tIteration: 1200\t Loss: 0.3219\n",
            "\tIteration: 1240\t Loss: 0.2775\n",
            "\tIteration: 1280\t Loss: 0.3180\n",
            "\tIteration: 1320\t Loss: 0.3280\n",
            "\tIteration: 1360\t Loss: 0.3219\n",
            "\tIteration: 1400\t Loss: 0.3200\n",
            "\tIteration: 1440\t Loss: 0.2815\n",
            "\tIteration: 1480\t Loss: 0.3391\n",
            "\tIteration: 1520\t Loss: 0.2773\n",
            "\tIteration: 1560\t Loss: 0.3333\n",
            "\tIteration: 1600\t Loss: 0.3414\n",
            "\tIteration: 1640\t Loss: 0.2880\n",
            "\tIteration: 1680\t Loss: 0.3301\n",
            "\tIteration: 1720\t Loss: 0.3215\n",
            "\tIteration: 1760\t Loss: 0.2881\n",
            "\tIteration: 1800\t Loss: 0.2675\n",
            "\tIteration: 1840\t Loss: 0.2839\n",
            "\tIteration: 1880\t Loss: 0.2531\n",
            "\tIteration: 1920\t Loss: 0.2899\n",
            "\tIteration: 1960\t Loss: 0.3233\n",
            "\tIteration: 2000\t Loss: 0.2888\n",
            "\tIteration: 2040\t Loss: 0.2908\n",
            "\tIteration: 2080\t Loss: 0.2636\n",
            "\tIteration: 2120\t Loss: 0.3435\n",
            "\tIteration: 2160\t Loss: 0.2983\n",
            "\tIteration: 2200\t Loss: 0.2823\n",
            "\tIteration: 2240\t Loss: 0.2344\n",
            "\tIteration: 2280\t Loss: 0.2627\n",
            "\tIteration: 2320\t Loss: 0.2912\n",
            "\tIteration: 2360\t Loss: 0.3168\n",
            "\tIteration: 2400\t Loss: 0.3128\n",
            "\tIteration: 2440\t Loss: 0.2990\n",
            "\tIteration: 2480\t Loss: 0.3078\n",
            "\tIteration: 2520\t Loss: 0.2272\n",
            "\tIteration: 2560\t Loss: 0.3231\n",
            "\tIteration: 2600\t Loss: 0.3049\n",
            "\tIteration: 2640\t Loss: 0.3320\n",
            "\tIteration: 2680\t Loss: 0.2992\n",
            "\tIteration: 2720\t Loss: 0.3293\n",
            "\tIteration: 2760\t Loss: 0.3049\n",
            "\tIteration: 2800\t Loss: 0.3269\n",
            "\tIteration: 2840\t Loss: 0.2824\n",
            "\tIteration: 2880\t Loss: 0.3319\n",
            "\tIteration: 2920\t Loss: 0.2789\n",
            "\tIteration: 2960\t Loss: 0.2763\n",
            "\tIteration: 3000\t Loss: 0.3032\n",
            "\tIteration: 3040\t Loss: 0.2530\n",
            "\tIteration: 3080\t Loss: 0.2902\n",
            "\tIteration: 3120\t Loss: 0.3291\n",
            "\tIteration: 3160\t Loss: 0.3174\n",
            "\tIteration: 3200\t Loss: 0.2822\n",
            "\tIteration: 3240\t Loss: 0.2849\n",
            "\tIteration: 3280\t Loss: 0.2478\n",
            "\tIteration: 3320\t Loss: 0.3450\n",
            "\tIteration: 3360\t Loss: 0.3261\n",
            "\tIteration: 3400\t Loss: 0.2945\n",
            "\tIteration: 3440\t Loss: 0.2730\n",
            "\tIteration: 3480\t Loss: 0.3009\n",
            "\tIteration: 3520\t Loss: 0.2940\n",
            "\tIteration: 3560\t Loss: 0.3325\n",
            "\tIteration: 3600\t Loss: 0.2920\n",
            "\tIteration: 3640\t Loss: 0.2459\n",
            "\tIteration: 3680\t Loss: 0.2955\n",
            "\tIteration: 3720\t Loss: 0.2527\n"
          ],
          "name": "stdout"
        }
      ]
    },
    {
      "cell_type": "markdown",
      "metadata": {
        "id": "ogP4MX8dblVk"
      },
      "source": [
        "With the network trained, we can check out it's predictions."
      ]
    },
    {
      "cell_type": "code",
      "metadata": {
        "ExecuteTime": {
          "end_time": "2021-05-26T22:30:00.206666Z",
          "start_time": "2021-05-26T22:29:59.954325Z"
        },
        "colab": {
          "base_uri": "https://localhost:8080/",
          "height": 212
        },
        "id": "moc2GdhYblVk",
        "outputId": "e3158cf3-eb56-4483-d9f2-fcd238d6fda2"
      },
      "source": [
        "images, labels = next(iter(trainloader))\n",
        "\n",
        "img = images[0].view(1, 784)\n",
        "# Turn off gradients to speed up this part\n",
        "with torch.no_grad():\n",
        "    logits = model.forward(img)\n",
        "\n",
        "# Output of the network are logits, need to take softmax for probabilities\n",
        "ps = F.softmax(logits, dim=1)\n",
        "view_classify(img.view(1, 28, 28), ps)"
      ],
      "execution_count": 42,
      "outputs": [
        {
          "output_type": "display_data",
          "data": {
            "image/png": "[encoded data removed]",
            "text/plain": [
              "<Figure size 432x648 with 2 Axes>"
            ]
          },
          "metadata": {
            "tags": [],
            "image/png": {
              "width": 349,
              "height": 195
            },
            "needs_background": "light"
          }
        }
      ]
    },
    {
      "cell_type": "markdown",
      "metadata": {
        "id": "cAViqSloblVl"
      },
      "source": [
        "Now our network is brilliant. It can accurately predict the digits in our images."
      ]
    },
    {
      "cell_type": "markdown",
      "metadata": {
        "id": "yTg-asP0blVm"
      },
      "source": [
        "<div style=\"background:#222222; color:#ffffff; padding:20px\">\n",
        "    <h2 align=\"center\" style=\"color:#01ff84\">EMNIST Classification: Exercise</h2>\n",
        "<div>"
      ]
    },
    {
      "cell_type": "markdown",
      "metadata": {
        "id": "nDGXSELyblVm"
      },
      "source": [
        "<div style=\"background:#222222; color:#ffffff; padding:20px\">\n",
        "  <h3 style=\"color:#01ff84; margin-top:4px\">Exercise 1:</h3>\n",
        "  <p>Now it's your turn to build a simple network, use any method I've covered so far. In the next notebook, you'll learn how to train a network so it can make good predictions.</p>\n",
        "  <p>Build a network to classify the MNIST images with 3 hidden layers. Use 16 units in the first hidden layer, 32 units in the second layer, and 8 units in the third layer. Each hidden layer should have a ReLU activation function, and use softmax on the output layer.</p>\n",
        "<div>"
      ]
    },
    {
      "cell_type": "code",
      "metadata": {
        "id": "RDGnr8XlblVn"
      },
      "source": [
        "## TODO: Your network here\n",
        "# Hyperparameters for our network\n",
        "input_size   = 784\n",
        "hidden_sizes = [16, 8, 8]\n",
        "output_size  = 10\n",
        "\n",
        "# Build a feed-forward network\n",
        "model = nn.Sequential(OrderedDict([\n",
        "          ('fc1', nn.Linear(input_size, hidden_sizes[0])),\n",
        "          ('relu1', nn.ReLU()),\n",
        "          ('fc2', nn.Linear(hidden_sizes[0], hidden_sizes[1])),\n",
        "          ('relu2', nn.ReLU()),\n",
        "          ('fc2', nn.Linear(hidden_sizes[0], hidden_sizes[2])),\n",
        "          ('relu2', nn.ReLU()),\n",
        "          ('logits', nn.Linear(hidden_sizes[1], output_size))]))"
      ],
      "execution_count": 48,
      "outputs": []
    },
    {
      "cell_type": "code",
      "metadata": {
        "colab": {
          "base_uri": "https://localhost:8080/",
          "height": 212
        },
        "id": "VRDvy6-MblVo",
        "outputId": "225729c9-3623-4251-8b55-fcf7abf38ee0"
      },
      "source": [
        "# Run this cell with your model to make sure it works\n",
        "# Forward pass through the network and display output\n",
        "images, labels = next(iter(trainloader))\n",
        "images.resize_(images.shape[0], 1, 784)\n",
        "ps = model.forward(images[0,:])\n",
        "view_classify(images[0].view(1, 28, 28), ps)"
      ],
      "execution_count": 49,
      "outputs": [
        {
          "output_type": "display_data",
          "data": {
            "image/png": "[encoded data removed]",
            "text/plain": [
              "<Figure size 432x648 with 2 Axes>"
            ]
          },
          "metadata": {
            "tags": [],
            "image/png": {
              "width": 349,
              "height": 195
            },
            "needs_background": "light"
          }
        }
      ]
    },
    {
      "cell_type": "markdown",
      "metadata": {
        "id": "JMkelhplblVo"
      },
      "source": [
        "<div style=\"background:#222222; color:#ffffff; padding:20px\">\n",
        "  <h3 style=\"color:#01ff84; margin-top:4px\">Exercise 2:</h3>\n",
        "  <p>Train your network implementing the Pytorch training loop and <strong style=\"color:#01ff84\">after each epoch, use the model for predicting the test (validation) MNIST data.</strong></p>\n",
        "  <p>Note: If your model does not fit with the final softmax layer, you can remove this layer.</p>\n",
        "  <p>Hint: <a href=\"https://discuss.pytorch.org/t/training-loop-checking-validation-accuracy/78399\">Training loop checking validation accuracy\n",
        "</a></p>\n",
        "  <p>Research about <code>model.train()</code>, <code>model.eval()</code> and <code>with torch.no_grad()</code> in Pytorch.\n",
        "<div>"
      ]
    },
    {
      "cell_type": "code",
      "metadata": {
        "id": "jOK2S1xT8z5h"
      },
      "source": [
        "epochs = 10\n",
        "print_every = 40\n",
        "\n",
        "for e in range(epochs):\n",
        "    running_loss = 0\n",
        "    print(f\"Epoch: {e+1}/{epochs}\")\n",
        "\n",
        "    for i, (images, labels) in enumerate(iter(trainloader)):\n",
        "\n",
        "        # Flatten MNIST images into a 784 long vector\n",
        "        images.resize_(images.size()[0], 784)\n",
        "        \n",
        "        optimizer.zero_grad()\n",
        "        \n",
        "        output = model.forward(images)   # 1) Forward pass\n",
        "        loss = criterion(output, labels) # 2) Compute loss\n",
        "        loss.backward()                  # 3) Backward pass\n",
        "        optimizer.step()                 # 4) Update model\n",
        "        \n",
        "        running_loss += loss.item()\n",
        "        \n",
        "        if i % print_every == 0:\n",
        "            print(f\"\\tIteration: {i}\\t Loss: {running_loss/print_every:.4f}\")\n",
        "            running_loss = 0"
      ],
      "execution_count": null,
      "outputs": []
    },
    {
      "cell_type": "code",
      "metadata": {
        "colab": {
          "base_uri": "https://localhost:8080/",
          "height": 237
        },
        "id": "aEFlqqLhblVp",
        "outputId": "3616906b-80c7-4de4-baed-46cb07823b3d"
      },
      "source": [
        "## TODO: Your training loop here\n",
        "epochs = 3\n",
        "print_every = 40\n",
        "\n",
        "for e in range(epochs):\n",
        "    running_loss = 0\n",
        "    print(f\"Epoch: {e+1}/{epochs}\")\n",
        "\n",
        "    for i, (images, labels) in enumerate(iter(trainloader)):\n",
        "      \n",
        "\n",
        "\n",
        "num_epochs = 10\n",
        "for epoch in range(1, num_epochs + 1):\n",
        "  model.train()\n",
        "  model.eval()\n",
        "  torch.no_grad() "
      ],
      "execution_count": 59,
      "outputs": [
        {
          "output_type": "error",
          "ename": "TypeError",
          "evalue": "ignored",
          "traceback": [
            "\u001b[0;31m---------------------------------------------------------------------------\u001b[0m",
            "\u001b[0;31mTypeError\u001b[0m                                 Traceback (most recent call last)",
            "\u001b[0;32m<ipython-input-59-9fb52d463f1c>\u001b[0m in \u001b[0;36m<module>\u001b[0;34m()\u001b[0m\n\u001b[1;32m      1\u001b[0m \u001b[0;31m## TODO: Your training loop here\u001b[0m\u001b[0;34m\u001b[0m\u001b[0;34m\u001b[0m\u001b[0;34m\u001b[0m\u001b[0m\n\u001b[1;32m      2\u001b[0m \u001b[0mepoch\u001b[0m \u001b[0;34m=\u001b[0m \u001b[0;36m10\u001b[0m\u001b[0;34m\u001b[0m\u001b[0;34m\u001b[0m\u001b[0m\n\u001b[0;32m----> 3\u001b[0;31m \u001b[0;32mfor\u001b[0m \u001b[0mi\u001b[0m \u001b[0;32min\u001b[0m \u001b[0mepoch\u001b[0m\u001b[0;34m:\u001b[0m\u001b[0;34m\u001b[0m\u001b[0;34m\u001b[0m\u001b[0m\n\u001b[0m\u001b[1;32m      4\u001b[0m   \u001b[0mmodel\u001b[0m\u001b[0;34m.\u001b[0m\u001b[0mtrain\u001b[0m\u001b[0;34m(\u001b[0m\u001b[0;34m)\u001b[0m\u001b[0;34m\u001b[0m\u001b[0;34m\u001b[0m\u001b[0m\n\u001b[1;32m      5\u001b[0m   \u001b[0mmodel\u001b[0m\u001b[0;34m.\u001b[0m\u001b[0meval\u001b[0m\u001b[0;34m(\u001b[0m\u001b[0;34m)\u001b[0m\u001b[0;34m\u001b[0m\u001b[0;34m\u001b[0m\u001b[0m\n",
            "\u001b[0;31mTypeError\u001b[0m: 'int' object is not iterable"
          ]
        }
      ]
    },
    {
      "cell_type": "code",
      "metadata": {
        "id": "3G88db6DblVq"
      },
      "source": [
        "# Run this cell with your model to make sure it works and predicts well for the validation data\n",
        "images, labels = next(iter(testloader))\n",
        "images.resize_(images.shape[0], 1, 784)\n",
        "ps = model.forward(images[0,:])\n",
        "view_classify(images[0].view(1, 28, 28), ps)"
      ],
      "execution_count": null,
      "outputs": []
    },
    {
      "cell_type": "markdown",
      "metadata": {
        "id": "rKGc1HwrblVq"
      },
      "source": [
        "<div style=\"background:#222222; color:#ffffff; padding:20px\">\n",
        "  <h3 style=\"color:#01ff84; margin-top:4px\">Exercise 3:</h3>\n",
        "  <p>Write the code for adding <strong style=\"color:#01ff84\">Early Stopping with patience = 2</strong> to the training loop from scratch.</p>\n",
        "  <p><strong style=\"color:#01ff84\">Hint:</strong> Monitor the Validation loss every epoch, and if in 2 epochs, the validation loss does not improve, stop the training loop with <code>break</code>.</p>\n",
        "<div>"
      ]
    },
    {
      "cell_type": "code",
      "metadata": {
        "id": "LL1Rk0nLblVq"
      },
      "source": [
        "## TODO: Your training loop here\n",
        "\n"
      ],
      "execution_count": null,
      "outputs": []
    },
    {
      "cell_type": "markdown",
      "metadata": {
        "id": "9dVzmqTDblVq"
      },
      "source": [
        "<div style=\"background:#222222; color:#ffffff; padding:20px\">\n",
        "  <h3 style=\"color:#01ff84; margin-top:4px\">Optional:</h3>\n",
        "  <p>Don't you want to use MNIST? Try EMNIST instead! Maybe using the first 10 letters of the alphabet!</p>\n"
      ]
    },
    {
      "cell_type": "code",
      "metadata": {
        "ExecuteTime": {
          "end_time": "2021-05-26T22:35:26.981584Z",
          "start_time": "2021-05-26T22:35:26.954522Z"
        },
        "id": "CHNWuEriblVr"
      },
      "source": [
        ""
      ],
      "execution_count": null,
      "outputs": []
    },
    {
      "cell_type": "code",
      "metadata": {
        "ExecuteTime": {
          "end_time": "2021-05-26T22:50:57.571260Z",
          "start_time": "2021-05-26T22:50:57.322172Z"
        },
        "id": "nndAhNZSblVr"
      },
      "source": [
        ""
      ],
      "execution_count": null,
      "outputs": []
    },
    {
      "cell_type": "markdown",
      "metadata": {
        "id": "w_jp1EEmblVs"
      },
      "source": [
        ""
      ]
    },
    {
      "cell_type": "code",
      "metadata": {
        "ExecuteTime": {
          "end_time": "2021-05-26T22:51:03.118421Z",
          "start_time": "2021-05-26T22:51:02.978678Z"
        },
        "id": "w-jufaeRblVu"
      },
      "source": [
        "plt.imshow(images[5].numpy().squeeze(), cmap='Greys_r');"
      ],
      "execution_count": null,
      "outputs": []
    },
    {
      "cell_type": "code",
      "metadata": {
        "ExecuteTime": {
          "end_time": "2021-05-26T22:51:06.653639Z",
          "start_time": "2021-05-26T22:51:06.647991Z"
        },
        "id": "inZORmT_blVu"
      },
      "source": [
        "labels"
      ],
      "execution_count": null,
      "outputs": []
    },
    {
      "cell_type": "code",
      "metadata": {
        "id": "KHCFq-F4blVu"
      },
      "source": [
        ""
      ],
      "execution_count": null,
      "outputs": []
    }
  ]
}