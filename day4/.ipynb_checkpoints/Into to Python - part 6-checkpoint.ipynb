{
 "cells": [
  {
   "cell_type": "markdown",
   "metadata": {},
   "source": [
    "# Exercises"
   ]
  },
  {
   "cell_type": "markdown",
   "metadata": {},
   "source": [
    "**Exercise 6.3:** In the text below, count how often the word \"wood\" occurs (using program code, of course). Capitals and lower case letters may both be used, and you have to consider that the word \"wood\" should be a separate word, and not part of another word. Hint: If you did the exercises from this chapter, you already developed a function that \"cleans\" a text. Combining that function with the `split()` function more or less solves the problem for you."
   ]
  },
  {
   "cell_type": "code",
   "execution_count": 16,
   "metadata": {},
   "outputs": [
    {
     "name": "stdout",
     "output_type": "stream",
     "text": [
      "How much wood would a woodchuck chuck\n",
      "If a woodchuck could chuck wood\n",
      "He would chuck, he would, as much as he could,\n",
      "And chuck as much as a woodchuck would\n",
      "If a Mr Smith could chuck wood\n",
      "\r",
      "\t\n",
      "if a woodchuck could chuck wood?\n",
      "['if', 'a', 'woodchuck', 'could', 'chuck', 'wood?']\n",
      "counter= 0\n"
     ]
    }
   ],
   "source": [
    "text = \"\"\"How much wood would a woodchuck chuck\n",
    "If a woodchuck could chuck wood?\n",
    "He would chuck, he would, as much as he could,\n",
    "And chuck as much as a woodchuck would\n",
    "If a Mr. Smith could chuck wood\\n\\r\\t.\"\"\"\n",
    "\n",
    "# read whole text\n",
    "whole_text = text\n",
    "# create a counter\n",
    "counter = 0\n",
    "# get rid \\n\n",
    "whole_text = text.rstrip()\n",
    "# get rid of ?. special grammar\n",
    "whole_text = whole_text.replace('?', '')\n",
    "whole_text = whole_text.replace('.', '')\n",
    "print(whole_text)\n",
    "# lowercase my sentence\n",
    "my_sentence = \"If a woodchuck could chuck wood?\"\n",
    "lowercase = my_sentence.lower()\n",
    "print(lowercase)\n",
    "# split the string by some character\n",
    "splited_string = lowercase.split(' ')\n",
    "print(splited_string)\n",
    "#[\"if\", \"a\", \"woodchuck\"]\n",
    "#check if wood is in the list\n",
    "    # if yes\n",
    "       # counter = counter +1 <--> counter += 1 \n",
    "    # else\n",
    "        #pass\n",
    "#return\n",
    "for i in splited_string:\n",
    "    if i == \"wood\":\n",
    "        counter = counter+1\n",
    "print(\"counter=\",counter)\n",
    "        \n",
    "        "
   ]
  },
  {
   "cell_type": "code",
   "execution_count": 23,
   "metadata": {},
   "outputs": [
    {
     "name": "stdout",
     "output_type": "stream",
     "text": [
      "['how', 'much', 'wood', 'would', 'a', 'woodchuck', 'chuck', 'if', 'a', 'woodchuck', 'could', 'chuck', 'wood', 'he', 'would', 'chuck,', 'he', 'would,', 'as', 'much', 'as', 'he', 'could,', 'and', 'chuck', 'as', 'much', 'as', 'a', 'woodchuck', 'would', 'if', 'a', 'mr', 'smith', 'could', 'chuck', 'wood']\n"
     ]
    },
    {
     "data": {
      "text/plain": [
       "3"
      ]
     },
     "execution_count": 23,
     "metadata": {},
     "output_type": "execute_result"
    }
   ],
   "source": [
    "# Counting wood.\n",
    "def wood_counter(text):\n",
    "    text = text.replace(\"?\", \"\")\n",
    "    text = text.replace(\".\",\"\")\n",
    "    l = text.lower().strip().split()\n",
    "    counter = 0\n",
    "    print(l)\n",
    "    for word in l:\n",
    "        if word == \"wood\":\n",
    "            counter +=1\n",
    "    return counter\n",
    "\n",
    "text = \"\"\"How much wood would a woodchuck chuck\n",
    "If a woodchuck could chuck wood?\n",
    "He would chuck, he would, as much as he could,\n",
    "And chuck as much as a woodchuck would\n",
    "If a Mr. Smith could chuck wood\\n\\r\\t.\"\"\"\n",
    "\n",
    "wood_counter(text)"
   ]
  },
  {
   "cell_type": "code",
   "execution_count": null,
   "metadata": {},
   "outputs": [],
   "source": []
  }
 ],
 "metadata": {
  "kernelspec": {
   "display_name": "Python 3",
   "language": "python",
   "name": "python3"
  },
  "language_info": {
   "codemirror_mode": {
    "name": "ipython",
    "version": 3
   },
   "file_extension": ".py",
   "mimetype": "text/x-python",
   "name": "python",
   "nbconvert_exporter": "python",
   "pygments_lexer": "ipython3",
   "version": "3.9.2"
  }
 },
 "nbformat": 4,
 "nbformat_minor": 2
}
