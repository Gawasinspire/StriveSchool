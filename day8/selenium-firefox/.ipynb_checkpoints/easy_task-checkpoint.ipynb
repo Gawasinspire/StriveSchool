{
 "cells": [
  {
   "cell_type": "code",
   "execution_count": 78,
   "id": "another-fitness",
   "metadata": {},
   "outputs": [],
   "source": [
    "# Import the needed libraries\n",
    "from selenium import webdriver\n",
    "from selenium.webdriver.common.keys import Keys\n",
    "#import datetime as dt\n",
    "import pandas as pd\n",
    "from datetime import datetime, timedelta\n",
    "import numpy as np\n"
   ]
  },
  {
   "cell_type": "code",
   "execution_count": 3,
   "id": "detected-witness",
   "metadata": {},
   "outputs": [],
   "source": [
    "browser = webdriver.Firefox(executable_path=\"./drivers/geckodriver\")  ## Firefox\n"
   ]
  },
  {
   "cell_type": "code",
   "execution_count": 5,
   "id": "chubby-today",
   "metadata": {},
   "outputs": [
    {
     "name": "stdout",
     "output_type": "stream",
     "text": [
      "Title: San Francisco, CA 10-Day Weather Forecast - The Weather Channel | Weather.com\n"
     ]
    }
   ],
   "source": [
    "#browser.get('https://www.linuxhint.com')\n",
    "#browser.get('https://weather.com/weather/tenday/l/San+Francisco+CA?canonicalCityId=dfdaba8cbe3a4d12a8796e1f7b1ccc7174b4b0a2d5ddb1c8566ae9f154fa638c') \n",
    "#print('Title: %s' % browser.title)"
   ]
  },
  {
   "cell_type": "code",
   "execution_count": 91,
   "id": "yellow-french",
   "metadata": {},
   "outputs": [
    {
     "ename": "SyntaxError",
     "evalue": "invalid syntax (<ipython-input-91-42fa1fe92045>, line 70)",
     "output_type": "error",
     "traceback": [
      "\u001b[0;36m  File \u001b[0;32m\"<ipython-input-91-42fa1fe92045>\"\u001b[0;36m, line \u001b[0;32m70\u001b[0m\n\u001b[0;31m    print(\"Date: Today , Tomorrow, Friday,Saturday\",\"TempH:\", temp1_H,temp2_H, temp3_H, temp4_H,\"TempL:\",temp1_L,temp2_L, temp3_L, temp4_L,\"Desc:\" Desc1, Desc3, Desc5, Desc7)\u001b[0m\n\u001b[0m    ^\u001b[0m\n\u001b[0;31mSyntaxError\u001b[0m\u001b[0;31m:\u001b[0m invalid syntax\n"
     ]
    }
   ],
   "source": [
    "browser = webdriver.Firefox(executable_path=\"./drivers/geckodriver\")\n",
    "\n",
    "#browser.get(\"https://weather.com/weather/tenday/l/San+Francisco+CA?canonicalCityId=dfdaba8cbe3a4d12a8796e1f7b1ccc7174b4b0a2d5ddb1c8566ae9f154fa638c\")\n",
    "browser.get(\"https://forecast.weather.gov/MapClick.php?lat=37.777120000000025&lon=-122.41963999999996\")\n",
    "print('Title: %s' % browser.title)\n",
    "\n",
    "# temperature of 4 days\n",
    "tempH1 = browser.find_element_by_xpath(\"/html/body/main/div/div[5]/div[2]/div/ul/li[1]/div/p[4]\")\n",
    "tempH2 = browser.find_element_by_xpath(\"/html/body/main/div/div[5]/div[2]/div/ul/li[3]/div/p[4]\")\n",
    "tempH3 = browser.find_element_by_xpath(\"/html/body/main/div/div[5]/div[2]/div/ul/li[5]/div/p[4]\")\n",
    "tempH4 = browser.find_element_by_xpath(\"/html/body/main/div/div[5]/div[2]/div/ul/li[6]/div/p[4]\")\n",
    "\n",
    "tempL1 = browser.find_element_by_xpath(\"/html/body/main/div/div[5]/div[2]/div/ul/li[2]/div/p[4]\")\n",
    "tempL2 = browser.find_element_by_xpath(\"/html/body/main/div/div[5]/div[2]/div/ul/li[4]/div/p[4]\")\n",
    "tempL3 = browser.find_element_by_xpath(\"/html/body/main/div/div[5]/div[2]/div/ul/li[6]/div/p[4]\")\n",
    "tempL4 = browser.find_element_by_xpath(\"/html/body/main/div/div[5]/div[2]/div/ul/li[8]/div/p[4]\")\n",
    "\n",
    "temp1_H = tempH1.text\n",
    "temp2_H = tempH2.text\n",
    "temp3_H = tempH3.text\n",
    "temp4_H = tempH4.text\n",
    "\n",
    "temp1_L = tempL1.text\n",
    "temp2_L = tempL2.text\n",
    "temp3_L = tempL3.text\n",
    "temp4_L = tempL4.text\n",
    "\n",
    "# description of 6 days\n",
    "Desc_1 = browser.find_element_by_xpath(\"/html/body/main/div/div[6]/div[1]/div[1]/div[2]/div[1]/div[2]\") \n",
    "Desc_2 = browser.find_element_by_xpath(\"/html/body/main/div/div[6]/div[1]/div[1]/div[2]/div[3]/div[2]\") \n",
    "Desc_3 = browser.find_element_by_xpath(\"/html/body/main/div/div[6]/div[1]/div[1]/div[2]/div[5]/div[2]\") \n",
    "Desc_4 = browser.find_element_by_xpath(\"/html/body/main/div/div[6]/div[1]/div[1]/div[2]/div[7]/div[2]\") \n",
    "Desc_5 = browser.find_element_by_xpath(\"/html/body/main/div/div[6]/div[1]/div[1]/div[2]/div[9]/div[2]\") \n",
    "Desc_6 = browser.find_element_by_xpath(\"/html/body/main/div/div[6]/div[1]/div[1]/div[2]/div[11]/div[2]\")\n",
    "Desc_7 = browser.find_element_by_xpath(\"/html/body/main/div/div[6]/div[1]/div[1]/div[2]/div[13]/div[2]\")\n",
    "\n",
    "Desc_11 = browser.find_element_by_xpath(\"/html/body/main/div/div[6]/div[1]/div[1]/div[2]/div[2]/div[2]\")\n",
    "Desc_21 = browser.find_element_by_xpath(\"/html/body/main/div/div[6]/div[1]/div[1]/div[2]/div[4]/div[2]\")\n",
    "Desc_31 = browser.find_element_by_xpath(\"/html/body/main/div/div[6]/div[1]/div[1]/div[2]/div[6]/div[2]\")\n",
    "Desc_41 = browser.find_element_by_xpath(\"/html/body/main/div/div[6]/div[1]/div[1]/div[2]/div[8]/div[2]\")\n",
    "Desc_51 = browser.find_element_by_xpath(\"/html/body/main/div/div[6]/div[1]/div[1]/div[2]/div[10]/div[2]\")\n",
    "Desc_61 = browser.find_element_by_xpath(\"/html/body/main/div/div[6]/div[1]/div[1]/div[2]/div[12]/div[2]\")\n",
    " \n",
    "Desc1 =Desc_1.text\n",
    "Desc2 =Desc_11.text\n",
    "Desc3 =Desc_2.text\n",
    "Desc4 =Desc_21.text\n",
    "Desc5 =Desc_3.text\n",
    "Desc6 =Desc_31.text\n",
    "Desc7 =Desc_4.text\n",
    "Desc8 =Desc_41.text\n",
    "Desc9 =Desc_5.text\n",
    "Desc10 =Desc_51.text\n",
    "Desc11 =Desc_6.text\n",
    "Desc12 =Desc_61.text\n",
    "Desc13 =Desc_7.text\n",
    "\n",
    "#date\n",
    "dti = pd.date_range(start='2021-03-24', end='2021-03-31')\n",
    "print(list(dti)\n",
    "\n",
    "#datafframe\n",
    "#\"\"\"\n",
    "#df = pd.DataFrame({'Date': ['LoNDon_paris', 'MAdrid_miLAN', 'londON_StockhOlm','Budapest_PaRis'],\n",
    "#                   'TempH': [temp1_H, temp2_H, temp3_H, temp4_H],\n",
    "#                   'TempL': [temp1_L, temp2_L, temp3_L, temp4_L],\n",
    "#                   'Desc': [Desc1, Desc3, Desc5, Desc7]})\n",
    "#df\n",
    "#\"\"\"\n",
    "print(\"Date: Today , Tomorrow, Friday,Saturday\",\"TempH:\", temp1_H,temp2_H, temp3_H, temp4_H,\"TempL:\",temp1_L,temp2_L, temp3_L, temp4_L,\"Desc:\" Desc1, Desc3, Desc5, Desc7)"
   ]
  },
  {
   "cell_type": "code",
   "execution_count": 41,
   "id": "historic-clinton",
   "metadata": {},
   "outputs": [
    {
     "name": "stdout",
     "output_type": "stream",
     "text": [
      "Desc: Mostly sunny, with a high near 66. Light and variable wind becoming west 8 to 13 mph in the morning. \n",
      "Date: 24 Mar 06:43 AM PDT \n",
      "T: High: 66 °F \n",
      "T: Low: 48 °F\n"
     ]
    },
    {
     "data": {
      "text/plain": [
       "'Mostly sunny, with a high near 66. Light and variable wind becoming west 8 to 13 mph in the morning.'"
      ]
     },
     "execution_count": 41,
     "metadata": {},
     "output_type": "execute_result"
    }
   ],
   "source": [
    "#print(Date_1.text)\n",
    "#day\n",
    "\n",
    "\n",
    "print(\"Desc:\",data_1_desc,\"\\nDate:\",data_1_date,\"\\nT:\",data_1_temp1,\"\\nT:\",data_1_low1)\n",
    "\n",
    "data_gen.text"
   ]
  },
  {
   "cell_type": "code",
   "execution_count": 25,
   "id": "separate-delight",
   "metadata": {},
   "outputs": [],
   "source": [
    "browser.quit()"
   ]
  },
  {
   "cell_type": "code",
   "execution_count": null,
   "id": "thousand-grammar",
   "metadata": {},
   "outputs": [],
   "source": [
    "\"\"\"\n",
    "\n",
    "data_1_date = Date_1.text\n",
    "data_1_desc = Desc_1.text\n",
    "\n",
    "data_1_temp1 = temp_1.text\n",
    "data_1_low1 = low_1.text\n",
    "data_desc_all = data_gen.text\n",
    "\n",
    "\n",
    "{\"_id\":\"wether_data\",\"startUrl\":[\"https://weather.com/weather/tenday/l/San+Francisco+CA?canonicalCityId=dfdaba8cbe3a4d12a8796e1f7b1ccc7174b4b0a2d5ddb1c8566ae9f154fa638c\"],\"selectors\":[{\"id\":\"data1\",\"type\":\"SelectorText\",\"parentSelectors\":[\"_root\"],\"selector\":\"div.DailyContent--DailyContent--rTQY_:nth-of-type(1) span.DailyContent--daypartDate--3MM0J, span.DailyContent--temp--_8DL5, div.DailyContent--DailyContent--rTQY_:nth-of-type(1) span.DailyContent--value--3Xvjn, div.DailyContent--DailyContent--rTQY_:nth-of-type(1) p\",\"multiple\":true,\"regex\":\"\",\"delay\":0}]}\n",
    "\"\"\""
   ]
  },
  {
   "cell_type": "code",
   "execution_count": 20,
   "id": "exposed-calendar",
   "metadata": {},
   "outputs": [],
   "source": [
    "browser.quit()"
   ]
  },
  {
   "cell_type": "code",
   "execution_count": 75,
   "id": "confirmed-nirvana",
   "metadata": {},
   "outputs": [
    {
     "data": {
      "text/plain": [
       "DatetimeIndex(['2021-03-24', '2021-03-25', '2021-03-26', '2021-03-27',\n",
       "               '2021-03-28', '2021-03-29', '2021-03-30', '2021-03-31'],\n",
       "              dtype='datetime64[ns]', freq='D')"
      ]
     },
     "execution_count": 75,
     "metadata": {},
     "output_type": "execute_result"
    }
   ],
   "source": []
  }
 ],
 "metadata": {
  "kernelspec": {
   "display_name": "Python 3",
   "language": "python",
   "name": "python3"
  },
  "language_info": {
   "codemirror_mode": {
    "name": "ipython",
    "version": 3
   },
   "file_extension": ".py",
   "mimetype": "text/x-python",
   "name": "python",
   "nbconvert_exporter": "python",
   "pygments_lexer": "ipython3",
   "version": "3.9.2"
  }
 },
 "nbformat": 4,
 "nbformat_minor": 5
}
