{
 "cells": [
  {
   "cell_type": "code",
   "execution_count": 2,
   "id": "another-fitness",
   "metadata": {},
   "outputs": [],
   "source": [
    "# Import the needed libraries\n",
    "from selenium import webdriver\n",
    "from selenium.webdriver.common.keys import Keys\n"
   ]
  },
  {
   "cell_type": "code",
   "execution_count": 3,
   "id": "detected-witness",
   "metadata": {},
   "outputs": [],
   "source": [
    "browser = webdriver.Firefox(executable_path=\"./drivers/geckodriver\")  ## Firefox\n"
   ]
  },
  {
   "cell_type": "code",
   "execution_count": 5,
   "id": "chubby-today",
   "metadata": {},
   "outputs": [
    {
     "name": "stdout",
     "output_type": "stream",
     "text": [
      "Title: San Francisco, CA 10-Day Weather Forecast - The Weather Channel | Weather.com\n"
     ]
    }
   ],
   "source": [
    "#browser.get('https://www.linuxhint.com')\n",
    "#browser.get('https://weather.com/weather/tenday/l/San+Francisco+CA?canonicalCityId=dfdaba8cbe3a4d12a8796e1f7b1ccc7174b4b0a2d5ddb1c8566ae9f154fa638c') \n",
    "#print('Title: %s' % browser.title)"
   ]
  },
  {
   "cell_type": "code",
   "execution_count": 6,
   "id": "yellow-french",
   "metadata": {},
   "outputs": [
    {
     "name": "stdout",
     "output_type": "stream",
     "text": [
      "Title: Random name generator\n",
      "Marion Roy\n",
      "Amy Dennis\n",
      "Tabitha Clark\n",
      "Calvin West\n",
      "Derek Hubbard\n",
      "Lillian Johnson\n",
      "Heather Alexander\n",
      "Martin Rogers\n",
      "Emma Moody\n",
      "Melvin Keller\n"
     ]
    }
   ],
   "source": [
    "browser = webdriver.Firefox(executable_path=\"./drivers/geckodriver\")\n",
    "\n",
    "browser.get(\"http://random-name-generator.info/\")\n",
    "print('Title: %s' % browser.title)\n",
    "\n",
    "nameList = browser.find_elements_by_css_selector('ol.nameList li')\n",
    "\n",
    "for name in nameList:\n",
    "    print(name.text)\n"
   ]
  },
  {
   "cell_type": "code",
   "execution_count": null,
   "id": "thousand-grammar",
   "metadata": {},
   "outputs": [],
   "source": [
    "\"\"\"\n",
    "    For each day, you need to store:\n",
    "\n",
    "    The day of the week (Saturday)\n",
    "    The date (12/09)\n",
    "    A short description of the conditions (Clear early then increasing cloudiness after midnight. Low 41F. Winds light and variable)\n",
    "    The temperature low and high, with a function of your own to convert into Celsius\n",
    "    For each element you scrape, The name of the item you targetted (ex: DailyContent--daypartDate--3MM0J)\n",
    "    Save all of this into a Pandas dataframe\n",
    "    \n",
    "    \"\"\""
   ]
  },
  {
   "cell_type": "code",
   "execution_count": 20,
   "id": "exposed-calendar",
   "metadata": {},
   "outputs": [],
   "source": [
    "browser.quit()"
   ]
  },
  {
   "cell_type": "code",
   "execution_count": null,
   "id": "confirmed-nirvana",
   "metadata": {},
   "outputs": [],
   "source": []
  }
 ],
 "metadata": {
  "kernelspec": {
   "display_name": "Python 3",
   "language": "python",
   "name": "python3"
  },
  "language_info": {
   "codemirror_mode": {
    "name": "ipython",
    "version": 3
   },
   "file_extension": ".py",
   "mimetype": "text/x-python",
   "name": "python",
   "nbconvert_exporter": "python",
   "pygments_lexer": "ipython3",
   "version": "3.9.2"
  }
 },
 "nbformat": 4,
 "nbformat_minor": 5
}
