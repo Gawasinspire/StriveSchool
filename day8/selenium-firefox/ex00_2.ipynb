{
 "cells": [
  {
   "cell_type": "code",
   "execution_count": 2,
   "id": "another-fitness",
   "metadata": {},
   "outputs": [],
   "source": [
    "# Import the needed libraries\n",
    "from selenium import webdriver\n",
    "from selenium.webdriver.common.keys import Keys\n",
    "import pandas as pd\n",
    "import seaborn as sns\n",
    "\n",
    "from selenium.webdriver.common.by  import By as selenium_By\n",
    "from selenium.webdriver.support.ui import Select as selenium_Select\n",
    "from selenium.webdriver.support.ui import WebDriverWait as selenium_WebDriverWait\n",
    "from selenium.webdriver.support    import expected_conditions as selenium_ec\n",
    "from selenium.webdriver.firefox.options import Options as selenium_options\n",
    "from selenium.webdriver.common.desired_capabilities import DesiredCapabilities as selenium_DesiredCapabilities\n",
    "from selenium import webdriver as selenium_webdriver\n",
    "import time\n",
    "from datetime import datetime"
   ]
  },
  {
   "cell_type": "code",
   "execution_count": 3,
   "id": "detected-witness",
   "metadata": {},
   "outputs": [],
   "source": [
    "browser = webdriver.Firefox(executable_path=\"./drivers/geckodriver\")  ## Firefox\n"
   ]
  },
  {
   "cell_type": "code",
   "execution_count": 5,
   "id": "chubby-today",
   "metadata": {},
   "outputs": [
    {
     "name": "stdout",
     "output_type": "stream",
     "text": [
      "Title: San Francisco, CA 10-Day Weather Forecast - The Weather Channel | Weather.com\n"
     ]
    }
   ],
   "source": [
    "#browser.get('https://www.linuxhint.com')\n",
    "#browser.get('https://weather.com/weather/tenday/l/San+Francisco+CA?canonicalCityId=dfdaba8cbe3a4d12a8796e1f7b1ccc7174b4b0a2d5ddb1c8566ae9f154fa638c') \n",
    "#print('Title: %s' % browser.title)"
   ]
  },
  {
   "cell_type": "code",
   "execution_count": 9,
   "id": "yellow-french",
   "metadata": {},
   "outputs": [
    {
     "name": "stdout",
     "output_type": "stream",
     "text": [
      "Title: RANDOM.ORG - String Generator\n",
      "CdRbiY0gvcQ3pbldPhN0\n"
     ]
    }
   ],
   "source": [
    "formatted_data = []\n",
    "\n",
    "#browser.get('https://weather.com/weather/tenday/l/San+Francisco+CA?canonicalCityId=dfdaba8cbe3a4d12a8796e1f7b1ccc7174b4b0a2d5ddb1c8566ae9f154fa638c')\n",
    "#print('Title: %s' % browser.title)\n",
    "browser.get('https://www.random.org/strings/?num=1&len=20&digits=on&upperalpha=on&loweralpha=on&unique=on&format=html&rnd=new')\n",
    "print('Title: %s' % browser.title)\n",
    "dataElement = browser.find_element_by_css_selector('pre.data')\n",
    "print(dataElement.text)\n",
    "\n",
    "\n",
    "#df = pd.DataFrame(formatted_data,columns=['year','month','day','hour','DegreeF','DegreeC'])\n",
    "#df.to_csv('Temperature_Toronto.csv',index=False)\n",
    "#df\n"
   ]
  },
  {
   "cell_type": "code",
   "execution_count": null,
   "id": "thousand-grammar",
   "metadata": {},
   "outputs": [],
   "source": [
    "\"\"\"\n",
    "    For each day, you need to store:\n",
    "\n",
    "    The day of the week (Saturday)\n",
    "    The date (12/09)\n",
    "    A short description of the conditions (Clear early then increasing cloudiness after midnight. Low 41F. Winds light and variable)\n",
    "    The temperature low and high, with a function of your own to convert into Celsius\n",
    "    For each element you scrape, The name of the item you targetted (ex: DailyContent--daypartDate--3MM0J)\n",
    "    Save all of this into a Pandas dataframe\n",
    "    \n",
    "    \"\"\""
   ]
  },
  {
   "cell_type": "code",
   "execution_count": 10,
   "id": "exposed-calendar",
   "metadata": {},
   "outputs": [],
   "source": [
    "browser.quit()"
   ]
  },
  {
   "cell_type": "code",
   "execution_count": null,
   "id": "confirmed-nirvana",
   "metadata": {},
   "outputs": [],
   "source": []
  }
 ],
 "metadata": {
  "kernelspec": {
   "display_name": "Python 3",
   "language": "python",
   "name": "python3"
  },
  "language_info": {
   "codemirror_mode": {
    "name": "ipython",
    "version": 3
   },
   "file_extension": ".py",
   "mimetype": "text/x-python",
   "name": "python",
   "nbconvert_exporter": "python",
   "pygments_lexer": "ipython3",
   "version": "3.9.2"
  }
 },
 "nbformat": 4,
 "nbformat_minor": 5
}
