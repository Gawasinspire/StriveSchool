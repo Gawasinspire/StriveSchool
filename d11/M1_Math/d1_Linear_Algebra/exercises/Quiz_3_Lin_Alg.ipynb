{
 "cells": [
  {
   "cell_type": "markdown",
   "metadata": {},
   "source": [
    "## Linear Algebra Quiz #3\n",
    "\n",
    "![title](./img/3_0.jpeg)\n",
    "\n",
    "We strongly suggest working with numpy :)\n",
    "\n",
    "ok. done"
   ]
  },
  {
   "cell_type": "code",
   "execution_count": null,
   "metadata": {},
   "outputs": [],
   "source": [
    "#Do your imports here\n",
    "import numpy as np"
   ]
  },
  {
   "cell_type": "markdown",
   "metadata": {},
   "source": [
    "![title](./img/3_2.png)\n",
    "![title](./img/3_3.png)\n",
    "Create a program that can output\n",
    "\n",
    "- What is the value of element c23​ of Matrix C where C=A x B ?\n",
    "- What is the value of element c23​ of Matrix C where C=B x A ?"
   ]
  },
  {
   "cell_type": "code",
   "execution_count": 11,
   "metadata": {},
   "outputs": [],
   "source": [
    "# okay numpy is great but... how would you inverse a matrix by hand?\n",
    "# it requires pen and paper. Need to find determinant and adj(a). takes more time \n",
    "def inverse_matrix(A):\n",
    "    return np.linalg.inv(b)"
   ]
  },
  {
   "cell_type": "code",
   "execution_count": null,
   "metadata": {},
   "outputs": [],
   "source": [
    "\n"
   ]
  },
  {
   "cell_type": "markdown",
   "metadata": {},
   "source": [
    "![title](./img/3_1.png)\n",
    "Create a program that can output\n",
    "\n",
    "- What is the value of the ijth element if i = 2 and j=3?\n",
    "- What is the value of the ijth element if i = 3 and j=1?"
   ]
  },
  {
   "cell_type": "code",
   "execution_count": 16,
   "metadata": {},
   "outputs": [],
   "source": [
    "# Just answer using code --> easy stuff!\n",
    "def do_math_function(A,B,C):\n",
    "    D[len(A)][len(A[0])]\n",
    "    for i in range (i, len(A)):\n",
    "        for j in range (j, len(A[0])):\n",
    "            D[i][j] = A[i][j] + B[i][j] - C[i][j] \n",
    "# Harder\n",
    "# Can you build a matrix solver that can do output the result given n matrices and a sequence of operations such as [add subtract multiply transpose?]\n",
    "#Some ideas on valid operations: Multiplication Addition Subtraction Inverstion Transposed. \n",
    "# \n",
    "def matrix_solver():\n",
    "    # initializing matrices or pass it if we need to\n",
    "    x = np.array([[1, 2], [4, 5]])\n",
    "    y = np.array([[7, 8], [9, 10]])\n",
    "    \n",
    "    # using add() to add matrices\n",
    "    print (\"The element wise addition of matrix is : \")\n",
    "    print (np.add(x,y))\n",
    "    \n",
    "    # using subtract() to subtract matrices\n",
    "    print (\"The element wise subtraction of matrix is : \")\n",
    "    print (np.subtract(x,y))\n",
    "    \n",
    "    #using multiply() to multiply matrices element wise\\\n",
    "    print (\"The element wise multiplication of matrix is : \")\n",
    "    print (np.multiply(x,y))\n",
    "\n",
    "    # using \"T\" to transpose the matrix\n",
    "    print (\"The transpose of given matrix is : \")\n",
    "    print (x.T)\n",
    "    \n",
    "    # inverse\n",
    "    print (\"The inverse of given matrix is : \")\n",
    "    print (np.linalg.inv(x))\n",
    "    "
   ]
  },
  {
   "cell_type": "markdown",
   "metadata": {},
   "source": [
    "![title](./img/3_3.png)\n",
    "Create a program that can output\n",
    "- How many rows will C have?\n",
    "- How many columns will C have?\n",
    "- What will be the value of c13​?"
   ]
  },
  {
   "cell_type": "code",
   "execution_count": null,
   "metadata": {},
   "outputs": [],
   "source": [
    "print(\"C will have\", len(A),\"rows\")     #A(1*5) B(5*3) = C(1*3)\n",
    "print(\"C will have\", len(A[0]),\"column\")     #A(1*5) B(5*3) = C(1*3)\n",
    "#print(\"C13=\")   "
   ]
  }
 ],
 "metadata": {
  "kernelspec": {
   "display_name": "Python 3",
   "language": "python",
   "name": "python3"
  },
  "language_info": {
   "codemirror_mode": {
    "name": "ipython",
    "version": 3
   },
   "file_extension": ".py",
   "mimetype": "text/x-python",
   "name": "python",
   "nbconvert_exporter": "python",
   "pygments_lexer": "ipython3",
   "version": "3.9.2"
  }
 },
 "nbformat": 4,
 "nbformat_minor": 2
}
