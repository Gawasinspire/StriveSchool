{
 "cells": [
  {
   "cell_type": "markdown",
   "id": "enormous-customer",
   "metadata": {},
   "source": [
    "# Correlation Tests\n",
    "\n",
    "statistical tests that we can use to check if two samples are related.\n",
    "\n",
    "## Pearson’s Correlation Coefficient\n",
    "\n",
    "Tests whether two samples have a linear relationship.\n",
    "\n",
    "Assumptions\n",
    "\n",
    "    Observations in each sample are independent and identically distributed (iid).\n",
    "    Observations in each sample are normally distributed.\n",
    "    Observations in each sample have the same variance.\n",
    "\n",
    "Interpretation\n",
    "\n",
    "    H0: the two samples are independent.\n",
    "    H1: there is a dependency between the samples.\n"
   ]
  },
  {
   "cell_type": "code",
   "execution_count": 2,
   "id": "gothic-equity",
   "metadata": {},
   "outputs": [
    {
     "name": "stdout",
     "output_type": "stream",
     "text": [
      "stat=0.688, p=0.028\n",
      "Probably dependent\n"
     ]
    }
   ],
   "source": [
    "# Example of the Pearson's Correlation test\n",
    "from scipy.stats import pearsonr\n",
    "data1 = [0.873, 2.817, 0.121, -0.945, -0.055, -1.436, 0.360, -1.478, -1.637, -1.869]\n",
    "data2 = [0.353, 3.517, 0.125, -7.545, -0.555, -1.536, 3.350, -1.578, -3.537, -1.579]\n",
    "stat, p = pearsonr(data1, data2)\n",
    "print('stat=%.3f, p=%.3f' % (stat, p))\n",
    "if p > 0.05:\n",
    "    print('Probably independent')\n",
    "else:\n",
    "    print('Probably dependent')"
   ]
  },
  {
   "cell_type": "markdown",
   "id": "optional-indonesia",
   "metadata": {},
   "source": [
    "## Spearman’s Rank Correlation\n",
    "\n",
    "Tests whether two samples have a monotonic relationship.\n",
    "\n",
    "Assumptions\n",
    "\n",
    "    Observations in each sample are independent and identically distributed (iid).\n",
    "    Observations in each sample can be ranked.\n",
    "\n",
    "Interpretation\n",
    "\n",
    "    H0: the two samples are independent.\n",
    "    H1: there is a dependency between the samples.\n"
   ]
  },
  {
   "cell_type": "code",
   "execution_count": 1,
   "id": "architectural-process",
   "metadata": {},
   "outputs": [
    {
     "name": "stdout",
     "output_type": "stream",
     "text": [
      "stat=0.855, p=0.002\n",
      "Probably dependent\n"
     ]
    }
   ],
   "source": [
    "from scipy.stats import spearmanr\n",
    "data1 = [0.873, 2.817, 0.121, -0.945, -0.055, -1.436, 0.360, -1.478, -1.637, -1.869]\n",
    "data2 = [0.353, 3.517, 0.125, -7.545, -0.555, -1.536, 3.350, -1.578, -3.537, -1.579]\n",
    "stat, p = spearmanr(data1, data2)\n",
    "print('stat=%.3f, p=%.3f' % (stat, p))\n",
    "if p > 0.05:\n",
    "\tprint('Probably independent')\n",
    "else:\n",
    "\tprint('Probably dependent')"
   ]
  },
  {
   "cell_type": "markdown",
   "id": "compressed-discrimination",
   "metadata": {},
   "source": [
    "## Kendall’s Rank Correlation\n",
    "\n",
    "Tests whether two samples have a monotonic relationship.\n",
    "\n",
    "Assumptions\n",
    "\n",
    "    Observations in each sample are independent and identically distributed (iid).\n",
    "    Observations in each sample can be ranked.\n",
    "\n",
    "Interpretation\n",
    "\n",
    "    H0: the two samples are independent.\n",
    "    H1: there is a dependency between the samples.\n"
   ]
  },
  {
   "cell_type": "code",
   "execution_count": 4,
   "id": "earlier-processing",
   "metadata": {},
   "outputs": [
    {
     "name": "stdout",
     "output_type": "stream",
     "text": [
      "stat=0.733, p=0.002\n",
      "Probably dependent\n"
     ]
    }
   ],
   "source": [
    "# Example of the Kendall's Rank Correlation Test\n",
    "from scipy.stats import kendalltau\n",
    "data1 = [0.873, 2.817, 0.121, -0.945, -0.055, -1.436, 0.360, -1.478, -1.637, -1.869]\n",
    "data2 = [0.353, 3.517, 0.125, -7.545, -0.555, -1.536, 3.350, -1.578, -3.537, -1.579]\n",
    "stat, p = kendalltau(data1, data2)\n",
    "print('stat=%.3f, p=%.3f' % (stat, p))\n",
    "if p > 0.05:\n",
    "    print('Probably independent')\n",
    "else:\n",
    "    print('Probably dependent')"
   ]
  },
  {
   "cell_type": "code",
   "execution_count": null,
   "id": "fuzzy-nebraska",
   "metadata": {},
   "outputs": [],
   "source": []
  }
 ],
 "metadata": {
  "kernelspec": {
   "display_name": "Python 3",
   "language": "python",
   "name": "python3"
  },
  "language_info": {
   "codemirror_mode": {
    "name": "ipython",
    "version": 3
   },
   "file_extension": ".py",
   "mimetype": "text/x-python",
   "name": "python",
   "nbconvert_exporter": "python",
   "pygments_lexer": "ipython3",
   "version": "3.9.2"
  }
 },
 "nbformat": 4,
 "nbformat_minor": 5
}
