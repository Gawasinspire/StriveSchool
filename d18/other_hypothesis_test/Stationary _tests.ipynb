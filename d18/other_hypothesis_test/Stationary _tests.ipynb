{
 "cells": [
  {
   "cell_type": "markdown",
   "id": "efficient-accordance",
   "metadata": {},
   "source": [
    "# Stationary Tests\n",
    "\n",
    "statistical tests that you can use to check if a time series is stationary or not.\n",
    "\n",
    "## Augmented Dickey-Fuller Unit Root Test\n",
    "\n",
    "Tests whether a time series has a unit root, e.g. has a trend or more generally is autoregressive.\n",
    "\n",
    "Assumptions\n",
    "\n",
    "    Observations in are temporally ordered.\n",
    "\n",
    "Interpretation\n",
    "\n",
    "    H0: a unit root is present (series is non-stationary).\n",
    "    H1: a unit root is not present (series is stationary).\n"
   ]
  },
  {
   "cell_type": "code",
   "execution_count": 3,
   "id": "blank-calvin",
   "metadata": {},
   "outputs": [
    {
     "name": "stdout",
     "output_type": "stream",
     "text": [
      "stat=0.517, p=0.985\n",
      "Probably not Stationary\n"
     ]
    }
   ],
   "source": [
    "# Example of the Augmented Dickey-Fuller unit root test\n",
    "from statsmodels.tsa.stattools import adfuller\n",
    "data = [0, 1, 2, 3, 4, 5, 6, 7, 8, 9]\n",
    "stat, p, lags, obs, crit, t = adfuller(data)\n",
    "print('stat=%.3f, p=%.3f' % (stat, p))\n",
    "if p > 0.05:\n",
    "    print('Probably not Stationary')\n",
    "else:\n",
    "    print('Probably Stationary')"
   ]
  },
  {
   "cell_type": "markdown",
   "id": "normal-neighborhood",
   "metadata": {},
   "source": [
    "## Kwiatkowski-Phillips-Schmidt-Shin\n",
    "\n",
    "Tests whether a time series is trend stationary or not.\n",
    "\n",
    "Assumptions\n",
    "\n",
    "    Observations in are temporally ordered.\n",
    "\n",
    "Interpretation\n",
    "\n",
    "    H0: the time series is not trend-stationary.\n",
    "    H1: the time series is trend-stationary.\n"
   ]
  },
  {
   "cell_type": "code",
   "execution_count": 8,
   "id": "equivalent-mount",
   "metadata": {},
   "outputs": [
    {
     "name": "stdout",
     "output_type": "stream",
     "text": [
      "stat=0.410, p=0.073\n",
      "Probably not Stationary\n"
     ]
    }
   ],
   "source": [
    "# Example of the Kwiatkowski-Phillips-Schmidt-Shin test\n",
    "from statsmodels.tsa.stattools import kpss\n",
    "data = [0, 1, 2, 3, 4, 5, 6, 7, 8, 9]\n",
    "stat, p, lags, crit = kpss(data)\n",
    "print('stat=%.3f, p=%.3f' % (stat, p))\n",
    "if p > 0.05:\n",
    "    print('Probably not Stationary')\n",
    "else:\n",
    "    print('Probably Stationary')"
   ]
  }
 ],
 "metadata": {
  "kernelspec": {
   "display_name": "Python 3",
   "language": "python",
   "name": "python3"
  },
  "language_info": {
   "codemirror_mode": {
    "name": "ipython",
    "version": 3
   },
   "file_extension": ".py",
   "mimetype": "text/x-python",
   "name": "python",
   "nbconvert_exporter": "python",
   "pygments_lexer": "ipython3",
   "version": "3.9.2"
  }
 },
 "nbformat": 4,
 "nbformat_minor": 5
}
