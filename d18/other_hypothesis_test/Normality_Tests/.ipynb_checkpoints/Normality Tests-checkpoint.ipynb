{
 "cells": [
  {
   "cell_type": "markdown",
   "id": "tested-zambia",
   "metadata": {},
   "source": [
    "# Normality Tests\n",
    "statistical tests that you can use to check if your data has a Gaussian distribution.\n",
    "   1. Shapiro-Wilk Test\n",
    "   2. D’Agostino’s K^2 Test\n",
    "   3. Anderson-Darling Test\n"
   ]
  }
 ],
 "metadata": {
  "kernelspec": {
   "display_name": "Python 3",
   "language": "python",
   "name": "python3"
  },
  "language_info": {
   "codemirror_mode": {
    "name": "ipython",
    "version": 3
   },
   "file_extension": ".py",
   "mimetype": "text/x-python",
   "name": "python",
   "nbconvert_exporter": "python",
   "pygments_lexer": "ipython3",
   "version": "3.9.2"
  }
 },
 "nbformat": 4,
 "nbformat_minor": 5
}
