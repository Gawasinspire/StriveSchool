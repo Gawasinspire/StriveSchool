{
 "cells": [
  {
   "cell_type": "markdown",
   "id": "curious-radical",
   "metadata": {},
   "source": [
    "# Normality Tests\n",
    "statistical tests that you can use to check if your data has a Gaussian distribution.\n",
    "In probability theory, a normal (or Gaussian or Gauss or Laplace–Gauss) distribution is a type of continuous probability distribution for a real-valued random variable. The general form of its probability density function is \n",
    "![Gaussian Formula](formula.svg)\n",
    "![Gaussian Formula](https://github.com/Gawasinspire/StriveSchool/blob/main/d18/other_hypothesis_test/Normality_Tests/formula.svg)\n",
    "   1. Shapiro-Wilk Test\n",
    "   2. D’Agostino’s K^2 Test\n",
    "   3. Anderson-Darling Test\n"
   ]
  },
  {
   "cell_type": "markdown",
   "id": "threatened-member",
   "metadata": {},
   "source": [
    "## Shapiro-Wilk Test\n",
    "To Tests whether a data sample has a Gaussian distribution.\n",
    "\n",
    "Assumptions\n",
    "\n",
    "    Observations in each sample are independent and identically distributed (iid).\n",
    "\n",
    "    Interpretation:\n",
    "     H0: the sample has a Gaussian distribution.\n",
    "     H1: the sample does not have a Gaussian distribution.\n"
   ]
  },
  {
   "cell_type": "code",
   "execution_count": 1,
   "id": "intelligent-flush",
   "metadata": {},
   "outputs": [
    {
     "name": "stdout",
     "output_type": "stream",
     "text": [
      "stat=0.895, p=0.193\n",
      "Probably Gaussian\n"
     ]
    }
   ],
   "source": [
    "# Example of the Shapiro-Wilk Normality Test\n",
    "from scipy.stats import shapiro\n",
    "data = [0.873, 2.817, 0.121, -0.945, -0.055, -1.436, 0.360, -1.478, -1.637, -1.869]\n",
    "stat, p = shapiro(data)\n",
    "print('stat=%.3f, p=%.3f' % (stat, p))\n",
    "if p > 0.05:\n",
    "\tprint('Probably Gaussian')\n",
    "else:\n",
    "\tprint('Probably not Gaussian')"
   ]
  }
 ],
 "metadata": {
  "kernelspec": {
   "display_name": "Python 3",
   "language": "python",
   "name": "python3"
  },
  "language_info": {
   "codemirror_mode": {
    "name": "ipython",
    "version": 3
   },
   "file_extension": ".py",
   "mimetype": "text/x-python",
   "name": "python",
   "nbconvert_exporter": "python",
   "pygments_lexer": "ipython3",
   "version": "3.9.2"
  }
 },
 "nbformat": 4,
 "nbformat_minor": 5
}
