{
 "cells": [
  {
   "cell_type": "markdown",
   "id": "floating-protocol",
   "metadata": {},
   "source": [
    "# Parametric Statistical Hypothesis Tests\n",
    "\n",
    "statistical tests that you can use to compare data samples.\n",
    "\n",
    "## Student’s t-test\n",
    "\n",
    "Tests whether the means of two independent samples are significantly different.\n",
    "\n",
    "Assumptions\n",
    "\n",
    "    Observations in each sample are independent and identically distributed (iid).\n",
    "    Observations in each sample are normally distributed.\n",
    "    Observations in each sample have the same variance.\n",
    "\n",
    "Interpretation\n",
    "\n",
    "    H0: the means of the samples are equal.\n",
    "    H1: the means of the samples are unequa"
   ]
  },
  {
   "cell_type": "code",
   "execution_count": 1,
   "id": "demographic-mileage",
   "metadata": {},
   "outputs": [
    {
     "name": "stdout",
     "output_type": "stream",
     "text": [
      "stat=-0.326, p=0.748\n",
      "Probably the same distribution\n"
     ]
    }
   ],
   "source": [
    "# Example of the Student's t-test\n",
    "from scipy.stats import ttest_ind\n",
    "data1 = [0.873, 2.817, 0.121, -0.945, -0.055, -1.436, 0.360, -1.478, -1.637, -1.869]\n",
    "data2 = [1.142, -0.432, -0.938, -0.729, -0.846, -0.157, 0.500, 1.183, -1.075, -0.169]\n",
    "stat, p = ttest_ind(data1, data2)\n",
    "print('stat=%.3f, p=%.3f' % (stat, p))\n",
    "if p > 0.05:\n",
    "    print('Probably the same distribution')\n",
    "else:\n",
    "    print('Probably different distributions')"
   ]
  },
  {
   "cell_type": "markdown",
   "id": "widespread-paper",
   "metadata": {},
   "source": [
    "## Paired Student’s t-test\n",
    "\n",
    "Tests whether the means of two paired samples are significantly different.\n",
    "\n",
    "Assumptions\n",
    "\n",
    "    Observations in each sample are independent and identically distributed (iid).\n",
    "    Observations in each sample are normally distributed.\n",
    "    Observations in each sample have the same variance.\n",
    "    Observations across each sample are paired.\n",
    "\n",
    "Interpretation\n",
    "\n",
    "    H0: the means of the samples are equal.\n",
    "    H1: the means of the samples are unequal.\n"
   ]
  },
  {
   "cell_type": "code",
   "execution_count": 4,
   "id": "immediate-brand",
   "metadata": {},
   "outputs": [
    {
     "name": "stdout",
     "output_type": "stream",
     "text": [
      "stat=-0.334, p=0.746\n",
      "Probably the same distribution\n"
     ]
    }
   ],
   "source": [
    "# Example of the Paired Student's t-test\n",
    "from scipy.stats import ttest_rel\n",
    "data1 = [0.873, 2.817, 0.121, -0.945, -0.055, -1.436, 0.360, -1.478, -1.637, -1.869]\n",
    "data2 = [1.142, -0.432, -0.938, -0.729, -0.846, -0.157, 0.500, 1.183, -1.075, -0.169]\n",
    "stat, p = ttest_rel(data1, data2)\n",
    "print('stat=%.3f, p=%.3f' % (stat, p))\n",
    "if p > 0.05:\n",
    "    print('Probably the same distribution')\n",
    "else:\n",
    "    print('Probably different distributions')"
   ]
  },
  {
   "cell_type": "markdown",
   "id": "blank-gender",
   "metadata": {},
   "source": [
    "## Analysis of Variance Test (ANOVA)\n",
    "\n",
    "Tests whether the means of two or more independent samples are significantly different.\n",
    "\n",
    "Assumptions\n",
    "\n",
    "    Observations in each sample are independent and identically distributed (iid).\n",
    "    Observations in each sample are normally distributed.\n",
    "    Observations in each sample have the same variance.\n",
    "\n",
    "Interpretation\n",
    "\n",
    "    H0: the means of the samples are equal.\n",
    "    H1: one or more of the means of the samples are unequal.\n"
   ]
  },
  {
   "cell_type": "code",
   "execution_count": 7,
   "id": "gross-birmingham",
   "metadata": {},
   "outputs": [
    {
     "name": "stdout",
     "output_type": "stream",
     "text": [
      "stat=0.096, p=0.908\n",
      "Probably the same distribution\n"
     ]
    }
   ],
   "source": [
    "# Example of the Analysis of Variance Test\n",
    "from scipy.stats import f_oneway\n",
    "data1 = [0.873, 2.817, 0.121, -0.945, -0.055, -1.436, 0.360, -1.478, -1.637, -1.869]\n",
    "data2 = [1.142, -0.432, -0.938, -0.729, -0.846, -0.157, 0.500, 1.183, -1.075, -0.169]\n",
    "data3 = [-0.208, 0.696, 0.928, -1.148, -0.213, 0.229, 0.137, 0.269, -0.870, -1.204]\n",
    "stat, p = f_oneway(data1, data2, data3)\n",
    "print('stat=%.3f, p=%.3f' % (stat, p))\n",
    "if p > 0.05:\n",
    "    print('Probably the same distribution')\n",
    "else:\n",
    "    print('Probably different distributions')"
   ]
  }
 ],
 "metadata": {
  "kernelspec": {
   "display_name": "Python 3",
   "language": "python",
   "name": "python3"
  },
  "language_info": {
   "codemirror_mode": {
    "name": "ipython",
    "version": 3
   },
   "file_extension": ".py",
   "mimetype": "text/x-python",
   "name": "python",
   "nbconvert_exporter": "python",
   "pygments_lexer": "ipython3",
   "version": "3.9.2"
  }
 },
 "nbformat": 4,
 "nbformat_minor": 5
}
